{
  "nbformat": 4,
  "nbformat_minor": 0,
  "metadata": {
    "colab": {
      "name": "Liver.ipynb",
      "provenance": [],
      "toc_visible": true
    },
    "kernelspec": {
      "name": "python3",
      "display_name": "Python 3"
    },
    "accelerator": "GPU"
  },
  "cells": [
    {
      "cell_type": "markdown",
      "metadata": {
        "id": "JJ2lvkUoEoxL"
      },
      "source": [
        "#BUSINESS UNDERSTANDING"
      ]
    },
    {
      "cell_type": "markdown",
      "metadata": {
        "id": "Sw2-SdusqxYQ"
      },
      "source": [
        "#Introduction"
      ]
    },
    {
      "cell_type": "markdown",
      "metadata": {
        "id": "iGbYD-mfqsSS"
      },
      "source": [
        "The liver is an organ about the size of a football. It sits just under your rib cage on the right side of your abdomen. The liver is essential for digesting food and ridding your body of toxic substances. Liver disease can be inherited (genetic). Liver problems can also be caused by a variety of factors that damage the liver, such as viruses, alcohol use, and obesity.\n",
        "Over time, conditions that damage the liver can lead to scarring (cirrhosis), which can lead to liver failure, a life-threatening condition. But early treatment may give the liver time to heal. \n",
        "Patients with the Liver disease have been continuously increasing because of excessive consumption of alcohol, inhale of harmful gases, intake of contaminated food, pickles and drugs. This dataset was used to evaluate prediction algorithms to reduce the burden on doctors.\n"
      ]
    },
    {
      "cell_type": "markdown",
      "metadata": {
        "id": "hiXp8sjTk2OD"
      },
      "source": [
        "Many tests can be performed on the liver. Certain tests can reflect different aspects of liver function. Commonly used tests to check liver abnormalities are tests checking: alanine transaminase (ALT) aspartate aminotransferase (AST) alkaline phosphatase (ALP) albumin bilirubin "
      ]
    },
    {
      "cell_type": "markdown",
      "metadata": {
        "id": "VJTVFn60rPo_"
      },
      "source": [
        "##Something something something"
      ]
    },
    {
      "cell_type": "markdown",
      "metadata": {
        "id": "9uHBY07hk4sk"
      },
      "source": [
        "Overview Liver problems showing normal and diseased livers Liver problemsOpen pop-up dialog box The liver is an organ about the size of a football. It sits just under your rib cage on the right side of your abdomen. The liver is essential for digesting food and ridding your body of toxic substances. Liver disease can be inherited (genetic). Liver problems can also be caused by a variety of factors that damage the liver, such as viruses, alcohol use and obesity. Over time, conditions that damage the liver can lead to scarring (cirrhosis), which can lead to liver failure, a life-threatening condition. But early treatment may give the liver time to heal. "
      ]
    },
    {
      "cell_type": "markdown",
      "metadata": {
        "id": "isJugK4Ok_py"
      },
      "source": [
        "a more detailed explanation tests above can befound at https://www.healthline.com/health/liver-function-tests#uses "
      ]
    },
    {
      "cell_type": "markdown",
      "metadata": {
        "id": "czczD9w0lS7o"
      },
      "source": [
        "1. Age Age of the patient\n",
        "2. Gender Gender of the patient\n",
        "3. TB Total Bilirubin\n",
        "4. DB Direct Bilirubin\n",
        "5. Alkphos Alkaline Phosphotase\n",
        "6. Sgpt Alamine Aminotransferase\n",
        "7. Sgot Aspartate Aminotransferase\n",
        "8. TP Total Protiens\n",
        "9. ALB Albumin\n",
        "10. A/G Ratio Albumin and Globulin Ratio\n",
        "11. Selector field used to split the data into two sets (labeled by the experts) "
      ]
    },
    {
      "cell_type": "markdown",
      "metadata": {
        "id": "QG8NxQs28Z8x"
      },
      "source": [
        "## Define the research Question"
      ]
    },
    {
      "cell_type": "markdown",
      "metadata": {
        "id": "lh-xn0-tGMAl"
      },
      "source": [
        "Can a model be built that predictes the occurence of a liver disease in a patient given laboratory data?"
      ]
    },
    {
      "cell_type": "markdown",
      "metadata": {
        "id": "6HXgrinE8eJb"
      },
      "source": [
        "## Merits of Success"
      ]
    },
    {
      "cell_type": "markdown",
      "metadata": {
        "id": "s3BCbfErifA4"
      },
      "source": [
        "A confusion matrix shall be derived from the model with hopefully a categorization accuracy of more than 90%."
      ]
    },
    {
      "cell_type": "markdown",
      "metadata": {
        "id": "dYnNXDNV8fLx"
      },
      "source": [
        "## The context"
      ]
    },
    {
      "cell_type": "markdown",
      "metadata": {
        "id": "ltoiAAY38mZH"
      },
      "source": [
        "## Appropriateness of the dataset"
      ]
    },
    {
      "cell_type": "markdown",
      "metadata": {
        "id": "ZcM3T6VsEtdI"
      },
      "source": [
        "#DATA AQUISITION AND ETL"
      ]
    },
    {
      "cell_type": "markdown",
      "metadata": {
        "id": "TvlsXSSDGchu"
      },
      "source": [
        "In this section the data shall be acquired loaded and by looking (scanning) through prepared for analysis and modelling."
      ]
    },
    {
      "cell_type": "markdown",
      "metadata": {
        "id": "U68xktnQ80cu"
      },
      "source": [
        "## Import libraries"
      ]
    },
    {
      "cell_type": "code",
      "metadata": {
        "id": "tPFZ-cyNwmvj"
      },
      "source": [
        "import pandas as pd\n",
        "import numpy as np\n",
        "\n",
        "# Visualization\n",
        "import seaborn as sns\n",
        "import matplotlib.pyplot as plt\n",
        "\n",
        "# Machine Learning Models and related methods\n",
        "from sklearn.neighbors import KNeighborsClassifier\n",
        "from sklearn.model_selection import train_test_split\n",
        "from sklearn.model_selection import GridSearchCV\n",
        "from sklearn.preprocessing import Normalizer\n",
        "from sklearn.metrics import accuracy_score, confusion_matrix, classification_report"
      ],
      "execution_count": 58,
      "outputs": []
    },
    {
      "cell_type": "markdown",
      "metadata": {
        "id": "mHDORv6l88xY"
      },
      "source": [
        "## Reading dataset"
      ]
    },
    {
      "cell_type": "code",
      "metadata": {
        "id": "AQo-U7VxCQNO"
      },
      "source": [
        "#We load the dataset into the notebook\n",
        "\n",
        "data = pd.read_csv('/content/Indian Liver Patient Dataset (ILPD).csv', header=None)"
      ],
      "execution_count": 59,
      "outputs": []
    },
    {
      "cell_type": "code",
      "metadata": {
        "id": "lg-7zzgxCNS3"
      },
      "source": [
        "#Naming of the columns in the dataset\n",
        "\n",
        "data.columns = ['age','gender','TB', 'DB' , 'AAP' , 'sgpt' , 'sgot' , 'TP' , 'ALB' , 'AG' , 'selector']"
      ],
      "execution_count": 60,
      "outputs": []
    },
    {
      "cell_type": "markdown",
      "metadata": {
        "id": "SD3r3_SN9CWU"
      },
      "source": [
        "## Checking dataset"
      ]
    },
    {
      "cell_type": "markdown",
      "metadata": {
        "id": "xS7fApRSG14M"
      },
      "source": [
        "Information about the dataset are looked at in this section"
      ]
    },
    {
      "cell_type": "code",
      "metadata": {
        "id": "vpMIgYyVEEDv",
        "colab": {
          "base_uri": "https://localhost:8080/"
        },
        "outputId": "4cbf4bf8-3912-49b1-cb24-4d5f00ae3097"
      },
      "source": [
        "data.columns"
      ],
      "execution_count": 61,
      "outputs": [
        {
          "output_type": "execute_result",
          "data": {
            "text/plain": [
              "Index(['age', 'gender', 'TB', 'DB', 'AAP', 'sgpt', 'sgot', 'TP', 'ALB', 'AG',\n",
              "       'selector'],\n",
              "      dtype='object')"
            ]
          },
          "metadata": {
            "tags": []
          },
          "execution_count": 61
        }
      ]
    },
    {
      "cell_type": "code",
      "metadata": {
        "id": "VSM6wgClCWZj",
        "colab": {
          "base_uri": "https://localhost:8080/",
          "height": 206
        },
        "outputId": "3ce66a81-6e04-4ff1-c4a9-6ce77b5a07fc"
      },
      "source": [
        "data.head()"
      ],
      "execution_count": 62,
      "outputs": [
        {
          "output_type": "execute_result",
          "data": {
            "text/html": [
              "<div>\n",
              "<style scoped>\n",
              "    .dataframe tbody tr th:only-of-type {\n",
              "        vertical-align: middle;\n",
              "    }\n",
              "\n",
              "    .dataframe tbody tr th {\n",
              "        vertical-align: top;\n",
              "    }\n",
              "\n",
              "    .dataframe thead th {\n",
              "        text-align: right;\n",
              "    }\n",
              "</style>\n",
              "<table border=\"1\" class=\"dataframe\">\n",
              "  <thead>\n",
              "    <tr style=\"text-align: right;\">\n",
              "      <th></th>\n",
              "      <th>age</th>\n",
              "      <th>gender</th>\n",
              "      <th>TB</th>\n",
              "      <th>DB</th>\n",
              "      <th>AAP</th>\n",
              "      <th>sgpt</th>\n",
              "      <th>sgot</th>\n",
              "      <th>TP</th>\n",
              "      <th>ALB</th>\n",
              "      <th>AG</th>\n",
              "      <th>selector</th>\n",
              "    </tr>\n",
              "  </thead>\n",
              "  <tbody>\n",
              "    <tr>\n",
              "      <th>0</th>\n",
              "      <td>65</td>\n",
              "      <td>Female</td>\n",
              "      <td>0.7</td>\n",
              "      <td>0.1</td>\n",
              "      <td>187</td>\n",
              "      <td>16</td>\n",
              "      <td>18</td>\n",
              "      <td>6.8</td>\n",
              "      <td>3.3</td>\n",
              "      <td>0.90</td>\n",
              "      <td>1</td>\n",
              "    </tr>\n",
              "    <tr>\n",
              "      <th>1</th>\n",
              "      <td>62</td>\n",
              "      <td>Male</td>\n",
              "      <td>10.9</td>\n",
              "      <td>5.5</td>\n",
              "      <td>699</td>\n",
              "      <td>64</td>\n",
              "      <td>100</td>\n",
              "      <td>7.5</td>\n",
              "      <td>3.2</td>\n",
              "      <td>0.74</td>\n",
              "      <td>1</td>\n",
              "    </tr>\n",
              "    <tr>\n",
              "      <th>2</th>\n",
              "      <td>62</td>\n",
              "      <td>Male</td>\n",
              "      <td>7.3</td>\n",
              "      <td>4.1</td>\n",
              "      <td>490</td>\n",
              "      <td>60</td>\n",
              "      <td>68</td>\n",
              "      <td>7.0</td>\n",
              "      <td>3.3</td>\n",
              "      <td>0.89</td>\n",
              "      <td>1</td>\n",
              "    </tr>\n",
              "    <tr>\n",
              "      <th>3</th>\n",
              "      <td>58</td>\n",
              "      <td>Male</td>\n",
              "      <td>1.0</td>\n",
              "      <td>0.4</td>\n",
              "      <td>182</td>\n",
              "      <td>14</td>\n",
              "      <td>20</td>\n",
              "      <td>6.8</td>\n",
              "      <td>3.4</td>\n",
              "      <td>1.00</td>\n",
              "      <td>1</td>\n",
              "    </tr>\n",
              "    <tr>\n",
              "      <th>4</th>\n",
              "      <td>72</td>\n",
              "      <td>Male</td>\n",
              "      <td>3.9</td>\n",
              "      <td>2.0</td>\n",
              "      <td>195</td>\n",
              "      <td>27</td>\n",
              "      <td>59</td>\n",
              "      <td>7.3</td>\n",
              "      <td>2.4</td>\n",
              "      <td>0.40</td>\n",
              "      <td>1</td>\n",
              "    </tr>\n",
              "  </tbody>\n",
              "</table>\n",
              "</div>"
            ],
            "text/plain": [
              "   age  gender    TB   DB  AAP  sgpt  sgot   TP  ALB    AG  selector\n",
              "0   65  Female   0.7  0.1  187    16    18  6.8  3.3  0.90         1\n",
              "1   62    Male  10.9  5.5  699    64   100  7.5  3.2  0.74         1\n",
              "2   62    Male   7.3  4.1  490    60    68  7.0  3.3  0.89         1\n",
              "3   58    Male   1.0  0.4  182    14    20  6.8  3.4  1.00         1\n",
              "4   72    Male   3.9  2.0  195    27    59  7.3  2.4  0.40         1"
            ]
          },
          "metadata": {
            "tags": []
          },
          "execution_count": 62
        }
      ]
    },
    {
      "cell_type": "code",
      "metadata": {
        "id": "EAqHmwBECbk9",
        "colab": {
          "base_uri": "https://localhost:8080/",
          "height": 206
        },
        "outputId": "0b266d7c-9de1-49c3-e7e3-e87641eb4bd3"
      },
      "source": [
        "data.tail()"
      ],
      "execution_count": 63,
      "outputs": [
        {
          "output_type": "execute_result",
          "data": {
            "text/html": [
              "<div>\n",
              "<style scoped>\n",
              "    .dataframe tbody tr th:only-of-type {\n",
              "        vertical-align: middle;\n",
              "    }\n",
              "\n",
              "    .dataframe tbody tr th {\n",
              "        vertical-align: top;\n",
              "    }\n",
              "\n",
              "    .dataframe thead th {\n",
              "        text-align: right;\n",
              "    }\n",
              "</style>\n",
              "<table border=\"1\" class=\"dataframe\">\n",
              "  <thead>\n",
              "    <tr style=\"text-align: right;\">\n",
              "      <th></th>\n",
              "      <th>age</th>\n",
              "      <th>gender</th>\n",
              "      <th>TB</th>\n",
              "      <th>DB</th>\n",
              "      <th>AAP</th>\n",
              "      <th>sgpt</th>\n",
              "      <th>sgot</th>\n",
              "      <th>TP</th>\n",
              "      <th>ALB</th>\n",
              "      <th>AG</th>\n",
              "      <th>selector</th>\n",
              "    </tr>\n",
              "  </thead>\n",
              "  <tbody>\n",
              "    <tr>\n",
              "      <th>578</th>\n",
              "      <td>60</td>\n",
              "      <td>Male</td>\n",
              "      <td>0.5</td>\n",
              "      <td>0.1</td>\n",
              "      <td>500</td>\n",
              "      <td>20</td>\n",
              "      <td>34</td>\n",
              "      <td>5.9</td>\n",
              "      <td>1.6</td>\n",
              "      <td>0.37</td>\n",
              "      <td>2</td>\n",
              "    </tr>\n",
              "    <tr>\n",
              "      <th>579</th>\n",
              "      <td>40</td>\n",
              "      <td>Male</td>\n",
              "      <td>0.6</td>\n",
              "      <td>0.1</td>\n",
              "      <td>98</td>\n",
              "      <td>35</td>\n",
              "      <td>31</td>\n",
              "      <td>6.0</td>\n",
              "      <td>3.2</td>\n",
              "      <td>1.10</td>\n",
              "      <td>1</td>\n",
              "    </tr>\n",
              "    <tr>\n",
              "      <th>580</th>\n",
              "      <td>52</td>\n",
              "      <td>Male</td>\n",
              "      <td>0.8</td>\n",
              "      <td>0.2</td>\n",
              "      <td>245</td>\n",
              "      <td>48</td>\n",
              "      <td>49</td>\n",
              "      <td>6.4</td>\n",
              "      <td>3.2</td>\n",
              "      <td>1.00</td>\n",
              "      <td>1</td>\n",
              "    </tr>\n",
              "    <tr>\n",
              "      <th>581</th>\n",
              "      <td>31</td>\n",
              "      <td>Male</td>\n",
              "      <td>1.3</td>\n",
              "      <td>0.5</td>\n",
              "      <td>184</td>\n",
              "      <td>29</td>\n",
              "      <td>32</td>\n",
              "      <td>6.8</td>\n",
              "      <td>3.4</td>\n",
              "      <td>1.00</td>\n",
              "      <td>1</td>\n",
              "    </tr>\n",
              "    <tr>\n",
              "      <th>582</th>\n",
              "      <td>38</td>\n",
              "      <td>Male</td>\n",
              "      <td>1.0</td>\n",
              "      <td>0.3</td>\n",
              "      <td>216</td>\n",
              "      <td>21</td>\n",
              "      <td>24</td>\n",
              "      <td>7.3</td>\n",
              "      <td>4.4</td>\n",
              "      <td>1.50</td>\n",
              "      <td>2</td>\n",
              "    </tr>\n",
              "  </tbody>\n",
              "</table>\n",
              "</div>"
            ],
            "text/plain": [
              "     age gender   TB   DB  AAP  sgpt  sgot   TP  ALB    AG  selector\n",
              "578   60   Male  0.5  0.1  500    20    34  5.9  1.6  0.37         2\n",
              "579   40   Male  0.6  0.1   98    35    31  6.0  3.2  1.10         1\n",
              "580   52   Male  0.8  0.2  245    48    49  6.4  3.2  1.00         1\n",
              "581   31   Male  1.3  0.5  184    29    32  6.8  3.4  1.00         1\n",
              "582   38   Male  1.0  0.3  216    21    24  7.3  4.4  1.50         2"
            ]
          },
          "metadata": {
            "tags": []
          },
          "execution_count": 63
        }
      ]
    },
    {
      "cell_type": "code",
      "metadata": {
        "id": "IXX5dfTzCeRu",
        "colab": {
          "base_uri": "https://localhost:8080/"
        },
        "outputId": "86efa4ad-3e1c-4d7c-bf99-36d0a2c25c73"
      },
      "source": [
        "data.shape"
      ],
      "execution_count": 64,
      "outputs": [
        {
          "output_type": "execute_result",
          "data": {
            "text/plain": [
              "(583, 11)"
            ]
          },
          "metadata": {
            "tags": []
          },
          "execution_count": 64
        }
      ]
    },
    {
      "cell_type": "code",
      "metadata": {
        "id": "HS69WYOpCgep",
        "colab": {
          "base_uri": "https://localhost:8080/"
        },
        "outputId": "e878fe33-41a1-4ad5-f4b2-b9b1b12117b6"
      },
      "source": [
        "data.info()"
      ],
      "execution_count": 65,
      "outputs": [
        {
          "output_type": "stream",
          "text": [
            "<class 'pandas.core.frame.DataFrame'>\n",
            "RangeIndex: 583 entries, 0 to 582\n",
            "Data columns (total 11 columns):\n",
            " #   Column    Non-Null Count  Dtype  \n",
            "---  ------    --------------  -----  \n",
            " 0   age       583 non-null    int64  \n",
            " 1   gender    583 non-null    object \n",
            " 2   TB        583 non-null    float64\n",
            " 3   DB        583 non-null    float64\n",
            " 4   AAP       583 non-null    int64  \n",
            " 5   sgpt      583 non-null    int64  \n",
            " 6   sgot      583 non-null    int64  \n",
            " 7   TP        583 non-null    float64\n",
            " 8   ALB       583 non-null    float64\n",
            " 9   AG        579 non-null    float64\n",
            " 10  selector  583 non-null    int64  \n",
            "dtypes: float64(5), int64(5), object(1)\n",
            "memory usage: 50.2+ KB\n"
          ],
          "name": "stdout"
        }
      ]
    },
    {
      "cell_type": "code",
      "metadata": {
        "id": "tS_Q-W1-Dv7u",
        "colab": {
          "base_uri": "https://localhost:8080/"
        },
        "outputId": "d36af393-a1dd-46a4-f782-54a456a1a1a5"
      },
      "source": [
        "data.dtypes"
      ],
      "execution_count": 66,
      "outputs": [
        {
          "output_type": "execute_result",
          "data": {
            "text/plain": [
              "age           int64\n",
              "gender       object\n",
              "TB          float64\n",
              "DB          float64\n",
              "AAP           int64\n",
              "sgpt          int64\n",
              "sgot          int64\n",
              "TP          float64\n",
              "ALB         float64\n",
              "AG          float64\n",
              "selector      int64\n",
              "dtype: object"
            ]
          },
          "metadata": {
            "tags": []
          },
          "execution_count": 66
        }
      ]
    },
    {
      "cell_type": "code",
      "metadata": {
        "id": "yUNKAqG5Dzvc",
        "colab": {
          "base_uri": "https://localhost:8080/",
          "height": 300
        },
        "outputId": "3d4be899-bfc4-49b4-e6f7-34d23e0a13a0"
      },
      "source": [
        "data.describe()"
      ],
      "execution_count": 67,
      "outputs": [
        {
          "output_type": "execute_result",
          "data": {
            "text/html": [
              "<div>\n",
              "<style scoped>\n",
              "    .dataframe tbody tr th:only-of-type {\n",
              "        vertical-align: middle;\n",
              "    }\n",
              "\n",
              "    .dataframe tbody tr th {\n",
              "        vertical-align: top;\n",
              "    }\n",
              "\n",
              "    .dataframe thead th {\n",
              "        text-align: right;\n",
              "    }\n",
              "</style>\n",
              "<table border=\"1\" class=\"dataframe\">\n",
              "  <thead>\n",
              "    <tr style=\"text-align: right;\">\n",
              "      <th></th>\n",
              "      <th>age</th>\n",
              "      <th>TB</th>\n",
              "      <th>DB</th>\n",
              "      <th>AAP</th>\n",
              "      <th>sgpt</th>\n",
              "      <th>sgot</th>\n",
              "      <th>TP</th>\n",
              "      <th>ALB</th>\n",
              "      <th>AG</th>\n",
              "      <th>selector</th>\n",
              "    </tr>\n",
              "  </thead>\n",
              "  <tbody>\n",
              "    <tr>\n",
              "      <th>count</th>\n",
              "      <td>583.000000</td>\n",
              "      <td>583.000000</td>\n",
              "      <td>583.000000</td>\n",
              "      <td>583.000000</td>\n",
              "      <td>583.000000</td>\n",
              "      <td>583.000000</td>\n",
              "      <td>583.000000</td>\n",
              "      <td>583.000000</td>\n",
              "      <td>579.000000</td>\n",
              "      <td>583.000000</td>\n",
              "    </tr>\n",
              "    <tr>\n",
              "      <th>mean</th>\n",
              "      <td>44.746141</td>\n",
              "      <td>3.298799</td>\n",
              "      <td>1.486106</td>\n",
              "      <td>290.576329</td>\n",
              "      <td>80.713551</td>\n",
              "      <td>109.910806</td>\n",
              "      <td>6.483190</td>\n",
              "      <td>3.141852</td>\n",
              "      <td>0.947064</td>\n",
              "      <td>1.286449</td>\n",
              "    </tr>\n",
              "    <tr>\n",
              "      <th>std</th>\n",
              "      <td>16.189833</td>\n",
              "      <td>6.209522</td>\n",
              "      <td>2.808498</td>\n",
              "      <td>242.937989</td>\n",
              "      <td>182.620356</td>\n",
              "      <td>288.918529</td>\n",
              "      <td>1.085451</td>\n",
              "      <td>0.795519</td>\n",
              "      <td>0.319592</td>\n",
              "      <td>0.452490</td>\n",
              "    </tr>\n",
              "    <tr>\n",
              "      <th>min</th>\n",
              "      <td>4.000000</td>\n",
              "      <td>0.400000</td>\n",
              "      <td>0.100000</td>\n",
              "      <td>63.000000</td>\n",
              "      <td>10.000000</td>\n",
              "      <td>10.000000</td>\n",
              "      <td>2.700000</td>\n",
              "      <td>0.900000</td>\n",
              "      <td>0.300000</td>\n",
              "      <td>1.000000</td>\n",
              "    </tr>\n",
              "    <tr>\n",
              "      <th>25%</th>\n",
              "      <td>33.000000</td>\n",
              "      <td>0.800000</td>\n",
              "      <td>0.200000</td>\n",
              "      <td>175.500000</td>\n",
              "      <td>23.000000</td>\n",
              "      <td>25.000000</td>\n",
              "      <td>5.800000</td>\n",
              "      <td>2.600000</td>\n",
              "      <td>0.700000</td>\n",
              "      <td>1.000000</td>\n",
              "    </tr>\n",
              "    <tr>\n",
              "      <th>50%</th>\n",
              "      <td>45.000000</td>\n",
              "      <td>1.000000</td>\n",
              "      <td>0.300000</td>\n",
              "      <td>208.000000</td>\n",
              "      <td>35.000000</td>\n",
              "      <td>42.000000</td>\n",
              "      <td>6.600000</td>\n",
              "      <td>3.100000</td>\n",
              "      <td>0.930000</td>\n",
              "      <td>1.000000</td>\n",
              "    </tr>\n",
              "    <tr>\n",
              "      <th>75%</th>\n",
              "      <td>58.000000</td>\n",
              "      <td>2.600000</td>\n",
              "      <td>1.300000</td>\n",
              "      <td>298.000000</td>\n",
              "      <td>60.500000</td>\n",
              "      <td>87.000000</td>\n",
              "      <td>7.200000</td>\n",
              "      <td>3.800000</td>\n",
              "      <td>1.100000</td>\n",
              "      <td>2.000000</td>\n",
              "    </tr>\n",
              "    <tr>\n",
              "      <th>max</th>\n",
              "      <td>90.000000</td>\n",
              "      <td>75.000000</td>\n",
              "      <td>19.700000</td>\n",
              "      <td>2110.000000</td>\n",
              "      <td>2000.000000</td>\n",
              "      <td>4929.000000</td>\n",
              "      <td>9.600000</td>\n",
              "      <td>5.500000</td>\n",
              "      <td>2.800000</td>\n",
              "      <td>2.000000</td>\n",
              "    </tr>\n",
              "  </tbody>\n",
              "</table>\n",
              "</div>"
            ],
            "text/plain": [
              "              age          TB          DB  ...         ALB          AG    selector\n",
              "count  583.000000  583.000000  583.000000  ...  583.000000  579.000000  583.000000\n",
              "mean    44.746141    3.298799    1.486106  ...    3.141852    0.947064    1.286449\n",
              "std     16.189833    6.209522    2.808498  ...    0.795519    0.319592    0.452490\n",
              "min      4.000000    0.400000    0.100000  ...    0.900000    0.300000    1.000000\n",
              "25%     33.000000    0.800000    0.200000  ...    2.600000    0.700000    1.000000\n",
              "50%     45.000000    1.000000    0.300000  ...    3.100000    0.930000    1.000000\n",
              "75%     58.000000    2.600000    1.300000  ...    3.800000    1.100000    2.000000\n",
              "max     90.000000   75.000000   19.700000  ...    5.500000    2.800000    2.000000\n",
              "\n",
              "[8 rows x 10 columns]"
            ]
          },
          "metadata": {
            "tags": []
          },
          "execution_count": 67
        }
      ]
    },
    {
      "cell_type": "markdown",
      "metadata": {
        "id": "e2JSB77fG79g"
      },
      "source": [
        "##Data understanding"
      ]
    },
    {
      "cell_type": "code",
      "metadata": {
        "id": "ag3LsDu5EpEb"
      },
      "source": [
        "#A table is made that summarises what the data collected has and the extremes of \r\n",
        "#the data that is available.\r\n",
        "\r\n",
        "desc = pd.DataFrame(data.dtypes, columns= ['Types'])\r\n",
        "desc['Max'] = ''\r\n",
        "desc['Min'] = ''\r\n",
        "desc['Unique'] = ''\r\n",
        "for e , row in desc.iterrows():\r\n",
        "  if row['Types'] != 'object':\r\n",
        "    desc.loc[e , 'Max'] = data[e].max()\r\n",
        "    desc.loc[e , 'Min'] = data[e].min()\r\n",
        "    desc.loc[e , 'Unique'] = len(data[e].unique())"
      ],
      "execution_count": 68,
      "outputs": []
    },
    {
      "cell_type": "code",
      "metadata": {
        "colab": {
          "base_uri": "https://localhost:8080/",
          "height": 394
        },
        "id": "cmAuFNmFTyX7",
        "outputId": "e0c0eda7-c921-4240-9a10-c12891bac6b6"
      },
      "source": [
        "desc"
      ],
      "execution_count": 69,
      "outputs": [
        {
          "output_type": "execute_result",
          "data": {
            "text/html": [
              "<div>\n",
              "<style scoped>\n",
              "    .dataframe tbody tr th:only-of-type {\n",
              "        vertical-align: middle;\n",
              "    }\n",
              "\n",
              "    .dataframe tbody tr th {\n",
              "        vertical-align: top;\n",
              "    }\n",
              "\n",
              "    .dataframe thead th {\n",
              "        text-align: right;\n",
              "    }\n",
              "</style>\n",
              "<table border=\"1\" class=\"dataframe\">\n",
              "  <thead>\n",
              "    <tr style=\"text-align: right;\">\n",
              "      <th></th>\n",
              "      <th>Types</th>\n",
              "      <th>Max</th>\n",
              "      <th>Min</th>\n",
              "      <th>Unique</th>\n",
              "    </tr>\n",
              "  </thead>\n",
              "  <tbody>\n",
              "    <tr>\n",
              "      <th>age</th>\n",
              "      <td>int64</td>\n",
              "      <td>90</td>\n",
              "      <td>4</td>\n",
              "      <td>72</td>\n",
              "    </tr>\n",
              "    <tr>\n",
              "      <th>gender</th>\n",
              "      <td>object</td>\n",
              "      <td></td>\n",
              "      <td></td>\n",
              "      <td></td>\n",
              "    </tr>\n",
              "    <tr>\n",
              "      <th>TB</th>\n",
              "      <td>float64</td>\n",
              "      <td>75</td>\n",
              "      <td>0.4</td>\n",
              "      <td>113</td>\n",
              "    </tr>\n",
              "    <tr>\n",
              "      <th>DB</th>\n",
              "      <td>float64</td>\n",
              "      <td>19.7</td>\n",
              "      <td>0.1</td>\n",
              "      <td>80</td>\n",
              "    </tr>\n",
              "    <tr>\n",
              "      <th>AAP</th>\n",
              "      <td>int64</td>\n",
              "      <td>2110</td>\n",
              "      <td>63</td>\n",
              "      <td>263</td>\n",
              "    </tr>\n",
              "    <tr>\n",
              "      <th>sgpt</th>\n",
              "      <td>int64</td>\n",
              "      <td>2000</td>\n",
              "      <td>10</td>\n",
              "      <td>152</td>\n",
              "    </tr>\n",
              "    <tr>\n",
              "      <th>sgot</th>\n",
              "      <td>int64</td>\n",
              "      <td>4929</td>\n",
              "      <td>10</td>\n",
              "      <td>177</td>\n",
              "    </tr>\n",
              "    <tr>\n",
              "      <th>TP</th>\n",
              "      <td>float64</td>\n",
              "      <td>9.6</td>\n",
              "      <td>2.7</td>\n",
              "      <td>58</td>\n",
              "    </tr>\n",
              "    <tr>\n",
              "      <th>ALB</th>\n",
              "      <td>float64</td>\n",
              "      <td>5.5</td>\n",
              "      <td>0.9</td>\n",
              "      <td>40</td>\n",
              "    </tr>\n",
              "    <tr>\n",
              "      <th>AG</th>\n",
              "      <td>float64</td>\n",
              "      <td>2.8</td>\n",
              "      <td>0.3</td>\n",
              "      <td>70</td>\n",
              "    </tr>\n",
              "    <tr>\n",
              "      <th>selector</th>\n",
              "      <td>int64</td>\n",
              "      <td>2</td>\n",
              "      <td>1</td>\n",
              "      <td>2</td>\n",
              "    </tr>\n",
              "  </tbody>\n",
              "</table>\n",
              "</div>"
            ],
            "text/plain": [
              "            Types   Max  Min Unique\n",
              "age         int64    90    4     72\n",
              "gender     object                  \n",
              "TB        float64    75  0.4    113\n",
              "DB        float64  19.7  0.1     80\n",
              "AAP         int64  2110   63    263\n",
              "sgpt        int64  2000   10    152\n",
              "sgot        int64  4929   10    177\n",
              "TP        float64   9.6  2.7     58\n",
              "ALB       float64   5.5  0.9     40\n",
              "AG        float64   2.8  0.3     70\n",
              "selector    int64     2    1      2"
            ]
          },
          "metadata": {
            "tags": []
          },
          "execution_count": 69
        }
      ]
    },
    {
      "cell_type": "markdown",
      "metadata": {
        "id": "WMoaNZQI9Hq7"
      },
      "source": [
        "# Data Preparation"
      ]
    },
    {
      "cell_type": "markdown",
      "metadata": {
        "id": "j7_lhvmE9SGF"
      },
      "source": [
        "## Duplicates"
      ]
    },
    {
      "cell_type": "code",
      "metadata": {
        "id": "k5tQJJhHEUSg",
        "colab": {
          "base_uri": "https://localhost:8080/"
        },
        "outputId": "d745d282-476f-4c4f-ee54-32c6ebf006fd"
      },
      "source": [
        "data.duplicated().sum()"
      ],
      "execution_count": 70,
      "outputs": [
        {
          "output_type": "execute_result",
          "data": {
            "text/plain": [
              "13"
            ]
          },
          "metadata": {
            "tags": []
          },
          "execution_count": 70
        }
      ]
    },
    {
      "cell_type": "code",
      "metadata": {
        "id": "8zV934tgE6M-"
      },
      "source": [
        "data.drop_duplicates(inplace = True)"
      ],
      "execution_count": 71,
      "outputs": []
    },
    {
      "cell_type": "code",
      "metadata": {
        "id": "aovxkjm9E_Kx",
        "colab": {
          "base_uri": "https://localhost:8080/"
        },
        "outputId": "4ed9ca5f-7508-4145-b622-fd9175552f78"
      },
      "source": [
        "data.duplicated().sum()"
      ],
      "execution_count": 72,
      "outputs": [
        {
          "output_type": "execute_result",
          "data": {
            "text/plain": [
              "0"
            ]
          },
          "metadata": {
            "tags": []
          },
          "execution_count": 72
        }
      ]
    },
    {
      "cell_type": "markdown",
      "metadata": {
        "id": "jV55jkPq9Moc"
      },
      "source": [
        "## Missing data"
      ]
    },
    {
      "cell_type": "code",
      "metadata": {
        "id": "O9HoxCEvET0t",
        "colab": {
          "base_uri": "https://localhost:8080/"
        },
        "outputId": "1328e89c-f3e7-4c32-bdb6-0fa4d006ce97"
      },
      "source": [
        "data.isnull().sum()"
      ],
      "execution_count": 73,
      "outputs": [
        {
          "output_type": "execute_result",
          "data": {
            "text/plain": [
              "age         0\n",
              "gender      0\n",
              "TB          0\n",
              "DB          0\n",
              "AAP         0\n",
              "sgpt        0\n",
              "sgot        0\n",
              "TP          0\n",
              "ALB         0\n",
              "AG          4\n",
              "selector    0\n",
              "dtype: int64"
            ]
          },
          "metadata": {
            "tags": []
          },
          "execution_count": 73
        }
      ]
    },
    {
      "cell_type": "code",
      "metadata": {
        "id": "Wn3_N_8oEX_R"
      },
      "source": [
        "data = data.dropna()"
      ],
      "execution_count": 74,
      "outputs": []
    },
    {
      "cell_type": "code",
      "metadata": {
        "id": "ZyGtCkhhEeoi",
        "colab": {
          "base_uri": "https://localhost:8080/"
        },
        "outputId": "bb85812e-aed1-4669-870b-037fad7bc9a4"
      },
      "source": [
        "data.isnull().sum()"
      ],
      "execution_count": 75,
      "outputs": [
        {
          "output_type": "execute_result",
          "data": {
            "text/plain": [
              "age         0\n",
              "gender      0\n",
              "TB          0\n",
              "DB          0\n",
              "AAP         0\n",
              "sgpt        0\n",
              "sgot        0\n",
              "TP          0\n",
              "ALB         0\n",
              "AG          0\n",
              "selector    0\n",
              "dtype: int64"
            ]
          },
          "metadata": {
            "tags": []
          },
          "execution_count": 75
        }
      ]
    },
    {
      "cell_type": "code",
      "metadata": {
        "colab": {
          "base_uri": "https://localhost:8080/"
        },
        "id": "vy3yUSdYH6p2",
        "outputId": "bdeace62-1463-4ab9-db1e-c3f9bbdfbb79"
      },
      "source": [
        "data.shape"
      ],
      "execution_count": 76,
      "outputs": [
        {
          "output_type": "execute_result",
          "data": {
            "text/plain": [
              "(566, 11)"
            ]
          },
          "metadata": {
            "tags": []
          },
          "execution_count": 76
        }
      ]
    },
    {
      "cell_type": "markdown",
      "metadata": {
        "id": "uJp4K7gD9V75"
      },
      "source": [
        "##Outliers and histograms"
      ]
    },
    {
      "cell_type": "markdown",
      "metadata": {
        "id": "O_yNdW7WSRel"
      },
      "source": [
        "Extreme data (maximum and minimums) and their frequency is sought after in this section. Furthermore; a relative concept of the normal is sought after here."
      ]
    },
    {
      "cell_type": "code",
      "metadata": {
        "id": "KoyYSX1FFBxA",
        "colab": {
          "base_uri": "https://localhost:8080/",
          "height": 1000
        },
        "outputId": "1c2cf6f1-976a-4df4-9eba-11003341774c"
      },
      "source": [
        "numeric = data.drop(['selector', 'gender'], axis=1)\r\n",
        "columns = list(numeric.columns)\r\n",
        "for column in columns:\r\n",
        "  plo = plt.figure(figsize=(20,4))\r\n",
        "  plo.add_subplot(1,2,1)\r\n",
        "  sns.distplot(data[column])\r\n",
        "  plo.add_subplot(1,2,2)\r\n",
        "  sns.boxplot(data[column])"
      ],
      "execution_count": 77,
      "outputs": [
        {
          "output_type": "stream",
          "text": [
            "/usr/local/lib/python3.6/dist-packages/seaborn/distributions.py:2551: FutureWarning: `distplot` is a deprecated function and will be removed in a future version. Please adapt your code to use either `displot` (a figure-level function with similar flexibility) or `histplot` (an axes-level function for histograms).\n",
            "  warnings.warn(msg, FutureWarning)\n",
            "/usr/local/lib/python3.6/dist-packages/seaborn/_decorators.py:43: FutureWarning: Pass the following variable as a keyword arg: x. From version 0.12, the only valid positional argument will be `data`, and passing other arguments without an explicit keyword will result in an error or misinterpretation.\n",
            "  FutureWarning\n",
            "/usr/local/lib/python3.6/dist-packages/seaborn/distributions.py:2551: FutureWarning: `distplot` is a deprecated function and will be removed in a future version. Please adapt your code to use either `displot` (a figure-level function with similar flexibility) or `histplot` (an axes-level function for histograms).\n",
            "  warnings.warn(msg, FutureWarning)\n",
            "/usr/local/lib/python3.6/dist-packages/seaborn/_decorators.py:43: FutureWarning: Pass the following variable as a keyword arg: x. From version 0.12, the only valid positional argument will be `data`, and passing other arguments without an explicit keyword will result in an error or misinterpretation.\n",
            "  FutureWarning\n",
            "/usr/local/lib/python3.6/dist-packages/seaborn/distributions.py:2551: FutureWarning: `distplot` is a deprecated function and will be removed in a future version. Please adapt your code to use either `displot` (a figure-level function with similar flexibility) or `histplot` (an axes-level function for histograms).\n",
            "  warnings.warn(msg, FutureWarning)\n",
            "/usr/local/lib/python3.6/dist-packages/seaborn/_decorators.py:43: FutureWarning: Pass the following variable as a keyword arg: x. From version 0.12, the only valid positional argument will be `data`, and passing other arguments without an explicit keyword will result in an error or misinterpretation.\n",
            "  FutureWarning\n",
            "/usr/local/lib/python3.6/dist-packages/seaborn/distributions.py:2551: FutureWarning: `distplot` is a deprecated function and will be removed in a future version. Please adapt your code to use either `displot` (a figure-level function with similar flexibility) or `histplot` (an axes-level function for histograms).\n",
            "  warnings.warn(msg, FutureWarning)\n",
            "/usr/local/lib/python3.6/dist-packages/seaborn/_decorators.py:43: FutureWarning: Pass the following variable as a keyword arg: x. From version 0.12, the only valid positional argument will be `data`, and passing other arguments without an explicit keyword will result in an error or misinterpretation.\n",
            "  FutureWarning\n",
            "/usr/local/lib/python3.6/dist-packages/seaborn/distributions.py:2551: FutureWarning: `distplot` is a deprecated function and will be removed in a future version. Please adapt your code to use either `displot` (a figure-level function with similar flexibility) or `histplot` (an axes-level function for histograms).\n",
            "  warnings.warn(msg, FutureWarning)\n",
            "/usr/local/lib/python3.6/dist-packages/seaborn/_decorators.py:43: FutureWarning: Pass the following variable as a keyword arg: x. From version 0.12, the only valid positional argument will be `data`, and passing other arguments without an explicit keyword will result in an error or misinterpretation.\n",
            "  FutureWarning\n",
            "/usr/local/lib/python3.6/dist-packages/seaborn/distributions.py:2551: FutureWarning: `distplot` is a deprecated function and will be removed in a future version. Please adapt your code to use either `displot` (a figure-level function with similar flexibility) or `histplot` (an axes-level function for histograms).\n",
            "  warnings.warn(msg, FutureWarning)\n",
            "/usr/local/lib/python3.6/dist-packages/seaborn/_decorators.py:43: FutureWarning: Pass the following variable as a keyword arg: x. From version 0.12, the only valid positional argument will be `data`, and passing other arguments without an explicit keyword will result in an error or misinterpretation.\n",
            "  FutureWarning\n",
            "/usr/local/lib/python3.6/dist-packages/seaborn/distributions.py:2551: FutureWarning: `distplot` is a deprecated function and will be removed in a future version. Please adapt your code to use either `displot` (a figure-level function with similar flexibility) or `histplot` (an axes-level function for histograms).\n",
            "  warnings.warn(msg, FutureWarning)\n",
            "/usr/local/lib/python3.6/dist-packages/seaborn/_decorators.py:43: FutureWarning: Pass the following variable as a keyword arg: x. From version 0.12, the only valid positional argument will be `data`, and passing other arguments without an explicit keyword will result in an error or misinterpretation.\n",
            "  FutureWarning\n",
            "/usr/local/lib/python3.6/dist-packages/seaborn/distributions.py:2551: FutureWarning: `distplot` is a deprecated function and will be removed in a future version. Please adapt your code to use either `displot` (a figure-level function with similar flexibility) or `histplot` (an axes-level function for histograms).\n",
            "  warnings.warn(msg, FutureWarning)\n",
            "/usr/local/lib/python3.6/dist-packages/seaborn/_decorators.py:43: FutureWarning: Pass the following variable as a keyword arg: x. From version 0.12, the only valid positional argument will be `data`, and passing other arguments without an explicit keyword will result in an error or misinterpretation.\n",
            "  FutureWarning\n",
            "/usr/local/lib/python3.6/dist-packages/seaborn/distributions.py:2551: FutureWarning: `distplot` is a deprecated function and will be removed in a future version. Please adapt your code to use either `displot` (a figure-level function with similar flexibility) or `histplot` (an axes-level function for histograms).\n",
            "  warnings.warn(msg, FutureWarning)\n",
            "/usr/local/lib/python3.6/dist-packages/seaborn/_decorators.py:43: FutureWarning: Pass the following variable as a keyword arg: x. From version 0.12, the only valid positional argument will be `data`, and passing other arguments without an explicit keyword will result in an error or misinterpretation.\n",
            "  FutureWarning\n"
          ],
          "name": "stderr"
        },
        {
          "output_type": "display_data",
          "data": {
            "image/png": "[encoded data removed]",
            "text/plain": [
              "<Figure size 1440x288 with 2 Axes>"
            ]
          },
          "metadata": {
            "tags": [],
            "needs_background": "light"
          }
        },
        {
          "output_type": "display_data",
          "data": {
            "image/png": "[encoded data removed]",
            "text/plain": [
              "<Figure size 1440x288 with 2 Axes>"
            ]
          },
          "metadata": {
            "tags": [],
            "needs_background": "light"
          }
        },
        {
          "output_type": "display_data",
          "data": {
            "image/png": "[encoded data removed]",
            "text/plain": [
              "<Figure size 1440x288 with 2 Axes>"
            ]
          },
          "metadata": {
            "tags": [],
            "needs_background": "light"
          }
        },
        {
          "output_type": "display_data",
          "data": {
            "image/png": "[encoded data removed]",
            "text/plain": [
              "<Figure size 1440x288 with 2 Axes>"
            ]
          },
          "metadata": {
            "tags": [],
            "needs_background": "light"
          }
        },
        {
          "output_type": "display_data",
          "data": {
            "image/png": "[encoded data removed]",
            "text/plain": [
              "<Figure size 1440x288 with 2 Axes>"
            ]
          },
          "metadata": {
            "tags": [],
            "needs_background": "light"
          }
        },
        {
          "output_type": "display_data",
          "data": {
            "image/png": "[encoded data removed]",
            "text/plain": [
              "<Figure size 1440x288 with 2 Axes>"
            ]
          },
          "metadata": {
            "tags": [],
            "needs_background": "light"
          }
        },
        {
          "output_type": "display_data",
          "data": {
            "image/png": "[encoded data removed]",
            "text/plain": [
              "<Figure size 1440x288 with 2 Axes>"
            ]
          },
          "metadata": {
            "tags": [],
            "needs_background": "light"
          }
        },
        {
          "output_type": "display_data",
          "data": {
            "image/png": "[encoded data removed]",
            "text/plain": [
              "<Figure size 1440x288 with 2 Axes>"
            ]
          },
          "metadata": {
            "tags": [],
            "needs_background": "light"
          }
        },
        {
          "output_type": "display_data",
          "data": {
            "image/png": "[encoded data removed]",
            "text/plain": [
              "<Figure size 1440x288 with 2 Axes>"
            ]
          },
          "metadata": {
            "tags": [],
            "needs_background": "light"
          }
        }
      ]
    },
    {
      "cell_type": "markdown",
      "metadata": {
        "id": "fmDXdz_tO46X"
      },
      "source": [
        "Looking at the data from the graphs we can see both the distripution and what we would term as outliers in the sense. Considering that this is based on medical data; the outliers in themselves are pressumed to be the causes of said diseases thus they are not dropped from the dataset."
      ]
    },
    {
      "cell_type": "code",
      "metadata": {
        "id": "1F2w2G3xS1kc"
      },
      "source": [
        ""
      ],
      "execution_count": 77,
      "outputs": []
    },
    {
      "cell_type": "markdown",
      "metadata": {
        "id": "-J0u_wLOHfR_"
      },
      "source": [
        "##Changing the gender column to a numeriacally representable value"
      ]
    },
    {
      "cell_type": "markdown",
      "metadata": {
        "id": "KmmQ2CWQIUIG"
      },
      "source": [
        "We need our data to be as numerical as possible; the column gender described above is thus changed to wheteher or not the sample is Female with 1 demarcating yes the sample is a female and 0 representing male. Afterwards, the relicated data is dropped."
      ]
    },
    {
      "cell_type": "code",
      "metadata": {
        "id": "WfRvd0RAH8-A"
      },
      "source": [
        "dum = pd.get_dummies(data['gender'])"
      ],
      "execution_count": 78,
      "outputs": []
    },
    {
      "cell_type": "code",
      "metadata": {
        "id": "azF9QxBTIbQT"
      },
      "source": [
        "sure = pd.merge(data , dum , left_index=True , right_index=True)"
      ],
      "execution_count": 79,
      "outputs": []
    },
    {
      "cell_type": "code",
      "metadata": {
        "id": "Nin6039LIgls"
      },
      "source": [
        "sure = sure.drop(['gender','Male'], axis=1)"
      ],
      "execution_count": 80,
      "outputs": []
    },
    {
      "cell_type": "code",
      "metadata": {
        "colab": {
          "base_uri": "https://localhost:8080/",
          "height": 206
        },
        "id": "RJzjkK6SIPxN",
        "outputId": "eb8e17a7-a01e-47ca-a685-45825fafbec3"
      },
      "source": [
        "sure.head()"
      ],
      "execution_count": 81,
      "outputs": [
        {
          "output_type": "execute_result",
          "data": {
            "text/html": [
              "<div>\n",
              "<style scoped>\n",
              "    .dataframe tbody tr th:only-of-type {\n",
              "        vertical-align: middle;\n",
              "    }\n",
              "\n",
              "    .dataframe tbody tr th {\n",
              "        vertical-align: top;\n",
              "    }\n",
              "\n",
              "    .dataframe thead th {\n",
              "        text-align: right;\n",
              "    }\n",
              "</style>\n",
              "<table border=\"1\" class=\"dataframe\">\n",
              "  <thead>\n",
              "    <tr style=\"text-align: right;\">\n",
              "      <th></th>\n",
              "      <th>age</th>\n",
              "      <th>TB</th>\n",
              "      <th>DB</th>\n",
              "      <th>AAP</th>\n",
              "      <th>sgpt</th>\n",
              "      <th>sgot</th>\n",
              "      <th>TP</th>\n",
              "      <th>ALB</th>\n",
              "      <th>AG</th>\n",
              "      <th>selector</th>\n",
              "      <th>Female</th>\n",
              "    </tr>\n",
              "  </thead>\n",
              "  <tbody>\n",
              "    <tr>\n",
              "      <th>0</th>\n",
              "      <td>65</td>\n",
              "      <td>0.7</td>\n",
              "      <td>0.1</td>\n",
              "      <td>187</td>\n",
              "      <td>16</td>\n",
              "      <td>18</td>\n",
              "      <td>6.8</td>\n",
              "      <td>3.3</td>\n",
              "      <td>0.90</td>\n",
              "      <td>1</td>\n",
              "      <td>1</td>\n",
              "    </tr>\n",
              "    <tr>\n",
              "      <th>1</th>\n",
              "      <td>62</td>\n",
              "      <td>10.9</td>\n",
              "      <td>5.5</td>\n",
              "      <td>699</td>\n",
              "      <td>64</td>\n",
              "      <td>100</td>\n",
              "      <td>7.5</td>\n",
              "      <td>3.2</td>\n",
              "      <td>0.74</td>\n",
              "      <td>1</td>\n",
              "      <td>0</td>\n",
              "    </tr>\n",
              "    <tr>\n",
              "      <th>2</th>\n",
              "      <td>62</td>\n",
              "      <td>7.3</td>\n",
              "      <td>4.1</td>\n",
              "      <td>490</td>\n",
              "      <td>60</td>\n",
              "      <td>68</td>\n",
              "      <td>7.0</td>\n",
              "      <td>3.3</td>\n",
              "      <td>0.89</td>\n",
              "      <td>1</td>\n",
              "      <td>0</td>\n",
              "    </tr>\n",
              "    <tr>\n",
              "      <th>3</th>\n",
              "      <td>58</td>\n",
              "      <td>1.0</td>\n",
              "      <td>0.4</td>\n",
              "      <td>182</td>\n",
              "      <td>14</td>\n",
              "      <td>20</td>\n",
              "      <td>6.8</td>\n",
              "      <td>3.4</td>\n",
              "      <td>1.00</td>\n",
              "      <td>1</td>\n",
              "      <td>0</td>\n",
              "    </tr>\n",
              "    <tr>\n",
              "      <th>4</th>\n",
              "      <td>72</td>\n",
              "      <td>3.9</td>\n",
              "      <td>2.0</td>\n",
              "      <td>195</td>\n",
              "      <td>27</td>\n",
              "      <td>59</td>\n",
              "      <td>7.3</td>\n",
              "      <td>2.4</td>\n",
              "      <td>0.40</td>\n",
              "      <td>1</td>\n",
              "      <td>0</td>\n",
              "    </tr>\n",
              "  </tbody>\n",
              "</table>\n",
              "</div>"
            ],
            "text/plain": [
              "   age    TB   DB  AAP  sgpt  sgot   TP  ALB    AG  selector  Female\n",
              "0   65   0.7  0.1  187    16    18  6.8  3.3  0.90         1       1\n",
              "1   62  10.9  5.5  699    64   100  7.5  3.2  0.74         1       0\n",
              "2   62   7.3  4.1  490    60    68  7.0  3.3  0.89         1       0\n",
              "3   58   1.0  0.4  182    14    20  6.8  3.4  1.00         1       0\n",
              "4   72   3.9  2.0  195    27    59  7.3  2.4  0.40         1       0"
            ]
          },
          "metadata": {
            "tags": []
          },
          "execution_count": 81
        }
      ]
    },
    {
      "cell_type": "markdown",
      "metadata": {
        "id": "p3x7gfo-9ac0"
      },
      "source": [
        "#EXPLORATORY DATA ANALYSIS"
      ]
    },
    {
      "cell_type": "code",
      "metadata": {
        "id": "QqSp0_DhJEXt"
      },
      "source": [
        "toeda = sure.copy()"
      ],
      "execution_count": 82,
      "outputs": []
    },
    {
      "cell_type": "markdown",
      "metadata": {
        "id": "T8-pTJOA9lHY"
      },
      "source": [
        "## Univariate Analysis"
      ]
    },
    {
      "cell_type": "code",
      "metadata": {
        "id": "j54LMk9DmOtO",
        "outputId": "4483fab1-b2cb-40ea-eafd-1f1dbc916fcb",
        "colab": {
          "base_uri": "https://localhost:8080/",
          "height": 351
        }
      },
      "source": [
        "#A graphical representation on thenumber of women and the number of me\n",
        "\n",
        "sns.countplot(toeda['Female'])"
      ],
      "execution_count": 85,
      "outputs": [
        {
          "output_type": "stream",
          "text": [
            "/usr/local/lib/python3.6/dist-packages/seaborn/_decorators.py:43: FutureWarning: Pass the following variable as a keyword arg: x. From version 0.12, the only valid positional argument will be `data`, and passing other arguments without an explicit keyword will result in an error or misinterpretation.\n",
            "  FutureWarning\n"
          ],
          "name": "stderr"
        },
        {
          "output_type": "execute_result",
          "data": {
            "text/plain": [
              "<matplotlib.axes._subplots.AxesSubplot at 0x7fe1b374e9e8>"
            ]
          },
          "metadata": {
            "tags": []
          },
          "execution_count": 85
        },
        {
          "output_type": "display_data",
          "data": {
            "image/png": "[encoded data removed]",
            "text/plain": [
              "<Figure size 432x288 with 1 Axes>"
            ]
          },
          "metadata": {
            "tags": [],
            "needs_background": "light"
          }
        }
      ]
    },
    {
      "cell_type": "code",
      "metadata": {
        "id": "S6zbgHOUn3pk",
        "outputId": "32999af4-5c6a-4400-d1ed-eb20735f9fab",
        "colab": {
          "base_uri": "https://localhost:8080/",
          "height": 132
        }
      },
      "source": [
        "plt.bar(toeda['age' , bin = 5 ])"
      ],
      "execution_count": 86,
      "outputs": [
        {
          "output_type": "error",
          "ename": "SyntaxError",
          "evalue": "ignored",
          "traceback": [
            "\u001b[0;36m  File \u001b[0;32m\"<ipython-input-86-d4d1027c233f>\"\u001b[0;36m, line \u001b[0;32m1\u001b[0m\n\u001b[0;31m    plt.bar(toeda['age' , bin = 5 ])\u001b[0m\n\u001b[0m                              ^\u001b[0m\n\u001b[0;31mSyntaxError\u001b[0m\u001b[0;31m:\u001b[0m invalid syntax\n"
          ]
        }
      ]
    },
    {
      "cell_type": "code",
      "metadata": {
        "id": "8TUwV_-rJDc3",
        "colab": {
          "base_uri": "https://localhost:8080/",
          "height": 351
        },
        "outputId": "47cca91e-32f6-4b6e-f2e6-4c377aa88a23"
      },
      "source": [
        "#selector is an encoded column that has 1 for the liver disease sample patients and\n",
        "# 2 for the non liver disease patients\n",
        "\n",
        "sns.countplot(toeda['selector'])"
      ],
      "execution_count": 23,
      "outputs": [
        {
          "output_type": "stream",
          "text": [
            "/usr/local/lib/python3.6/dist-packages/seaborn/_decorators.py:43: FutureWarning: Pass the following variable as a keyword arg: x. From version 0.12, the only valid positional argument will be `data`, and passing other arguments without an explicit keyword will result in an error or misinterpretation.\n",
            "  FutureWarning\n"
          ],
          "name": "stderr"
        },
        {
          "output_type": "execute_result",
          "data": {
            "text/plain": [
              "<matplotlib.axes._subplots.AxesSubplot at 0x7fe1bd1279e8>"
            ]
          },
          "metadata": {
            "tags": []
          },
          "execution_count": 23
        },
        {
          "output_type": "display_data",
          "data": {
            "image/png": "[encoded data removed]",
            "text/plain": [
              "<Figure size 432x288 with 1 Axes>"
            ]
          },
          "metadata": {
            "tags": [],
            "needs_background": "light"
          }
        }
      ]
    },
    {
      "cell_type": "markdown",
      "metadata": {
        "id": "xTrQBZPRlhCn"
      },
      "source": [
        "This data set contains 416 liver patient records and 167 non liver patient records.The data set was collected from north east of Andhra Pradesh, India. Selector is a class label used to divide into groups(liver patient or not). This data set contains 441 male patient records and 142 female patient records.\n",
        "\n",
        "Any patient whose age exceeded 89 is listed as being of age \"90\"."
      ]
    },
    {
      "cell_type": "code",
      "metadata": {
        "id": "4-KDyRu3JNk5",
        "colab": {
          "base_uri": "https://localhost:8080/"
        },
        "outputId": "8d6421d9-2fc0-44b8-c88b-ef125bab6064"
      },
      "source": [
        "toeda['selector'].value_counts()"
      ],
      "execution_count": 24,
      "outputs": [
        {
          "output_type": "execute_result",
          "data": {
            "text/plain": [
              "1    404\n",
              "2    162\n",
              "Name: selector, dtype: int64"
            ]
          },
          "metadata": {
            "tags": []
          },
          "execution_count": 24
        }
      ]
    },
    {
      "cell_type": "markdown",
      "metadata": {
        "id": "1Q8p0KlLfUib"
      },
      "source": [
        "##Distribution vs optimum"
      ]
    },
    {
      "cell_type": "markdown",
      "metadata": {
        "id": "aLBHDfSzg_CE"
      },
      "source": [
        "A distribution of the different lab tests"
      ]
    },
    {
      "cell_type": "code",
      "metadata": {
        "colab": {
          "base_uri": "https://localhost:8080/",
          "height": 351
        },
        "id": "apFdKUYsfUih",
        "outputId": "544ff666-b019-48cd-bed2-df3722e2f02a"
      },
      "source": [
        "sns.distplot(toeda['TB'])"
      ],
      "execution_count": 25,
      "outputs": [
        {
          "output_type": "stream",
          "text": [
            "/usr/local/lib/python3.6/dist-packages/seaborn/distributions.py:2551: FutureWarning: `distplot` is a deprecated function and will be removed in a future version. Please adapt your code to use either `displot` (a figure-level function with similar flexibility) or `histplot` (an axes-level function for histograms).\n",
            "  warnings.warn(msg, FutureWarning)\n"
          ],
          "name": "stderr"
        },
        {
          "output_type": "execute_result",
          "data": {
            "text/plain": [
              "<matplotlib.axes._subplots.AxesSubplot at 0x7fe1bb1f69e8>"
            ]
          },
          "metadata": {
            "tags": []
          },
          "execution_count": 25
        },
        {
          "output_type": "display_data",
          "data": {
            "image/png": "[encoded data removed]",
            "text/plain": [
              "<Figure size 432x288 with 1 Axes>"
            ]
          },
          "metadata": {
            "tags": [],
            "needs_background": "light"
          }
        }
      ]
    },
    {
      "cell_type": "code",
      "metadata": {
        "colab": {
          "base_uri": "https://localhost:8080/",
          "height": 351
        },
        "id": "iI2YRedpfUij",
        "outputId": "6c5f5b68-5751-4b6f-982d-f8a62e67dbe1"
      },
      "source": [
        "sns.distplot(toeda['DB'])"
      ],
      "execution_count": 26,
      "outputs": [
        {
          "output_type": "stream",
          "text": [
            "/usr/local/lib/python3.6/dist-packages/seaborn/distributions.py:2551: FutureWarning: `distplot` is a deprecated function and will be removed in a future version. Please adapt your code to use either `displot` (a figure-level function with similar flexibility) or `histplot` (an axes-level function for histograms).\n",
            "  warnings.warn(msg, FutureWarning)\n"
          ],
          "name": "stderr"
        },
        {
          "output_type": "execute_result",
          "data": {
            "text/plain": [
              "<matplotlib.axes._subplots.AxesSubplot at 0x7fe1bb6c5400>"
            ]
          },
          "metadata": {
            "tags": []
          },
          "execution_count": 26
        },
        {
          "output_type": "display_data",
          "data": {
            "image/png": "[encoded data removed]",
            "text/plain": [
              "<Figure size 432x288 with 1 Axes>"
            ]
          },
          "metadata": {
            "tags": [],
            "needs_background": "light"
          }
        }
      ]
    },
    {
      "cell_type": "code",
      "metadata": {
        "colab": {
          "base_uri": "https://localhost:8080/",
          "height": 351
        },
        "id": "wiCBU2KtfUik",
        "outputId": "eb87e506-5c26-4a83-d221-9ee3e08ea0d3"
      },
      "source": [
        "sns.distplot(toeda['AAP'])"
      ],
      "execution_count": 27,
      "outputs": [
        {
          "output_type": "stream",
          "text": [
            "/usr/local/lib/python3.6/dist-packages/seaborn/distributions.py:2551: FutureWarning: `distplot` is a deprecated function and will be removed in a future version. Please adapt your code to use either `displot` (a figure-level function with similar flexibility) or `histplot` (an axes-level function for histograms).\n",
            "  warnings.warn(msg, FutureWarning)\n"
          ],
          "name": "stderr"
        },
        {
          "output_type": "execute_result",
          "data": {
            "text/plain": [
              "<matplotlib.axes._subplots.AxesSubplot at 0x7fe1bba7f6a0>"
            ]
          },
          "metadata": {
            "tags": []
          },
          "execution_count": 27
        },
        {
          "output_type": "display_data",
          "data": {
            "image/png": "[encoded data removed]",
            "text/plain": [
              "<Figure size 432x288 with 1 Axes>"
            ]
          },
          "metadata": {
            "tags": [],
            "needs_background": "light"
          }
        }
      ]
    },
    {
      "cell_type": "code",
      "metadata": {
        "colab": {
          "base_uri": "https://localhost:8080/",
          "height": 351
        },
        "id": "AOeUMFxQfUil",
        "outputId": "2feed639-e2e7-4c04-b823-aabf525322d6"
      },
      "source": [
        "sns.distplot(toeda['sgpt'])"
      ],
      "execution_count": 28,
      "outputs": [
        {
          "output_type": "stream",
          "text": [
            "/usr/local/lib/python3.6/dist-packages/seaborn/distributions.py:2551: FutureWarning: `distplot` is a deprecated function and will be removed in a future version. Please adapt your code to use either `displot` (a figure-level function with similar flexibility) or `histplot` (an axes-level function for histograms).\n",
            "  warnings.warn(msg, FutureWarning)\n"
          ],
          "name": "stderr"
        },
        {
          "output_type": "execute_result",
          "data": {
            "text/plain": [
              "<matplotlib.axes._subplots.AxesSubplot at 0x7fe1bb9cc4a8>"
            ]
          },
          "metadata": {
            "tags": []
          },
          "execution_count": 28
        },
        {
          "output_type": "display_data",
          "data": {
            "image/png": "[encoded data removed]",
            "text/plain": [
              "<Figure size 432x288 with 1 Axes>"
            ]
          },
          "metadata": {
            "tags": [],
            "needs_background": "light"
          }
        }
      ]
    },
    {
      "cell_type": "code",
      "metadata": {
        "colab": {
          "base_uri": "https://localhost:8080/",
          "height": 351
        },
        "id": "GJ9-mK4afUim",
        "outputId": "3559fa14-cf6a-49bc-f635-ae439185e4f1"
      },
      "source": [
        "sns.distplot(toeda['sgot'])"
      ],
      "execution_count": 29,
      "outputs": [
        {
          "output_type": "stream",
          "text": [
            "/usr/local/lib/python3.6/dist-packages/seaborn/distributions.py:2551: FutureWarning: `distplot` is a deprecated function and will be removed in a future version. Please adapt your code to use either `displot` (a figure-level function with similar flexibility) or `histplot` (an axes-level function for histograms).\n",
            "  warnings.warn(msg, FutureWarning)\n"
          ],
          "name": "stderr"
        },
        {
          "output_type": "execute_result",
          "data": {
            "text/plain": [
              "<matplotlib.axes._subplots.AxesSubplot at 0x7fe1bbe0f898>"
            ]
          },
          "metadata": {
            "tags": []
          },
          "execution_count": 29
        },
        {
          "output_type": "display_data",
          "data": {
            "image/png": "[encoded data removed]",
            "text/plain": [
              "<Figure size 432x288 with 1 Axes>"
            ]
          },
          "metadata": {
            "tags": [],
            "needs_background": "light"
          }
        }
      ]
    },
    {
      "cell_type": "code",
      "metadata": {
        "colab": {
          "base_uri": "https://localhost:8080/",
          "height": 351
        },
        "id": "0jlCTZhVfUin",
        "outputId": "ca989357-2346-4151-af8b-390c3f4d48fe"
      },
      "source": [
        "sns.distplot(toeda['TP'])"
      ],
      "execution_count": 30,
      "outputs": [
        {
          "output_type": "stream",
          "text": [
            "/usr/local/lib/python3.6/dist-packages/seaborn/distributions.py:2551: FutureWarning: `distplot` is a deprecated function and will be removed in a future version. Please adapt your code to use either `displot` (a figure-level function with similar flexibility) or `histplot` (an axes-level function for histograms).\n",
            "  warnings.warn(msg, FutureWarning)\n"
          ],
          "name": "stderr"
        },
        {
          "output_type": "execute_result",
          "data": {
            "text/plain": [
              "<matplotlib.axes._subplots.AxesSubplot at 0x7fe1bb956208>"
            ]
          },
          "metadata": {
            "tags": []
          },
          "execution_count": 30
        },
        {
          "output_type": "display_data",
          "data": {
            "image/png": "[encoded data removed]",
            "text/plain": [
              "<Figure size 432x288 with 1 Axes>"
            ]
          },
          "metadata": {
            "tags": [],
            "needs_background": "light"
          }
        }
      ]
    },
    {
      "cell_type": "code",
      "metadata": {
        "colab": {
          "base_uri": "https://localhost:8080/",
          "height": 352
        },
        "id": "kSG4XTtafUin",
        "outputId": "e077e473-902b-4bcf-c245-b22a5fa4dcef"
      },
      "source": [
        "sns.distplot(toeda['ALB'])"
      ],
      "execution_count": 31,
      "outputs": [
        {
          "output_type": "stream",
          "text": [
            "/usr/local/lib/python3.6/dist-packages/seaborn/distributions.py:2551: FutureWarning: `distplot` is a deprecated function and will be removed in a future version. Please adapt your code to use either `displot` (a figure-level function with similar flexibility) or `histplot` (an axes-level function for histograms).\n",
            "  warnings.warn(msg, FutureWarning)\n"
          ],
          "name": "stderr"
        },
        {
          "output_type": "execute_result",
          "data": {
            "text/plain": [
              "<matplotlib.axes._subplots.AxesSubplot at 0x7fe1bbe0c128>"
            ]
          },
          "metadata": {
            "tags": []
          },
          "execution_count": 31
        },
        {
          "output_type": "display_data",
          "data": {
            "image/png": "[encoded data removed]",
            "text/plain": [
              "<Figure size 432x288 with 1 Axes>"
            ]
          },
          "metadata": {
            "tags": [],
            "needs_background": "light"
          }
        }
      ]
    },
    {
      "cell_type": "code",
      "metadata": {
        "colab": {
          "base_uri": "https://localhost:8080/",
          "height": 351
        },
        "id": "XSyGYOySfUio",
        "outputId": "6ff03ed3-55fa-42c0-f927-cc073e319595"
      },
      "source": [
        "sns.distplot(toeda['AG'])"
      ],
      "execution_count": 32,
      "outputs": [
        {
          "output_type": "stream",
          "text": [
            "/usr/local/lib/python3.6/dist-packages/seaborn/distributions.py:2551: FutureWarning: `distplot` is a deprecated function and will be removed in a future version. Please adapt your code to use either `displot` (a figure-level function with similar flexibility) or `histplot` (an axes-level function for histograms).\n",
            "  warnings.warn(msg, FutureWarning)\n"
          ],
          "name": "stderr"
        },
        {
          "output_type": "execute_result",
          "data": {
            "text/plain": [
              "<matplotlib.axes._subplots.AxesSubplot at 0x7fe1bb1c07f0>"
            ]
          },
          "metadata": {
            "tags": []
          },
          "execution_count": 32
        },
        {
          "output_type": "display_data",
          "data": {
            "image/png": "[encoded data removed]",
            "text/plain": [
              "<Figure size 432x288 with 1 Axes>"
            ]
          },
          "metadata": {
            "tags": [],
            "needs_background": "light"
          }
        }
      ]
    },
    {
      "cell_type": "markdown",
      "metadata": {
        "id": "luf1Owv29owO"
      },
      "source": [
        "## Bivariate Analysis"
      ]
    },
    {
      "cell_type": "markdown",
      "metadata": {
        "id": "uaeHWjQYGpVB"
      },
      "source": [
        "### Correlation"
      ]
    },
    {
      "cell_type": "code",
      "metadata": {
        "colab": {
          "base_uri": "https://localhost:8080/",
          "height": 884
        },
        "id": "_ngEpou5GpVp",
        "outputId": "90a60b2e-c139-4641-9458-d7f4c0bdef97"
      },
      "source": [
        "#A heatmap is created to show the correlation between different attributes of the\n",
        "#data that has been collected\n",
        "plt.figure(figsize=(15,15))\n",
        "sns.heatmap(toeda.corr())\n",
        "plt.show"
      ],
      "execution_count": 55,
      "outputs": [
        {
          "output_type": "execute_result",
          "data": {
            "text/plain": [
              "<function matplotlib.pyplot.show>"
            ]
          },
          "metadata": {
            "tags": []
          },
          "execution_count": 55
        },
        {
          "output_type": "display_data",
          "data": {
            "image/png": "[encoded data removed]",
            "text/plain": [
              "<Figure size 1080x1080 with 2 Axes>"
            ]
          },
          "metadata": {
            "tags": [],
            "needs_background": "light"
          }
        }
      ]
    },
    {
      "cell_type": "code",
      "metadata": {
        "colab": {
          "base_uri": "https://localhost:8080/",
          "height": 394
        },
        "id": "Obe0tXTSGpVs",
        "outputId": "a81555eb-af60-4d38-8dfa-1d0bb3984164"
      },
      "source": [
        "#A correlation table is made to suppliment the information above\n",
        "\n",
        "toeda.corr()"
      ],
      "execution_count": 34,
      "outputs": [
        {
          "output_type": "execute_result",
          "data": {
            "text/html": [
              "<div>\n",
              "<style scoped>\n",
              "    .dataframe tbody tr th:only-of-type {\n",
              "        vertical-align: middle;\n",
              "    }\n",
              "\n",
              "    .dataframe tbody tr th {\n",
              "        vertical-align: top;\n",
              "    }\n",
              "\n",
              "    .dataframe thead th {\n",
              "        text-align: right;\n",
              "    }\n",
              "</style>\n",
              "<table border=\"1\" class=\"dataframe\">\n",
              "  <thead>\n",
              "    <tr style=\"text-align: right;\">\n",
              "      <th></th>\n",
              "      <th>age</th>\n",
              "      <th>TB</th>\n",
              "      <th>DB</th>\n",
              "      <th>AAP</th>\n",
              "      <th>sgpt</th>\n",
              "      <th>sgot</th>\n",
              "      <th>TP</th>\n",
              "      <th>ALB</th>\n",
              "      <th>AG</th>\n",
              "      <th>selector</th>\n",
              "      <th>Female</th>\n",
              "    </tr>\n",
              "  </thead>\n",
              "  <tbody>\n",
              "    <tr>\n",
              "      <th>age</th>\n",
              "      <td>1.000000</td>\n",
              "      <td>0.010704</td>\n",
              "      <td>0.006268</td>\n",
              "      <td>0.080085</td>\n",
              "      <td>-0.084319</td>\n",
              "      <td>-0.017352</td>\n",
              "      <td>-0.195893</td>\n",
              "      <td>-0.269448</td>\n",
              "      <td>-0.215967</td>\n",
              "      <td>-0.133821</td>\n",
              "      <td>-0.057542</td>\n",
              "    </tr>\n",
              "    <tr>\n",
              "      <th>TB</th>\n",
              "      <td>0.010704</td>\n",
              "      <td>1.000000</td>\n",
              "      <td>0.873975</td>\n",
              "      <td>0.205286</td>\n",
              "      <td>0.216776</td>\n",
              "      <td>0.238167</td>\n",
              "      <td>-0.008423</td>\n",
              "      <td>-0.223979</td>\n",
              "      <td>-0.207740</td>\n",
              "      <td>-0.224467</td>\n",
              "      <td>-0.089068</td>\n",
              "    </tr>\n",
              "    <tr>\n",
              "      <th>DB</th>\n",
              "      <td>0.006268</td>\n",
              "      <td>0.873975</td>\n",
              "      <td>1.000000</td>\n",
              "      <td>0.233653</td>\n",
              "      <td>0.236731</td>\n",
              "      <td>0.257965</td>\n",
              "      <td>-0.000735</td>\n",
              "      <td>-0.230650</td>\n",
              "      <td>-0.201519</td>\n",
              "      <td>-0.250926</td>\n",
              "      <td>-0.100448</td>\n",
              "    </tr>\n",
              "    <tr>\n",
              "      <th>AAP</th>\n",
              "      <td>0.080085</td>\n",
              "      <td>0.205286</td>\n",
              "      <td>0.233653</td>\n",
              "      <td>1.000000</td>\n",
              "      <td>0.125917</td>\n",
              "      <td>0.166609</td>\n",
              "      <td>-0.028623</td>\n",
              "      <td>-0.166287</td>\n",
              "      <td>-0.236251</td>\n",
              "      <td>-0.186057</td>\n",
              "      <td>0.024879</td>\n",
              "    </tr>\n",
              "    <tr>\n",
              "      <th>sgpt</th>\n",
              "      <td>-0.084319</td>\n",
              "      <td>0.216776</td>\n",
              "      <td>0.236731</td>\n",
              "      <td>0.125917</td>\n",
              "      <td>1.000000</td>\n",
              "      <td>0.791754</td>\n",
              "      <td>-0.035104</td>\n",
              "      <td>-0.026890</td>\n",
              "      <td>-0.006525</td>\n",
              "      <td>-0.161617</td>\n",
              "      <td>-0.083336</td>\n",
              "    </tr>\n",
              "    <tr>\n",
              "      <th>sgot</th>\n",
              "      <td>-0.017352</td>\n",
              "      <td>0.238167</td>\n",
              "      <td>0.257965</td>\n",
              "      <td>0.166609</td>\n",
              "      <td>0.791754</td>\n",
              "      <td>1.000000</td>\n",
              "      <td>-0.022114</td>\n",
              "      <td>-0.084821</td>\n",
              "      <td>-0.072899</td>\n",
              "      <td>-0.151009</td>\n",
              "      <td>-0.080593</td>\n",
              "    </tr>\n",
              "    <tr>\n",
              "      <th>TP</th>\n",
              "      <td>-0.195893</td>\n",
              "      <td>-0.008423</td>\n",
              "      <td>-0.000735</td>\n",
              "      <td>-0.028623</td>\n",
              "      <td>-0.035104</td>\n",
              "      <td>-0.022114</td>\n",
              "      <td>1.000000</td>\n",
              "      <td>0.783800</td>\n",
              "      <td>0.234576</td>\n",
              "      <td>0.036443</td>\n",
              "      <td>0.092049</td>\n",
              "    </tr>\n",
              "    <tr>\n",
              "      <th>ALB</th>\n",
              "      <td>-0.269448</td>\n",
              "      <td>-0.223979</td>\n",
              "      <td>-0.230650</td>\n",
              "      <td>-0.166287</td>\n",
              "      <td>-0.026890</td>\n",
              "      <td>-0.084821</td>\n",
              "      <td>0.783800</td>\n",
              "      <td>1.000000</td>\n",
              "      <td>0.687438</td>\n",
              "      <td>0.165273</td>\n",
              "      <td>0.093208</td>\n",
              "    </tr>\n",
              "    <tr>\n",
              "      <th>AG</th>\n",
              "      <td>-0.215967</td>\n",
              "      <td>-0.207740</td>\n",
              "      <td>-0.201519</td>\n",
              "      <td>-0.236251</td>\n",
              "      <td>-0.006525</td>\n",
              "      <td>-0.072899</td>\n",
              "      <td>0.234576</td>\n",
              "      <td>0.687438</td>\n",
              "      <td>1.000000</td>\n",
              "      <td>0.171402</td>\n",
              "      <td>0.005611</td>\n",
              "    </tr>\n",
              "    <tr>\n",
              "      <th>selector</th>\n",
              "      <td>-0.133821</td>\n",
              "      <td>-0.224467</td>\n",
              "      <td>-0.250926</td>\n",
              "      <td>-0.186057</td>\n",
              "      <td>-0.161617</td>\n",
              "      <td>-0.151009</td>\n",
              "      <td>0.036443</td>\n",
              "      <td>0.165273</td>\n",
              "      <td>0.171402</td>\n",
              "      <td>1.000000</td>\n",
              "      <td>0.077396</td>\n",
              "    </tr>\n",
              "    <tr>\n",
              "      <th>Female</th>\n",
              "      <td>-0.057542</td>\n",
              "      <td>-0.089068</td>\n",
              "      <td>-0.100448</td>\n",
              "      <td>0.024879</td>\n",
              "      <td>-0.083336</td>\n",
              "      <td>-0.080593</td>\n",
              "      <td>0.092049</td>\n",
              "      <td>0.093208</td>\n",
              "      <td>0.005611</td>\n",
              "      <td>0.077396</td>\n",
              "      <td>1.000000</td>\n",
              "    </tr>\n",
              "  </tbody>\n",
              "</table>\n",
              "</div>"
            ],
            "text/plain": [
              "               age        TB        DB  ...        AG  selector    Female\n",
              "age       1.000000  0.010704  0.006268  ... -0.215967 -0.133821 -0.057542\n",
              "TB        0.010704  1.000000  0.873975  ... -0.207740 -0.224467 -0.089068\n",
              "DB        0.006268  0.873975  1.000000  ... -0.201519 -0.250926 -0.100448\n",
              "AAP       0.080085  0.205286  0.233653  ... -0.236251 -0.186057  0.024879\n",
              "sgpt     -0.084319  0.216776  0.236731  ... -0.006525 -0.161617 -0.083336\n",
              "sgot     -0.017352  0.238167  0.257965  ... -0.072899 -0.151009 -0.080593\n",
              "TP       -0.195893 -0.008423 -0.000735  ...  0.234576  0.036443  0.092049\n",
              "ALB      -0.269448 -0.223979 -0.230650  ...  0.687438  0.165273  0.093208\n",
              "AG       -0.215967 -0.207740 -0.201519  ...  1.000000  0.171402  0.005611\n",
              "selector -0.133821 -0.224467 -0.250926  ...  0.171402  1.000000  0.077396\n",
              "Female   -0.057542 -0.089068 -0.100448  ...  0.005611  0.077396  1.000000\n",
              "\n",
              "[11 rows x 11 columns]"
            ]
          },
          "metadata": {
            "tags": []
          },
          "execution_count": 34
        }
      ]
    },
    {
      "cell_type": "markdown",
      "metadata": {
        "id": "HeLIsnth9x_f"
      },
      "source": [
        "##Multicollinearity"
      ]
    },
    {
      "cell_type": "markdown",
      "metadata": {
        "id": "Ukd39QncQjmO"
      },
      "source": [
        "The variable inflation factor is sought within the data to further look into."
      ]
    },
    {
      "cell_type": "code",
      "metadata": {
        "id": "aq_v3u7ZG4us",
        "colab": {
          "base_uri": "https://localhost:8080/",
          "height": 363
        },
        "outputId": "c095fb1e-5150-4ec5-b900-688f6c2315b9"
      },
      "source": [
        "independent_only = toeda.drop(columns=['selector'])\r\n",
        "\r\n",
        "correlations = independent_only.corr()\r\n",
        "\r\n",
        "correlations"
      ],
      "execution_count": 35,
      "outputs": [
        {
          "output_type": "execute_result",
          "data": {
            "text/html": [
              "<div>\n",
              "<style scoped>\n",
              "    .dataframe tbody tr th:only-of-type {\n",
              "        vertical-align: middle;\n",
              "    }\n",
              "\n",
              "    .dataframe tbody tr th {\n",
              "        vertical-align: top;\n",
              "    }\n",
              "\n",
              "    .dataframe thead th {\n",
              "        text-align: right;\n",
              "    }\n",
              "</style>\n",
              "<table border=\"1\" class=\"dataframe\">\n",
              "  <thead>\n",
              "    <tr style=\"text-align: right;\">\n",
              "      <th></th>\n",
              "      <th>age</th>\n",
              "      <th>TB</th>\n",
              "      <th>DB</th>\n",
              "      <th>AAP</th>\n",
              "      <th>sgpt</th>\n",
              "      <th>sgot</th>\n",
              "      <th>TP</th>\n",
              "      <th>ALB</th>\n",
              "      <th>AG</th>\n",
              "      <th>Female</th>\n",
              "    </tr>\n",
              "  </thead>\n",
              "  <tbody>\n",
              "    <tr>\n",
              "      <th>age</th>\n",
              "      <td>1.000000</td>\n",
              "      <td>0.010704</td>\n",
              "      <td>0.006268</td>\n",
              "      <td>0.080085</td>\n",
              "      <td>-0.084319</td>\n",
              "      <td>-0.017352</td>\n",
              "      <td>-0.195893</td>\n",
              "      <td>-0.269448</td>\n",
              "      <td>-0.215967</td>\n",
              "      <td>-0.057542</td>\n",
              "    </tr>\n",
              "    <tr>\n",
              "      <th>TB</th>\n",
              "      <td>0.010704</td>\n",
              "      <td>1.000000</td>\n",
              "      <td>0.873975</td>\n",
              "      <td>0.205286</td>\n",
              "      <td>0.216776</td>\n",
              "      <td>0.238167</td>\n",
              "      <td>-0.008423</td>\n",
              "      <td>-0.223979</td>\n",
              "      <td>-0.207740</td>\n",
              "      <td>-0.089068</td>\n",
              "    </tr>\n",
              "    <tr>\n",
              "      <th>DB</th>\n",
              "      <td>0.006268</td>\n",
              "      <td>0.873975</td>\n",
              "      <td>1.000000</td>\n",
              "      <td>0.233653</td>\n",
              "      <td>0.236731</td>\n",
              "      <td>0.257965</td>\n",
              "      <td>-0.000735</td>\n",
              "      <td>-0.230650</td>\n",
              "      <td>-0.201519</td>\n",
              "      <td>-0.100448</td>\n",
              "    </tr>\n",
              "    <tr>\n",
              "      <th>AAP</th>\n",
              "      <td>0.080085</td>\n",
              "      <td>0.205286</td>\n",
              "      <td>0.233653</td>\n",
              "      <td>1.000000</td>\n",
              "      <td>0.125917</td>\n",
              "      <td>0.166609</td>\n",
              "      <td>-0.028623</td>\n",
              "      <td>-0.166287</td>\n",
              "      <td>-0.236251</td>\n",
              "      <td>0.024879</td>\n",
              "    </tr>\n",
              "    <tr>\n",
              "      <th>sgpt</th>\n",
              "      <td>-0.084319</td>\n",
              "      <td>0.216776</td>\n",
              "      <td>0.236731</td>\n",
              "      <td>0.125917</td>\n",
              "      <td>1.000000</td>\n",
              "      <td>0.791754</td>\n",
              "      <td>-0.035104</td>\n",
              "      <td>-0.026890</td>\n",
              "      <td>-0.006525</td>\n",
              "      <td>-0.083336</td>\n",
              "    </tr>\n",
              "    <tr>\n",
              "      <th>sgot</th>\n",
              "      <td>-0.017352</td>\n",
              "      <td>0.238167</td>\n",
              "      <td>0.257965</td>\n",
              "      <td>0.166609</td>\n",
              "      <td>0.791754</td>\n",
              "      <td>1.000000</td>\n",
              "      <td>-0.022114</td>\n",
              "      <td>-0.084821</td>\n",
              "      <td>-0.072899</td>\n",
              "      <td>-0.080593</td>\n",
              "    </tr>\n",
              "    <tr>\n",
              "      <th>TP</th>\n",
              "      <td>-0.195893</td>\n",
              "      <td>-0.008423</td>\n",
              "      <td>-0.000735</td>\n",
              "      <td>-0.028623</td>\n",
              "      <td>-0.035104</td>\n",
              "      <td>-0.022114</td>\n",
              "      <td>1.000000</td>\n",
              "      <td>0.783800</td>\n",
              "      <td>0.234576</td>\n",
              "      <td>0.092049</td>\n",
              "    </tr>\n",
              "    <tr>\n",
              "      <th>ALB</th>\n",
              "      <td>-0.269448</td>\n",
              "      <td>-0.223979</td>\n",
              "      <td>-0.230650</td>\n",
              "      <td>-0.166287</td>\n",
              "      <td>-0.026890</td>\n",
              "      <td>-0.084821</td>\n",
              "      <td>0.783800</td>\n",
              "      <td>1.000000</td>\n",
              "      <td>0.687438</td>\n",
              "      <td>0.093208</td>\n",
              "    </tr>\n",
              "    <tr>\n",
              "      <th>AG</th>\n",
              "      <td>-0.215967</td>\n",
              "      <td>-0.207740</td>\n",
              "      <td>-0.201519</td>\n",
              "      <td>-0.236251</td>\n",
              "      <td>-0.006525</td>\n",
              "      <td>-0.072899</td>\n",
              "      <td>0.234576</td>\n",
              "      <td>0.687438</td>\n",
              "      <td>1.000000</td>\n",
              "      <td>0.005611</td>\n",
              "    </tr>\n",
              "    <tr>\n",
              "      <th>Female</th>\n",
              "      <td>-0.057542</td>\n",
              "      <td>-0.089068</td>\n",
              "      <td>-0.100448</td>\n",
              "      <td>0.024879</td>\n",
              "      <td>-0.083336</td>\n",
              "      <td>-0.080593</td>\n",
              "      <td>0.092049</td>\n",
              "      <td>0.093208</td>\n",
              "      <td>0.005611</td>\n",
              "      <td>1.000000</td>\n",
              "    </tr>\n",
              "  </tbody>\n",
              "</table>\n",
              "</div>"
            ],
            "text/plain": [
              "             age        TB        DB  ...       ALB        AG    Female\n",
              "age     1.000000  0.010704  0.006268  ... -0.269448 -0.215967 -0.057542\n",
              "TB      0.010704  1.000000  0.873975  ... -0.223979 -0.207740 -0.089068\n",
              "DB      0.006268  0.873975  1.000000  ... -0.230650 -0.201519 -0.100448\n",
              "AAP     0.080085  0.205286  0.233653  ... -0.166287 -0.236251  0.024879\n",
              "sgpt   -0.084319  0.216776  0.236731  ... -0.026890 -0.006525 -0.083336\n",
              "sgot   -0.017352  0.238167  0.257965  ... -0.084821 -0.072899 -0.080593\n",
              "TP     -0.195893 -0.008423 -0.000735  ...  0.783800  0.234576  0.092049\n",
              "ALB    -0.269448 -0.223979 -0.230650  ...  1.000000  0.687438  0.093208\n",
              "AG     -0.215967 -0.207740 -0.201519  ...  0.687438  1.000000  0.005611\n",
              "Female -0.057542 -0.089068 -0.100448  ...  0.093208  0.005611  1.000000\n",
              "\n",
              "[10 rows x 10 columns]"
            ]
          },
          "metadata": {
            "tags": []
          },
          "execution_count": 35
        }
      ]
    },
    {
      "cell_type": "code",
      "metadata": {
        "id": "fSXBHI1zG4ut"
      },
      "source": [
        "vif = pd.DataFrame(np.linalg.inv(correlations.values), index = correlations.index, columns=correlations.columns)"
      ],
      "execution_count": 36,
      "outputs": []
    },
    {
      "cell_type": "code",
      "metadata": {
        "id": "2-1t06-5JuCx",
        "colab": {
          "base_uri": "https://localhost:8080/",
          "height": 863
        },
        "outputId": "0e704f3f-f356-4b62-ed64-ec71bd743a23"
      },
      "source": [
        "plt.figure(figsize=(15,15))\r\n",
        "sns.heatmap(vif, annot=True)\r\n",
        "plt.show()"
      ],
      "execution_count": 37,
      "outputs": [
        {
          "output_type": "display_data",
          "data": {
            "image/png": "[encoded data removed]",
            "text/plain": [
              "<Figure size 1080x1080 with 2 Axes>"
            ]
          },
          "metadata": {
            "tags": [],
            "needs_background": "light"
          }
        }
      ]
    },
    {
      "cell_type": "markdown",
      "metadata": {
        "id": "GUC57R64Q45t"
      },
      "source": [
        "A VIF above 5 is deemed too high. Thus, said VIF is dropped because any VIF score above 5 will alter the results that are derived from models. Afterwards, and the VIF is sought for again to see if there is an alteration of the relative vif scores."
      ]
    },
    {
      "cell_type": "code",
      "metadata": {
        "id": "B87K5O09JveT"
      },
      "source": [
        "independent_only = independent_only.drop(columns=['ALB'])\r\n",
        "\r\n",
        "correlations = independent_only.corr()\r\n",
        "vif = pd.DataFrame(np.linalg.inv(correlations.values), index = correlations.index, columns=correlations.columns)"
      ],
      "execution_count": 38,
      "outputs": []
    },
    {
      "cell_type": "code",
      "metadata": {
        "id": "kruGTExIKIbn",
        "colab": {
          "base_uri": "https://localhost:8080/",
          "height": 863
        },
        "outputId": "11d013fc-8036-435a-ce58-b6a64d0616f5"
      },
      "source": [
        "plt.figure(figsize=(15,15))\r\n",
        "sns.heatmap(vif, annot=True)\r\n",
        "plt.show()"
      ],
      "execution_count": 39,
      "outputs": [
        {
          "output_type": "display_data",
          "data": {
            "image/png": "[encoded data removed]",
            "text/plain": [
              "<Figure size 1080x1080 with 2 Axes>"
            ]
          },
          "metadata": {
            "tags": [],
            "needs_background": "light"
          }
        }
      ]
    },
    {
      "cell_type": "markdown",
      "metadata": {
        "id": "10HrP2jLG4ux"
      },
      "source": [
        "### NB\r\n",
        " - Drop ALB"
      ]
    },
    {
      "cell_type": "code",
      "metadata": {
        "id": "ychxbqY_M70D"
      },
      "source": [
        "test_features = independent_only.columns.to_list()"
      ],
      "execution_count": 40,
      "outputs": []
    },
    {
      "cell_type": "code",
      "metadata": {
        "id": "ZVnCP6chNS0N"
      },
      "source": [
        "X = independent_only\r\n",
        "y = toeda['selector']"
      ],
      "execution_count": 41,
      "outputs": []
    },
    {
      "cell_type": "code",
      "metadata": {
        "id": "IPuYjXnQUWVz"
      },
      "source": [
        "a = independent_only.columns"
      ],
      "execution_count": 42,
      "outputs": []
    },
    {
      "cell_type": "code",
      "metadata": {
        "id": "rzOSxJuCNgSJ",
        "colab": {
          "base_uri": "https://localhost:8080/"
        },
        "outputId": "96c1e524-33fd-4ef3-b4b4-b6ef8a1c144b"
      },
      "source": [
        "from imblearn.under_sampling import NearMiss\r\n",
        "\r\n",
        "nm = NearMiss(random_state=42)\r\n",
        "X, y = nm.fit_sample(X, y)"
      ],
      "execution_count": 43,
      "outputs": [
        {
          "output_type": "stream",
          "text": [
            "/usr/local/lib/python3.6/dist-packages/sklearn/externals/six.py:31: FutureWarning: The module is deprecated in version 0.21 and will be removed in version 0.23 since we've dropped support for Python 2.7. Please rely on the official version of six (https://pypi.org/project/six/).\n",
            "  \"(https://pypi.org/project/six/).\", FutureWarning)\n",
            "/usr/local/lib/python3.6/dist-packages/sklearn/utils/deprecation.py:144: FutureWarning: The sklearn.neighbors.base module is  deprecated in version 0.22 and will be removed in version 0.24. The corresponding classes / functions should instead be imported from sklearn.neighbors. Anything that cannot be imported from sklearn.neighbors is now part of the private API.\n",
            "  warnings.warn(message, FutureWarning)\n",
            "/usr/local/lib/python3.6/dist-packages/sklearn/utils/deprecation.py:87: FutureWarning: Function safe_indexing is deprecated; safe_indexing is deprecated in version 0.22 and will be removed in version 0.24.\n",
            "  warnings.warn(msg, category=FutureWarning)\n",
            "/usr/local/lib/python3.6/dist-packages/sklearn/utils/deprecation.py:87: FutureWarning: Function safe_indexing is deprecated; safe_indexing is deprecated in version 0.22 and will be removed in version 0.24.\n",
            "  warnings.warn(msg, category=FutureWarning)\n",
            "/usr/local/lib/python3.6/dist-packages/sklearn/utils/deprecation.py:87: FutureWarning: Function safe_indexing is deprecated; safe_indexing is deprecated in version 0.22 and will be removed in version 0.24.\n",
            "  warnings.warn(msg, category=FutureWarning)\n"
          ],
          "name": "stderr"
        }
      ]
    },
    {
      "cell_type": "code",
      "metadata": {
        "id": "3l2cFENXN8dI",
        "colab": {
          "base_uri": "https://localhost:8080/"
        },
        "outputId": "ff71f713-410c-4e2e-c47a-28d987b90656"
      },
      "source": [
        "np.unique(y, return_counts=True)"
      ],
      "execution_count": 44,
      "outputs": [
        {
          "output_type": "execute_result",
          "data": {
            "text/plain": [
              "(array([1, 2]), array([162, 162]))"
            ]
          },
          "metadata": {
            "tags": []
          },
          "execution_count": 44
        }
      ]
    },
    {
      "cell_type": "markdown",
      "metadata": {
        "id": "UtvJvXAwRqvy"
      },
      "source": [
        "#MODEL TRAINING"
      ]
    },
    {
      "cell_type": "markdown",
      "metadata": {
        "id": "hRqs_qY0jn0L"
      },
      "source": [
        "Models are made so as to "
      ]
    },
    {
      "cell_type": "code",
      "metadata": {
        "id": "NLulcc8BWSzM"
      },
      "source": [
        "X = toeda.drop(['selector', 'ALB'], axis=1)\n",
        "y = toeda['selector']"
      ],
      "execution_count": null,
      "outputs": []
    },
    {
      "cell_type": "markdown",
      "metadata": {
        "id": "PHuz2nTb92Jf"
      },
      "source": [
        "## Random forest"
      ]
    },
    {
      "cell_type": "markdown",
      "metadata": {
        "id": "2nHriWcL-A81"
      },
      "source": [
        "### Part 1"
      ]
    },
    {
      "cell_type": "code",
      "metadata": {
        "colab": {
          "base_uri": "https://localhost:8080/"
        },
        "id": "VTt934qA-YRs",
        "outputId": "c09a3592-1648-4793-d975-71affc8f5a66"
      },
      "source": [
        "from sklearn.model_selection import train_test_split\r\n",
        "x_train, x_test, y_train, y_test = train_test_split(X, y, test_size=0.2, random_state=0)\r\n",
        "\r\n",
        "from sklearn.ensemble import RandomForestClassifier\r\n",
        "\r\n",
        "forest = RandomForestClassifier() \r\n",
        "\r\n",
        "model = forest.fit(x_train, y_train)\r\n",
        "model"
      ],
      "execution_count": 45,
      "outputs": [
        {
          "output_type": "execute_result",
          "data": {
            "text/plain": [
              "RandomForestClassifier(bootstrap=True, ccp_alpha=0.0, class_weight=None,\n",
              "                       criterion='gini', max_depth=None, max_features='auto',\n",
              "                       max_leaf_nodes=None, max_samples=None,\n",
              "                       min_impurity_decrease=0.0, min_impurity_split=None,\n",
              "                       min_samples_leaf=1, min_samples_split=2,\n",
              "                       min_weight_fraction_leaf=0.0, n_estimators=100,\n",
              "                       n_jobs=None, oob_score=False, random_state=None,\n",
              "                       verbose=0, warm_start=False)"
            ]
          },
          "metadata": {
            "tags": []
          },
          "execution_count": 45
        }
      ]
    },
    {
      "cell_type": "code",
      "metadata": {
        "id": "y82EfGZiRrmW",
        "colab": {
          "base_uri": "https://localhost:8080/"
        },
        "outputId": "8e8742cc-c019-4ed9-83b5-888b4dfe53cc"
      },
      "source": [
        "y_pred = model.predict(x_test)\r\n",
        "print(f'{y_pred}')\r\n",
        "print('')\r\n",
        "print(f'Accuracy score: \\n {accuracy_score(y_test, y_pred)}')\r\n",
        "print('')\r\n",
        "print('The confusion matrix:')\r\n",
        "print(f'{confusion_matrix(y_test, y_pred)}')\r\n",
        "print('')\r\n",
        "print('The classification report:')\r\n",
        "print(f'{classification_report(y_test, y_pred)}')"
      ],
      "execution_count": 46,
      "outputs": [
        {
          "output_type": "stream",
          "text": [
            "[1 1 2 2 2 2 1 2 1 2 1 1 1 2 2 2 1 1 2 1 2 2 1 1 1 2 2 2 2 2 2 2 1 2 2 1 2\n",
            " 1 2 1 2 2 2 2 1 2 1 2 2 2 1 1 1 1 1 2 2 1 1 1 1 2 2 1 2]\n",
            "\n",
            "Accuracy score: \n",
            " 0.5538461538461539\n",
            "\n",
            "The confusion matrix:\n",
            "[[19 19]\n",
            " [10 17]]\n",
            "\n",
            "The classification report:\n",
            "              precision    recall  f1-score   support\n",
            "\n",
            "           1       0.66      0.50      0.57        38\n",
            "           2       0.47      0.63      0.54        27\n",
            "\n",
            "    accuracy                           0.55        65\n",
            "   macro avg       0.56      0.56      0.55        65\n",
            "weighted avg       0.58      0.55      0.56        65\n",
            "\n"
          ],
          "name": "stdout"
        }
      ]
    },
    {
      "cell_type": "markdown",
      "metadata": {
        "id": "tb7BszPh-JmA"
      },
      "source": [
        "#### Feature importance"
      ]
    },
    {
      "cell_type": "code",
      "metadata": {
        "colab": {
          "base_uri": "https://localhost:8080/",
          "height": 0
        },
        "id": "swviBjt3-Y4R",
        "outputId": "8ac01495-7d20-4125-f7b8-6e62ff02e20c"
      },
      "source": [
        "def plot_feature_importance(importance, model_type):\r\n",
        "\r\n",
        "  #Create arrays from feature importance and feature names\r\n",
        "  feature_importance = model.feature_importances_\r\n",
        "  feature_names = a.values\r\n",
        "\r\n",
        "  #Create a DataFrame using a Dictionary\r\n",
        "  data={'feature_names':feature_names,'feature_importance':feature_importance}\r\n",
        "  fi_df = pd.DataFrame(data)\r\n",
        "\r\n",
        "  #Sort the DataFrame in order decreasing feature importance\r\n",
        "  fi_df.sort_values(by=['feature_importance'], ascending=False,inplace=True)\r\n",
        "\r\n",
        "  #Define size of bar plot\r\n",
        "  plt.figure(figsize=(10,8))\r\n",
        "  #Plot Searborn bar chart\r\n",
        "  sns.barplot(x=fi_df['feature_importance'], y=fi_df['feature_names'])\r\n",
        "  #Add chart labels\r\n",
        "  plt.title(model_type + 'FEATURE IMPORTANCE')\r\n",
        "  plt.xlabel('FEATURE IMPORTANCE')\r\n",
        "  plt.ylabel('FEATURE NAMES')\r\n",
        "\r\n",
        "plot_feature_importance(forest.feature_importances_.reshape(-1,1), 'RANDOM FOREST ')"
      ],
      "execution_count": 47,
      "outputs": [
        {
          "output_type": "display_data",
          "data": {
            "image/png": "[encoded data removed]",
            "text/plain": [
              "<Figure size 720x576 with 1 Axes>"
            ]
          },
          "metadata": {
            "tags": [],
            "needs_background": "light"
          }
        }
      ]
    },
    {
      "cell_type": "markdown",
      "metadata": {
        "id": "HxH71kF4-TxF"
      },
      "source": [
        "### Part 2"
      ]
    },
    {
      "cell_type": "code",
      "metadata": {
        "id": "KchsMdVm-VuT"
      },
      "source": [
        "from sklearn.model_selection import train_test_split\r\n",
        "x_train, x_test, y_train, y_test = train_test_split(X, y, test_size=0.2, random_state=0)\r\n",
        "\r\n",
        "from sklearn.preprocessing import StandardScaler\r\n",
        "\r\n",
        "sc = StandardScaler()\r\n",
        "x_train = sc.fit_transform(x_train)\r\n",
        "x_test = sc.fit_transform(x_test)\r\n",
        "\r\n",
        "from sklearn.ensemble import RandomForestClassifier\r\n",
        "# Create the parameter grid based on the results of random search \r\n",
        "param_grid = {\r\n",
        "    'bootstrap': [True],\r\n",
        "    'max_depth': [80, 90, 100, 110],\r\n",
        "    'max_features': ['auto', 'sqrt', 'log2', None],\r\n",
        "    'min_samples_leaf': [3, 4, 5],\r\n",
        "    'min_samples_split': [8, 10, 12],\r\n",
        "    'n_estimators': [100, 200, 300, 1000]\r\n",
        "}\r\n",
        "# Create a based model\r\n",
        "rf = RandomForestClassifier()\r\n",
        "# Instantiate the grid search model\r\n",
        "grid_search = GridSearchCV(estimator = rf, \r\n",
        "                           param_grid = param_grid, \r\n",
        "                           cv = 5, \r\n",
        "                           n_jobs = 4, \r\n",
        "                           verbose = 2)"
      ],
      "execution_count": 48,
      "outputs": []
    },
    {
      "cell_type": "code",
      "metadata": {
        "id": "nitXoWPs8FNQ",
        "colab": {
          "base_uri": "https://localhost:8080/",
          "height": 382
        },
        "outputId": "584cb098-248b-4230-da13-4d72bdc8af9f"
      },
      "source": [
        "# Fit the grid search to the data\r\n",
        "grid_search.fit(x_train, y_train)"
      ],
      "execution_count": 49,
      "outputs": [
        {
          "output_type": "stream",
          "text": [
            "Fitting 5 folds for each of 576 candidates, totalling 2880 fits\n"
          ],
          "name": "stdout"
        },
        {
          "output_type": "stream",
          "text": [
            "[Parallel(n_jobs=4)]: Using backend LokyBackend with 4 concurrent workers.\n",
            "[Parallel(n_jobs=4)]: Done  33 tasks      | elapsed:   13.5s\n"
          ],
          "name": "stderr"
        },
        {
          "output_type": "error",
          "ename": "KeyboardInterrupt",
          "evalue": "ignored",
          "traceback": [
            "\u001b[0;31m---------------------------------------------------------------------------\u001b[0m",
            "\u001b[0;31mKeyboardInterrupt\u001b[0m                         Traceback (most recent call last)",
            "\u001b[0;32m<ipython-input-49-82e07c75c0ae>\u001b[0m in \u001b[0;36m<module>\u001b[0;34m()\u001b[0m\n\u001b[1;32m      1\u001b[0m \u001b[0;31m# Fit the grid search to the data\u001b[0m\u001b[0;34m\u001b[0m\u001b[0;34m\u001b[0m\u001b[0;34m\u001b[0m\u001b[0m\n\u001b[0;32m----> 2\u001b[0;31m \u001b[0mgrid_search\u001b[0m\u001b[0;34m.\u001b[0m\u001b[0mfit\u001b[0m\u001b[0;34m(\u001b[0m\u001b[0mx_train\u001b[0m\u001b[0;34m,\u001b[0m \u001b[0my_train\u001b[0m\u001b[0;34m)\u001b[0m\u001b[0;34m\u001b[0m\u001b[0;34m\u001b[0m\u001b[0m\n\u001b[0m",
            "\u001b[0;32m/usr/local/lib/python3.6/dist-packages/sklearn/model_selection/_search.py\u001b[0m in \u001b[0;36mfit\u001b[0;34m(self, X, y, groups, **fit_params)\u001b[0m\n\u001b[1;32m    708\u001b[0m                 \u001b[0;32mreturn\u001b[0m \u001b[0mresults\u001b[0m\u001b[0;34m\u001b[0m\u001b[0;34m\u001b[0m\u001b[0m\n\u001b[1;32m    709\u001b[0m \u001b[0;34m\u001b[0m\u001b[0m\n\u001b[0;32m--> 710\u001b[0;31m             \u001b[0mself\u001b[0m\u001b[0;34m.\u001b[0m\u001b[0m_run_search\u001b[0m\u001b[0;34m(\u001b[0m\u001b[0mevaluate_candidates\u001b[0m\u001b[0;34m)\u001b[0m\u001b[0;34m\u001b[0m\u001b[0;34m\u001b[0m\u001b[0m\n\u001b[0m\u001b[1;32m    711\u001b[0m \u001b[0;34m\u001b[0m\u001b[0m\n\u001b[1;32m    712\u001b[0m         \u001b[0;31m# For multi-metric evaluation, store the best_index_, best_params_ and\u001b[0m\u001b[0;34m\u001b[0m\u001b[0;34m\u001b[0m\u001b[0;34m\u001b[0m\u001b[0m\n",
            "\u001b[0;32m/usr/local/lib/python3.6/dist-packages/sklearn/model_selection/_search.py\u001b[0m in \u001b[0;36m_run_search\u001b[0;34m(self, evaluate_candidates)\u001b[0m\n\u001b[1;32m   1149\u001b[0m     \u001b[0;32mdef\u001b[0m \u001b[0m_run_search\u001b[0m\u001b[0;34m(\u001b[0m\u001b[0mself\u001b[0m\u001b[0;34m,\u001b[0m \u001b[0mevaluate_candidates\u001b[0m\u001b[0;34m)\u001b[0m\u001b[0;34m:\u001b[0m\u001b[0;34m\u001b[0m\u001b[0;34m\u001b[0m\u001b[0m\n\u001b[1;32m   1150\u001b[0m         \u001b[0;34m\"\"\"Search all candidates in param_grid\"\"\"\u001b[0m\u001b[0;34m\u001b[0m\u001b[0;34m\u001b[0m\u001b[0m\n\u001b[0;32m-> 1151\u001b[0;31m         \u001b[0mevaluate_candidates\u001b[0m\u001b[0;34m(\u001b[0m\u001b[0mParameterGrid\u001b[0m\u001b[0;34m(\u001b[0m\u001b[0mself\u001b[0m\u001b[0;34m.\u001b[0m\u001b[0mparam_grid\u001b[0m\u001b[0;34m)\u001b[0m\u001b[0;34m)\u001b[0m\u001b[0;34m\u001b[0m\u001b[0;34m\u001b[0m\u001b[0m\n\u001b[0m\u001b[1;32m   1152\u001b[0m \u001b[0;34m\u001b[0m\u001b[0m\n\u001b[1;32m   1153\u001b[0m \u001b[0;34m\u001b[0m\u001b[0m\n",
            "\u001b[0;32m/usr/local/lib/python3.6/dist-packages/sklearn/model_selection/_search.py\u001b[0m in \u001b[0;36mevaluate_candidates\u001b[0;34m(candidate_params)\u001b[0m\n\u001b[1;32m    687\u001b[0m                                \u001b[0;32mfor\u001b[0m \u001b[0mparameters\u001b[0m\u001b[0;34m,\u001b[0m \u001b[0;34m(\u001b[0m\u001b[0mtrain\u001b[0m\u001b[0;34m,\u001b[0m \u001b[0mtest\u001b[0m\u001b[0;34m)\u001b[0m\u001b[0;34m\u001b[0m\u001b[0;34m\u001b[0m\u001b[0m\n\u001b[1;32m    688\u001b[0m                                in product(candidate_params,\n\u001b[0;32m--> 689\u001b[0;31m                                           cv.split(X, y, groups)))\n\u001b[0m\u001b[1;32m    690\u001b[0m \u001b[0;34m\u001b[0m\u001b[0m\n\u001b[1;32m    691\u001b[0m                 \u001b[0;32mif\u001b[0m \u001b[0mlen\u001b[0m\u001b[0;34m(\u001b[0m\u001b[0mout\u001b[0m\u001b[0;34m)\u001b[0m \u001b[0;34m<\u001b[0m \u001b[0;36m1\u001b[0m\u001b[0;34m:\u001b[0m\u001b[0;34m\u001b[0m\u001b[0;34m\u001b[0m\u001b[0m\n",
            "\u001b[0;32m/usr/local/lib/python3.6/dist-packages/joblib/parallel.py\u001b[0m in \u001b[0;36m__call__\u001b[0;34m(self, iterable)\u001b[0m\n\u001b[1;32m   1059\u001b[0m \u001b[0;34m\u001b[0m\u001b[0m\n\u001b[1;32m   1060\u001b[0m             \u001b[0;32mwith\u001b[0m \u001b[0mself\u001b[0m\u001b[0;34m.\u001b[0m\u001b[0m_backend\u001b[0m\u001b[0;34m.\u001b[0m\u001b[0mretrieval_context\u001b[0m\u001b[0;34m(\u001b[0m\u001b[0;34m)\u001b[0m\u001b[0;34m:\u001b[0m\u001b[0;34m\u001b[0m\u001b[0;34m\u001b[0m\u001b[0m\n\u001b[0;32m-> 1061\u001b[0;31m                 \u001b[0mself\u001b[0m\u001b[0;34m.\u001b[0m\u001b[0mretrieve\u001b[0m\u001b[0;34m(\u001b[0m\u001b[0;34m)\u001b[0m\u001b[0;34m\u001b[0m\u001b[0;34m\u001b[0m\u001b[0m\n\u001b[0m\u001b[1;32m   1062\u001b[0m             \u001b[0;31m# Make sure that we get a last message telling us we are done\u001b[0m\u001b[0;34m\u001b[0m\u001b[0;34m\u001b[0m\u001b[0;34m\u001b[0m\u001b[0m\n\u001b[1;32m   1063\u001b[0m             \u001b[0melapsed_time\u001b[0m \u001b[0;34m=\u001b[0m \u001b[0mtime\u001b[0m\u001b[0;34m.\u001b[0m\u001b[0mtime\u001b[0m\u001b[0;34m(\u001b[0m\u001b[0;34m)\u001b[0m \u001b[0;34m-\u001b[0m \u001b[0mself\u001b[0m\u001b[0;34m.\u001b[0m\u001b[0m_start_time\u001b[0m\u001b[0;34m\u001b[0m\u001b[0;34m\u001b[0m\u001b[0m\n",
            "\u001b[0;32m/usr/local/lib/python3.6/dist-packages/joblib/parallel.py\u001b[0m in \u001b[0;36mretrieve\u001b[0;34m(self)\u001b[0m\n\u001b[1;32m    938\u001b[0m             \u001b[0;32mtry\u001b[0m\u001b[0;34m:\u001b[0m\u001b[0;34m\u001b[0m\u001b[0;34m\u001b[0m\u001b[0m\n\u001b[1;32m    939\u001b[0m                 \u001b[0;32mif\u001b[0m \u001b[0mgetattr\u001b[0m\u001b[0;34m(\u001b[0m\u001b[0mself\u001b[0m\u001b[0;34m.\u001b[0m\u001b[0m_backend\u001b[0m\u001b[0;34m,\u001b[0m \u001b[0;34m'supports_timeout'\u001b[0m\u001b[0;34m,\u001b[0m \u001b[0;32mFalse\u001b[0m\u001b[0;34m)\u001b[0m\u001b[0;34m:\u001b[0m\u001b[0;34m\u001b[0m\u001b[0;34m\u001b[0m\u001b[0m\n\u001b[0;32m--> 940\u001b[0;31m                     \u001b[0mself\u001b[0m\u001b[0;34m.\u001b[0m\u001b[0m_output\u001b[0m\u001b[0;34m.\u001b[0m\u001b[0mextend\u001b[0m\u001b[0;34m(\u001b[0m\u001b[0mjob\u001b[0m\u001b[0;34m.\u001b[0m\u001b[0mget\u001b[0m\u001b[0;34m(\u001b[0m\u001b[0mtimeout\u001b[0m\u001b[0;34m=\u001b[0m\u001b[0mself\u001b[0m\u001b[0;34m.\u001b[0m\u001b[0mtimeout\u001b[0m\u001b[0;34m)\u001b[0m\u001b[0;34m)\u001b[0m\u001b[0;34m\u001b[0m\u001b[0;34m\u001b[0m\u001b[0m\n\u001b[0m\u001b[1;32m    941\u001b[0m                 \u001b[0;32melse\u001b[0m\u001b[0;34m:\u001b[0m\u001b[0;34m\u001b[0m\u001b[0;34m\u001b[0m\u001b[0m\n\u001b[1;32m    942\u001b[0m                     \u001b[0mself\u001b[0m\u001b[0;34m.\u001b[0m\u001b[0m_output\u001b[0m\u001b[0;34m.\u001b[0m\u001b[0mextend\u001b[0m\u001b[0;34m(\u001b[0m\u001b[0mjob\u001b[0m\u001b[0;34m.\u001b[0m\u001b[0mget\u001b[0m\u001b[0;34m(\u001b[0m\u001b[0;34m)\u001b[0m\u001b[0;34m)\u001b[0m\u001b[0;34m\u001b[0m\u001b[0;34m\u001b[0m\u001b[0m\n",
            "\u001b[0;32m/usr/local/lib/python3.6/dist-packages/joblib/_parallel_backends.py\u001b[0m in \u001b[0;36mwrap_future_result\u001b[0;34m(future, timeout)\u001b[0m\n\u001b[1;32m    540\u001b[0m         AsyncResults.get from multiprocessing.\"\"\"\n\u001b[1;32m    541\u001b[0m         \u001b[0;32mtry\u001b[0m\u001b[0;34m:\u001b[0m\u001b[0;34m\u001b[0m\u001b[0;34m\u001b[0m\u001b[0m\n\u001b[0;32m--> 542\u001b[0;31m             \u001b[0;32mreturn\u001b[0m \u001b[0mfuture\u001b[0m\u001b[0;34m.\u001b[0m\u001b[0mresult\u001b[0m\u001b[0;34m(\u001b[0m\u001b[0mtimeout\u001b[0m\u001b[0;34m=\u001b[0m\u001b[0mtimeout\u001b[0m\u001b[0;34m)\u001b[0m\u001b[0;34m\u001b[0m\u001b[0;34m\u001b[0m\u001b[0m\n\u001b[0m\u001b[1;32m    543\u001b[0m         \u001b[0;32mexcept\u001b[0m \u001b[0mCfTimeoutError\u001b[0m \u001b[0;32mas\u001b[0m \u001b[0me\u001b[0m\u001b[0;34m:\u001b[0m\u001b[0;34m\u001b[0m\u001b[0;34m\u001b[0m\u001b[0m\n\u001b[1;32m    544\u001b[0m             \u001b[0;32mraise\u001b[0m \u001b[0mTimeoutError\u001b[0m \u001b[0;32mfrom\u001b[0m \u001b[0me\u001b[0m\u001b[0;34m\u001b[0m\u001b[0;34m\u001b[0m\u001b[0m\n",
            "\u001b[0;32m/usr/lib/python3.6/concurrent/futures/_base.py\u001b[0m in \u001b[0;36mresult\u001b[0;34m(self, timeout)\u001b[0m\n\u001b[1;32m    425\u001b[0m                 \u001b[0;32mreturn\u001b[0m \u001b[0mself\u001b[0m\u001b[0;34m.\u001b[0m\u001b[0m__get_result\u001b[0m\u001b[0;34m(\u001b[0m\u001b[0;34m)\u001b[0m\u001b[0;34m\u001b[0m\u001b[0;34m\u001b[0m\u001b[0m\n\u001b[1;32m    426\u001b[0m \u001b[0;34m\u001b[0m\u001b[0m\n\u001b[0;32m--> 427\u001b[0;31m             \u001b[0mself\u001b[0m\u001b[0;34m.\u001b[0m\u001b[0m_condition\u001b[0m\u001b[0;34m.\u001b[0m\u001b[0mwait\u001b[0m\u001b[0;34m(\u001b[0m\u001b[0mtimeout\u001b[0m\u001b[0;34m)\u001b[0m\u001b[0;34m\u001b[0m\u001b[0;34m\u001b[0m\u001b[0m\n\u001b[0m\u001b[1;32m    428\u001b[0m \u001b[0;34m\u001b[0m\u001b[0m\n\u001b[1;32m    429\u001b[0m             \u001b[0;32mif\u001b[0m \u001b[0mself\u001b[0m\u001b[0;34m.\u001b[0m\u001b[0m_state\u001b[0m \u001b[0;32min\u001b[0m \u001b[0;34m[\u001b[0m\u001b[0mCANCELLED\u001b[0m\u001b[0;34m,\u001b[0m \u001b[0mCANCELLED_AND_NOTIFIED\u001b[0m\u001b[0;34m]\u001b[0m\u001b[0;34m:\u001b[0m\u001b[0;34m\u001b[0m\u001b[0;34m\u001b[0m\u001b[0m\n",
            "\u001b[0;32m/usr/lib/python3.6/threading.py\u001b[0m in \u001b[0;36mwait\u001b[0;34m(self, timeout)\u001b[0m\n\u001b[1;32m    293\u001b[0m         \u001b[0;32mtry\u001b[0m\u001b[0;34m:\u001b[0m    \u001b[0;31m# restore state no matter what (e.g., KeyboardInterrupt)\u001b[0m\u001b[0;34m\u001b[0m\u001b[0;34m\u001b[0m\u001b[0m\n\u001b[1;32m    294\u001b[0m             \u001b[0;32mif\u001b[0m \u001b[0mtimeout\u001b[0m \u001b[0;32mis\u001b[0m \u001b[0;32mNone\u001b[0m\u001b[0;34m:\u001b[0m\u001b[0;34m\u001b[0m\u001b[0;34m\u001b[0m\u001b[0m\n\u001b[0;32m--> 295\u001b[0;31m                 \u001b[0mwaiter\u001b[0m\u001b[0;34m.\u001b[0m\u001b[0macquire\u001b[0m\u001b[0;34m(\u001b[0m\u001b[0;34m)\u001b[0m\u001b[0;34m\u001b[0m\u001b[0;34m\u001b[0m\u001b[0m\n\u001b[0m\u001b[1;32m    296\u001b[0m                 \u001b[0mgotit\u001b[0m \u001b[0;34m=\u001b[0m \u001b[0;32mTrue\u001b[0m\u001b[0;34m\u001b[0m\u001b[0;34m\u001b[0m\u001b[0m\n\u001b[1;32m    297\u001b[0m             \u001b[0;32melse\u001b[0m\u001b[0;34m:\u001b[0m\u001b[0;34m\u001b[0m\u001b[0;34m\u001b[0m\u001b[0m\n",
            "\u001b[0;31mKeyboardInterrupt\u001b[0m: "
          ]
        }
      ]
    },
    {
      "cell_type": "code",
      "metadata": {
        "id": "JcvHWLne8Ee9"
      },
      "source": [
        "grid_search.best_params_"
      ],
      "execution_count": null,
      "outputs": []
    },
    {
      "cell_type": "code",
      "metadata": {
        "id": "vi2UTr278xvR"
      },
      "source": [
        "par = grid_search.best_params_\r\n",
        "\r\n",
        "max_depth = par['max_depth']\r\n",
        "max_features = par['max_features']\r\n",
        "min_samples_leaf = par['min_samples_leaf']\r\n",
        "min_samples_split = par['min_samples_split']\r\n",
        "n_estimators = par['n_estimators']"
      ],
      "execution_count": null,
      "outputs": []
    },
    {
      "cell_type": "code",
      "metadata": {
        "id": "nB53tsRc8CnE"
      },
      "source": [
        "from sklearn.ensemble import RandomForestClassifier\r\n",
        "\r\n",
        "forest = RandomForestClassifier(n_estimators = n_estimators, \r\n",
        "                               random_state = 42, \r\n",
        "                               min_samples_split=min_samples_split,\r\n",
        "                               min_samples_leaf=min_samples_leaf,\r\n",
        "                               max_features=max_features,\r\n",
        "                               max_depth=max_depth)  \r\n",
        "\r\n",
        "model = forest.fit(x_train, y_train)\r\n",
        "model"
      ],
      "execution_count": null,
      "outputs": []
    },
    {
      "cell_type": "code",
      "metadata": {
        "id": "5b6znHPfra1w"
      },
      "source": [
        "y_pred = model.predict(x_test)\r\n",
        "print(f'{y_pred}')\r\n",
        "print('')\r\n",
        "print(f'Accuracy score: \\n {accuracy_score(y_test, y_pred)}')\r\n",
        "print('')\r\n",
        "print('The confusion matrix:')\r\n",
        "print(f'{confusion_matrix(y_test, y_pred)}')\r\n",
        "print('')\r\n",
        "print('The classification report:')\r\n",
        "print(f'{classification_report(y_test, y_pred)}')"
      ],
      "execution_count": null,
      "outputs": []
    },
    {
      "cell_type": "markdown",
      "metadata": {
        "id": "rysv38PF-Txd"
      },
      "source": [
        "#### Feature importance"
      ]
    },
    {
      "cell_type": "code",
      "metadata": {
        "id": "Ebr9oiI8-Wdz"
      },
      "source": [
        "def plot_feature_importance(importance, model_type):\r\n",
        "\r\n",
        "  #Create arrays from feature importance and feature names\r\n",
        "  feature_importance = model.feature_importances_\r\n",
        "  feature_names = a.values\r\n",
        "\r\n",
        "  #Create a DataFrame using a Dictionary\r\n",
        "  data={'feature_names':feature_names,'feature_importance':feature_importance}\r\n",
        "  fi_df = pd.DataFrame(data)\r\n",
        "\r\n",
        "  #Sort the DataFrame in order decreasing feature importance\r\n",
        "  fi_df.sort_values(by=['feature_importance'], ascending=False,inplace=True)\r\n",
        "\r\n",
        "  #Define size of bar plot\r\n",
        "  plt.figure(figsize=(10,8))\r\n",
        "  #Plot Searborn bar chart\r\n",
        "  sns.barplot(x=fi_df['feature_importance'], y=fi_df['feature_names'])\r\n",
        "  #Add chart labels\r\n",
        "  plt.title(model_type + 'FEATURE IMPORTANCE')\r\n",
        "  plt.xlabel('FEATURE IMPORTANCE')\r\n",
        "  plt.ylabel('FEATURE NAMES')\r\n",
        "\r\n",
        "plot_feature_importance(forest.feature_importances_.reshape(-1,1), 'RANDOM FOREST ')"
      ],
      "execution_count": null,
      "outputs": []
    },
    {
      "cell_type": "markdown",
      "metadata": {
        "id": "nIFTgSVa-dwb"
      },
      "source": [
        "## Ada Boost"
      ]
    },
    {
      "cell_type": "markdown",
      "metadata": {
        "id": "PpIwO3O3-dwc"
      },
      "source": [
        "### Part 1"
      ]
    },
    {
      "cell_type": "code",
      "metadata": {
        "id": "_Rl-YVBn-dwd"
      },
      "source": [
        "from sklearn.model_selection import train_test_split\r\n",
        "x_train, x_test, y_train, y_test = train_test_split(X, y, test_size=0.2, random_state=42)\r\n",
        "\r\n",
        "from sklearn.tree import DecisionTreeClassifier\r\n",
        "from sklearn.ensemble import AdaBoostClassifier\r\n",
        "\r\n",
        "ada_boost = AdaBoostClassifier(DecisionTreeClassifier(max_depth=1)) \r\n",
        "\r\n",
        "model = ada_boost.fit(x_train, y_train)\r\n",
        "model"
      ],
      "execution_count": null,
      "outputs": []
    },
    {
      "cell_type": "code",
      "metadata": {
        "id": "z3OoYj6NhsrU"
      },
      "source": [
        "y_pred = model.predict(x_test)\r\n",
        "print(f'{y_pred}')\r\n",
        "print('')\r\n",
        "print(f'Accuracy score: \\n {accuracy_score(y_test, y_pred)}')\r\n",
        "print('')\r\n",
        "print('The confusion matrix:')\r\n",
        "print(f'{confusion_matrix(y_test, y_pred)}')\r\n",
        "print('')\r\n",
        "print('The classification report:')\r\n",
        "print(f'{classification_report(y_test, y_pred)}')"
      ],
      "execution_count": null,
      "outputs": []
    },
    {
      "cell_type": "markdown",
      "metadata": {
        "id": "DC6f-UbH-dwe"
      },
      "source": [
        "#### Feature importance"
      ]
    },
    {
      "cell_type": "code",
      "metadata": {
        "id": "scDAfcIy-dwf"
      },
      "source": [
        "def plot_feature_importance(importance, model_type):\r\n",
        "\r\n",
        "  #Create arrays from feature importance and feature names\r\n",
        "  feature_importance = model.feature_importances_\r\n",
        "  feature_names = a.values\r\n",
        "\r\n",
        "  #Create a DataFrame using a Dictionary\r\n",
        "  data={'feature_names':feature_names,'feature_importance':feature_importance}\r\n",
        "  fi_df = pd.DataFrame(data)\r\n",
        "\r\n",
        "  #Sort the DataFrame in order decreasing feature importance\r\n",
        "  fi_df.sort_values(by=['feature_importance'], ascending=False,inplace=True)\r\n",
        "\r\n",
        "  #Define size of bar plot\r\n",
        "  plt.figure(figsize=(10,8))\r\n",
        "  #Plot Searborn bar chart\r\n",
        "  sns.barplot(x=fi_df['feature_importance'], y=fi_df['feature_names'])\r\n",
        "  #Add chart labels\r\n",
        "  plt.title(model_type + 'FEATURE IMPORTANCE')\r\n",
        "  plt.xlabel('FEATURE IMPORTANCE')\r\n",
        "  plt.ylabel('FEATURE NAMES')\r\n",
        "\r\n",
        "plot_feature_importance(forest.feature_importances_.reshape(-1,1), 'ADA BOOST ')"
      ],
      "execution_count": null,
      "outputs": []
    },
    {
      "cell_type": "markdown",
      "metadata": {
        "id": "CIH13nYn-dwf"
      },
      "source": [
        "### Part 2"
      ]
    },
    {
      "cell_type": "code",
      "metadata": {
        "id": "qu3OaEsa-dwg"
      },
      "source": [
        "from sklearn.model_selection import train_test_split\r\n",
        "x_train, x_test, y_train, y_test = train_test_split(X, y, test_size=0.2, random_state=42)\r\n",
        "\r\n",
        "from sklearn.tree import DecisionTreeClassifier\r\n",
        "from sklearn.ensemble import AdaBoostClassifier\r\n",
        "\r\n",
        "#Creating a grid of hyperparameters\r\n",
        "param_dist = {\r\n",
        " 'n_estimators': [50, 100,200,300],\r\n",
        " 'learning_rate': [0.01,0.05,0.1,0.3,1],\r\n",
        " 'algorithm':['SAMME','SAMME.R']\r\n",
        " }\r\n",
        "\r\n",
        "ada=AdaBoostClassifier()\r\n",
        "\r\n",
        "grid_search = GridSearchCV(estimator=ada, \r\n",
        "                           param_grid=param_dist, \r\n",
        "                           cv = 5)"
      ],
      "execution_count": null,
      "outputs": []
    },
    {
      "cell_type": "code",
      "metadata": {
        "id": "5sJlrd_09mKj"
      },
      "source": [
        "grid_search.fit(x_train, y_train)"
      ],
      "execution_count": null,
      "outputs": []
    },
    {
      "cell_type": "code",
      "metadata": {
        "id": "8ijCq7il9pja"
      },
      "source": [
        "grid_search.best_params_"
      ],
      "execution_count": null,
      "outputs": []
    },
    {
      "cell_type": "code",
      "metadata": {
        "id": "w0FyPsSM9uEx"
      },
      "source": [
        "par = grid_search.best_params_\r\n",
        "\r\n",
        "learning_rate = par['learning_rate']\r\n",
        "algorithm = par['algorithm']\r\n",
        "n_estimators = par['n_estimators']"
      ],
      "execution_count": null,
      "outputs": []
    },
    {
      "cell_type": "code",
      "metadata": {
        "id": "PTtdSt5G9RLQ"
      },
      "source": [
        "ada_boost = AdaBoostClassifier(DecisionTreeClassifier(max_depth=1),\r\n",
        "                              algorithm=algorithm,\r\n",
        "                              n_estimators=n_estimators,\r\n",
        "                              learning_rate=learning_rate, \r\n",
        "                              random_state=42) \r\n",
        "\r\n",
        "model = ada_boost.fit(x_train, y_train)\r\n",
        "model"
      ],
      "execution_count": null,
      "outputs": []
    },
    {
      "cell_type": "code",
      "metadata": {
        "id": "MxeCnP9FqzWZ"
      },
      "source": [
        "y_pred = model.predict(x_test)\r\n",
        "print(f'{y_pred}')\r\n",
        "print('')\r\n",
        "print(f'Accuracy score: \\n {accuracy_score(y_test, y_pred)}')\r\n",
        "print('')\r\n",
        "print('The confusion matrix:')\r\n",
        "print(f'{confusion_matrix(y_test, y_pred)}')\r\n",
        "print('')\r\n",
        "print('The classification report:')\r\n",
        "print(f'{classification_report(y_test, y_pred)}')"
      ],
      "execution_count": null,
      "outputs": []
    },
    {
      "cell_type": "markdown",
      "metadata": {
        "id": "-7LaxOUm-dwh"
      },
      "source": [
        "#### Feature importance"
      ]
    },
    {
      "cell_type": "code",
      "metadata": {
        "id": "GwZxZHXX-dwh"
      },
      "source": [
        "def plot_feature_importance(importance, model_type):\r\n",
        "\r\n",
        "  #Create arrays from feature importance and feature names\r\n",
        "  feature_importance = model.feature_importances_\r\n",
        "  feature_names = a.values\r\n",
        "\r\n",
        "  #Create a DataFrame using a Dictionary\r\n",
        "  data={'feature_names':feature_names,'feature_importance':feature_importance}\r\n",
        "  fi_df = pd.DataFrame(data)\r\n",
        "\r\n",
        "  #Sort the DataFrame in order decreasing feature importance\r\n",
        "  fi_df.sort_values(by=['feature_importance'], ascending=False,inplace=True)\r\n",
        "\r\n",
        "  #Define size of bar plot\r\n",
        "  plt.figure(figsize=(10,8))\r\n",
        "  #Plot Searborn bar chart\r\n",
        "  sns.barplot(x=fi_df['feature_importance'], y=fi_df['feature_names'])\r\n",
        "  #Add chart labels\r\n",
        "  plt.title(model_type + 'FEATURE IMPORTANCE')\r\n",
        "  plt.xlabel('FEATURE IMPORTANCE')\r\n",
        "  plt.ylabel('FEATURE NAMES')\r\n",
        "\r\n",
        "plot_feature_importance(forest.feature_importances_.reshape(-1,1), 'ADA BOOST ')"
      ],
      "execution_count": null,
      "outputs": []
    },
    {
      "cell_type": "markdown",
      "metadata": {
        "id": "5Ke1M0PR-eE1"
      },
      "source": [
        "## Gradient Boost"
      ]
    },
    {
      "cell_type": "markdown",
      "metadata": {
        "id": "w72xnLo5-eE2"
      },
      "source": [
        "### Part 1"
      ]
    },
    {
      "cell_type": "code",
      "metadata": {
        "id": "-n4j42lb-eE2"
      },
      "source": [
        "from sklearn.model_selection import train_test_split\r\n",
        "x_train, x_test, y_train, y_test = train_test_split(X, y, test_size=0.3, random_state=0)\r\n",
        "\r\n",
        "from sklearn.ensemble import GradientBoostingClassifier\r\n",
        "\r\n",
        "clf = GradientBoostingClassifier()\r\n",
        "\r\n",
        "model = clf.fit(x_train, y_train)\r\n",
        "model"
      ],
      "execution_count": null,
      "outputs": []
    },
    {
      "cell_type": "code",
      "metadata": {
        "id": "YzphJsU2qx8B"
      },
      "source": [
        "y_pred = model.predict(x_test)\r\n",
        "print(f'{y_pred}')\r\n",
        "print('')\r\n",
        "print(f'Accuracy score: \\n {accuracy_score(y_test, y_pred)}')\r\n",
        "print('')\r\n",
        "print('The confusion matrix:')\r\n",
        "print(f'{confusion_matrix(y_test, y_pred)}')\r\n",
        "print('')\r\n",
        "print('The classification report:')\r\n",
        "print(f'{classification_report(y_test, y_pred)}')"
      ],
      "execution_count": null,
      "outputs": []
    },
    {
      "cell_type": "markdown",
      "metadata": {
        "id": "UdjJcuJZ-eE2"
      },
      "source": [
        "#### Feature importance"
      ]
    },
    {
      "cell_type": "code",
      "metadata": {
        "id": "Avmkx-0X-eE2"
      },
      "source": [
        "def plot_feature_importance(importance, model_type):\r\n",
        "\r\n",
        "  #Create arrays from feature importance and feature names\r\n",
        "  feature_importance = model.feature_importances_\r\n",
        "  feature_names = a.values\r\n",
        "\r\n",
        "  #Create a DataFrame using a Dictionary\r\n",
        "  data={'feature_names':feature_names,'feature_importance':feature_importance}\r\n",
        "  fi_df = pd.DataFrame(data)\r\n",
        "\r\n",
        "  #Sort the DataFrame in order decreasing feature importance\r\n",
        "  fi_df.sort_values(by=['feature_importance'], ascending=False,inplace=True)\r\n",
        "\r\n",
        "  #Define size of bar plot\r\n",
        "  plt.figure(figsize=(10,8))\r\n",
        "  #Plot Searborn bar chart\r\n",
        "  sns.barplot(x=fi_df['feature_importance'], y=fi_df['feature_names'])\r\n",
        "  #Add chart labels\r\n",
        "  plt.title(model_type + 'FEATURE IMPORTANCE')\r\n",
        "  plt.xlabel('FEATURE IMPORTANCE')\r\n",
        "  plt.ylabel('FEATURE NAMES')\r\n",
        "\r\n",
        "plot_feature_importance(forest.feature_importances_.reshape(-1,1), 'GRADIENT BOOST ')"
      ],
      "execution_count": null,
      "outputs": []
    },
    {
      "cell_type": "markdown",
      "metadata": {
        "id": "dDCIBSJm-eE2"
      },
      "source": [
        "### Part 2"
      ]
    },
    {
      "cell_type": "code",
      "metadata": {
        "id": "qpWOQtUy-eE3"
      },
      "source": [
        "from sklearn.model_selection import train_test_split\r\n",
        "x_train, x_test, y_train, y_test = train_test_split(X, y, test_size=0.3, random_state=0)\r\n",
        "\r\n",
        "from sklearn.ensemble import GradientBoostingClassifier\r\n",
        "\r\n",
        "#Creating a grid of hyperparameters\r\n",
        "param_dist = {\r\n",
        " 'n_estimators': [1, 2, 4, 8, 16, 32, 64, 100, 200],\r\n",
        " 'learning_rate': [1, 0.5, 0.25, 0.1, 0.05, 0.01],\r\n",
        " 'max_depth': np.linspace(1, 32, 32, endpoint=True),\r\n",
        " 'min_samples_split': np.linspace(0.1, 1.0, 10, endpoint=True),\r\n",
        " 'min_samples_leaf': np.linspace(0.1, 0.5, 5, endpoint=True),\r\n",
        " 'max_features': ['auto', 'sqrt', 'log2', None],\r\n",
        " 'criterion': ['friedman_mse', 'mse', 'mae'],\r\n",
        " 'loss': ['deviance', 'exponential']\r\n",
        " }\r\n",
        "\r\n",
        "gf=GradientBoostingClassifier()\r\n",
        "\r\n",
        "grid_search = GridSearchCV(estimator=gf, \r\n",
        "                           param_grid=param_dist, \r\n",
        "                           cv = 5)\r\n",
        "\r\n",
        "grid_search.fit(x_train, y_train)\r\n",
        "grid_search.best_params_"
      ],
      "execution_count": null,
      "outputs": []
    },
    {
      "cell_type": "code",
      "metadata": {
        "id": "HZbaWsGzCG0a"
      },
      "source": [
        "par = grid_search.best_params_\r\n",
        "\r\n",
        "n_estimators = par['n_estimators']\r\n",
        "learning_rate = par['learning_rate']\r\n",
        "max_depth = par['max_depth']\r\n",
        "min_samples_split = par['min_samples_split']\r\n",
        "min_samples_leaf = par['min_samples_leaf']\r\n",
        "max_features = par['max_features']\r\n",
        "criterion = par['criterion']\r\n",
        "loss = par['loss']"
      ],
      "execution_count": null,
      "outputs": []
    },
    {
      "cell_type": "code",
      "metadata": {
        "id": "XeVrwNHy_nCo"
      },
      "source": [
        "clf = GradientBoostingClassifier(loss=loss, \r\n",
        "                                 learning_rate=learning_rate, \r\n",
        "                                 n_estimators=n_estimators, \r\n",
        "                                 criterion=criterion, \r\n",
        "                                 min_samples_split=min_samples_split, \r\n",
        "                                 min_samples_leaf=min_samples_leaf, \r\n",
        "                                 max_depth=max_depth,   \r\n",
        "                                 max_features=max_depth)\r\n",
        "\r\n",
        "model = clf.fit(x_train, y_train)\r\n",
        "model"
      ],
      "execution_count": null,
      "outputs": []
    },
    {
      "cell_type": "code",
      "metadata": {
        "id": "x0vvseVtqwsC"
      },
      "source": [
        "y_pred = model.predict(x_test)\r\n",
        "print(f'{y_pred}')\r\n",
        "print('')\r\n",
        "print(f'Accuracy score: \\n {accuracy_score(y_test, y_pred)}')\r\n",
        "print('')\r\n",
        "print('The confusion matrix:')\r\n",
        "print(f'{confusion_matrix(y_test, y_pred)}')\r\n",
        "print('')\r\n",
        "print('The classification report:')\r\n",
        "print(f'{classification_report(y_test, y_pred)}')"
      ],
      "execution_count": null,
      "outputs": []
    },
    {
      "cell_type": "markdown",
      "metadata": {
        "id": "rBmnHgRL-eE3"
      },
      "source": [
        "#### Feature importance"
      ]
    },
    {
      "cell_type": "code",
      "metadata": {
        "id": "eMRG44QX-eE3"
      },
      "source": [
        "def plot_feature_importance(importance, model_type):\r\n",
        "\r\n",
        "  #Create arrays from feature importance and feature names\r\n",
        "  feature_importance = model.feature_importances_\r\n",
        "  feature_names = a.values\r\n",
        "\r\n",
        "  #Create a DataFrame using a Dictionary\r\n",
        "  data={'feature_names':feature_names,'feature_importance':feature_importance}\r\n",
        "  fi_df = pd.DataFrame(data)\r\n",
        "\r\n",
        "  #Sort the DataFrame in order decreasing feature importance\r\n",
        "  fi_df.sort_values(by=['feature_importance'], ascending=False,inplace=True)\r\n",
        "\r\n",
        "  #Define size of bar plot\r\n",
        "  plt.figure(figsize=(10,8))\r\n",
        "  #Plot Searborn bar chart\r\n",
        "  sns.barplot(x=fi_df['feature_importance'], y=fi_df['feature_names'])\r\n",
        "  #Add chart labels\r\n",
        "  plt.title(model_type + 'FEATURE IMPORTANCE')\r\n",
        "  plt.xlabel('FEATURE IMPORTANCE')\r\n",
        "  plt.ylabel('FEATURE NAMES')\r\n",
        "\r\n",
        "plot_feature_importance(forest.feature_importances_.reshape(-1,1), 'GRADIENT BOOST ')"
      ],
      "execution_count": null,
      "outputs": []
    },
    {
      "cell_type": "markdown",
      "metadata": {
        "id": "P0Nj6o8I-eSZ"
      },
      "source": [
        "## SVM(Polymomial function)"
      ]
    },
    {
      "cell_type": "markdown",
      "metadata": {
        "id": "5lHVN_Np-eSa"
      },
      "source": [
        "### Part 1"
      ]
    },
    {
      "cell_type": "code",
      "metadata": {
        "id": "pewFzdLu-eSa"
      },
      "source": [
        "from sklearn.model_selection import train_test_split\r\n",
        "x_train, x_test, y_train, y_test = train_test_split(X, y, test_size=0.3, random_state=0)\r\n",
        "\r\n",
        "from sklearn.svm import SVC\r\n",
        "\r\n",
        "# Building the model \r\n",
        "polyclassifier = SVC(kernel='poly')\r\n",
        "\r\n",
        "# Training the model using the training set\r\n",
        "model = polyclassifier.fit(x_train, y_train)\r\n",
        "model"
      ],
      "execution_count": null,
      "outputs": []
    },
    {
      "cell_type": "code",
      "metadata": {
        "id": "oYkvcDgUqtOP"
      },
      "source": [
        "y_pred = model.predict(x_test)\r\n",
        "print(f'{y_pred}')\r\n",
        "print('')\r\n",
        "print(f'Accuracy score: \\n {accuracy_score(y_test, y_pred)}')\r\n",
        "print('')\r\n",
        "print('The confusion matrix:')\r\n",
        "print(f'{confusion_matrix(y_test, y_pred)}')\r\n",
        "print('')\r\n",
        "print('The classification report:')\r\n",
        "print(f'{classification_report(y_test, y_pred)}')"
      ],
      "execution_count": null,
      "outputs": []
    },
    {
      "cell_type": "markdown",
      "metadata": {
        "id": "7sx_ljlo-eSb"
      },
      "source": [
        "### Part 2"
      ]
    },
    {
      "cell_type": "code",
      "metadata": {
        "id": "3pQPZrA4-eSb"
      },
      "source": [
        "from sklearn.model_selection import train_test_split\r\n",
        "x_train, x_test, y_train, y_test = train_test_split(X, y, test_size=0.3, random_state=0)\r\n",
        "\r\n",
        "from sklearn.discriminant_analysis import LinearDiscriminantAnalysis as LDA\r\n",
        "\r\n",
        "from sklearn.preprocessing import StandardScaler\r\n",
        "\r\n",
        "sc = StandardScaler()\r\n",
        "x_train = sc.fit_transform(x_train)\r\n",
        "x_test = sc.transform(x_test)\r\n",
        "\r\n",
        "lda = LDA(n_components=1)\r\n",
        "x_train = lda.fit_transform(x_train, y_train)\r\n",
        "x_test = lda.fit_transform(x_test)\r\n",
        "\r\n",
        "from sklearn.svm import SVC\r\n",
        "svc = SVC()\r\n",
        "parameters = {'C': [0.1,1, 10, 100], \r\n",
        "              'gamma': ['scale', 'auto'],\r\n",
        "              'kernel': ['poly'],\r\n",
        "              'degree': [1],\r\n",
        "              'degree': [1,2,3,4,5,6,7,8,9,10]\r\n",
        "              'decision_function_shape':['ovo','ovr']}\r\n",
        "\r\n",
        "grid_search = GridSearchCV(estimator=svc, \r\n",
        "                           param_grid=parameters,\r\n",
        "                           refit = True,\r\n",
        "                           verbose = 3,\r\n",
        "                           cv=10)\r\n",
        "\r\n",
        "grid_search.fit(x_train, y_train)"
      ],
      "execution_count": null,
      "outputs": []
    },
    {
      "cell_type": "code",
      "metadata": {
        "id": "fnQNEDiNG3Hw"
      },
      "source": [
        "par = grid_search.best_params_\r\n",
        "\r\n",
        "c = par['C']\r\n",
        "decision_function_shape = par['decision_function_shape']\r\n",
        "degree = par['degree']\r\n",
        "gamma = par['gamma']\r\n",
        "kernel = par['kernel']"
      ],
      "execution_count": null,
      "outputs": []
    },
    {
      "cell_type": "code",
      "metadata": {
        "id": "SvGxZ5BCF_Gt"
      },
      "source": [
        "# Building the model \r\n",
        "polyclassifier = SVC(C=c,\r\n",
        "                     kernel=kernel, \r\n",
        "                     degree=degree, \r\n",
        "                     gamma=gamma,  \r\n",
        "                     decision_function_shape=decision_function_shape)\r\n",
        "\r\n",
        "# Training the model using the training set\r\n",
        "model = polyclassifier.fit(x_train, y_train)\r\n",
        "model"
      ],
      "execution_count": null,
      "outputs": []
    },
    {
      "cell_type": "code",
      "metadata": {
        "id": "2QudHL6Kqu09"
      },
      "source": [
        "y_pred = model.predict(x_test)\r\n",
        "print(f'{y_pred}')\r\n",
        "print('')\r\n",
        "print(f'Accuracy score: \\n {accuracy_score(y_test, y_pred)}')\r\n",
        "print('')\r\n",
        "print('The confusion matrix:')\r\n",
        "print(f'{confusion_matrix(y_test, y_pred)}')\r\n",
        "print('')\r\n",
        "print('The classification report:')\r\n",
        "print(f'{classification_report(y_test, y_pred)}')"
      ],
      "execution_count": null,
      "outputs": []
    },
    {
      "cell_type": "markdown",
      "metadata": {
        "id": "DHKleKNtBUHM"
      },
      "source": [
        "## SVM( Radial basis function (rbf))"
      ]
    },
    {
      "cell_type": "markdown",
      "metadata": {
        "id": "-FwYld91BUHh"
      },
      "source": [
        "### Part 1"
      ]
    },
    {
      "cell_type": "code",
      "metadata": {
        "id": "5IP-mosGBUHm"
      },
      "source": [
        "from sklearn.model_selection import train_test_split\r\n",
        "x_train, x_test, y_train, y_test = train_test_split(X, y, test_size=0.2, random_state=42)\r\n",
        "\r\n",
        "from sklearn.svm import SVC\r\n",
        "\r\n",
        "# Building the model \r\n",
        "rbfclassifier = SVC(kernel='rbf')\r\n",
        "# Training the model using the training set\r\n",
        "model = rbfclassifier.fit(x_train, y_train)\r\n",
        "model"
      ],
      "execution_count": null,
      "outputs": []
    },
    {
      "cell_type": "code",
      "metadata": {
        "id": "rkKVijhIqrc6"
      },
      "source": [
        "y_pred = model.predict(x_test)\r\n",
        "print(f'{y_pred}')\r\n",
        "print('')\r\n",
        "print(f'Accuracy score: \\n {accuracy_score(y_test, y_pred)}')\r\n",
        "print('')\r\n",
        "print('The confusion matrix:')\r\n",
        "print(f'{confusion_matrix(y_test, y_pred)}')\r\n",
        "print('')\r\n",
        "print('The classification report:')\r\n",
        "print(f'{classification_report(y_test, y_pred)}')"
      ],
      "execution_count": null,
      "outputs": []
    },
    {
      "cell_type": "markdown",
      "metadata": {
        "id": "s9Rs_HU4BUHq"
      },
      "source": [
        "### Part 2"
      ]
    },
    {
      "cell_type": "code",
      "metadata": {
        "id": "R04RNFAJBUHr"
      },
      "source": [
        "from sklearn.model_selection import train_test_split\r\n",
        "x_train, x_test, y_train, y_test = train_test_split(X, y, test_size=0.2, random_state=42)\r\n",
        "\r\n",
        "from sklearn.svm import SVC\r\n",
        "\r\n",
        "from sklearn.discriminant_analysis import LinearDiscriminantAnalysis as LDA\r\n",
        "\r\n",
        "from sklearn.preprocessing import StandardScaler\r\n",
        "\r\n",
        "sc = StandardScaler()\r\n",
        "x_train = sc.fit_transform(x_train)\r\n",
        "x_test = sc.transform(x_test)\r\n",
        "\r\n",
        "lda = LDA(n_components=1)\r\n",
        "x_train = lda.fit_transform(x_train, y_train)\r\n",
        "x_test = lda.fit_transform(x_test)\r\n",
        "\r\n",
        "from sklearn.svm import SVC\r\n",
        "svc = SVC()\r\n",
        "parameters = {'C': [0.1,1, 10, 100], \r\n",
        "              'gamma': ['scale', 'auto'],\r\n",
        "              'kernel': ['rbf'],\r\n",
        "              'decision_function_shape':['ovo','ovr']}\r\n",
        "\r\n",
        "grid_search = GridSearchCV(estimator=svc, \r\n",
        "                           param_grid=parameters,\r\n",
        "                           refit = True,\r\n",
        "                           verbose = 3)\r\n",
        "\r\n",
        "grid_search.fit(x_train, y_train)            "
      ],
      "execution_count": null,
      "outputs": []
    },
    {
      "cell_type": "code",
      "metadata": {
        "id": "EeWfsezbHuWF"
      },
      "source": [
        "par = grid_search.best_params_\r\n",
        "\r\n",
        "c = par['C']\r\n",
        "decision_function_shape = par['decision_function_shape']\r\n",
        "gamma = par['gamma']\r\n",
        "kernel = par['kernel']"
      ],
      "execution_count": null,
      "outputs": []
    },
    {
      "cell_type": "code",
      "metadata": {
        "id": "W2uof7oLHZ4m"
      },
      "source": [
        "# Building the model \r\n",
        "rbfclassifier = SVC(C=c,\r\n",
        "                    kernel=kernel,  \r\n",
        "                    gamma=gamma,  \r\n",
        "                    decision_function_shape=decision_function_shape)\r\n",
        "# Training the model using the training set\r\n",
        "model = rbfclassifier.fit(x_train, y_train)\r\n",
        "model"
      ],
      "execution_count": null,
      "outputs": []
    },
    {
      "cell_type": "code",
      "metadata": {
        "id": "Pr_lnyNfqqZ3"
      },
      "source": [
        "y_pred = model.predict(x_test)\r\n",
        "print(f'{y_pred}')\r\n",
        "print('')\r\n",
        "print(f'Accuracy score: \\n {accuracy_score(y_test, y_pred)}')\r\n",
        "print('')\r\n",
        "print('The confusion matrix:')\r\n",
        "print(f'{confusion_matrix(y_test, y_pred)}')\r\n",
        "print('')\r\n",
        "print('The classification report:')\r\n",
        "print(f'{classification_report(y_test, y_pred)}')"
      ],
      "execution_count": null,
      "outputs": []
    },
    {
      "cell_type": "markdown",
      "metadata": {
        "id": "sr5NgE5xBUlL"
      },
      "source": [
        "## SVM(Sigmoid function)"
      ]
    },
    {
      "cell_type": "markdown",
      "metadata": {
        "id": "jJKQ-ajdBUlM"
      },
      "source": [
        "### Part 1"
      ]
    },
    {
      "cell_type": "code",
      "metadata": {
        "id": "4k8txtrcBUlM"
      },
      "source": [
        "from sklearn.model_selection import train_test_split\r\n",
        "x_train, x_test, y_train, y_test = train_test_split(X, y, test_size=0.2, random_state=42)\r\n",
        "\r\n",
        "from sklearn.svm import SVC\r\n",
        "\r\n",
        "# Building the model \r\n",
        "sigclassifier = SVC(kernel='sigmoid')\r\n",
        "# Training the model using the training set\r\n",
        "model = sigclassifier.fit(x_train, y_train)\r\n",
        "model"
      ],
      "execution_count": null,
      "outputs": []
    },
    {
      "cell_type": "code",
      "metadata": {
        "id": "UHDiognKqhMq"
      },
      "source": [
        "y_pred = model.predict(x_test)\r\n",
        "print(f'{y_pred}')\r\n",
        "print('')\r\n",
        "print(f'Accuracy score: \\n {accuracy_score(y_test, y_pred)}')\r\n",
        "print('')\r\n",
        "print('The confusion matrix:')\r\n",
        "print(f'{confusion_matrix(y_test, y_pred)}')\r\n",
        "print('')\r\n",
        "print('The classification report:')\r\n",
        "print(f'{classification_report(y_test, y_pred)}')"
      ],
      "execution_count": null,
      "outputs": []
    },
    {
      "cell_type": "markdown",
      "metadata": {
        "id": "MSYcqK_EBUlN"
      },
      "source": [
        "### Part 2"
      ]
    },
    {
      "cell_type": "code",
      "metadata": {
        "id": "tdhB2ZlKBUlO"
      },
      "source": [
        "from sklearn.model_selection import train_test_split\r\n",
        "x_train, x_test, y_train, y_test = train_test_split(X, y, test_size=0.2, random_state=42)\r\n",
        "\r\n",
        "from sklearn.svm import SVC\r\n",
        "\r\n",
        "from sklearn.discriminant_analysis import LinearDiscriminantAnalysis as LDA\r\n",
        "\r\n",
        "from sklearn.preprocessing import StandardScaler\r\n",
        "\r\n",
        "sc = StandardScaler()\r\n",
        "x_train = sc.fit_transform(x_train)\r\n",
        "x_test = sc.transform(x_test)\r\n",
        "\r\n",
        "lda = LDA(n_components=1)\r\n",
        "x_train = lda.fit_transform(x_train, y_train)\r\n",
        "x_test = lda.fit_transform(x_test)\r\n",
        "\r\n",
        "from sklearn.svm import SVC\r\n",
        "svc = SVC()\r\n",
        "parameters = {'C': [0.1,1, 10, 100], \r\n",
        "              'gamma': ['scale', 'auto'],\r\n",
        "              'kernel': ['sigmoid'],\r\n",
        "              'decision_function_shape':['ovo','ovr']}\r\n",
        "\r\n",
        "grid_search = GridSearchCV(estimator=svc, \r\n",
        "                           param_grid=parameters,\r\n",
        "                           refit = True,\r\n",
        "                           verbose = 3,\r\n",
        "                           cv=10)\r\n",
        "\r\n",
        "grid_search.fit(x_train, y_train)              "
      ],
      "execution_count": null,
      "outputs": []
    },
    {
      "cell_type": "code",
      "metadata": {
        "id": "JdhTxjldIR9B"
      },
      "source": [
        "par = grid_search.best_params_\r\n",
        "\r\n",
        "c = par['C']\r\n",
        "decision_function_shape = par['decision_function_shape']\r\n",
        "gamma = par['gamma']\r\n",
        "kernel = par['kernel']"
      ],
      "execution_count": null,
      "outputs": []
    },
    {
      "cell_type": "code",
      "metadata": {
        "id": "pnVaOLbeH8jY"
      },
      "source": [
        "# Building the model \r\n",
        "sigclassifier = SVC(C=c,\r\n",
        "                    kernel=kernel,  \r\n",
        "                    gamma=gamma,  \r\n",
        "                    decision_function_shape=decision_function_shape)\r\n",
        "# Training the model using the training set\r\n",
        "model = sigclassifier.fit(x_train, y_train)\r\n",
        "model"
      ],
      "execution_count": null,
      "outputs": []
    },
    {
      "cell_type": "code",
      "metadata": {
        "id": "iO8-E8ITqf1Y"
      },
      "source": [
        "y_pred = model.predict(x_test)\r\n",
        "print(f'{y_pred}')\r\n",
        "print('')\r\n",
        "print(f'Accuracy score: \\n {accuracy_score(y_test, y_pred)}')\r\n",
        "print('')\r\n",
        "print('The confusion matrix:')\r\n",
        "print(f'{confusion_matrix(y_test, y_pred)}')\r\n",
        "print('')\r\n",
        "print('The classification report:')\r\n",
        "print(f'{classification_report(y_test, y_pred)}')"
      ],
      "execution_count": null,
      "outputs": []
    },
    {
      "cell_type": "markdown",
      "metadata": {
        "id": "zZxLekd7-exn"
      },
      "source": [
        "## KNN"
      ]
    },
    {
      "cell_type": "markdown",
      "metadata": {
        "id": "whED7VFK-exo"
      },
      "source": [
        "### Part 1"
      ]
    },
    {
      "cell_type": "code",
      "metadata": {
        "id": "AIyQpoql-exo"
      },
      "source": [
        "from sklearn.model_selection import train_test_split\r\n",
        "x_train, x_test, y_train, y_test = train_test_split(X, y, test_size=0.3, random_state=42)\r\n",
        "\r\n",
        "from sklearn.neighbors import KNeighborsClassifier\r\n",
        "\r\n",
        "classifier = KNeighborsClassifier()\r\n",
        "\r\n",
        "model = classifier.fit(x_train, y_train)\r\n",
        "model"
      ],
      "execution_count": null,
      "outputs": []
    },
    {
      "cell_type": "code",
      "metadata": {
        "id": "hxwKHvgyqeZI"
      },
      "source": [
        "y_pred = model.predict(x_test)\r\n",
        "print(f'{y_pred}')\r\n",
        "print('')\r\n",
        "print(f'Accuracy score: \\n {accuracy_score(y_test, y_pred)}')\r\n",
        "print('')\r\n",
        "print('The confusion matrix:')\r\n",
        "print(f'{confusion_matrix(y_test, y_pred)}')\r\n",
        "print('')\r\n",
        "print('The classification report:')\r\n",
        "print(f'{classification_report(y_test, y_pred)}')"
      ],
      "execution_count": null,
      "outputs": []
    },
    {
      "cell_type": "markdown",
      "metadata": {
        "id": "66EGYerD-exp"
      },
      "source": [
        "### Part 2"
      ]
    },
    {
      "cell_type": "code",
      "metadata": {
        "id": "6uZ1R7mcIp3y"
      },
      "source": [
        "from sklearn.preprocessing import Normalizer\r\n",
        "# Create normalizer\r\n",
        "normalizer = Normalizer()\r\n",
        "\r\n",
        "# Transform feature matrix\r\n",
        "normalizer.transform(X)"
      ],
      "execution_count": null,
      "outputs": []
    },
    {
      "cell_type": "code",
      "metadata": {
        "id": "sngr3Tsp-exp"
      },
      "source": [
        "from sklearn.model_selection import train_test_split\r\n",
        "x_train, x_test, y_train, y_test = train_test_split(X, y, test_size=0.3, random_state=42)\r\n",
        "\r\n",
        "from sklearn.neighbors import KNeighborsClassifier\r\n",
        "\r\n",
        "from sklearn.discriminant_analysis import LinearDiscriminantAnalysis as LDA\r\n",
        "\r\n",
        "lda = LDA(n_components=1)\r\n",
        "x_train = lda.fit_transform(x_train, y_train)\r\n",
        "x_test = lda.transform(x_test)\r\n",
        "\r\n",
        "parameters = {'n_neighbors': list(range(1,30)),\r\n",
        "              'leaf_size': list(range(1,50)),\r\n",
        "              'metric':['euclidean', 'manhattan', 'chebyshev', 'minkowski', 'wminkowski', 'seuclidean', 'mahalanobis'],\r\n",
        "              }\r\n",
        "\r\n",
        "knn = KNeighborsClassifier()\r\n",
        "\r\n",
        "grid_search = GridSearchCV(estimator=knn, \r\n",
        "                           param_grid=parameters) \r\n",
        "\r\n",
        "print(grid_search.fit(x_train, y_train))\r\n",
        "print('')\r\n",
        "print('')\r\n",
        "print('The parameters:')\r\n",
        "print(grid_search.best_params_)             "
      ],
      "execution_count": null,
      "outputs": []
    },
    {
      "cell_type": "code",
      "metadata": {
        "id": "F54zISS1I7bo"
      },
      "source": [
        "par = grid_search.best_params_\r\n",
        "\r\n",
        "leaf_size = par['leaf_size']\r\n",
        "n_neighbors = par['n_neighbors']\r\n",
        "metric = par['metric']"
      ],
      "execution_count": null,
      "outputs": []
    },
    {
      "cell_type": "code",
      "metadata": {
        "id": "Dj_wlRpBIeMz"
      },
      "source": [
        "classifier = KNeighborsClassifier(n_neighbors=n_neighbors, leaf_size=leaf_size, metric=metric)\r\n",
        "\r\n",
        "model = classifier.fit(x_train, y_train)\r\n",
        "model"
      ],
      "execution_count": null,
      "outputs": []
    },
    {
      "cell_type": "code",
      "metadata": {
        "id": "OI-wQezeqdYL"
      },
      "source": [
        "y_pred = model.predict(x_test)\r\n",
        "print(f'{y_pred}')\r\n",
        "print('')\r\n",
        "print(f'Accuracy score: \\n {accuracy_score(y_test, y_pred)}')\r\n",
        "print('')\r\n",
        "print('The confusion matrix:')\r\n",
        "print(f'{confusion_matrix(y_test, y_pred)}')\r\n",
        "print('')\r\n",
        "print('The classification report:')\r\n",
        "print(f'{classification_report(y_test, y_pred)}')"
      ],
      "execution_count": null,
      "outputs": []
    },
    {
      "cell_type": "markdown",
      "metadata": {
        "id": "cUIRFBI8-fMk"
      },
      "source": [
        "## Naive Bayes( Multinomial)"
      ]
    },
    {
      "cell_type": "markdown",
      "metadata": {
        "id": "Ae84rHN1-fMl"
      },
      "source": [
        "### Part 1"
      ]
    },
    {
      "cell_type": "code",
      "metadata": {
        "id": "FajZ4x1d-fMl"
      },
      "source": [
        "from sklearn.model_selection import train_test_split\r\n",
        "x_train, x_test, y_train, y_test = train_test_split(X, y, test_size=0.2, random_state=42)\r\n",
        "\r\n",
        "from sklearn.naive_bayes import MultinomialNB\r\n",
        "\r\n",
        "Multinomial = MultinomialNB() \r\n",
        "\r\n",
        "model = Multinomial.fit(x_train, y_train)\r\n",
        "model"
      ],
      "execution_count": null,
      "outputs": []
    },
    {
      "cell_type": "code",
      "metadata": {
        "id": "Gp9Vceg_qcGW"
      },
      "source": [
        "y_pred = model.predict(x_test)\r\n",
        "print(f'{y_pred}')\r\n",
        "print('')\r\n",
        "print(f'Accuracy score: \\n {accuracy_score(y_test, y_pred)}')\r\n",
        "print('')\r\n",
        "print('The confusion matrix:')\r\n",
        "print(f'{confusion_matrix(y_test, y_pred)}')\r\n",
        "print('')\r\n",
        "print('The classification report:')\r\n",
        "print(f'{classification_report(y_test, y_pred)}')"
      ],
      "execution_count": null,
      "outputs": []
    },
    {
      "cell_type": "markdown",
      "metadata": {
        "id": "nOFsiMmh-fMm"
      },
      "source": [
        "### Part 2"
      ]
    },
    {
      "cell_type": "code",
      "metadata": {
        "id": "kYkKsM6tJXog"
      },
      "source": [
        "# Create normalizer\r\n",
        "normalizer = Normalizer()\r\n",
        "\r\n",
        "# Transform feature matrix\r\n",
        "normalizer.transform(X)"
      ],
      "execution_count": null,
      "outputs": []
    },
    {
      "cell_type": "code",
      "metadata": {
        "id": "t9YedebK-fMp"
      },
      "source": [
        "from sklearn.model_selection import train_test_split\r\n",
        "x_train, x_test, y_train, y_test = train_test_split(X, y, test_size=0.2, random_state=42)\r\n",
        "\r\n",
        "from sklearn.naive_bayes import MultinomialNB\r\n",
        "\r\n",
        "parameters = {\r\n",
        "  'alpha': np.linspace(0.5, 1.5, 6),\r\n",
        "  'fit_prior': [True, False],  \r\n",
        "}\r\n",
        "\r\n",
        "grid_search = GridSearchCV(estimator=MultinomialNB(), \r\n",
        "                           param_grid=parameters,\r\n",
        "                           cv=cv)\r\n",
        "\r\n",
        "grid_search.fit(x_train, y_train)"
      ],
      "execution_count": null,
      "outputs": []
    },
    {
      "cell_type": "code",
      "metadata": {
        "id": "GxsNvx9VJef6"
      },
      "source": [
        "par = grid_search.best_params_\r\n",
        "\r\n",
        "alpha = par['alpha'] \r\n",
        "fit_prior = par['fit_prior']"
      ],
      "execution_count": null,
      "outputs": []
    },
    {
      "cell_type": "code",
      "metadata": {
        "id": "s8v0tDvVJUOE"
      },
      "source": [
        "Multinomial = MultinomialNB(alpha=alpha, fit_prior=fit_prior) \r\n",
        "\r\n",
        "model = Multinomial.fit(x_train, y_train)\r\n",
        "model"
      ],
      "execution_count": null,
      "outputs": []
    },
    {
      "cell_type": "code",
      "metadata": {
        "id": "C-jYA28eqa3-"
      },
      "source": [
        "y_pred = model.predict(x_test)\r\n",
        "print(f'{y_pred}')\r\n",
        "print('')\r\n",
        "print(f'Accuracy score: \\n {accuracy_score(y_test, y_pred)}')\r\n",
        "print('')\r\n",
        "print('The confusion matrix:')\r\n",
        "print(f'{confusion_matrix(y_test, y_pred)}')\r\n",
        "print('')\r\n",
        "print('The classification report:')\r\n",
        "print(f'{classification_report(y_test, y_pred)}')"
      ],
      "execution_count": null,
      "outputs": []
    },
    {
      "cell_type": "markdown",
      "metadata": {
        "id": "lH98vKwS-fy2"
      },
      "source": [
        "## Naive Bayes( Gaussian)"
      ]
    },
    {
      "cell_type": "markdown",
      "metadata": {
        "id": "YMrjWaAH-fy2"
      },
      "source": [
        "### Part 1"
      ]
    },
    {
      "cell_type": "code",
      "metadata": {
        "id": "mzUWBg34-fy3"
      },
      "source": [
        "from sklearn.model_selection import train_test_split\r\n",
        "x_train, x_test, y_train, y_test = train_test_split(X, y, test_size=0.2, random_state=42)\r\n",
        "\r\n",
        "from sklearn.naive_bayes import GaussianNB\r\n",
        "\r\n",
        "clf = GaussianNB() \r\n",
        "\r\n",
        "model = clf.fit(x_train, y_train) \r\n",
        "model"
      ],
      "execution_count": null,
      "outputs": []
    },
    {
      "cell_type": "code",
      "metadata": {
        "id": "4gMLN08tqP6a"
      },
      "source": [
        "y_pred = model.predict(x_test)\r\n",
        "print(f'{y_pred}')\r\n",
        "print('')\r\n",
        "print(f'Accuracy score: \\n {accuracy_score(y_test, y_pred)}')\r\n",
        "print('')\r\n",
        "print('The confusion matrix:')\r\n",
        "print(f'{confusion_matrix(y_test, y_pred)}')\r\n",
        "print('')\r\n",
        "print('The classification report:')\r\n",
        "print(f'{classification_report(y_test, y_pred)}')"
      ],
      "execution_count": null,
      "outputs": []
    },
    {
      "cell_type": "markdown",
      "metadata": {
        "id": "ci__G2LU-fy4"
      },
      "source": [
        "### Part 2"
      ]
    },
    {
      "cell_type": "code",
      "metadata": {
        "id": "xciz89cdJ3z_"
      },
      "source": [
        "# Create normalizer\r\n",
        "normalizer = Normalizer()\r\n",
        "\r\n",
        "# Transform feature matrix\r\n",
        "normalizer.transform(X)"
      ],
      "execution_count": null,
      "outputs": []
    },
    {
      "cell_type": "code",
      "metadata": {
        "id": "BbB1ujlH-fy4"
      },
      "source": [
        "from sklearn.model_selection import train_test_split\r\n",
        "x_train, x_test, y_train, y_test = train_test_split(X, y, test_size=0.2, random_state=42)\r\n",
        "\r\n",
        "from sklearn.naive_bayes import GaussianNB\r\n",
        "\r\n",
        "\r\n",
        "\r\n",
        "\r\n",
        "grid_search = GridSearchCV(estimator=GaussianNB(), \r\n",
        "                     param_grid=parameters, \r\n",
        "                     cv=cv,\r\n",
        "                     verbose=1, \r\n",
        "                     scoring='accuracy')\r\n",
        "\r\n",
        "grid_search.fit(x_train, y_train)"
      ],
      "execution_count": null,
      "outputs": []
    },
    {
      "cell_type": "code",
      "metadata": {
        "id": "O-BeKgYEKB8T"
      },
      "source": [
        "par = grid_search.best_params_\r\n",
        "\r\n",
        "var_smoothing = par['var_smoothing'] "
      ],
      "execution_count": null,
      "outputs": []
    },
    {
      "cell_type": "code",
      "metadata": {
        "id": "2_pI0UB3JyD8"
      },
      "source": [
        "clf = GaussianNB(var_smoothing=var_smoothing) \r\n",
        "\r\n",
        "model = clf.fit(x_train, y_train) \r\n",
        "model"
      ],
      "execution_count": null,
      "outputs": []
    },
    {
      "cell_type": "code",
      "metadata": {
        "id": "yp4QwbYyqRuA"
      },
      "source": [
        "y_pred = model.predict(x_test)\r\n",
        "print(f'{y_pred}')\r\n",
        "print('')\r\n",
        "print(f'Accuracy score: \\n {accuracy_score(y_test, y_pred)}')\r\n",
        "print('')\r\n",
        "print('The confusion matrix:')\r\n",
        "print(f'{confusion_matrix(y_test, y_pred)}')\r\n",
        "print('')\r\n",
        "print('The classification report:')\r\n",
        "print(f'{classification_report(y_test, y_pred)}')"
      ],
      "execution_count": null,
      "outputs": []
    }
  ]
}