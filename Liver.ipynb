{
  "nbformat": 4,
  "nbformat_minor": 0,
  "metadata": {
    "colab": {
      "name": "Liver.ipynb",
      "provenance": [],
      "toc_visible": true
    },
    "kernelspec": {
      "name": "python3",
      "display_name": "Python 3"
    }
  },
  "cells": [
    {
      "cell_type": "markdown",
      "metadata": {
        "id": "sMTfDeV-w31B"
      },
      "source": [
        "#Prerequsites"
      ]
    },
    {
      "cell_type": "code",
      "metadata": {
        "id": "tPFZ-cyNwmvj"
      },
      "source": [
        "import pandas as pd\n",
        "import numpy as np\n",
        "import matplotlib.pyplot as plt\n",
        "import seaborn as sns"
      ],
      "execution_count": null,
      "outputs": []
    },
    {
      "cell_type": "markdown",
      "metadata": {
        "id": "zlxEVb8Ew98m"
      },
      "source": [
        "#Dataset"
      ]
    },
    {
      "cell_type": "code",
      "metadata": {
        "id": "6eQtbcnXw9Wh"
      },
      "source": [
        "data = pd.read_csv('/content/Indian Liver Patient Dataset (ILPD).csv', header=None)"
      ],
      "execution_count": null,
      "outputs": []
    },
    {
      "cell_type": "code",
      "metadata": {
        "colab": {
          "base_uri": "https://localhost:8080/",
          "height": 424
        },
        "id": "qsqQ5ksoymKn",
        "outputId": "f4f07481-365e-42c7-abe5-47a889bae12a"
      },
      "source": [
        "data"
      ],
      "execution_count": null,
      "outputs": [
        {
          "output_type": "execute_result",
          "data": {
            "text/html": [
              "<div>\n",
              "<style scoped>\n",
              "    .dataframe tbody tr th:only-of-type {\n",
              "        vertical-align: middle;\n",
              "    }\n",
              "\n",
              "    .dataframe tbody tr th {\n",
              "        vertical-align: top;\n",
              "    }\n",
              "\n",
              "    .dataframe thead th {\n",
              "        text-align: right;\n",
              "    }\n",
              "</style>\n",
              "<table border=\"1\" class=\"dataframe\">\n",
              "  <thead>\n",
              "    <tr style=\"text-align: right;\">\n",
              "      <th></th>\n",
              "      <th>0</th>\n",
              "      <th>1</th>\n",
              "      <th>2</th>\n",
              "      <th>3</th>\n",
              "      <th>4</th>\n",
              "      <th>5</th>\n",
              "      <th>6</th>\n",
              "      <th>7</th>\n",
              "      <th>8</th>\n",
              "      <th>9</th>\n",
              "      <th>10</th>\n",
              "    </tr>\n",
              "  </thead>\n",
              "  <tbody>\n",
              "    <tr>\n",
              "      <th>0</th>\n",
              "      <td>65</td>\n",
              "      <td>Female</td>\n",
              "      <td>0.7</td>\n",
              "      <td>0.1</td>\n",
              "      <td>187</td>\n",
              "      <td>16</td>\n",
              "      <td>18</td>\n",
              "      <td>6.8</td>\n",
              "      <td>3.3</td>\n",
              "      <td>0.90</td>\n",
              "      <td>1</td>\n",
              "    </tr>\n",
              "    <tr>\n",
              "      <th>1</th>\n",
              "      <td>62</td>\n",
              "      <td>Male</td>\n",
              "      <td>10.9</td>\n",
              "      <td>5.5</td>\n",
              "      <td>699</td>\n",
              "      <td>64</td>\n",
              "      <td>100</td>\n",
              "      <td>7.5</td>\n",
              "      <td>3.2</td>\n",
              "      <td>0.74</td>\n",
              "      <td>1</td>\n",
              "    </tr>\n",
              "    <tr>\n",
              "      <th>2</th>\n",
              "      <td>62</td>\n",
              "      <td>Male</td>\n",
              "      <td>7.3</td>\n",
              "      <td>4.1</td>\n",
              "      <td>490</td>\n",
              "      <td>60</td>\n",
              "      <td>68</td>\n",
              "      <td>7.0</td>\n",
              "      <td>3.3</td>\n",
              "      <td>0.89</td>\n",
              "      <td>1</td>\n",
              "    </tr>\n",
              "    <tr>\n",
              "      <th>3</th>\n",
              "      <td>58</td>\n",
              "      <td>Male</td>\n",
              "      <td>1.0</td>\n",
              "      <td>0.4</td>\n",
              "      <td>182</td>\n",
              "      <td>14</td>\n",
              "      <td>20</td>\n",
              "      <td>6.8</td>\n",
              "      <td>3.4</td>\n",
              "      <td>1.00</td>\n",
              "      <td>1</td>\n",
              "    </tr>\n",
              "    <tr>\n",
              "      <th>4</th>\n",
              "      <td>72</td>\n",
              "      <td>Male</td>\n",
              "      <td>3.9</td>\n",
              "      <td>2.0</td>\n",
              "      <td>195</td>\n",
              "      <td>27</td>\n",
              "      <td>59</td>\n",
              "      <td>7.3</td>\n",
              "      <td>2.4</td>\n",
              "      <td>0.40</td>\n",
              "      <td>1</td>\n",
              "    </tr>\n",
              "    <tr>\n",
              "      <th>...</th>\n",
              "      <td>...</td>\n",
              "      <td>...</td>\n",
              "      <td>...</td>\n",
              "      <td>...</td>\n",
              "      <td>...</td>\n",
              "      <td>...</td>\n",
              "      <td>...</td>\n",
              "      <td>...</td>\n",
              "      <td>...</td>\n",
              "      <td>...</td>\n",
              "      <td>...</td>\n",
              "    </tr>\n",
              "    <tr>\n",
              "      <th>578</th>\n",
              "      <td>60</td>\n",
              "      <td>Male</td>\n",
              "      <td>0.5</td>\n",
              "      <td>0.1</td>\n",
              "      <td>500</td>\n",
              "      <td>20</td>\n",
              "      <td>34</td>\n",
              "      <td>5.9</td>\n",
              "      <td>1.6</td>\n",
              "      <td>0.37</td>\n",
              "      <td>2</td>\n",
              "    </tr>\n",
              "    <tr>\n",
              "      <th>579</th>\n",
              "      <td>40</td>\n",
              "      <td>Male</td>\n",
              "      <td>0.6</td>\n",
              "      <td>0.1</td>\n",
              "      <td>98</td>\n",
              "      <td>35</td>\n",
              "      <td>31</td>\n",
              "      <td>6.0</td>\n",
              "      <td>3.2</td>\n",
              "      <td>1.10</td>\n",
              "      <td>1</td>\n",
              "    </tr>\n",
              "    <tr>\n",
              "      <th>580</th>\n",
              "      <td>52</td>\n",
              "      <td>Male</td>\n",
              "      <td>0.8</td>\n",
              "      <td>0.2</td>\n",
              "      <td>245</td>\n",
              "      <td>48</td>\n",
              "      <td>49</td>\n",
              "      <td>6.4</td>\n",
              "      <td>3.2</td>\n",
              "      <td>1.00</td>\n",
              "      <td>1</td>\n",
              "    </tr>\n",
              "    <tr>\n",
              "      <th>581</th>\n",
              "      <td>31</td>\n",
              "      <td>Male</td>\n",
              "      <td>1.3</td>\n",
              "      <td>0.5</td>\n",
              "      <td>184</td>\n",
              "      <td>29</td>\n",
              "      <td>32</td>\n",
              "      <td>6.8</td>\n",
              "      <td>3.4</td>\n",
              "      <td>1.00</td>\n",
              "      <td>1</td>\n",
              "    </tr>\n",
              "    <tr>\n",
              "      <th>582</th>\n",
              "      <td>38</td>\n",
              "      <td>Male</td>\n",
              "      <td>1.0</td>\n",
              "      <td>0.3</td>\n",
              "      <td>216</td>\n",
              "      <td>21</td>\n",
              "      <td>24</td>\n",
              "      <td>7.3</td>\n",
              "      <td>4.4</td>\n",
              "      <td>1.50</td>\n",
              "      <td>2</td>\n",
              "    </tr>\n",
              "  </tbody>\n",
              "</table>\n",
              "<p>583 rows × 11 columns</p>\n",
              "</div>"
            ],
            "text/plain": [
              "     0       1     2    3    4   5    6    7    8     9   10\n",
              "0    65  Female   0.7  0.1  187  16   18  6.8  3.3  0.90   1\n",
              "1    62    Male  10.9  5.5  699  64  100  7.5  3.2  0.74   1\n",
              "2    62    Male   7.3  4.1  490  60   68  7.0  3.3  0.89   1\n",
              "3    58    Male   1.0  0.4  182  14   20  6.8  3.4  1.00   1\n",
              "4    72    Male   3.9  2.0  195  27   59  7.3  2.4  0.40   1\n",
              "..   ..     ...   ...  ...  ...  ..  ...  ...  ...   ...  ..\n",
              "578  60    Male   0.5  0.1  500  20   34  5.9  1.6  0.37   2\n",
              "579  40    Male   0.6  0.1   98  35   31  6.0  3.2  1.10   1\n",
              "580  52    Male   0.8  0.2  245  48   49  6.4  3.2  1.00   1\n",
              "581  31    Male   1.3  0.5  184  29   32  6.8  3.4  1.00   1\n",
              "582  38    Male   1.0  0.3  216  21   24  7.3  4.4  1.50   2\n",
              "\n",
              "[583 rows x 11 columns]"
            ]
          },
          "metadata": {
            "tags": []
          },
          "execution_count": 22
        }
      ]
    },
    {
      "cell_type": "code",
      "metadata": {
        "colab": {
          "base_uri": "https://localhost:8080/"
        },
        "id": "SYOHJvAJyoqH",
        "outputId": "b145552e-c306-427d-c9b4-fe2004592902"
      },
      "source": [
        "data.isnull().sum()"
      ],
      "execution_count": null,
      "outputs": [
        {
          "output_type": "execute_result",
          "data": {
            "text/plain": [
              "0     0\n",
              "1     0\n",
              "2     0\n",
              "3     0\n",
              "4     0\n",
              "5     0\n",
              "6     0\n",
              "7     0\n",
              "8     0\n",
              "9     4\n",
              "10    0\n",
              "dtype: int64"
            ]
          },
          "metadata": {
            "tags": []
          },
          "execution_count": 23
        }
      ]
    },
    {
      "cell_type": "code",
      "metadata": {
        "id": "KeNFJwLN0k6e"
      },
      "source": [
        "data = data[data[9].notna()]"
      ],
      "execution_count": null,
      "outputs": []
    },
    {
      "cell_type": "markdown",
      "metadata": {
        "id": "IG6_AT4Nl5Bo"
      },
      "source": [
        "1. Age Age of the patient\n",
        "2. Gender Gender of the patient\n",
        "3. TB Total Bilirubin\n",
        "4. DB Direct Bilirubin\n",
        "5. Alkphos Alkaline Phosphotase\n",
        "6. Sgpt Alamine Aminotransferase\n",
        "7. Sgot Aspartate Aminotransferase\n",
        "8. TP Total Protiens\n",
        "9. ALB Albumin\n",
        "10. A/G Ratio Albumin and Globulin Ratio\n",
        "11. Selector field used to split the data into two sets (labeled by the experts) "
      ]
    },
    {
      "cell_type": "code",
      "metadata": {
        "id": "09JEoPI9lyoG"
      },
      "source": [
        "data.columns = ['age','gender','TB', 'DB' , 'AAP' , 'sgpt' , 'sgot' , 'TP' , 'ALB' , 'AG' , 'selector']"
      ],
      "execution_count": null,
      "outputs": []
    },
    {
      "cell_type": "code",
      "metadata": {
        "colab": {
          "base_uri": "https://localhost:8080/"
        },
        "id": "mwnVV4Yg1ARb",
        "outputId": "0e4613ea-b782-41b3-f074-722d84960934"
      },
      "source": [
        "data.shape"
      ],
      "execution_count": null,
      "outputs": [
        {
          "output_type": "execute_result",
          "data": {
            "text/plain": [
              "(579, 11)"
            ]
          },
          "metadata": {
            "tags": []
          },
          "execution_count": 26
        }
      ]
    },
    {
      "cell_type": "code",
      "metadata": {
        "colab": {
          "base_uri": "https://localhost:8080/"
        },
        "id": "eRDFbr811uf5",
        "outputId": "66992d88-cf8d-4758-da7e-aef24d8621b3"
      },
      "source": [
        "data.isnull().sum()"
      ],
      "execution_count": null,
      "outputs": [
        {
          "output_type": "execute_result",
          "data": {
            "text/plain": [
              "age         0\n",
              "gender      0\n",
              "TB          0\n",
              "DB          0\n",
              "AAP         0\n",
              "sgpt        0\n",
              "sgot        0\n",
              "TP          0\n",
              "ALB         0\n",
              "AG          0\n",
              "selector    0\n",
              "dtype: int64"
            ]
          },
          "metadata": {
            "tags": []
          },
          "execution_count": 27
        }
      ]
    },
    {
      "cell_type": "code",
      "metadata": {
        "colab": {
          "base_uri": "https://localhost:8080/"
        },
        "id": "fWZ2dCHL1_OG",
        "outputId": "af027c70-033a-4956-849a-2f07832eb2b2"
      },
      "source": [
        "data.dtypes"
      ],
      "execution_count": null,
      "outputs": [
        {
          "output_type": "execute_result",
          "data": {
            "text/plain": [
              "age           int64\n",
              "gender       object\n",
              "TB          float64\n",
              "DB          float64\n",
              "AAP           int64\n",
              "sgpt          int64\n",
              "sgot          int64\n",
              "TP          float64\n",
              "ALB         float64\n",
              "AG          float64\n",
              "selector      int64\n",
              "dtype: object"
            ]
          },
          "metadata": {
            "tags": []
          },
          "execution_count": 28
        }
      ]
    },
    {
      "cell_type": "code",
      "metadata": {
        "id": "jF1l-eVA5b_E"
      },
      "source": [
        "desc = pd.DataFrame(data.dtypes, columns= ['Types'])\n",
        "desc['Max'] = ''\n",
        "desc['Min'] = ''\n",
        "desc['Unique'] = ''\n",
        "for e , row in desc.iterrows():\n",
        "  if row['Types'] != 'object':\n",
        "    desc.loc[e , 'Max'] = data[e].max()\n",
        "    desc.loc[e , 'Min'] = data[e].min()\n",
        "    desc.loc[e , 'Unique'] = len(data[e].unique())"
      ],
      "execution_count": null,
      "outputs": []
    },
    {
      "cell_type": "code",
      "metadata": {
        "id": "VLsoTmkEubhb"
      },
      "source": [
        "# pol"
      ],
      "execution_count": null,
      "outputs": []
    },
    {
      "cell_type": "code",
      "metadata": {
        "colab": {
          "base_uri": "https://localhost:8080/",
          "height": 394
        },
        "id": "iu7tI2w6562R",
        "outputId": "8f1c81f1-2367-4416-e2f9-5d14324d955e"
      },
      "source": [
        "desc"
      ],
      "execution_count": null,
      "outputs": [
        {
          "output_type": "execute_result",
          "data": {
            "text/html": [
              "<div>\n",
              "<style scoped>\n",
              "    .dataframe tbody tr th:only-of-type {\n",
              "        vertical-align: middle;\n",
              "    }\n",
              "\n",
              "    .dataframe tbody tr th {\n",
              "        vertical-align: top;\n",
              "    }\n",
              "\n",
              "    .dataframe thead th {\n",
              "        text-align: right;\n",
              "    }\n",
              "</style>\n",
              "<table border=\"1\" class=\"dataframe\">\n",
              "  <thead>\n",
              "    <tr style=\"text-align: right;\">\n",
              "      <th></th>\n",
              "      <th>Types</th>\n",
              "      <th>Max</th>\n",
              "      <th>Min</th>\n",
              "      <th>Unique</th>\n",
              "    </tr>\n",
              "  </thead>\n",
              "  <tbody>\n",
              "    <tr>\n",
              "      <th>age</th>\n",
              "      <td>int64</td>\n",
              "      <td>90</td>\n",
              "      <td>4</td>\n",
              "      <td>72</td>\n",
              "    </tr>\n",
              "    <tr>\n",
              "      <th>gender</th>\n",
              "      <td>object</td>\n",
              "      <td></td>\n",
              "      <td></td>\n",
              "      <td></td>\n",
              "    </tr>\n",
              "    <tr>\n",
              "      <th>TB</th>\n",
              "      <td>float64</td>\n",
              "      <td>75</td>\n",
              "      <td>0.4</td>\n",
              "      <td>113</td>\n",
              "    </tr>\n",
              "    <tr>\n",
              "      <th>DB</th>\n",
              "      <td>float64</td>\n",
              "      <td>19.7</td>\n",
              "      <td>0.1</td>\n",
              "      <td>80</td>\n",
              "    </tr>\n",
              "    <tr>\n",
              "      <th>AAP</th>\n",
              "      <td>int64</td>\n",
              "      <td>2110</td>\n",
              "      <td>63</td>\n",
              "      <td>262</td>\n",
              "    </tr>\n",
              "    <tr>\n",
              "      <th>sgpt</th>\n",
              "      <td>int64</td>\n",
              "      <td>2000</td>\n",
              "      <td>10</td>\n",
              "      <td>152</td>\n",
              "    </tr>\n",
              "    <tr>\n",
              "      <th>sgot</th>\n",
              "      <td>int64</td>\n",
              "      <td>4929</td>\n",
              "      <td>10</td>\n",
              "      <td>177</td>\n",
              "    </tr>\n",
              "    <tr>\n",
              "      <th>TP</th>\n",
              "      <td>float64</td>\n",
              "      <td>9.6</td>\n",
              "      <td>2.7</td>\n",
              "      <td>58</td>\n",
              "    </tr>\n",
              "    <tr>\n",
              "      <th>ALB</th>\n",
              "      <td>float64</td>\n",
              "      <td>5.5</td>\n",
              "      <td>0.9</td>\n",
              "      <td>40</td>\n",
              "    </tr>\n",
              "    <tr>\n",
              "      <th>AG</th>\n",
              "      <td>float64</td>\n",
              "      <td>2.8</td>\n",
              "      <td>0.3</td>\n",
              "      <td>69</td>\n",
              "    </tr>\n",
              "    <tr>\n",
              "      <th>selector</th>\n",
              "      <td>int64</td>\n",
              "      <td>2</td>\n",
              "      <td>1</td>\n",
              "      <td>2</td>\n",
              "    </tr>\n",
              "  </tbody>\n",
              "</table>\n",
              "</div>"
            ],
            "text/plain": [
              "            Types   Max  Min Unique\n",
              "age         int64    90    4     72\n",
              "gender     object                  \n",
              "TB        float64    75  0.4    113\n",
              "DB        float64  19.7  0.1     80\n",
              "AAP         int64  2110   63    262\n",
              "sgpt        int64  2000   10    152\n",
              "sgot        int64  4929   10    177\n",
              "TP        float64   9.6  2.7     58\n",
              "ALB       float64   5.5  0.9     40\n",
              "AG        float64   2.8  0.3     69\n",
              "selector    int64     2    1      2"
            ]
          },
          "metadata": {
            "tags": []
          },
          "execution_count": 31
        }
      ]
    },
    {
      "cell_type": "code",
      "metadata": {
        "colab": {
          "base_uri": "https://localhost:8080/"
        },
        "id": "lwthA2f_onpY",
        "outputId": "921516e6-5a41-403c-c9eb-6bc1f76965ef"
      },
      "source": [
        "data['gender'].unique()"
      ],
      "execution_count": null,
      "outputs": [
        {
          "output_type": "execute_result",
          "data": {
            "text/plain": [
              "array(['Female', 'Male'], dtype=object)"
            ]
          },
          "metadata": {
            "tags": []
          },
          "execution_count": 32
        }
      ]
    },
    {
      "cell_type": "code",
      "metadata": {
        "id": "MekuEW0DovFI"
      },
      "source": [
        "dum = pd.get_dummies(data['gender'])"
      ],
      "execution_count": null,
      "outputs": []
    },
    {
      "cell_type": "code",
      "metadata": {
        "id": "m_ULXis5pEli"
      },
      "source": [
        "sure = pd.merge(data , dum , left_index=True , right_index=True)"
      ],
      "execution_count": null,
      "outputs": []
    },
    {
      "cell_type": "code",
      "metadata": {
        "colab": {
          "base_uri": "https://localhost:8080/",
          "height": 424
        },
        "id": "LNKzDzazpaUn",
        "outputId": "981cc5c9-9dfc-45ac-8bf3-c6c91b4814d8"
      },
      "source": [
        "sure"
      ],
      "execution_count": null,
      "outputs": [
        {
          "output_type": "execute_result",
          "data": {
            "text/html": [
              "<div>\n",
              "<style scoped>\n",
              "    .dataframe tbody tr th:only-of-type {\n",
              "        vertical-align: middle;\n",
              "    }\n",
              "\n",
              "    .dataframe tbody tr th {\n",
              "        vertical-align: top;\n",
              "    }\n",
              "\n",
              "    .dataframe thead th {\n",
              "        text-align: right;\n",
              "    }\n",
              "</style>\n",
              "<table border=\"1\" class=\"dataframe\">\n",
              "  <thead>\n",
              "    <tr style=\"text-align: right;\">\n",
              "      <th></th>\n",
              "      <th>age</th>\n",
              "      <th>gender</th>\n",
              "      <th>TB</th>\n",
              "      <th>DB</th>\n",
              "      <th>AAP</th>\n",
              "      <th>sgpt</th>\n",
              "      <th>sgot</th>\n",
              "      <th>TP</th>\n",
              "      <th>ALB</th>\n",
              "      <th>AG</th>\n",
              "      <th>selector</th>\n",
              "      <th>Female</th>\n",
              "      <th>Male</th>\n",
              "    </tr>\n",
              "  </thead>\n",
              "  <tbody>\n",
              "    <tr>\n",
              "      <th>0</th>\n",
              "      <td>65</td>\n",
              "      <td>Female</td>\n",
              "      <td>0.7</td>\n",
              "      <td>0.1</td>\n",
              "      <td>187</td>\n",
              "      <td>16</td>\n",
              "      <td>18</td>\n",
              "      <td>6.8</td>\n",
              "      <td>3.3</td>\n",
              "      <td>0.90</td>\n",
              "      <td>1</td>\n",
              "      <td>1</td>\n",
              "      <td>0</td>\n",
              "    </tr>\n",
              "    <tr>\n",
              "      <th>1</th>\n",
              "      <td>62</td>\n",
              "      <td>Male</td>\n",
              "      <td>10.9</td>\n",
              "      <td>5.5</td>\n",
              "      <td>699</td>\n",
              "      <td>64</td>\n",
              "      <td>100</td>\n",
              "      <td>7.5</td>\n",
              "      <td>3.2</td>\n",
              "      <td>0.74</td>\n",
              "      <td>1</td>\n",
              "      <td>0</td>\n",
              "      <td>1</td>\n",
              "    </tr>\n",
              "    <tr>\n",
              "      <th>2</th>\n",
              "      <td>62</td>\n",
              "      <td>Male</td>\n",
              "      <td>7.3</td>\n",
              "      <td>4.1</td>\n",
              "      <td>490</td>\n",
              "      <td>60</td>\n",
              "      <td>68</td>\n",
              "      <td>7.0</td>\n",
              "      <td>3.3</td>\n",
              "      <td>0.89</td>\n",
              "      <td>1</td>\n",
              "      <td>0</td>\n",
              "      <td>1</td>\n",
              "    </tr>\n",
              "    <tr>\n",
              "      <th>3</th>\n",
              "      <td>58</td>\n",
              "      <td>Male</td>\n",
              "      <td>1.0</td>\n",
              "      <td>0.4</td>\n",
              "      <td>182</td>\n",
              "      <td>14</td>\n",
              "      <td>20</td>\n",
              "      <td>6.8</td>\n",
              "      <td>3.4</td>\n",
              "      <td>1.00</td>\n",
              "      <td>1</td>\n",
              "      <td>0</td>\n",
              "      <td>1</td>\n",
              "    </tr>\n",
              "    <tr>\n",
              "      <th>4</th>\n",
              "      <td>72</td>\n",
              "      <td>Male</td>\n",
              "      <td>3.9</td>\n",
              "      <td>2.0</td>\n",
              "      <td>195</td>\n",
              "      <td>27</td>\n",
              "      <td>59</td>\n",
              "      <td>7.3</td>\n",
              "      <td>2.4</td>\n",
              "      <td>0.40</td>\n",
              "      <td>1</td>\n",
              "      <td>0</td>\n",
              "      <td>1</td>\n",
              "    </tr>\n",
              "    <tr>\n",
              "      <th>...</th>\n",
              "      <td>...</td>\n",
              "      <td>...</td>\n",
              "      <td>...</td>\n",
              "      <td>...</td>\n",
              "      <td>...</td>\n",
              "      <td>...</td>\n",
              "      <td>...</td>\n",
              "      <td>...</td>\n",
              "      <td>...</td>\n",
              "      <td>...</td>\n",
              "      <td>...</td>\n",
              "      <td>...</td>\n",
              "      <td>...</td>\n",
              "    </tr>\n",
              "    <tr>\n",
              "      <th>578</th>\n",
              "      <td>60</td>\n",
              "      <td>Male</td>\n",
              "      <td>0.5</td>\n",
              "      <td>0.1</td>\n",
              "      <td>500</td>\n",
              "      <td>20</td>\n",
              "      <td>34</td>\n",
              "      <td>5.9</td>\n",
              "      <td>1.6</td>\n",
              "      <td>0.37</td>\n",
              "      <td>2</td>\n",
              "      <td>0</td>\n",
              "      <td>1</td>\n",
              "    </tr>\n",
              "    <tr>\n",
              "      <th>579</th>\n",
              "      <td>40</td>\n",
              "      <td>Male</td>\n",
              "      <td>0.6</td>\n",
              "      <td>0.1</td>\n",
              "      <td>98</td>\n",
              "      <td>35</td>\n",
              "      <td>31</td>\n",
              "      <td>6.0</td>\n",
              "      <td>3.2</td>\n",
              "      <td>1.10</td>\n",
              "      <td>1</td>\n",
              "      <td>0</td>\n",
              "      <td>1</td>\n",
              "    </tr>\n",
              "    <tr>\n",
              "      <th>580</th>\n",
              "      <td>52</td>\n",
              "      <td>Male</td>\n",
              "      <td>0.8</td>\n",
              "      <td>0.2</td>\n",
              "      <td>245</td>\n",
              "      <td>48</td>\n",
              "      <td>49</td>\n",
              "      <td>6.4</td>\n",
              "      <td>3.2</td>\n",
              "      <td>1.00</td>\n",
              "      <td>1</td>\n",
              "      <td>0</td>\n",
              "      <td>1</td>\n",
              "    </tr>\n",
              "    <tr>\n",
              "      <th>581</th>\n",
              "      <td>31</td>\n",
              "      <td>Male</td>\n",
              "      <td>1.3</td>\n",
              "      <td>0.5</td>\n",
              "      <td>184</td>\n",
              "      <td>29</td>\n",
              "      <td>32</td>\n",
              "      <td>6.8</td>\n",
              "      <td>3.4</td>\n",
              "      <td>1.00</td>\n",
              "      <td>1</td>\n",
              "      <td>0</td>\n",
              "      <td>1</td>\n",
              "    </tr>\n",
              "    <tr>\n",
              "      <th>582</th>\n",
              "      <td>38</td>\n",
              "      <td>Male</td>\n",
              "      <td>1.0</td>\n",
              "      <td>0.3</td>\n",
              "      <td>216</td>\n",
              "      <td>21</td>\n",
              "      <td>24</td>\n",
              "      <td>7.3</td>\n",
              "      <td>4.4</td>\n",
              "      <td>1.50</td>\n",
              "      <td>2</td>\n",
              "      <td>0</td>\n",
              "      <td>1</td>\n",
              "    </tr>\n",
              "  </tbody>\n",
              "</table>\n",
              "<p>579 rows × 13 columns</p>\n",
              "</div>"
            ],
            "text/plain": [
              "     age  gender    TB   DB  AAP  sgpt  ...   TP  ALB    AG  selector  Female  Male\n",
              "0     65  Female   0.7  0.1  187    16  ...  6.8  3.3  0.90         1       1     0\n",
              "1     62    Male  10.9  5.5  699    64  ...  7.5  3.2  0.74         1       0     1\n",
              "2     62    Male   7.3  4.1  490    60  ...  7.0  3.3  0.89         1       0     1\n",
              "3     58    Male   1.0  0.4  182    14  ...  6.8  3.4  1.00         1       0     1\n",
              "4     72    Male   3.9  2.0  195    27  ...  7.3  2.4  0.40         1       0     1\n",
              "..   ...     ...   ...  ...  ...   ...  ...  ...  ...   ...       ...     ...   ...\n",
              "578   60    Male   0.5  0.1  500    20  ...  5.9  1.6  0.37         2       0     1\n",
              "579   40    Male   0.6  0.1   98    35  ...  6.0  3.2  1.10         1       0     1\n",
              "580   52    Male   0.8  0.2  245    48  ...  6.4  3.2  1.00         1       0     1\n",
              "581   31    Male   1.3  0.5  184    29  ...  6.8  3.4  1.00         1       0     1\n",
              "582   38    Male   1.0  0.3  216    21  ...  7.3  4.4  1.50         2       0     1\n",
              "\n",
              "[579 rows x 13 columns]"
            ]
          },
          "metadata": {
            "tags": []
          },
          "execution_count": 35
        }
      ]
    },
    {
      "cell_type": "code",
      "metadata": {
        "id": "t2zZApPDuS5c"
      },
      "source": [
        "sure.drop_duplicates(inplace= True)"
      ],
      "execution_count": null,
      "outputs": []
    },
    {
      "cell_type": "markdown",
      "metadata": {
        "id": "-hZhRQb2uM44"
      },
      "source": [
        "#EDA"
      ]
    },
    {
      "cell_type": "code",
      "metadata": {
        "id": "-PW5gqxpucgE"
      },
      "source": [
        "toeda = sure.copy()"
      ],
      "execution_count": null,
      "outputs": []
    },
    {
      "cell_type": "markdown",
      "metadata": {
        "id": "5d_kWp220ifs"
      },
      "source": [
        "##For class balance"
      ]
    },
    {
      "cell_type": "code",
      "metadata": {
        "colab": {
          "base_uri": "https://localhost:8080/",
          "height": 351
        },
        "id": "vDxm4KaXuiy-",
        "outputId": "40486c28-c55e-4c15-8fe0-108eb81ff448"
      },
      "source": [
        "sns.countplot(toeda['gender'])"
      ],
      "execution_count": null,
      "outputs": [
        {
          "output_type": "stream",
          "text": [
            "/usr/local/lib/python3.6/dist-packages/seaborn/_decorators.py:43: FutureWarning: Pass the following variable as a keyword arg: x. From version 0.12, the only valid positional argument will be `data`, and passing other arguments without an explicit keyword will result in an error or misinterpretation.\n",
            "  FutureWarning\n"
          ],
          "name": "stderr"
        },
        {
          "output_type": "execute_result",
          "data": {
            "text/plain": [
              "<matplotlib.axes._subplots.AxesSubplot at 0x7f5b8d76d978>"
            ]
          },
          "metadata": {
            "tags": []
          },
          "execution_count": 40
        },
        {
          "output_type": "display_data",
          "data": {
            "image/png": "[encoded data removed]",
            "text/plain": [
              "<Figure size 432x288 with 1 Axes>"
            ]
          },
          "metadata": {
            "tags": [],
            "needs_background": "light"
          }
        }
      ]
    },
    {
      "cell_type": "code",
      "metadata": {
        "colab": {
          "base_uri": "https://localhost:8080/",
          "height": 351
        },
        "id": "HfDzanmVvH8j",
        "outputId": "3bce0706-8c8e-4d27-ae53-61c46e44bee7"
      },
      "source": [
        "sns.countplot(toeda['selector'])"
      ],
      "execution_count": null,
      "outputs": [
        {
          "output_type": "stream",
          "text": [
            "/usr/local/lib/python3.6/dist-packages/seaborn/_decorators.py:43: FutureWarning: Pass the following variable as a keyword arg: x. From version 0.12, the only valid positional argument will be `data`, and passing other arguments without an explicit keyword will result in an error or misinterpretation.\n",
            "  FutureWarning\n"
          ],
          "name": "stderr"
        },
        {
          "output_type": "execute_result",
          "data": {
            "text/plain": [
              "<matplotlib.axes._subplots.AxesSubplot at 0x7f5b8d587438>"
            ]
          },
          "metadata": {
            "tags": []
          },
          "execution_count": 41
        },
        {
          "output_type": "display_data",
          "data": {
            "image/png": "[encoded data removed]",
            "text/plain": [
              "<Figure size 432x288 with 1 Axes>"
            ]
          },
          "metadata": {
            "tags": [],
            "needs_background": "light"
          }
        }
      ]
    },
    {
      "cell_type": "code",
      "metadata": {
        "id": "CghUv0Ya1sit",
        "colab": {
          "base_uri": "https://localhost:8080/"
        },
        "outputId": "b2b57f76-869d-4864-d268-59aad0f6a950"
      },
      "source": [
        "toeda['selector'].value_counts()"
      ],
      "execution_count": null,
      "outputs": [
        {
          "output_type": "execute_result",
          "data": {
            "text/plain": [
              "1    404\n",
              "2    162\n",
              "Name: selector, dtype: int64"
            ]
          },
          "metadata": {
            "tags": []
          },
          "execution_count": 55
        }
      ]
    },
    {
      "cell_type": "markdown",
      "metadata": {
        "id": "yxrgrpo-2PRM"
      },
      "source": [
        "This data set contains 416 liver patient records and 167 non liver patient records.The data set was collected from north east of Andhra Pradesh, India. Selector is a class label used to divide into groups(liver patient or not). This data set contains 441 male patient records and 142 female patient records.\n",
        "\n",
        "Any patient whose age exceeded 89 is listed as being of age \"90\"."
      ]
    },
    {
      "cell_type": "markdown",
      "metadata": {
        "id": "tRp2DOed0t0N"
      },
      "source": [
        "##Correlation"
      ]
    },
    {
      "cell_type": "code",
      "metadata": {
        "colab": {
          "base_uri": "https://localhost:8080/",
          "height": 316
        },
        "id": "AWm38jVxvRRV",
        "outputId": "1f9f2858-54f0-4402-e717-391fbdf7d452"
      },
      "source": [
        "sns.heatmap(toeda.corr())"
      ],
      "execution_count": null,
      "outputs": [
        {
          "output_type": "execute_result",
          "data": {
            "text/plain": [
              "<matplotlib.axes._subplots.AxesSubplot at 0x7f5b8d0b8b00>"
            ]
          },
          "metadata": {
            "tags": []
          },
          "execution_count": 42
        },
        {
          "output_type": "display_data",
          "data": {
            "image/png": "[encoded data removed]",
            "text/plain": [
              "<Figure size 432x288 with 2 Axes>"
            ]
          },
          "metadata": {
            "tags": [],
            "needs_background": "light"
          }
        }
      ]
    },
    {
      "cell_type": "code",
      "metadata": {
        "id": "4_3rVUOt05ZB",
        "colab": {
          "base_uri": "https://localhost:8080/",
          "height": 426
        },
        "outputId": "f8b58f87-fff5-4e88-e03c-42f455b10415"
      },
      "source": [
        "toeda.corr()"
      ],
      "execution_count": null,
      "outputs": [
        {
          "output_type": "execute_result",
          "data": {
            "text/html": [
              "<div>\n",
              "<style scoped>\n",
              "    .dataframe tbody tr th:only-of-type {\n",
              "        vertical-align: middle;\n",
              "    }\n",
              "\n",
              "    .dataframe tbody tr th {\n",
              "        vertical-align: top;\n",
              "    }\n",
              "\n",
              "    .dataframe thead th {\n",
              "        text-align: right;\n",
              "    }\n",
              "</style>\n",
              "<table border=\"1\" class=\"dataframe\">\n",
              "  <thead>\n",
              "    <tr style=\"text-align: right;\">\n",
              "      <th></th>\n",
              "      <th>age</th>\n",
              "      <th>TB</th>\n",
              "      <th>DB</th>\n",
              "      <th>AAP</th>\n",
              "      <th>sgpt</th>\n",
              "      <th>sgot</th>\n",
              "      <th>TP</th>\n",
              "      <th>ALB</th>\n",
              "      <th>AG</th>\n",
              "      <th>selector</th>\n",
              "      <th>Female</th>\n",
              "      <th>Male</th>\n",
              "    </tr>\n",
              "  </thead>\n",
              "  <tbody>\n",
              "    <tr>\n",
              "      <th>age</th>\n",
              "      <td>1.000000</td>\n",
              "      <td>0.010704</td>\n",
              "      <td>0.006268</td>\n",
              "      <td>0.080085</td>\n",
              "      <td>-0.084319</td>\n",
              "      <td>-0.017352</td>\n",
              "      <td>-0.195893</td>\n",
              "      <td>-0.269448</td>\n",
              "      <td>-0.215967</td>\n",
              "      <td>-0.133821</td>\n",
              "      <td>-0.057542</td>\n",
              "      <td>0.057542</td>\n",
              "    </tr>\n",
              "    <tr>\n",
              "      <th>TB</th>\n",
              "      <td>0.010704</td>\n",
              "      <td>1.000000</td>\n",
              "      <td>0.873975</td>\n",
              "      <td>0.205286</td>\n",
              "      <td>0.216776</td>\n",
              "      <td>0.238167</td>\n",
              "      <td>-0.008423</td>\n",
              "      <td>-0.223979</td>\n",
              "      <td>-0.207740</td>\n",
              "      <td>-0.224467</td>\n",
              "      <td>-0.089068</td>\n",
              "      <td>0.089068</td>\n",
              "    </tr>\n",
              "    <tr>\n",
              "      <th>DB</th>\n",
              "      <td>0.006268</td>\n",
              "      <td>0.873975</td>\n",
              "      <td>1.000000</td>\n",
              "      <td>0.233653</td>\n",
              "      <td>0.236731</td>\n",
              "      <td>0.257965</td>\n",
              "      <td>-0.000735</td>\n",
              "      <td>-0.230650</td>\n",
              "      <td>-0.201519</td>\n",
              "      <td>-0.250926</td>\n",
              "      <td>-0.100448</td>\n",
              "      <td>0.100448</td>\n",
              "    </tr>\n",
              "    <tr>\n",
              "      <th>AAP</th>\n",
              "      <td>0.080085</td>\n",
              "      <td>0.205286</td>\n",
              "      <td>0.233653</td>\n",
              "      <td>1.000000</td>\n",
              "      <td>0.125917</td>\n",
              "      <td>0.166609</td>\n",
              "      <td>-0.028623</td>\n",
              "      <td>-0.166287</td>\n",
              "      <td>-0.236251</td>\n",
              "      <td>-0.186057</td>\n",
              "      <td>0.024879</td>\n",
              "      <td>-0.024879</td>\n",
              "    </tr>\n",
              "    <tr>\n",
              "      <th>sgpt</th>\n",
              "      <td>-0.084319</td>\n",
              "      <td>0.216776</td>\n",
              "      <td>0.236731</td>\n",
              "      <td>0.125917</td>\n",
              "      <td>1.000000</td>\n",
              "      <td>0.791754</td>\n",
              "      <td>-0.035104</td>\n",
              "      <td>-0.026890</td>\n",
              "      <td>-0.006525</td>\n",
              "      <td>-0.161617</td>\n",
              "      <td>-0.083336</td>\n",
              "      <td>0.083336</td>\n",
              "    </tr>\n",
              "    <tr>\n",
              "      <th>sgot</th>\n",
              "      <td>-0.017352</td>\n",
              "      <td>0.238167</td>\n",
              "      <td>0.257965</td>\n",
              "      <td>0.166609</td>\n",
              "      <td>0.791754</td>\n",
              "      <td>1.000000</td>\n",
              "      <td>-0.022114</td>\n",
              "      <td>-0.084821</td>\n",
              "      <td>-0.072899</td>\n",
              "      <td>-0.151009</td>\n",
              "      <td>-0.080593</td>\n",
              "      <td>0.080593</td>\n",
              "    </tr>\n",
              "    <tr>\n",
              "      <th>TP</th>\n",
              "      <td>-0.195893</td>\n",
              "      <td>-0.008423</td>\n",
              "      <td>-0.000735</td>\n",
              "      <td>-0.028623</td>\n",
              "      <td>-0.035104</td>\n",
              "      <td>-0.022114</td>\n",
              "      <td>1.000000</td>\n",
              "      <td>0.783800</td>\n",
              "      <td>0.234576</td>\n",
              "      <td>0.036443</td>\n",
              "      <td>0.092049</td>\n",
              "      <td>-0.092049</td>\n",
              "    </tr>\n",
              "    <tr>\n",
              "      <th>ALB</th>\n",
              "      <td>-0.269448</td>\n",
              "      <td>-0.223979</td>\n",
              "      <td>-0.230650</td>\n",
              "      <td>-0.166287</td>\n",
              "      <td>-0.026890</td>\n",
              "      <td>-0.084821</td>\n",
              "      <td>0.783800</td>\n",
              "      <td>1.000000</td>\n",
              "      <td>0.687438</td>\n",
              "      <td>0.165273</td>\n",
              "      <td>0.093208</td>\n",
              "      <td>-0.093208</td>\n",
              "    </tr>\n",
              "    <tr>\n",
              "      <th>AG</th>\n",
              "      <td>-0.215967</td>\n",
              "      <td>-0.207740</td>\n",
              "      <td>-0.201519</td>\n",
              "      <td>-0.236251</td>\n",
              "      <td>-0.006525</td>\n",
              "      <td>-0.072899</td>\n",
              "      <td>0.234576</td>\n",
              "      <td>0.687438</td>\n",
              "      <td>1.000000</td>\n",
              "      <td>0.171402</td>\n",
              "      <td>0.005611</td>\n",
              "      <td>-0.005611</td>\n",
              "    </tr>\n",
              "    <tr>\n",
              "      <th>selector</th>\n",
              "      <td>-0.133821</td>\n",
              "      <td>-0.224467</td>\n",
              "      <td>-0.250926</td>\n",
              "      <td>-0.186057</td>\n",
              "      <td>-0.161617</td>\n",
              "      <td>-0.151009</td>\n",
              "      <td>0.036443</td>\n",
              "      <td>0.165273</td>\n",
              "      <td>0.171402</td>\n",
              "      <td>1.000000</td>\n",
              "      <td>0.077396</td>\n",
              "      <td>-0.077396</td>\n",
              "    </tr>\n",
              "    <tr>\n",
              "      <th>Female</th>\n",
              "      <td>-0.057542</td>\n",
              "      <td>-0.089068</td>\n",
              "      <td>-0.100448</td>\n",
              "      <td>0.024879</td>\n",
              "      <td>-0.083336</td>\n",
              "      <td>-0.080593</td>\n",
              "      <td>0.092049</td>\n",
              "      <td>0.093208</td>\n",
              "      <td>0.005611</td>\n",
              "      <td>0.077396</td>\n",
              "      <td>1.000000</td>\n",
              "      <td>-1.000000</td>\n",
              "    </tr>\n",
              "    <tr>\n",
              "      <th>Male</th>\n",
              "      <td>0.057542</td>\n",
              "      <td>0.089068</td>\n",
              "      <td>0.100448</td>\n",
              "      <td>-0.024879</td>\n",
              "      <td>0.083336</td>\n",
              "      <td>0.080593</td>\n",
              "      <td>-0.092049</td>\n",
              "      <td>-0.093208</td>\n",
              "      <td>-0.005611</td>\n",
              "      <td>-0.077396</td>\n",
              "      <td>-1.000000</td>\n",
              "      <td>1.000000</td>\n",
              "    </tr>\n",
              "  </tbody>\n",
              "</table>\n",
              "</div>"
            ],
            "text/plain": [
              "               age        TB        DB  ...  selector    Female      Male\n",
              "age       1.000000  0.010704  0.006268  ... -0.133821 -0.057542  0.057542\n",
              "TB        0.010704  1.000000  0.873975  ... -0.224467 -0.089068  0.089068\n",
              "DB        0.006268  0.873975  1.000000  ... -0.250926 -0.100448  0.100448\n",
              "AAP       0.080085  0.205286  0.233653  ... -0.186057  0.024879 -0.024879\n",
              "sgpt     -0.084319  0.216776  0.236731  ... -0.161617 -0.083336  0.083336\n",
              "sgot     -0.017352  0.238167  0.257965  ... -0.151009 -0.080593  0.080593\n",
              "TP       -0.195893 -0.008423 -0.000735  ...  0.036443  0.092049 -0.092049\n",
              "ALB      -0.269448 -0.223979 -0.230650  ...  0.165273  0.093208 -0.093208\n",
              "AG       -0.215967 -0.207740 -0.201519  ...  0.171402  0.005611 -0.005611\n",
              "selector -0.133821 -0.224467 -0.250926  ...  1.000000  0.077396 -0.077396\n",
              "Female   -0.057542 -0.089068 -0.100448  ...  0.077396  1.000000 -1.000000\n",
              "Male      0.057542  0.089068  0.100448  ... -0.077396 -1.000000  1.000000\n",
              "\n",
              "[12 rows x 12 columns]"
            ]
          },
          "metadata": {
            "tags": []
          },
          "execution_count": 53
        }
      ]
    },
    {
      "cell_type": "markdown",
      "metadata": {
        "id": "PGB5EV530xtP"
      },
      "source": [
        "##Distribution vs optimum"
      ]
    },
    {
      "cell_type": "code",
      "metadata": {
        "colab": {
          "base_uri": "https://localhost:8080/",
          "height": 351
        },
        "id": "b57defjvvop8",
        "outputId": "b5e0145c-c889-415c-f635-7e9e5a16a1f6"
      },
      "source": [
        "sns.distplot(toeda['TB'])"
      ],
      "execution_count": null,
      "outputs": [
        {
          "output_type": "stream",
          "text": [
            "/usr/local/lib/python3.6/dist-packages/seaborn/distributions.py:2551: FutureWarning: `distplot` is a deprecated function and will be removed in a future version. Please adapt your code to use either `displot` (a figure-level function with similar flexibility) or `histplot` (an axes-level function for histograms).\n",
            "  warnings.warn(msg, FutureWarning)\n"
          ],
          "name": "stderr"
        },
        {
          "output_type": "execute_result",
          "data": {
            "text/plain": [
              "<matplotlib.axes._subplots.AxesSubplot at 0x7f5b8a5df2b0>"
            ]
          },
          "metadata": {
            "tags": []
          },
          "execution_count": 44
        },
        {
          "output_type": "display_data",
          "data": {
            "image/png": "[encoded data removed]",
            "text/plain": [
              "<Figure size 432x288 with 1 Axes>"
            ]
          },
          "metadata": {
            "tags": [],
            "needs_background": "light"
          }
        }
      ]
    },
    {
      "cell_type": "code",
      "metadata": {
        "colab": {
          "base_uri": "https://localhost:8080/",
          "height": 351
        },
        "id": "ozD-pocVxpE4",
        "outputId": "998cacf2-3254-4cdc-d942-a8e6a433abcd"
      },
      "source": [
        "sns.distplot(toeda['DB'])"
      ],
      "execution_count": null,
      "outputs": [
        {
          "output_type": "stream",
          "text": [
            "/usr/local/lib/python3.6/dist-packages/seaborn/distributions.py:2551: FutureWarning: `distplot` is a deprecated function and will be removed in a future version. Please adapt your code to use either `displot` (a figure-level function with similar flexibility) or `histplot` (an axes-level function for histograms).\n",
            "  warnings.warn(msg, FutureWarning)\n"
          ],
          "name": "stderr"
        },
        {
          "output_type": "execute_result",
          "data": {
            "text/plain": [
              "<matplotlib.axes._subplots.AxesSubplot at 0x7f5b8909a6a0>"
            ]
          },
          "metadata": {
            "tags": []
          },
          "execution_count": 46
        },
        {
          "output_type": "display_data",
          "data": {
            "image/png": "[encoded data removed]",
            "text/plain": [
              "<Figure size 432x288 with 1 Axes>"
            ]
          },
          "metadata": {
            "tags": [],
            "needs_background": "light"
          }
        }
      ]
    },
    {
      "cell_type": "code",
      "metadata": {
        "colab": {
          "base_uri": "https://localhost:8080/",
          "height": 351
        },
        "id": "eiEgcGB8yJog",
        "outputId": "d690a76b-1b79-44d1-f993-e5993400f653"
      },
      "source": [
        "sns.distplot(toeda['AAP'])"
      ],
      "execution_count": null,
      "outputs": [
        {
          "output_type": "stream",
          "text": [
            "/usr/local/lib/python3.6/dist-packages/seaborn/distributions.py:2551: FutureWarning: `distplot` is a deprecated function and will be removed in a future version. Please adapt your code to use either `displot` (a figure-level function with similar flexibility) or `histplot` (an axes-level function for histograms).\n",
            "  warnings.warn(msg, FutureWarning)\n"
          ],
          "name": "stderr"
        },
        {
          "output_type": "execute_result",
          "data": {
            "text/plain": [
              "<matplotlib.axes._subplots.AxesSubplot at 0x7f5b88f85ef0>"
            ]
          },
          "metadata": {
            "tags": []
          },
          "execution_count": 47
        },
        {
          "output_type": "display_data",
          "data": {
            "image/png": "[encoded data removed]",
            "text/plain": [
              "<Figure size 432x288 with 1 Axes>"
            ]
          },
          "metadata": {
            "tags": [],
            "needs_background": "light"
          }
        }
      ]
    },
    {
      "cell_type": "code",
      "metadata": {
        "colab": {
          "base_uri": "https://localhost:8080/",
          "height": 351
        },
        "id": "gtNR6bHDyMQb",
        "outputId": "0aff10d4-92cd-4c49-a856-51aaca48e226"
      },
      "source": [
        "sns.distplot(toeda['sgpt'])"
      ],
      "execution_count": null,
      "outputs": [
        {
          "output_type": "stream",
          "text": [
            "/usr/local/lib/python3.6/dist-packages/seaborn/distributions.py:2551: FutureWarning: `distplot` is a deprecated function and will be removed in a future version. Please adapt your code to use either `displot` (a figure-level function with similar flexibility) or `histplot` (an axes-level function for histograms).\n",
            "  warnings.warn(msg, FutureWarning)\n"
          ],
          "name": "stderr"
        },
        {
          "output_type": "execute_result",
          "data": {
            "text/plain": [
              "<matplotlib.axes._subplots.AxesSubplot at 0x7f5b88e6dd68>"
            ]
          },
          "metadata": {
            "tags": []
          },
          "execution_count": 48
        },
        {
          "output_type": "display_data",
          "data": {
            "image/png": "[encoded data removed]",
            "text/plain": [
              "<Figure size 432x288 with 1 Axes>"
            ]
          },
          "metadata": {
            "tags": [],
            "needs_background": "light"
          }
        }
      ]
    },
    {
      "cell_type": "code",
      "metadata": {
        "colab": {
          "base_uri": "https://localhost:8080/",
          "height": 351
        },
        "id": "3n0-ehB7yL4n",
        "outputId": "352c813d-c5a9-4783-9b84-0cd59cb3d7af"
      },
      "source": [
        "sns.distplot(toeda['sgot'])"
      ],
      "execution_count": null,
      "outputs": [
        {
          "output_type": "stream",
          "text": [
            "/usr/local/lib/python3.6/dist-packages/seaborn/distributions.py:2551: FutureWarning: `distplot` is a deprecated function and will be removed in a future version. Please adapt your code to use either `displot` (a figure-level function with similar flexibility) or `histplot` (an axes-level function for histograms).\n",
            "  warnings.warn(msg, FutureWarning)\n"
          ],
          "name": "stderr"
        },
        {
          "output_type": "execute_result",
          "data": {
            "text/plain": [
              "<matplotlib.axes._subplots.AxesSubplot at 0x7f5b88d5e438>"
            ]
          },
          "metadata": {
            "tags": []
          },
          "execution_count": 49
        },
        {
          "output_type": "display_data",
          "data": {
            "image/png": "[encoded data removed]",
            "text/plain": [
              "<Figure size 432x288 with 1 Axes>"
            ]
          },
          "metadata": {
            "tags": [],
            "needs_background": "light"
          }
        }
      ]
    },
    {
      "cell_type": "code",
      "metadata": {
        "colab": {
          "base_uri": "https://localhost:8080/",
          "height": 351
        },
        "id": "UWep6nwRyLql",
        "outputId": "b773ccfe-6bd2-4368-a1b4-47869361d825"
      },
      "source": [
        "sns.distplot(toeda['TP'])"
      ],
      "execution_count": null,
      "outputs": [
        {
          "output_type": "stream",
          "text": [
            "/usr/local/lib/python3.6/dist-packages/seaborn/distributions.py:2551: FutureWarning: `distplot` is a deprecated function and will be removed in a future version. Please adapt your code to use either `displot` (a figure-level function with similar flexibility) or `histplot` (an axes-level function for histograms).\n",
            "  warnings.warn(msg, FutureWarning)\n"
          ],
          "name": "stderr"
        },
        {
          "output_type": "execute_result",
          "data": {
            "text/plain": [
              "<matplotlib.axes._subplots.AxesSubplot at 0x7f5b88cb0128>"
            ]
          },
          "metadata": {
            "tags": []
          },
          "execution_count": 50
        },
        {
          "output_type": "display_data",
          "data": {
            "image/png": "[encoded data removed]",
            "text/plain": [
              "<Figure size 432x288 with 1 Axes>"
            ]
          },
          "metadata": {
            "tags": [],
            "needs_background": "light"
          }
        }
      ]
    },
    {
      "cell_type": "code",
      "metadata": {
        "colab": {
          "base_uri": "https://localhost:8080/",
          "height": 352
        },
        "id": "NkZCZd6RyLcS",
        "outputId": "01ebe3e5-c4bb-4079-aab4-995f08ad69e3"
      },
      "source": [
        "sns.distplot(toeda['ALB'])"
      ],
      "execution_count": null,
      "outputs": [
        {
          "output_type": "stream",
          "text": [
            "/usr/local/lib/python3.6/dist-packages/seaborn/distributions.py:2551: FutureWarning: `distplot` is a deprecated function and will be removed in a future version. Please adapt your code to use either `displot` (a figure-level function with similar flexibility) or `histplot` (an axes-level function for histograms).\n",
            "  warnings.warn(msg, FutureWarning)\n"
          ],
          "name": "stderr"
        },
        {
          "output_type": "execute_result",
          "data": {
            "text/plain": [
              "<matplotlib.axes._subplots.AxesSubplot at 0x7f5b88c4d0b8>"
            ]
          },
          "metadata": {
            "tags": []
          },
          "execution_count": 51
        },
        {
          "output_type": "display_data",
          "data": {
            "image/png": "[encoded data removed]",
            "text/plain": [
              "<Figure size 432x288 with 1 Axes>"
            ]
          },
          "metadata": {
            "tags": [],
            "needs_background": "light"
          }
        }
      ]
    },
    {
      "cell_type": "code",
      "metadata": {
        "colab": {
          "base_uri": "https://localhost:8080/",
          "height": 351
        },
        "id": "OGpBe4mvyLMV",
        "outputId": "bd31aa9f-eb34-43f6-fd46-44bce4cd0bcb"
      },
      "source": [
        "sns.distplot(toeda['AG'])"
      ],
      "execution_count": null,
      "outputs": [
        {
          "output_type": "stream",
          "text": [
            "/usr/local/lib/python3.6/dist-packages/seaborn/distributions.py:2551: FutureWarning: `distplot` is a deprecated function and will be removed in a future version. Please adapt your code to use either `displot` (a figure-level function with similar flexibility) or `histplot` (an axes-level function for histograms).\n",
            "  warnings.warn(msg, FutureWarning)\n"
          ],
          "name": "stderr"
        },
        {
          "output_type": "execute_result",
          "data": {
            "text/plain": [
              "<matplotlib.axes._subplots.AxesSubplot at 0x7f5b88c08048>"
            ]
          },
          "metadata": {
            "tags": []
          },
          "execution_count": 52
        },
        {
          "output_type": "display_data",
          "data": {
            "image/png": "[encoded data removed]",
            "text/plain": [
              "<Figure size 432x288 with 1 Axes>"
            ]
          },
          "metadata": {
            "tags": [],
            "needs_background": "light"
          }
        }
      ]
    },
    {
      "cell_type": "markdown",
      "metadata": {
        "id": "pz4jdfthyha9"
      },
      "source": [
        "#VIF"
      ]
    },
    {
      "cell_type": "code",
      "metadata": {
        "id": "1spQ1cUhy2bj"
      },
      "source": [
        ""
      ],
      "execution_count": null,
      "outputs": []
    },
    {
      "cell_type": "markdown",
      "metadata": {
        "id": "DZOV-k5WQ1Zc"
      },
      "source": [
        "# Models"
      ]
    },
    {
      "cell_type": "code",
      "metadata": {
        "id": "To_Nz2FKS369"
      },
      "source": [
        "from sklearn.preprocessing import LabelEncoder\r\n",
        "le = LabelEncoder()\r\n",
        "\r\n",
        "data['gender'] = le.fit_transform(data['gender'])"
      ],
      "execution_count": null,
      "outputs": []
    },
    {
      "cell_type": "code",
      "metadata": {
        "id": "tyh7i_4xReH3"
      },
      "source": [
        "X = data.drop(['selector'], axis=1)\r\n",
        "y = data['selector']"
      ],
      "execution_count": null,
      "outputs": []
    },
    {
      "cell_type": "code",
      "metadata": {
        "colab": {
          "base_uri": "https://localhost:8080/"
        },
        "id": "nNT_tJm0Sso3",
        "outputId": "e2fad7bd-68f6-4fac-cdb9-55d074ece88a"
      },
      "source": [
        "y.value_counts()"
      ],
      "execution_count": null,
      "outputs": [
        {
          "output_type": "execute_result",
          "data": {
            "text/plain": [
              "1    414\n",
              "2    165\n",
              "Name: selector, dtype: int64"
            ]
          },
          "metadata": {
            "tags": []
          },
          "execution_count": 18
        }
      ]
    },
    {
      "cell_type": "code",
      "metadata": {
        "colab": {
          "base_uri": "https://localhost:8080/"
        },
        "id": "nfp8nWLTKqNN",
        "outputId": "50b38825-c110-4668-f757-f9dd795bd660"
      },
      "source": [
        "from imblearn.under_sampling import NearMiss"
      ],
      "execution_count": null,
      "outputs": [
        {
          "output_type": "stream",
          "text": [
            "/usr/local/lib/python3.6/dist-packages/sklearn/externals/six.py:31: FutureWarning: The module is deprecated in version 0.21 and will be removed in version 0.23 since we've dropped support for Python 2.7. Please rely on the official version of six (https://pypi.org/project/six/).\n",
            "  \"(https://pypi.org/project/six/).\", FutureWarning)\n",
            "/usr/local/lib/python3.6/dist-packages/sklearn/utils/deprecation.py:144: FutureWarning: The sklearn.neighbors.base module is  deprecated in version 0.22 and will be removed in version 0.24. The corresponding classes / functions should instead be imported from sklearn.neighbors. Anything that cannot be imported from sklearn.neighbors is now part of the private API.\n",
            "  warnings.warn(message, FutureWarning)\n"
          ],
          "name": "stderr"
        }
      ]
    },
    {
      "cell_type": "code",
      "metadata": {
        "colab": {
          "base_uri": "https://localhost:8080/"
        },
        "id": "PAFwgRRtK7HP",
        "outputId": "77d1651d-febc-40af-f770-50951e7d8144"
      },
      "source": [
        "nm = NearMiss(random_state=42)\r\n",
        "X, y = nm.fit_sample(X, y)"
      ],
      "execution_count": null,
      "outputs": [
        {
          "output_type": "stream",
          "text": [
            "/usr/local/lib/python3.6/dist-packages/sklearn/utils/deprecation.py:87: FutureWarning: Function safe_indexing is deprecated; safe_indexing is deprecated in version 0.22 and will be removed in version 0.24.\n",
            "  warnings.warn(msg, category=FutureWarning)\n",
            "/usr/local/lib/python3.6/dist-packages/sklearn/utils/deprecation.py:87: FutureWarning: Function safe_indexing is deprecated; safe_indexing is deprecated in version 0.22 and will be removed in version 0.24.\n",
            "  warnings.warn(msg, category=FutureWarning)\n",
            "/usr/local/lib/python3.6/dist-packages/sklearn/utils/deprecation.py:87: FutureWarning: Function safe_indexing is deprecated; safe_indexing is deprecated in version 0.22 and will be removed in version 0.24.\n",
            "  warnings.warn(msg, category=FutureWarning)\n"
          ],
          "name": "stderr"
        }
      ]
    },
    {
      "cell_type": "code",
      "metadata": {
        "colab": {
          "base_uri": "https://localhost:8080/"
        },
        "id": "PIz_DNDrSy9V",
        "outputId": "6804a7d4-868d-4a8f-bc8e-e2ab655bdcfd"
      },
      "source": [
        "np.unique(y, return_counts=True)"
      ],
      "execution_count": null,
      "outputs": [
        {
          "output_type": "execute_result",
          "data": {
            "text/plain": [
              "(array([1, 2]), array([165, 165]))"
            ]
          },
          "metadata": {
            "tags": []
          },
          "execution_count": 21
        }
      ]
    },
    {
      "cell_type": "markdown",
      "metadata": {
        "id": "sLtmvWeAUdhl"
      },
      "source": [
        "## RandomForestClassifier"
      ]
    },
    {
      "cell_type": "code",
      "metadata": {
        "id": "gwHy27fjZ0i9"
      },
      "source": [
        "test_features = data.columns.to_list()\r\n",
        "test_features.remove('selector')"
      ],
      "execution_count": null,
      "outputs": []
    },
    {
      "cell_type": "code",
      "metadata": {
        "id": "kLvJmfrlZ1d5"
      },
      "source": [
        "from sklearn.model_selection import train_test_split\r\n",
        "x_train, x_test, y_train, y_test = train_test_split(X, y, test_size=0.3, random_state=0)"
      ],
      "execution_count": null,
      "outputs": []
    },
    {
      "cell_type": "code",
      "metadata": {
        "id": "yET3ne3tZ9Lh"
      },
      "source": [
        "from sklearn.preprocessing import StandardScaler\r\n",
        "\r\n",
        "sc = StandardScaler()\r\n",
        "\r\n",
        "x_train = sc.fit_transform(x_train)\r\n",
        "x_test = sc.fit_transform(x_test)"
      ],
      "execution_count": null,
      "outputs": []
    },
    {
      "cell_type": "code",
      "metadata": {
        "id": "JHDTpSRNaEEM"
      },
      "source": [
        "from sklearn.model_selection import GridSearchCV\r\n",
        "from sklearn.ensemble import RandomForestClassifier\r\n",
        "\r\n",
        "# Create the parameter grid based on the results of random search \r\n",
        "param_grid = {\r\n",
        "    'bootstrap': [True],\r\n",
        "    'max_depth': [80, 90, 100, 110],\r\n",
        "    'max_features': ['auto', 'sqrt', 'log2', None],\r\n",
        "    'min_samples_leaf': [3, 4, 5],\r\n",
        "    'min_samples_split': [8, 10, 12],\r\n",
        "    'n_estimators': [100, 200, 300, 1000],\r\n",
        "    'class_weight': ['balanced', 'balanced_subsample', None]\r\n",
        "}\r\n",
        "\r\n",
        "# Create a based model\r\n",
        "rf = RandomForestClassifier()\r\n",
        "\r\n",
        "# Instantiate the grid search model\r\n",
        "grid_search = GridSearchCV(estimator = rf, \r\n",
        "                           param_grid = param_grid, \r\n",
        "                           cv = 10, \r\n",
        "                           n_jobs = -1, \r\n",
        "                           verbose = 2)"
      ],
      "execution_count": null,
      "outputs": []
    },
    {
      "cell_type": "code",
      "metadata": {
        "colab": {
          "base_uri": "https://localhost:8080/"
        },
        "id": "CPTViO5eaH04",
        "outputId": "3219c9a0-592c-4fd8-a03b-1a938cbfe72d"
      },
      "source": [
        "# Fit the grid search to the data\r\n",
        "grid_search.fit(x_train, y_train)\r\n",
        "grid_search.best_params_"
      ],
      "execution_count": null,
      "outputs": [
        {
          "output_type": "stream",
          "text": [
            "Fitting 10 folds for each of 1728 candidates, totalling 17280 fits\n"
          ],
          "name": "stdout"
        },
        {
          "output_type": "stream",
          "text": [
            "[Parallel(n_jobs=-1)]: Using backend LokyBackend with 2 concurrent workers.\n",
            "[Parallel(n_jobs=-1)]: Done  37 tasks      | elapsed:   18.6s\n",
            "[Parallel(n_jobs=-1)]: Done 158 tasks      | elapsed:  1.3min\n",
            "[Parallel(n_jobs=-1)]: Done 361 tasks      | elapsed:  3.0min\n",
            "[Parallel(n_jobs=-1)]: Done 644 tasks      | elapsed:  5.3min\n",
            "[Parallel(n_jobs=-1)]: Done 1009 tasks      | elapsed:  8.3min\n",
            "[Parallel(n_jobs=-1)]: Done 1454 tasks      | elapsed: 12.5min\n",
            "[Parallel(n_jobs=-1)]: Done 1981 tasks      | elapsed: 16.8min\n",
            "[Parallel(n_jobs=-1)]: Done 2588 tasks      | elapsed: 21.9min\n",
            "[Parallel(n_jobs=-1)]: Done 3277 tasks      | elapsed: 28.1min\n",
            "[Parallel(n_jobs=-1)]: Done 4046 tasks      | elapsed: 34.6min\n",
            "[Parallel(n_jobs=-1)]: Done 4897 tasks      | elapsed: 41.9min\n",
            "[Parallel(n_jobs=-1)]: Done 5828 tasks      | elapsed: 50.2min\n",
            "[Parallel(n_jobs=-1)]: Done 6841 tasks      | elapsed: 60.3min\n",
            "[Parallel(n_jobs=-1)]: Done 7934 tasks      | elapsed: 71.5min\n",
            "[Parallel(n_jobs=-1)]: Done 9109 tasks      | elapsed: 83.5min\n",
            "[Parallel(n_jobs=-1)]: Done 10364 tasks      | elapsed: 96.5min\n",
            "[Parallel(n_jobs=-1)]: Done 11701 tasks      | elapsed: 109.8min\n",
            "[Parallel(n_jobs=-1)]: Done 13118 tasks      | elapsed: 122.1min\n",
            "[Parallel(n_jobs=-1)]: Done 14617 tasks      | elapsed: 135.0min\n",
            "[Parallel(n_jobs=-1)]: Done 16196 tasks      | elapsed: 148.5min\n",
            "[Parallel(n_jobs=-1)]: Done 17280 out of 17280 | elapsed: 158.1min finished\n"
          ],
          "name": "stderr"
        },
        {
          "output_type": "execute_result",
          "data": {
            "text/plain": [
              "{'bootstrap': True,\n",
              " 'class_weight': 'balanced_subsample',\n",
              " 'max_depth': 90,\n",
              " 'max_features': 'sqrt',\n",
              " 'min_samples_leaf': 4,\n",
              " 'min_samples_split': 8,\n",
              " 'n_estimators': 100}"
            ]
          },
          "metadata": {
            "tags": []
          },
          "execution_count": 73
        }
      ]
    },
    {
      "cell_type": "code",
      "metadata": {
        "id": "XXcu6T-hYZdZ"
      },
      "source": [
        "from sklearn.ensemble import RandomForestClassifier\r\n",
        "\r\n",
        "forest = RandomForestClassifier(n_estimators = 90, \r\n",
        "                               random_state = 0, \r\n",
        "                               min_samples_split=8,\r\n",
        "                               min_samples_leaf=4,\r\n",
        "                               max_features='sqrt',\r\n",
        "                               max_depth=90,\r\n",
        "                               class_weight='balanced_subsample',\r\n",
        "                               n_jobs = -1\r\n",
        "                               ) \r\n",
        "\r\n",
        "forest = forest.fit(x_train, y_train)\r\n",
        "y_pred = forest.predict(x_test)"
      ],
      "execution_count": null,
      "outputs": []
    },
    {
      "cell_type": "code",
      "metadata": {
        "colab": {
          "base_uri": "https://localhost:8080/"
        },
        "id": "sxQ3Xg_5ZnJS",
        "outputId": "c13fab0f-a822-4ff5-ae02-343da5ed6e18"
      },
      "source": [
        "from sklearn.metrics import accuracy_score\r\n",
        "from sklearn.metrics import confusion_matrix\r\n",
        "\r\n",
        "print(f'Accuracy score of {accuracy_score(y_test, y_pred)}')\r\n",
        "\r\n",
        "confusion_matrix = confusion_matrix(y_test, y_pred)\r\n",
        "print('The confusion matrix:')\r\n",
        "confusion_matrix"
      ],
      "execution_count": null,
      "outputs": [
        {
          "output_type": "stream",
          "text": [
            "Accuracy score of 0.5050505050505051\n",
            "The confusion matrix:\n"
          ],
          "name": "stdout"
        },
        {
          "output_type": "execute_result",
          "data": {
            "text/plain": [
              "array([[30, 28],\n",
              "       [21, 20]])"
            ]
          },
          "metadata": {
            "tags": []
          },
          "execution_count": 39
        }
      ]
    },
    {
      "cell_type": "code",
      "metadata": {
        "id": "nr6KCH4TbS1X"
      },
      "source": [
        ""
      ],
      "execution_count": null,
      "outputs": []
    },
    {
      "cell_type": "markdown",
      "metadata": {
        "id": "SCvavtcHUdU_"
      },
      "source": [
        ""
      ]
    },
    {
      "cell_type": "code",
      "metadata": {
        "id": "TFsT2HWkczxD"
      },
      "source": [
        ""
      ],
      "execution_count": null,
      "outputs": []
    },
    {
      "cell_type": "markdown",
      "metadata": {
        "id": "4PmZp8mgUdHw"
      },
      "source": [
        ""
      ]
    },
    {
      "cell_type": "code",
      "metadata": {
        "id": "Ig9fNIIiUUVS"
      },
      "source": [
        ""
      ],
      "execution_count": null,
      "outputs": []
    }
  ]
}