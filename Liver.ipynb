{
  "nbformat": 4,
  "nbformat_minor": 0,
  "metadata": {
    "colab": {
      "name": "Liver.ipynb",
      "provenance": [],
      "toc_visible": true
    },
    "kernelspec": {
      "name": "python3",
      "display_name": "Python 3"
    }
  },
  "cells": [
    {
      "cell_type": "markdown",
      "metadata": {
        "id": "JJ2lvkUoEoxL"
      },
      "source": [
        "#BUSINESS UNDERSTANDING"
      ]
    },
    {
      "cell_type": "markdown",
      "metadata": {
        "id": "Sw2-SdusqxYQ"
      },
      "source": [
        "##Introduction"
      ]
    },
    {
      "cell_type": "markdown",
      "metadata": {
        "id": "iGbYD-mfqsSS"
      },
      "source": [
        "The liver is an organ about the size of a football. It sits just under your rib cage on the right side of your abdomen. The liver is essential for digesting food and ridding your body of toxic substances. Liver disease can be inherited (genetic). Liver problems can also be caused by a variety of factors that damage the liver, such as viruses, alcohol use, and obesity.\n",
        "Over time, conditions that damage the liver can lead to scarring (cirrhosis), which can lead to liver failure, a life-threatening condition. But early treatment may give the liver time to heal. \n",
        "Patients with the Liver disease have been continuously increasing because of excessive consumption of alcohol, inhale of harmful gases, intake of contaminated food, pickles and drugs. This dataset was used to evaluate prediction algorithms to reduce the burden on doctors.\n"
      ]
    },
    {
      "cell_type": "markdown",
      "metadata": {
        "id": "hiXp8sjTk2OD"
      },
      "source": [
        "Many tests can be performed on the liver. Certain tests can reflect different aspects of liver function. Commonly used tests to check liver abnormalities are tests checking: alanine transaminase (ALT) aspartate aminotransferase (AST) alkaline phosphatase (ALP) albumin bilirubin "
      ]
    },
    {
      "cell_type": "markdown",
      "metadata": {
        "id": "isJugK4Ok_py"
      },
      "source": [
        "A more detailed explanation tests above can befound at https://www.healthline.com/health/liver-function-tests#uses "
      ]
    },
    {
      "cell_type": "markdown",
      "metadata": {
        "id": "viUygRnT04rD"
      },
      "source": [
        "####Available data and research to be done"
      ]
    },
    {
      "cell_type": "markdown",
      "metadata": {
        "id": "czczD9w0lS7o"
      },
      "source": [
        "The columns within the dataset have the following atttributes which are researched and used as a guide for the study.\n",
        "\n",
        "1. Age Age of the patient\n",
        "2. Gender Gender of the patient\n",
        "3. TB Total Bilirubin\n",
        "4. DB Direct Bilirubin\n",
        "5. Alkphos Alkaline Phosphotase (ALP)\n",
        "6. Sgpt Alamine Aminotransferase (ALT)\n",
        "7. Sgot Aspartate Aminotransferase\n",
        "8. TP Total Protiens\n",
        "9. ALB Albumin\n",
        "10. A/G Ratio Albumin and Globulin Ratio\n",
        "11. Selector field used to split the data into two sets (labeled by the experts) "
      ]
    },
    {
      "cell_type": "markdown",
      "metadata": {
        "id": "02DLSkHdyDq-"
      },
      "source": [
        "#####Age Age of the patient "
      ]
    },
    {
      "cell_type": "markdown",
      "metadata": {
        "id": "taKBWaa6yK-8"
      },
      "source": [
        "Children and adolescents may have elevated levels of ALP because their bones are growing. Pregnancy can also raise ALP levels. The normal range for ALP is typically up to 120 U/L in adults "
      ]
    },
    {
      "cell_type": "markdown",
      "metadata": {
        "id": "sLKfnC_oyQaH"
      },
      "source": [
        "#####Gender Gender of the patient"
      ]
    },
    {
      "cell_type": "markdown",
      "metadata": {
        "id": "ZJOSF2ElySXq"
      },
      "source": [
        "Pregnancy can also raise ALP levels. The normal range for ALP is typically up to 120 U/L in adults "
      ]
    },
    {
      "cell_type": "markdown",
      "metadata": {
        "id": "cLbT6UWYyfOg"
      },
      "source": [
        "According to the American College of Gastroenterology, an ALT above 25 IU/L (international units per liter) in females and 33 IU/L in males typically requires further testing and evaluation. "
      ]
    },
    {
      "cell_type": "markdown",
      "metadata": {
        "id": "9mUu7qhwysYg"
      },
      "source": [
        "The normal range of an SGOT test is generally between 8 and 45 units per liter of serum. In general, men may naturally have higher amounts of AST in the blood. A score above 50 for men and 45 for women is high and may indicate damage. "
      ]
    },
    {
      "cell_type": "markdown",
      "metadata": {
        "id": "FYgDeD6Ny2ar"
      },
      "source": [
        "#####Bilirubin"
      ]
    },
    {
      "cell_type": "markdown",
      "metadata": {
        "id": "8jBkmYl0y4il"
      },
      "source": [
        "Bilirubin results depend on your age, gender, and health. Normal bilirubin levels are generally less than 1 milligram per deciliter (mg/dL). Adults with jaundice generally have bilirubin levels greater than 2.5mg/dL. In an otherwise healthy newborn, bilirubin levels greater than 15 mg/dL may cause problems. "
      ]
    },
    {
      "cell_type": "markdown",
      "metadata": {
        "id": "wdyu-wYh2i9G"
      },
      "source": [
        "The normal range for albumin is 3.5–5.0 grams per deciliter (g/dL). However, low albumin can also be a result of poor nutrition, kidney disease, infection, and inflammation.--albumin test "
      ]
    },
    {
      "cell_type": "markdown",
      "metadata": {
        "id": "K8c4T3A72m2U"
      },
      "source": [
        "The normal range for total bilirubin is typically 0.1–1.2 milligrams per deciliter (mg/dL). There are certain inherited diseases that raise bilirubin levels, but the liver function is normal.-bilirubin "
      ]
    },
    {
      "cell_type": "markdown",
      "metadata": {
        "id": "qZp6h2VIzVDA"
      },
      "source": [
        "#####Sgot Aspartate Aminotransferase "
      ]
    },
    {
      "cell_type": "markdown",
      "metadata": {
        "id": "XrXGs1wr2WEF"
      },
      "source": [
        "The normal range of an SGOT test is generally between 8 and 45 units per liter of serum. In general, men may naturally have higher amounts of AST in the blood. A score above 50 for men and 45 for women is high and may indicate damage. "
      ]
    },
    {
      "cell_type": "markdown",
      "metadata": {
        "id": "viSUWH93zYrT"
      },
      "source": [
        "The SGOT test is a blood test that’s part of a liver profile. It measures one of two liver enzymes, called serum glutamic-oxaloacetic transaminase. This enzyme is now usually called AST, which stands for aspartate aminotransferase. An SGOT test (or AST test) evaluates how much of the liver enzyme is in the blood. "
      ]
    },
    {
      "cell_type": "markdown",
      "metadata": {
        "id": "_Umx9bHEzwsE"
      },
      "source": [
        "#####Total Protiens"
      ]
    },
    {
      "cell_type": "markdown",
      "metadata": {
        "id": "ZN7HuvUsz0wP"
      },
      "source": [
        "The normal range for protein levels in blood serum is 6 to 8 grams per deciliter (g/dl). Of this, albumin makes up 3.5 to 5.0 g/dl, and the rest is total globulins. These ranges may vary between different laboratories. "
      ]
    },
    {
      "cell_type": "markdown",
      "metadata": {
        "id": "UAio1swq11yA"
      },
      "source": [
        "#####A/G Ratio Albumin and Globulin Ratio"
      ]
    },
    {
      "cell_type": "markdown",
      "metadata": {
        "id": "6gB7oLOT1-Id"
      },
      "source": [
        "Normally, the A/G (albumin to globulin) ratio is slightly higher than 1. If the ratio is too low or too high, additional testing must be done to determine the cause and diagnosis. If the ratio is low, it can suggest: autoimmune disease "
      ]
    },
    {
      "cell_type": "markdown",
      "metadata": {
        "id": "SPKfDoaN0WRj"
      },
      "source": [
        "#####Alkphos Alkaline Phosphotase"
      ]
    },
    {
      "cell_type": "markdown",
      "metadata": {
        "id": "Ay0EC4453CZs"
      },
      "source": [
        "Children and adolescents may have elevated levels of ALP because their bones are growing. Pregnancy can also raise ALP levels. The normal range for ALP is typically up to 120 U/L in adults "
      ]
    },
    {
      "cell_type": "markdown",
      "metadata": {
        "id": "5cKRPnio0a7s"
      },
      "source": [
        "#####Sgpt Alamine Aminotransferase"
      ]
    },
    {
      "cell_type": "markdown",
      "metadata": {
        "id": "YhytDbuN7Dd-"
      },
      "source": [
        "According to the American College of Gastroenterology, an ALT above 25 IU/L (international units per liter) in females and 33 IU/L in males typically requires further testing and evaluation. "
      ]
    },
    {
      "cell_type": "markdown",
      "metadata": {
        "id": "pm9CB5Fz0gJV"
      },
      "source": [
        "#####Albumin"
      ]
    },
    {
      "cell_type": "markdown",
      "metadata": {
        "id": "dY9iu89T4YMh"
      },
      "source": [
        "An albumin blood test measures the amount of albumin in your blood. Albumin is a protein made by your liver. Albumin helps keep fluid in your bloodstream so it doesn't leak into other tissues. It is also carries various substances throughout your body, including hormones, vitamins, and enzymes. Low albumin levels can indicate a problem with your liver or kidneys. Other names: ALB "
      ]
    },
    {
      "cell_type": "markdown",
      "metadata": {
        "id": "m3-vYKF24aO1"
      },
      "source": [
        "A normal albumin range is 3.4 to 5.4 g/dL. If you have a lower albumin level, you may have malnutrition. It can also mean that you have liver disease or an inflammatory disease. Higher albumin levels may be caused by acute infections, burns, and stress from surgery or a heart attack. "
      ]
    },
    {
      "cell_type": "markdown",
      "metadata": {
        "id": "QG8NxQs28Z8x"
      },
      "source": [
        "## Define the research Question"
      ]
    },
    {
      "cell_type": "markdown",
      "metadata": {
        "id": "lh-xn0-tGMAl"
      },
      "source": [
        "Can a model be built that predictes the occurence of a liver disease in a patient given laboratory data?"
      ]
    },
    {
      "cell_type": "markdown",
      "metadata": {
        "id": "6HXgrinE8eJb"
      },
      "source": [
        "## Merits of Success"
      ]
    },
    {
      "cell_type": "markdown",
      "metadata": {
        "id": "s3BCbfErifA4"
      },
      "source": [
        "A confusion matrix shall be derived from the model with hopefully a categorization accuracy of more than 90%."
      ]
    },
    {
      "cell_type": "markdown",
      "metadata": {
        "id": "dYnNXDNV8fLx"
      },
      "source": [
        "## The context"
      ]
    },
    {
      "cell_type": "markdown",
      "metadata": {
        "id": "XBGsIxJQIDTh"
      },
      "source": [
        "This data set contains 416 liver patient records and 167 non liver patient records.The data set was collected from north east of Andhra Pradesh, India. Selector is a class label used to divide into groups(liver patient or not). This data set contains 441 male patient records and 142 female patient records.\n",
        "\n",
        "Any patient whose age exceeded 89 is listed as being of age \"90\""
      ]
    },
    {
      "cell_type": "markdown",
      "metadata": {
        "id": "ltoiAAY38mZH"
      },
      "source": [
        "## Appropriateness of the dataset"
      ]
    },
    {
      "cell_type": "markdown",
      "metadata": {
        "id": "ZcM3T6VsEtdI"
      },
      "source": [
        "#DATA AQUISITION AND EXTRACTION, TRANSFORMING AND LOADING"
      ]
    },
    {
      "cell_type": "markdown",
      "metadata": {
        "id": "TvlsXSSDGchu"
      },
      "source": [
        "In this section the data shall be acquired loaded and by looking (scanning) through prepared for analysis and modelling."
      ]
    },
    {
      "cell_type": "markdown",
      "metadata": {
        "id": "U68xktnQ80cu"
      },
      "source": [
        "## Import libraries"
      ]
    },
    {
      "cell_type": "code",
      "metadata": {
        "id": "tPFZ-cyNwmvj"
      },
      "source": [
        "import pandas as pd\n",
        "import numpy as np\n",
        "\n",
        "# Visualization\n",
        "import seaborn as sns\n",
        "import matplotlib.pyplot as plt\n",
        "\n",
        "# Machine Learning Models and related methods\n",
        "from sklearn.neighbors import KNeighborsClassifier\n",
        "from sklearn.model_selection import train_test_split\n",
        "from sklearn.model_selection import GridSearchCV\n",
        "from sklearn.preprocessing import Normalizer\n",
        "from sklearn.metrics import accuracy_score, confusion_matrix, classification_report"
      ],
      "execution_count": 3,
      "outputs": []
    },
    {
      "cell_type": "markdown",
      "metadata": {
        "id": "mHDORv6l88xY"
      },
      "source": [
        "## Reading dataset"
      ]
    },
    {
      "cell_type": "code",
      "metadata": {
        "id": "AQo-U7VxCQNO"
      },
      "source": [
        "#We load the dataset into the notebook\n",
        "\n",
        "data = pd.read_csv('/content/Indian Liver Patient Dataset (ILPD).csv', header=None)"
      ],
      "execution_count": null,
      "outputs": []
    },
    {
      "cell_type": "code",
      "metadata": {
        "id": "lg-7zzgxCNS3"
      },
      "source": [
        "#Naming of the columns in the dataset\n",
        "\n",
        "data.columns = ['age','gender','TB', 'DB' , 'AAP' , 'sgpt' , 'sgot' , 'TP' , 'ALB' , 'AG' , 'selector']"
      ],
      "execution_count": null,
      "outputs": []
    },
    {
      "cell_type": "markdown",
      "metadata": {
        "id": "SD3r3_SN9CWU"
      },
      "source": [
        "## Checking dataset"
      ]
    },
    {
      "cell_type": "markdown",
      "metadata": {
        "id": "xS7fApRSG14M"
      },
      "source": [
        "Information about the dataset are looked at in this section"
      ]
    },
    {
      "cell_type": "code",
      "metadata": {
        "id": "vpMIgYyVEEDv",
        "colab": {
          "base_uri": "https://localhost:8080/"
        },
        "outputId": "b2931b1e-aa5d-4973-fad5-08058d5620aa"
      },
      "source": [
        "data.columns"
      ],
      "execution_count": null,
      "outputs": [
        {
          "output_type": "execute_result",
          "data": {
            "text/plain": [
              "Index(['age', 'gender', 'TB', 'DB', 'AAP', 'sgpt', 'sgot', 'TP', 'ALB', 'AG',\n",
              "       'selector'],\n",
              "      dtype='object')"
            ]
          },
          "metadata": {
            "tags": []
          },
          "execution_count": 741
        }
      ]
    },
    {
      "cell_type": "code",
      "metadata": {
        "id": "VSM6wgClCWZj",
        "colab": {
          "base_uri": "https://localhost:8080/",
          "height": 206
        },
        "outputId": "9da29dd1-d54f-4864-9683-f1f340906ec7"
      },
      "source": [
        "data.head()"
      ],
      "execution_count": null,
      "outputs": [
        {
          "output_type": "execute_result",
          "data": {
            "text/html": [
              "<div>\n",
              "<style scoped>\n",
              "    .dataframe tbody tr th:only-of-type {\n",
              "        vertical-align: middle;\n",
              "    }\n",
              "\n",
              "    .dataframe tbody tr th {\n",
              "        vertical-align: top;\n",
              "    }\n",
              "\n",
              "    .dataframe thead th {\n",
              "        text-align: right;\n",
              "    }\n",
              "</style>\n",
              "<table border=\"1\" class=\"dataframe\">\n",
              "  <thead>\n",
              "    <tr style=\"text-align: right;\">\n",
              "      <th></th>\n",
              "      <th>age</th>\n",
              "      <th>gender</th>\n",
              "      <th>TB</th>\n",
              "      <th>DB</th>\n",
              "      <th>AAP</th>\n",
              "      <th>sgpt</th>\n",
              "      <th>sgot</th>\n",
              "      <th>TP</th>\n",
              "      <th>ALB</th>\n",
              "      <th>AG</th>\n",
              "      <th>selector</th>\n",
              "    </tr>\n",
              "  </thead>\n",
              "  <tbody>\n",
              "    <tr>\n",
              "      <th>0</th>\n",
              "      <td>65</td>\n",
              "      <td>Female</td>\n",
              "      <td>0.7</td>\n",
              "      <td>0.1</td>\n",
              "      <td>187</td>\n",
              "      <td>16</td>\n",
              "      <td>18</td>\n",
              "      <td>6.8</td>\n",
              "      <td>3.3</td>\n",
              "      <td>0.90</td>\n",
              "      <td>1</td>\n",
              "    </tr>\n",
              "    <tr>\n",
              "      <th>1</th>\n",
              "      <td>62</td>\n",
              "      <td>Male</td>\n",
              "      <td>10.9</td>\n",
              "      <td>5.5</td>\n",
              "      <td>699</td>\n",
              "      <td>64</td>\n",
              "      <td>100</td>\n",
              "      <td>7.5</td>\n",
              "      <td>3.2</td>\n",
              "      <td>0.74</td>\n",
              "      <td>1</td>\n",
              "    </tr>\n",
              "    <tr>\n",
              "      <th>2</th>\n",
              "      <td>62</td>\n",
              "      <td>Male</td>\n",
              "      <td>7.3</td>\n",
              "      <td>4.1</td>\n",
              "      <td>490</td>\n",
              "      <td>60</td>\n",
              "      <td>68</td>\n",
              "      <td>7.0</td>\n",
              "      <td>3.3</td>\n",
              "      <td>0.89</td>\n",
              "      <td>1</td>\n",
              "    </tr>\n",
              "    <tr>\n",
              "      <th>3</th>\n",
              "      <td>58</td>\n",
              "      <td>Male</td>\n",
              "      <td>1.0</td>\n",
              "      <td>0.4</td>\n",
              "      <td>182</td>\n",
              "      <td>14</td>\n",
              "      <td>20</td>\n",
              "      <td>6.8</td>\n",
              "      <td>3.4</td>\n",
              "      <td>1.00</td>\n",
              "      <td>1</td>\n",
              "    </tr>\n",
              "    <tr>\n",
              "      <th>4</th>\n",
              "      <td>72</td>\n",
              "      <td>Male</td>\n",
              "      <td>3.9</td>\n",
              "      <td>2.0</td>\n",
              "      <td>195</td>\n",
              "      <td>27</td>\n",
              "      <td>59</td>\n",
              "      <td>7.3</td>\n",
              "      <td>2.4</td>\n",
              "      <td>0.40</td>\n",
              "      <td>1</td>\n",
              "    </tr>\n",
              "  </tbody>\n",
              "</table>\n",
              "</div>"
            ],
            "text/plain": [
              "   age  gender    TB   DB  AAP  sgpt  sgot   TP  ALB    AG  selector\n",
              "0   65  Female   0.7  0.1  187    16    18  6.8  3.3  0.90         1\n",
              "1   62    Male  10.9  5.5  699    64   100  7.5  3.2  0.74         1\n",
              "2   62    Male   7.3  4.1  490    60    68  7.0  3.3  0.89         1\n",
              "3   58    Male   1.0  0.4  182    14    20  6.8  3.4  1.00         1\n",
              "4   72    Male   3.9  2.0  195    27    59  7.3  2.4  0.40         1"
            ]
          },
          "metadata": {
            "tags": []
          },
          "execution_count": 742
        }
      ]
    },
    {
      "cell_type": "code",
      "metadata": {
        "id": "EAqHmwBECbk9",
        "colab": {
          "base_uri": "https://localhost:8080/",
          "height": 206
        },
        "outputId": "69a2b079-994c-4778-c5a6-8aee4a630221"
      },
      "source": [
        "data.tail()"
      ],
      "execution_count": null,
      "outputs": [
        {
          "output_type": "execute_result",
          "data": {
            "text/html": [
              "<div>\n",
              "<style scoped>\n",
              "    .dataframe tbody tr th:only-of-type {\n",
              "        vertical-align: middle;\n",
              "    }\n",
              "\n",
              "    .dataframe tbody tr th {\n",
              "        vertical-align: top;\n",
              "    }\n",
              "\n",
              "    .dataframe thead th {\n",
              "        text-align: right;\n",
              "    }\n",
              "</style>\n",
              "<table border=\"1\" class=\"dataframe\">\n",
              "  <thead>\n",
              "    <tr style=\"text-align: right;\">\n",
              "      <th></th>\n",
              "      <th>age</th>\n",
              "      <th>gender</th>\n",
              "      <th>TB</th>\n",
              "      <th>DB</th>\n",
              "      <th>AAP</th>\n",
              "      <th>sgpt</th>\n",
              "      <th>sgot</th>\n",
              "      <th>TP</th>\n",
              "      <th>ALB</th>\n",
              "      <th>AG</th>\n",
              "      <th>selector</th>\n",
              "    </tr>\n",
              "  </thead>\n",
              "  <tbody>\n",
              "    <tr>\n",
              "      <th>578</th>\n",
              "      <td>60</td>\n",
              "      <td>Male</td>\n",
              "      <td>0.5</td>\n",
              "      <td>0.1</td>\n",
              "      <td>500</td>\n",
              "      <td>20</td>\n",
              "      <td>34</td>\n",
              "      <td>5.9</td>\n",
              "      <td>1.6</td>\n",
              "      <td>0.37</td>\n",
              "      <td>2</td>\n",
              "    </tr>\n",
              "    <tr>\n",
              "      <th>579</th>\n",
              "      <td>40</td>\n",
              "      <td>Male</td>\n",
              "      <td>0.6</td>\n",
              "      <td>0.1</td>\n",
              "      <td>98</td>\n",
              "      <td>35</td>\n",
              "      <td>31</td>\n",
              "      <td>6.0</td>\n",
              "      <td>3.2</td>\n",
              "      <td>1.10</td>\n",
              "      <td>1</td>\n",
              "    </tr>\n",
              "    <tr>\n",
              "      <th>580</th>\n",
              "      <td>52</td>\n",
              "      <td>Male</td>\n",
              "      <td>0.8</td>\n",
              "      <td>0.2</td>\n",
              "      <td>245</td>\n",
              "      <td>48</td>\n",
              "      <td>49</td>\n",
              "      <td>6.4</td>\n",
              "      <td>3.2</td>\n",
              "      <td>1.00</td>\n",
              "      <td>1</td>\n",
              "    </tr>\n",
              "    <tr>\n",
              "      <th>581</th>\n",
              "      <td>31</td>\n",
              "      <td>Male</td>\n",
              "      <td>1.3</td>\n",
              "      <td>0.5</td>\n",
              "      <td>184</td>\n",
              "      <td>29</td>\n",
              "      <td>32</td>\n",
              "      <td>6.8</td>\n",
              "      <td>3.4</td>\n",
              "      <td>1.00</td>\n",
              "      <td>1</td>\n",
              "    </tr>\n",
              "    <tr>\n",
              "      <th>582</th>\n",
              "      <td>38</td>\n",
              "      <td>Male</td>\n",
              "      <td>1.0</td>\n",
              "      <td>0.3</td>\n",
              "      <td>216</td>\n",
              "      <td>21</td>\n",
              "      <td>24</td>\n",
              "      <td>7.3</td>\n",
              "      <td>4.4</td>\n",
              "      <td>1.50</td>\n",
              "      <td>2</td>\n",
              "    </tr>\n",
              "  </tbody>\n",
              "</table>\n",
              "</div>"
            ],
            "text/plain": [
              "     age gender   TB   DB  AAP  sgpt  sgot   TP  ALB    AG  selector\n",
              "578   60   Male  0.5  0.1  500    20    34  5.9  1.6  0.37         2\n",
              "579   40   Male  0.6  0.1   98    35    31  6.0  3.2  1.10         1\n",
              "580   52   Male  0.8  0.2  245    48    49  6.4  3.2  1.00         1\n",
              "581   31   Male  1.3  0.5  184    29    32  6.8  3.4  1.00         1\n",
              "582   38   Male  1.0  0.3  216    21    24  7.3  4.4  1.50         2"
            ]
          },
          "metadata": {
            "tags": []
          },
          "execution_count": 743
        }
      ]
    },
    {
      "cell_type": "code",
      "metadata": {
        "id": "IXX5dfTzCeRu",
        "colab": {
          "base_uri": "https://localhost:8080/"
        },
        "outputId": "133e9375-ef25-4b13-fe12-7f3039085a2e"
      },
      "source": [
        "data.shape"
      ],
      "execution_count": null,
      "outputs": [
        {
          "output_type": "execute_result",
          "data": {
            "text/plain": [
              "(583, 11)"
            ]
          },
          "metadata": {
            "tags": []
          },
          "execution_count": 744
        }
      ]
    },
    {
      "cell_type": "code",
      "metadata": {
        "id": "HS69WYOpCgep",
        "colab": {
          "base_uri": "https://localhost:8080/"
        },
        "outputId": "09aa7781-925a-40c3-92e5-572872091109"
      },
      "source": [
        "data.info()"
      ],
      "execution_count": null,
      "outputs": [
        {
          "output_type": "stream",
          "text": [
            "<class 'pandas.core.frame.DataFrame'>\n",
            "RangeIndex: 583 entries, 0 to 582\n",
            "Data columns (total 11 columns):\n",
            " #   Column    Non-Null Count  Dtype  \n",
            "---  ------    --------------  -----  \n",
            " 0   age       583 non-null    int64  \n",
            " 1   gender    583 non-null    object \n",
            " 2   TB        583 non-null    float64\n",
            " 3   DB        583 non-null    float64\n",
            " 4   AAP       583 non-null    int64  \n",
            " 5   sgpt      583 non-null    int64  \n",
            " 6   sgot      583 non-null    int64  \n",
            " 7   TP        583 non-null    float64\n",
            " 8   ALB       583 non-null    float64\n",
            " 9   AG        579 non-null    float64\n",
            " 10  selector  583 non-null    int64  \n",
            "dtypes: float64(5), int64(5), object(1)\n",
            "memory usage: 50.2+ KB\n"
          ],
          "name": "stdout"
        }
      ]
    },
    {
      "cell_type": "code",
      "metadata": {
        "id": "tS_Q-W1-Dv7u",
        "colab": {
          "base_uri": "https://localhost:8080/"
        },
        "outputId": "72269f58-3cd5-4889-f7aa-0060566971f6"
      },
      "source": [
        "data.dtypes"
      ],
      "execution_count": null,
      "outputs": [
        {
          "output_type": "execute_result",
          "data": {
            "text/plain": [
              "age           int64\n",
              "gender       object\n",
              "TB          float64\n",
              "DB          float64\n",
              "AAP           int64\n",
              "sgpt          int64\n",
              "sgot          int64\n",
              "TP          float64\n",
              "ALB         float64\n",
              "AG          float64\n",
              "selector      int64\n",
              "dtype: object"
            ]
          },
          "metadata": {
            "tags": []
          },
          "execution_count": 746
        }
      ]
    },
    {
      "cell_type": "code",
      "metadata": {
        "id": "yUNKAqG5Dzvc",
        "colab": {
          "base_uri": "https://localhost:8080/",
          "height": 300
        },
        "outputId": "80e3965a-bf86-4939-f141-aca8546113bf"
      },
      "source": [
        "data.describe()"
      ],
      "execution_count": null,
      "outputs": [
        {
          "output_type": "execute_result",
          "data": {
            "text/html": [
              "<div>\n",
              "<style scoped>\n",
              "    .dataframe tbody tr th:only-of-type {\n",
              "        vertical-align: middle;\n",
              "    }\n",
              "\n",
              "    .dataframe tbody tr th {\n",
              "        vertical-align: top;\n",
              "    }\n",
              "\n",
              "    .dataframe thead th {\n",
              "        text-align: right;\n",
              "    }\n",
              "</style>\n",
              "<table border=\"1\" class=\"dataframe\">\n",
              "  <thead>\n",
              "    <tr style=\"text-align: right;\">\n",
              "      <th></th>\n",
              "      <th>age</th>\n",
              "      <th>TB</th>\n",
              "      <th>DB</th>\n",
              "      <th>AAP</th>\n",
              "      <th>sgpt</th>\n",
              "      <th>sgot</th>\n",
              "      <th>TP</th>\n",
              "      <th>ALB</th>\n",
              "      <th>AG</th>\n",
              "      <th>selector</th>\n",
              "    </tr>\n",
              "  </thead>\n",
              "  <tbody>\n",
              "    <tr>\n",
              "      <th>count</th>\n",
              "      <td>583.000000</td>\n",
              "      <td>583.000000</td>\n",
              "      <td>583.000000</td>\n",
              "      <td>583.000000</td>\n",
              "      <td>583.000000</td>\n",
              "      <td>583.000000</td>\n",
              "      <td>583.000000</td>\n",
              "      <td>583.000000</td>\n",
              "      <td>579.000000</td>\n",
              "      <td>583.000000</td>\n",
              "    </tr>\n",
              "    <tr>\n",
              "      <th>mean</th>\n",
              "      <td>44.746141</td>\n",
              "      <td>3.298799</td>\n",
              "      <td>1.486106</td>\n",
              "      <td>290.576329</td>\n",
              "      <td>80.713551</td>\n",
              "      <td>109.910806</td>\n",
              "      <td>6.483190</td>\n",
              "      <td>3.141852</td>\n",
              "      <td>0.947064</td>\n",
              "      <td>1.286449</td>\n",
              "    </tr>\n",
              "    <tr>\n",
              "      <th>std</th>\n",
              "      <td>16.189833</td>\n",
              "      <td>6.209522</td>\n",
              "      <td>2.808498</td>\n",
              "      <td>242.937989</td>\n",
              "      <td>182.620356</td>\n",
              "      <td>288.918529</td>\n",
              "      <td>1.085451</td>\n",
              "      <td>0.795519</td>\n",
              "      <td>0.319592</td>\n",
              "      <td>0.452490</td>\n",
              "    </tr>\n",
              "    <tr>\n",
              "      <th>min</th>\n",
              "      <td>4.000000</td>\n",
              "      <td>0.400000</td>\n",
              "      <td>0.100000</td>\n",
              "      <td>63.000000</td>\n",
              "      <td>10.000000</td>\n",
              "      <td>10.000000</td>\n",
              "      <td>2.700000</td>\n",
              "      <td>0.900000</td>\n",
              "      <td>0.300000</td>\n",
              "      <td>1.000000</td>\n",
              "    </tr>\n",
              "    <tr>\n",
              "      <th>25%</th>\n",
              "      <td>33.000000</td>\n",
              "      <td>0.800000</td>\n",
              "      <td>0.200000</td>\n",
              "      <td>175.500000</td>\n",
              "      <td>23.000000</td>\n",
              "      <td>25.000000</td>\n",
              "      <td>5.800000</td>\n",
              "      <td>2.600000</td>\n",
              "      <td>0.700000</td>\n",
              "      <td>1.000000</td>\n",
              "    </tr>\n",
              "    <tr>\n",
              "      <th>50%</th>\n",
              "      <td>45.000000</td>\n",
              "      <td>1.000000</td>\n",
              "      <td>0.300000</td>\n",
              "      <td>208.000000</td>\n",
              "      <td>35.000000</td>\n",
              "      <td>42.000000</td>\n",
              "      <td>6.600000</td>\n",
              "      <td>3.100000</td>\n",
              "      <td>0.930000</td>\n",
              "      <td>1.000000</td>\n",
              "    </tr>\n",
              "    <tr>\n",
              "      <th>75%</th>\n",
              "      <td>58.000000</td>\n",
              "      <td>2.600000</td>\n",
              "      <td>1.300000</td>\n",
              "      <td>298.000000</td>\n",
              "      <td>60.500000</td>\n",
              "      <td>87.000000</td>\n",
              "      <td>7.200000</td>\n",
              "      <td>3.800000</td>\n",
              "      <td>1.100000</td>\n",
              "      <td>2.000000</td>\n",
              "    </tr>\n",
              "    <tr>\n",
              "      <th>max</th>\n",
              "      <td>90.000000</td>\n",
              "      <td>75.000000</td>\n",
              "      <td>19.700000</td>\n",
              "      <td>2110.000000</td>\n",
              "      <td>2000.000000</td>\n",
              "      <td>4929.000000</td>\n",
              "      <td>9.600000</td>\n",
              "      <td>5.500000</td>\n",
              "      <td>2.800000</td>\n",
              "      <td>2.000000</td>\n",
              "    </tr>\n",
              "  </tbody>\n",
              "</table>\n",
              "</div>"
            ],
            "text/plain": [
              "              age          TB          DB  ...         ALB          AG    selector\n",
              "count  583.000000  583.000000  583.000000  ...  583.000000  579.000000  583.000000\n",
              "mean    44.746141    3.298799    1.486106  ...    3.141852    0.947064    1.286449\n",
              "std     16.189833    6.209522    2.808498  ...    0.795519    0.319592    0.452490\n",
              "min      4.000000    0.400000    0.100000  ...    0.900000    0.300000    1.000000\n",
              "25%     33.000000    0.800000    0.200000  ...    2.600000    0.700000    1.000000\n",
              "50%     45.000000    1.000000    0.300000  ...    3.100000    0.930000    1.000000\n",
              "75%     58.000000    2.600000    1.300000  ...    3.800000    1.100000    2.000000\n",
              "max     90.000000   75.000000   19.700000  ...    5.500000    2.800000    2.000000\n",
              "\n",
              "[8 rows x 10 columns]"
            ]
          },
          "metadata": {
            "tags": []
          },
          "execution_count": 747
        }
      ]
    },
    {
      "cell_type": "markdown",
      "metadata": {
        "id": "e2JSB77fG79g"
      },
      "source": [
        "##Data understanding"
      ]
    },
    {
      "cell_type": "code",
      "metadata": {
        "id": "ag3LsDu5EpEb"
      },
      "source": [
        "#A table is made that summarises what the data collected has and the extremes of \r\n",
        "#the data that is available.\r\n",
        "\r\n",
        "desc = pd.DataFrame(data.dtypes, columns= ['Types'])\r\n",
        "desc['Max'] = ''\r\n",
        "desc['Min'] = ''\r\n",
        "desc['Unique'] = ''\r\n",
        "for e , row in desc.iterrows():\r\n",
        "  if row['Types'] != 'object':\r\n",
        "    desc.loc[e , 'Max'] = data[e].max()\r\n",
        "    desc.loc[e , 'Min'] = data[e].min()\r\n",
        "    desc.loc[e , 'Unique'] = len(data[e].unique())"
      ],
      "execution_count": null,
      "outputs": []
    },
    {
      "cell_type": "code",
      "metadata": {
        "colab": {
          "base_uri": "https://localhost:8080/"
        },
        "id": "cmAuFNmFTyX7",
        "outputId": "e24dfc27-9515-4a27-8e16-53946d600cb0"
      },
      "source": [
        "desc"
      ],
      "execution_count": null,
      "outputs": [
        {
          "output_type": "execute_result",
          "data": {
            "text/html": [
              "<div>\n",
              "<style scoped>\n",
              "    .dataframe tbody tr th:only-of-type {\n",
              "        vertical-align: middle;\n",
              "    }\n",
              "\n",
              "    .dataframe tbody tr th {\n",
              "        vertical-align: top;\n",
              "    }\n",
              "\n",
              "    .dataframe thead th {\n",
              "        text-align: right;\n",
              "    }\n",
              "</style>\n",
              "<table border=\"1\" class=\"dataframe\">\n",
              "  <thead>\n",
              "    <tr style=\"text-align: right;\">\n",
              "      <th></th>\n",
              "      <th>Types</th>\n",
              "      <th>Max</th>\n",
              "      <th>Min</th>\n",
              "      <th>Unique</th>\n",
              "    </tr>\n",
              "  </thead>\n",
              "  <tbody>\n",
              "    <tr>\n",
              "      <th>age</th>\n",
              "      <td>int64</td>\n",
              "      <td>90</td>\n",
              "      <td>4</td>\n",
              "      <td>72</td>\n",
              "    </tr>\n",
              "    <tr>\n",
              "      <th>gender</th>\n",
              "      <td>object</td>\n",
              "      <td></td>\n",
              "      <td></td>\n",
              "      <td></td>\n",
              "    </tr>\n",
              "    <tr>\n",
              "      <th>TB</th>\n",
              "      <td>float64</td>\n",
              "      <td>75</td>\n",
              "      <td>0.4</td>\n",
              "      <td>113</td>\n",
              "    </tr>\n",
              "    <tr>\n",
              "      <th>DB</th>\n",
              "      <td>float64</td>\n",
              "      <td>19.7</td>\n",
              "      <td>0.1</td>\n",
              "      <td>80</td>\n",
              "    </tr>\n",
              "    <tr>\n",
              "      <th>AAP</th>\n",
              "      <td>int64</td>\n",
              "      <td>2110</td>\n",
              "      <td>63</td>\n",
              "      <td>263</td>\n",
              "    </tr>\n",
              "    <tr>\n",
              "      <th>sgpt</th>\n",
              "      <td>int64</td>\n",
              "      <td>2000</td>\n",
              "      <td>10</td>\n",
              "      <td>152</td>\n",
              "    </tr>\n",
              "    <tr>\n",
              "      <th>sgot</th>\n",
              "      <td>int64</td>\n",
              "      <td>4929</td>\n",
              "      <td>10</td>\n",
              "      <td>177</td>\n",
              "    </tr>\n",
              "    <tr>\n",
              "      <th>TP</th>\n",
              "      <td>float64</td>\n",
              "      <td>9.6</td>\n",
              "      <td>2.7</td>\n",
              "      <td>58</td>\n",
              "    </tr>\n",
              "    <tr>\n",
              "      <th>ALB</th>\n",
              "      <td>float64</td>\n",
              "      <td>5.5</td>\n",
              "      <td>0.9</td>\n",
              "      <td>40</td>\n",
              "    </tr>\n",
              "    <tr>\n",
              "      <th>AG</th>\n",
              "      <td>float64</td>\n",
              "      <td>2.8</td>\n",
              "      <td>0.3</td>\n",
              "      <td>70</td>\n",
              "    </tr>\n",
              "    <tr>\n",
              "      <th>selector</th>\n",
              "      <td>int64</td>\n",
              "      <td>2</td>\n",
              "      <td>1</td>\n",
              "      <td>2</td>\n",
              "    </tr>\n",
              "  </tbody>\n",
              "</table>\n",
              "</div>"
            ],
            "text/plain": [
              "            Types   Max  Min Unique\n",
              "age         int64    90    4     72\n",
              "gender     object                  \n",
              "TB        float64    75  0.4    113\n",
              "DB        float64  19.7  0.1     80\n",
              "AAP         int64  2110   63    263\n",
              "sgpt        int64  2000   10    152\n",
              "sgot        int64  4929   10    177\n",
              "TP        float64   9.6  2.7     58\n",
              "ALB       float64   5.5  0.9     40\n",
              "AG        float64   2.8  0.3     70\n",
              "selector    int64     2    1      2"
            ]
          },
          "metadata": {
            "tags": []
          },
          "execution_count": 5
        }
      ]
    },
    {
      "cell_type": "markdown",
      "metadata": {
        "id": "WMoaNZQI9Hq7"
      },
      "source": [
        "# Data Preparation"
      ]
    },
    {
      "cell_type": "markdown",
      "metadata": {
        "id": "Mzx1CXp_IhYR"
      },
      "source": [
        "Duplicated data, missing values and outliers will be handled within this section. moreover, the data shall be prepaired for the tools that shall be used within the modelling and analysis."
      ]
    },
    {
      "cell_type": "markdown",
      "metadata": {
        "id": "j7_lhvmE9SGF"
      },
      "source": [
        "## Duplicates"
      ]
    },
    {
      "cell_type": "code",
      "metadata": {
        "id": "k5tQJJhHEUSg",
        "colab": {
          "base_uri": "https://localhost:8080/"
        },
        "outputId": "5fdcc1f9-a662-4a50-90e6-960646eb4c12"
      },
      "source": [
        "data.duplicated().sum()"
      ],
      "execution_count": null,
      "outputs": [
        {
          "output_type": "execute_result",
          "data": {
            "text/plain": [
              "13"
            ]
          },
          "metadata": {
            "tags": []
          },
          "execution_count": 6
        }
      ]
    },
    {
      "cell_type": "code",
      "metadata": {
        "id": "8zV934tgE6M-"
      },
      "source": [
        "data.drop_duplicates(inplace = True)"
      ],
      "execution_count": null,
      "outputs": []
    },
    {
      "cell_type": "code",
      "metadata": {
        "id": "aovxkjm9E_Kx",
        "colab": {
          "base_uri": "https://localhost:8080/"
        },
        "outputId": "4e5c61ff-e637-460e-acac-f696d741c94c"
      },
      "source": [
        "data.duplicated().sum()"
      ],
      "execution_count": null,
      "outputs": [
        {
          "output_type": "execute_result",
          "data": {
            "text/plain": [
              "0"
            ]
          },
          "metadata": {
            "tags": []
          },
          "execution_count": 8
        }
      ]
    },
    {
      "cell_type": "markdown",
      "metadata": {
        "id": "jV55jkPq9Moc"
      },
      "source": [
        "## Missing data"
      ]
    },
    {
      "cell_type": "code",
      "metadata": {
        "id": "O9HoxCEvET0t",
        "colab": {
          "base_uri": "https://localhost:8080/"
        },
        "outputId": "53e23831-58f9-497d-9aab-12086c4a6f1b"
      },
      "source": [
        "data.isnull().sum()"
      ],
      "execution_count": null,
      "outputs": [
        {
          "output_type": "execute_result",
          "data": {
            "text/plain": [
              "age         0\n",
              "gender      0\n",
              "TB          0\n",
              "DB          0\n",
              "AAP         0\n",
              "sgpt        0\n",
              "sgot        0\n",
              "TP          0\n",
              "ALB         0\n",
              "AG          4\n",
              "selector    0\n",
              "dtype: int64"
            ]
          },
          "metadata": {
            "tags": []
          },
          "execution_count": 9
        }
      ]
    },
    {
      "cell_type": "code",
      "metadata": {
        "id": "Wn3_N_8oEX_R"
      },
      "source": [
        "data = data.dropna()"
      ],
      "execution_count": null,
      "outputs": []
    },
    {
      "cell_type": "code",
      "metadata": {
        "id": "ZyGtCkhhEeoi",
        "colab": {
          "base_uri": "https://localhost:8080/"
        },
        "outputId": "1b33a8e8-ba1c-45ec-b641-5c73768c5dca"
      },
      "source": [
        "data.isnull().sum()"
      ],
      "execution_count": null,
      "outputs": [
        {
          "output_type": "execute_result",
          "data": {
            "text/plain": [
              "age         0\n",
              "gender      0\n",
              "TB          0\n",
              "DB          0\n",
              "AAP         0\n",
              "sgpt        0\n",
              "sgot        0\n",
              "TP          0\n",
              "ALB         0\n",
              "AG          0\n",
              "selector    0\n",
              "dtype: int64"
            ]
          },
          "metadata": {
            "tags": []
          },
          "execution_count": 11
        }
      ]
    },
    {
      "cell_type": "code",
      "metadata": {
        "colab": {
          "base_uri": "https://localhost:8080/"
        },
        "id": "vy3yUSdYH6p2",
        "outputId": "e9bc7345-3a6f-4d9f-bd84-930fc5aa228b"
      },
      "source": [
        "data.shape"
      ],
      "execution_count": null,
      "outputs": [
        {
          "output_type": "execute_result",
          "data": {
            "text/plain": [
              "(566, 11)"
            ]
          },
          "metadata": {
            "tags": []
          },
          "execution_count": 12
        }
      ]
    },
    {
      "cell_type": "markdown",
      "metadata": {
        "id": "uJp4K7gD9V75"
      },
      "source": [
        "##Outliers and histograms"
      ]
    },
    {
      "cell_type": "markdown",
      "metadata": {
        "id": "O_yNdW7WSRel"
      },
      "source": [
        "Extreme data (maximum and minimums) and their frequency is sought after in this section. Furthermore; a relative concept of the normal is sought after here."
      ]
    },
    {
      "cell_type": "code",
      "metadata": {
        "id": "KoyYSX1FFBxA",
        "colab": {
          "base_uri": "https://localhost:8080/",
          "height": 1000
        },
        "outputId": "b8abbfae-6f77-45a0-8a7b-5407bea6a412"
      },
      "source": [
        "numeric = data.drop(['selector', 'gender'], axis=1)\r\n",
        "columns = list(numeric.columns)\r\n",
        "for column in columns:\r\n",
        "  plo = plt.figure(figsize=(20,4))\r\n",
        "  plo.add_subplot(1,2,1)\r\n",
        "  sns.distplot(data[column])\r\n",
        "  plo.add_subplot(1,2,2)\r\n",
        "  sns.boxplot(data[column])"
      ],
      "execution_count": null,
      "outputs": [
        {
          "output_type": "stream",
          "text": [
            "/usr/local/lib/python3.6/dist-packages/seaborn/distributions.py:2551: FutureWarning: `distplot` is a deprecated function and will be removed in a future version. Please adapt your code to use either `displot` (a figure-level function with similar flexibility) or `histplot` (an axes-level function for histograms).\n",
            "  warnings.warn(msg, FutureWarning)\n",
            "/usr/local/lib/python3.6/dist-packages/seaborn/_decorators.py:43: FutureWarning: Pass the following variable as a keyword arg: x. From version 0.12, the only valid positional argument will be `data`, and passing other arguments without an explicit keyword will result in an error or misinterpretation.\n",
            "  FutureWarning\n",
            "/usr/local/lib/python3.6/dist-packages/seaborn/distributions.py:2551: FutureWarning: `distplot` is a deprecated function and will be removed in a future version. Please adapt your code to use either `displot` (a figure-level function with similar flexibility) or `histplot` (an axes-level function for histograms).\n",
            "  warnings.warn(msg, FutureWarning)\n",
            "/usr/local/lib/python3.6/dist-packages/seaborn/_decorators.py:43: FutureWarning: Pass the following variable as a keyword arg: x. From version 0.12, the only valid positional argument will be `data`, and passing other arguments without an explicit keyword will result in an error or misinterpretation.\n",
            "  FutureWarning\n",
            "/usr/local/lib/python3.6/dist-packages/seaborn/distributions.py:2551: FutureWarning: `distplot` is a deprecated function and will be removed in a future version. Please adapt your code to use either `displot` (a figure-level function with similar flexibility) or `histplot` (an axes-level function for histograms).\n",
            "  warnings.warn(msg, FutureWarning)\n",
            "/usr/local/lib/python3.6/dist-packages/seaborn/_decorators.py:43: FutureWarning: Pass the following variable as a keyword arg: x. From version 0.12, the only valid positional argument will be `data`, and passing other arguments without an explicit keyword will result in an error or misinterpretation.\n",
            "  FutureWarning\n",
            "/usr/local/lib/python3.6/dist-packages/seaborn/distributions.py:2551: FutureWarning: `distplot` is a deprecated function and will be removed in a future version. Please adapt your code to use either `displot` (a figure-level function with similar flexibility) or `histplot` (an axes-level function for histograms).\n",
            "  warnings.warn(msg, FutureWarning)\n",
            "/usr/local/lib/python3.6/dist-packages/seaborn/_decorators.py:43: FutureWarning: Pass the following variable as a keyword arg: x. From version 0.12, the only valid positional argument will be `data`, and passing other arguments without an explicit keyword will result in an error or misinterpretation.\n",
            "  FutureWarning\n",
            "/usr/local/lib/python3.6/dist-packages/seaborn/distributions.py:2551: FutureWarning: `distplot` is a deprecated function and will be removed in a future version. Please adapt your code to use either `displot` (a figure-level function with similar flexibility) or `histplot` (an axes-level function for histograms).\n",
            "  warnings.warn(msg, FutureWarning)\n",
            "/usr/local/lib/python3.6/dist-packages/seaborn/_decorators.py:43: FutureWarning: Pass the following variable as a keyword arg: x. From version 0.12, the only valid positional argument will be `data`, and passing other arguments without an explicit keyword will result in an error or misinterpretation.\n",
            "  FutureWarning\n",
            "/usr/local/lib/python3.6/dist-packages/seaborn/distributions.py:2551: FutureWarning: `distplot` is a deprecated function and will be removed in a future version. Please adapt your code to use either `displot` (a figure-level function with similar flexibility) or `histplot` (an axes-level function for histograms).\n",
            "  warnings.warn(msg, FutureWarning)\n",
            "/usr/local/lib/python3.6/dist-packages/seaborn/_decorators.py:43: FutureWarning: Pass the following variable as a keyword arg: x. From version 0.12, the only valid positional argument will be `data`, and passing other arguments without an explicit keyword will result in an error or misinterpretation.\n",
            "  FutureWarning\n",
            "/usr/local/lib/python3.6/dist-packages/seaborn/distributions.py:2551: FutureWarning: `distplot` is a deprecated function and will be removed in a future version. Please adapt your code to use either `displot` (a figure-level function with similar flexibility) or `histplot` (an axes-level function for histograms).\n",
            "  warnings.warn(msg, FutureWarning)\n",
            "/usr/local/lib/python3.6/dist-packages/seaborn/_decorators.py:43: FutureWarning: Pass the following variable as a keyword arg: x. From version 0.12, the only valid positional argument will be `data`, and passing other arguments without an explicit keyword will result in an error or misinterpretation.\n",
            "  FutureWarning\n",
            "/usr/local/lib/python3.6/dist-packages/seaborn/distributions.py:2551: FutureWarning: `distplot` is a deprecated function and will be removed in a future version. Please adapt your code to use either `displot` (a figure-level function with similar flexibility) or `histplot` (an axes-level function for histograms).\n",
            "  warnings.warn(msg, FutureWarning)\n",
            "/usr/local/lib/python3.6/dist-packages/seaborn/_decorators.py:43: FutureWarning: Pass the following variable as a keyword arg: x. From version 0.12, the only valid positional argument will be `data`, and passing other arguments without an explicit keyword will result in an error or misinterpretation.\n",
            "  FutureWarning\n",
            "/usr/local/lib/python3.6/dist-packages/seaborn/distributions.py:2551: FutureWarning: `distplot` is a deprecated function and will be removed in a future version. Please adapt your code to use either `displot` (a figure-level function with similar flexibility) or `histplot` (an axes-level function for histograms).\n",
            "  warnings.warn(msg, FutureWarning)\n",
            "/usr/local/lib/python3.6/dist-packages/seaborn/_decorators.py:43: FutureWarning: Pass the following variable as a keyword arg: x. From version 0.12, the only valid positional argument will be `data`, and passing other arguments without an explicit keyword will result in an error or misinterpretation.\n",
            "  FutureWarning\n"
          ],
          "name": "stderr"
        },
        {
          "output_type": "display_data",
          "data": {
            "image/png": "[encoded data removed]",
            "text/plain": [
              "<Figure size 1440x288 with 2 Axes>"
            ]
          },
          "metadata": {
            "tags": [],
            "needs_background": "light"
          }
        },
        {
          "output_type": "display_data",
          "data": {
            "image/png": "[encoded data removed]",
            "text/plain": [
              "<Figure size 1440x288 with 2 Axes>"
            ]
          },
          "metadata": {
            "tags": [],
            "needs_background": "light"
          }
        },
        {
          "output_type": "display_data",
          "data": {
            "image/png": "[encoded data removed]",
            "text/plain": [
              "<Figure size 1440x288 with 2 Axes>"
            ]
          },
          "metadata": {
            "tags": [],
            "needs_background": "light"
          }
        },
        {
          "output_type": "display_data",
          "data": {
            "image/png": "[encoded data removed]",
            "text/plain": [
              "<Figure size 1440x288 with 2 Axes>"
            ]
          },
          "metadata": {
            "tags": [],
            "needs_background": "light"
          }
        },
        {
          "output_type": "display_data",
          "data": {
            "image/png": "[encoded data removed]",
            "text/plain": [
              "<Figure size 1440x288 with 2 Axes>"
            ]
          },
          "metadata": {
            "tags": [],
            "needs_background": "light"
          }
        },
        {
          "output_type": "display_data",
          "data": {
            "image/png": "[encoded data removed]",
            "text/plain": [
              "<Figure size 1440x288 with 2 Axes>"
            ]
          },
          "metadata": {
            "tags": [],
            "needs_background": "light"
          }
        },
        {
          "output_type": "display_data",
          "data": {
            "image/png": "[encoded data removed]",
            "text/plain": [
              "<Figure size 1440x288 with 2 Axes>"
            ]
          },
          "metadata": {
            "tags": [],
            "needs_background": "light"
          }
        },
        {
          "output_type": "display_data",
          "data": {
            "image/png": "[encoded data removed]",
            "text/plain": [
              "<Figure size 1440x288 with 2 Axes>"
            ]
          },
          "metadata": {
            "tags": [],
            "needs_background": "light"
          }
        },
        {
          "output_type": "display_data",
          "data": {
            "image/png": "[encoded data removed]",
            "text/plain": [
              "<Figure size 1440x288 with 2 Axes>"
            ]
          },
          "metadata": {
            "tags": [],
            "needs_background": "light"
          }
        }
      ]
    },
    {
      "cell_type": "markdown",
      "metadata": {
        "id": "fmDXdz_tO46X"
      },
      "source": [
        "Looking at the data from the graphs we can see both the distripution and what we would term as outliers in the sense. Considering that this is based on medical data; the outliers in themselves are pressumed to be the causes of said diseases thus they are not dropped from the dataset."
      ]
    },
    {
      "cell_type": "markdown",
      "metadata": {
        "id": "-J0u_wLOHfR_"
      },
      "source": [
        "##Changing the gender column to a numeriacally representable value"
      ]
    },
    {
      "cell_type": "markdown",
      "metadata": {
        "id": "KmmQ2CWQIUIG"
      },
      "source": [
        "We need our data to be as numerical as possible; the column gender described above is thus changed to wheteher or not the sample is Female with 1 demarcating yes the sample is a female and 0 representing male. Afterwards, the relicated data is dropped."
      ]
    },
    {
      "cell_type": "code",
      "metadata": {
        "id": "WfRvd0RAH8-A"
      },
      "source": [
        "dum = pd.get_dummies(data['gender'])"
      ],
      "execution_count": null,
      "outputs": []
    },
    {
      "cell_type": "code",
      "metadata": {
        "id": "azF9QxBTIbQT"
      },
      "source": [
        "sure = pd.merge(data , dum , left_index=True , right_index=True)"
      ],
      "execution_count": null,
      "outputs": []
    },
    {
      "cell_type": "code",
      "metadata": {
        "id": "Nin6039LIgls"
      },
      "source": [
        "sure = sure.drop(['gender','Male'], axis=1)"
      ],
      "execution_count": null,
      "outputs": []
    },
    {
      "cell_type": "code",
      "metadata": {
        "colab": {
          "base_uri": "https://localhost:8080/"
        },
        "id": "RJzjkK6SIPxN",
        "outputId": "25ce6947-5d67-4a58-ee07-ee4a467000ad"
      },
      "source": [
        "sure.head()"
      ],
      "execution_count": null,
      "outputs": [
        {
          "output_type": "execute_result",
          "data": {
            "text/html": [
              "<div>\n",
              "<style scoped>\n",
              "    .dataframe tbody tr th:only-of-type {\n",
              "        vertical-align: middle;\n",
              "    }\n",
              "\n",
              "    .dataframe tbody tr th {\n",
              "        vertical-align: top;\n",
              "    }\n",
              "\n",
              "    .dataframe thead th {\n",
              "        text-align: right;\n",
              "    }\n",
              "</style>\n",
              "<table border=\"1\" class=\"dataframe\">\n",
              "  <thead>\n",
              "    <tr style=\"text-align: right;\">\n",
              "      <th></th>\n",
              "      <th>age</th>\n",
              "      <th>TB</th>\n",
              "      <th>DB</th>\n",
              "      <th>AAP</th>\n",
              "      <th>sgpt</th>\n",
              "      <th>sgot</th>\n",
              "      <th>TP</th>\n",
              "      <th>ALB</th>\n",
              "      <th>AG</th>\n",
              "      <th>selector</th>\n",
              "      <th>Female</th>\n",
              "    </tr>\n",
              "  </thead>\n",
              "  <tbody>\n",
              "    <tr>\n",
              "      <th>0</th>\n",
              "      <td>65</td>\n",
              "      <td>0.7</td>\n",
              "      <td>0.1</td>\n",
              "      <td>187</td>\n",
              "      <td>16</td>\n",
              "      <td>18</td>\n",
              "      <td>6.8</td>\n",
              "      <td>3.3</td>\n",
              "      <td>0.90</td>\n",
              "      <td>1</td>\n",
              "      <td>1</td>\n",
              "    </tr>\n",
              "    <tr>\n",
              "      <th>1</th>\n",
              "      <td>62</td>\n",
              "      <td>10.9</td>\n",
              "      <td>5.5</td>\n",
              "      <td>699</td>\n",
              "      <td>64</td>\n",
              "      <td>100</td>\n",
              "      <td>7.5</td>\n",
              "      <td>3.2</td>\n",
              "      <td>0.74</td>\n",
              "      <td>1</td>\n",
              "      <td>0</td>\n",
              "    </tr>\n",
              "    <tr>\n",
              "      <th>2</th>\n",
              "      <td>62</td>\n",
              "      <td>7.3</td>\n",
              "      <td>4.1</td>\n",
              "      <td>490</td>\n",
              "      <td>60</td>\n",
              "      <td>68</td>\n",
              "      <td>7.0</td>\n",
              "      <td>3.3</td>\n",
              "      <td>0.89</td>\n",
              "      <td>1</td>\n",
              "      <td>0</td>\n",
              "    </tr>\n",
              "    <tr>\n",
              "      <th>3</th>\n",
              "      <td>58</td>\n",
              "      <td>1.0</td>\n",
              "      <td>0.4</td>\n",
              "      <td>182</td>\n",
              "      <td>14</td>\n",
              "      <td>20</td>\n",
              "      <td>6.8</td>\n",
              "      <td>3.4</td>\n",
              "      <td>1.00</td>\n",
              "      <td>1</td>\n",
              "      <td>0</td>\n",
              "    </tr>\n",
              "    <tr>\n",
              "      <th>4</th>\n",
              "      <td>72</td>\n",
              "      <td>3.9</td>\n",
              "      <td>2.0</td>\n",
              "      <td>195</td>\n",
              "      <td>27</td>\n",
              "      <td>59</td>\n",
              "      <td>7.3</td>\n",
              "      <td>2.4</td>\n",
              "      <td>0.40</td>\n",
              "      <td>1</td>\n",
              "      <td>0</td>\n",
              "    </tr>\n",
              "  </tbody>\n",
              "</table>\n",
              "</div>"
            ],
            "text/plain": [
              "   age    TB   DB  AAP  sgpt  sgot   TP  ALB    AG  selector  Female\n",
              "0   65   0.7  0.1  187    16    18  6.8  3.3  0.90         1       1\n",
              "1   62  10.9  5.5  699    64   100  7.5  3.2  0.74         1       0\n",
              "2   62   7.3  4.1  490    60    68  7.0  3.3  0.89         1       0\n",
              "3   58   1.0  0.4  182    14    20  6.8  3.4  1.00         1       0\n",
              "4   72   3.9  2.0  195    27    59  7.3  2.4  0.40         1       0"
            ]
          },
          "metadata": {
            "tags": []
          },
          "execution_count": 17
        }
      ]
    },
    {
      "cell_type": "markdown",
      "metadata": {
        "id": "p3x7gfo-9ac0"
      },
      "source": [
        "#EXPLORATORY DATA ANALYSIS"
      ]
    },
    {
      "cell_type": "code",
      "metadata": {
        "id": "QqSp0_DhJEXt"
      },
      "source": [
        "toeda = sure.copy()"
      ],
      "execution_count": null,
      "outputs": []
    },
    {
      "cell_type": "markdown",
      "metadata": {
        "id": "T8-pTJOA9lHY"
      },
      "source": [
        "## Univariate Analysis"
      ]
    },
    {
      "cell_type": "code",
      "metadata": {
        "colab": {
          "base_uri": "https://localhost:8080/",
          "height": 456
        },
        "id": "j54LMk9DmOtO",
        "outputId": "c9a3488c-5732-4097-9bc5-11c3e701bc6a"
      },
      "source": [
        "#A graphical representation on thenumber of women and the number of me\n",
        "plt.figure(figsize=(6,6))\n",
        "sns.countplot(toeda['Female'])"
      ],
      "execution_count": null,
      "outputs": [
        {
          "output_type": "stream",
          "text": [
            "/usr/local/lib/python3.6/dist-packages/seaborn/_decorators.py:43: FutureWarning: Pass the following variable as a keyword arg: x. From version 0.12, the only valid positional argument will be `data`, and passing other arguments without an explicit keyword will result in an error or misinterpretation.\n",
            "  FutureWarning\n"
          ],
          "name": "stderr"
        },
        {
          "output_type": "execute_result",
          "data": {
            "text/plain": [
              "<matplotlib.axes._subplots.AxesSubplot at 0x7f8bcd588cf8>"
            ]
          },
          "metadata": {
            "tags": []
          },
          "execution_count": 20
        },
        {
          "output_type": "display_data",
          "data": {
            "image/png": "[encoded data removed]",
            "text/plain": [
              "<Figure size 432x432 with 1 Axes>"
            ]
          },
          "metadata": {
            "tags": [],
            "needs_background": "light"
          }
        }
      ]
    },
    {
      "cell_type": "markdown",
      "metadata": {
        "id": "XhM2iHj9JxQN"
      },
      "source": [
        "There is a bias on the number of male samples vs the number of female samples."
      ]
    },
    {
      "cell_type": "markdown",
      "metadata": {
        "id": "WV_zLW0bHUZ9"
      },
      "source": [
        "##A histogram showing binned ages with the number of samples with diseased liver vs healthy livers"
      ]
    },
    {
      "cell_type": "code",
      "metadata": {
        "colab": {
          "base_uri": "https://localhost:8080/",
          "height": 403
        },
        "id": "S6zbgHOUn3pk",
        "outputId": "bc250bfe-e597-46fa-d40a-e66468d09f8d"
      },
      "source": [
        "\n",
        "plt.figure(figsize=(6,6))\n",
        "sns.histplot(data=toeda, x=toeda['age'], bins=9, hue=toeda['selector']) "
      ],
      "execution_count": null,
      "outputs": [
        {
          "output_type": "execute_result",
          "data": {
            "text/plain": [
              "<matplotlib.axes._subplots.AxesSubplot at 0x7f8bcc30ba90>"
            ]
          },
          "metadata": {
            "tags": []
          },
          "execution_count": 24
        },
        {
          "output_type": "display_data",
          "data": {
            "image/png": "[encoded data removed]",
            "text/plain": [
              "<Figure size 432x432 with 1 Axes>"
            ]
          },
          "metadata": {
            "tags": [],
            "needs_background": "light"
          }
        }
      ]
    },
    {
      "cell_type": "code",
      "metadata": {
        "id": "UnYMlSmqRfjK",
        "colab": {
          "base_uri": "https://localhost:8080/",
          "height": 622
        },
        "outputId": "29d086e7-4a32-479d-8a0f-ff783b2f65da"
      },
      "source": [
        "df =toeda.copy()\r\n",
        "plt.figure(figsize=(10,10))\r\n",
        "df['selector'] = df['selector'].replace({1:'Healthy liver',2: 'Has liver disease'})\r\n",
        "# plot of 2 variables\r\n",
        "p1=sns.kdeplot(df['DB'], shade=True, palette='crest',hue=df.selector)\r\n",
        "plt.xlabel('Direct Bilirubin')\r\n",
        "#p1=sns.kdeplot(df['DB'], shade=True, color=\"b\",)\r\n",
        "#sns.plt.show()\r\n",
        "\r\n"
      ],
      "execution_count": null,
      "outputs": [
        {
          "output_type": "execute_result",
          "data": {
            "text/plain": [
              "Text(0.5, 0, 'Direct Bilirubin')"
            ]
          },
          "metadata": {
            "tags": []
          },
          "execution_count": 58
        },
        {
          "output_type": "display_data",
          "data": {
            "image/png": "[encoded data removed]",
            "text/plain": [
              "<Figure size 720x720 with 1 Axes>"
            ]
          },
          "metadata": {
            "tags": [],
            "needs_background": "light"
          }
        }
      ]
    },
    {
      "cell_type": "code",
      "metadata": {
        "id": "Z5rUbNx7XFeB",
        "colab": {
          "base_uri": "https://localhost:8080/",
          "height": 622
        },
        "outputId": "f2dd5ad0-a6b2-47af-e0a6-422f3e79ac11"
      },
      "source": [
        "df =toeda.copy()\r\n",
        "plt.figure(figsize=(10,10))\r\n",
        "df['selector'] = df['selector'].replace({1:'Healthy liver',2: 'Has liver disease'})\r\n",
        "# plot of 2 variables\r\n",
        "p1=sns.kdeplot(df['TB'], shade=True, palette='crest',hue=df.selector)\r\n",
        "plt.xlabel('Total Bilirubin')\r\n",
        "#p1=sns.kdeplot(df['DB'], shade=True, color=\"b\",)\r\n",
        "#sns.plt.show()\r\n"
      ],
      "execution_count": null,
      "outputs": [
        {
          "output_type": "execute_result",
          "data": {
            "text/plain": [
              "Text(0.5, 0, 'Total Bilirubin')"
            ]
          },
          "metadata": {
            "tags": []
          },
          "execution_count": 59
        },
        {
          "output_type": "display_data",
          "data": {
            "image/png": "[encoded data removed]",
            "text/plain": [
              "<Figure size 720x720 with 1 Axes>"
            ]
          },
          "metadata": {
            "tags": [],
            "needs_background": "light"
          }
        }
      ]
    },
    {
      "cell_type": "code",
      "metadata": {
        "id": "GyL3WFHiZvfG",
        "colab": {
          "base_uri": "https://localhost:8080/",
          "height": 105
        },
        "outputId": "3788c2b0-0f07-4bbe-fe02-275ac89c1474"
      },
      "source": [
        "df.tail(2)"
      ],
      "execution_count": null,
      "outputs": [
        {
          "output_type": "execute_result",
          "data": {
            "text/html": [
              "<div>\n",
              "<style scoped>\n",
              "    .dataframe tbody tr th:only-of-type {\n",
              "        vertical-align: middle;\n",
              "    }\n",
              "\n",
              "    .dataframe tbody tr th {\n",
              "        vertical-align: top;\n",
              "    }\n",
              "\n",
              "    .dataframe thead th {\n",
              "        text-align: right;\n",
              "    }\n",
              "</style>\n",
              "<table border=\"1\" class=\"dataframe\">\n",
              "  <thead>\n",
              "    <tr style=\"text-align: right;\">\n",
              "      <th></th>\n",
              "      <th>age</th>\n",
              "      <th>TB</th>\n",
              "      <th>DB</th>\n",
              "      <th>AAP</th>\n",
              "      <th>sgpt</th>\n",
              "      <th>sgot</th>\n",
              "      <th>TP</th>\n",
              "      <th>ALB</th>\n",
              "      <th>AG</th>\n",
              "      <th>selector</th>\n",
              "      <th>Female</th>\n",
              "    </tr>\n",
              "  </thead>\n",
              "  <tbody>\n",
              "    <tr>\n",
              "      <th>581</th>\n",
              "      <td>31</td>\n",
              "      <td>1.3</td>\n",
              "      <td>0.5</td>\n",
              "      <td>184</td>\n",
              "      <td>29</td>\n",
              "      <td>32</td>\n",
              "      <td>6.8</td>\n",
              "      <td>3.4</td>\n",
              "      <td>1.0</td>\n",
              "      <td>1</td>\n",
              "      <td>0</td>\n",
              "    </tr>\n",
              "    <tr>\n",
              "      <th>582</th>\n",
              "      <td>38</td>\n",
              "      <td>1.0</td>\n",
              "      <td>0.3</td>\n",
              "      <td>216</td>\n",
              "      <td>21</td>\n",
              "      <td>24</td>\n",
              "      <td>7.3</td>\n",
              "      <td>4.4</td>\n",
              "      <td>1.5</td>\n",
              "      <td>2</td>\n",
              "      <td>0</td>\n",
              "    </tr>\n",
              "  </tbody>\n",
              "</table>\n",
              "</div>"
            ],
            "text/plain": [
              "     age   TB   DB  AAP  sgpt  sgot   TP  ALB   AG  selector  Female\n",
              "581   31  1.3  0.5  184    29    32  6.8  3.4  1.0         1       0\n",
              "582   38  1.0  0.3  216    21    24  7.3  4.4  1.5         2       0"
            ]
          },
          "metadata": {
            "tags": []
          },
          "execution_count": 49
        }
      ]
    },
    {
      "cell_type": "code",
      "metadata": {
        "id": "89by2KLVSobg"
      },
      "source": [
        "# Your x and y axis\r\n",
        "x=toeda.age\r\n",
        "y=[ ['TB'], ['DB'] ]\r\n",
        " \r\n",
        "# Basic stacked area chart.\r\n",
        "plt.stackplot(x,y )\r\n",
        "plt.legend(loc='upper left')\r\n",
        "#plt.show()\r\n",
        " \r\n",
        "\r\n"
      ],
      "execution_count": null,
      "outputs": []
    },
    {
      "cell_type": "code",
      "metadata": {
        "id": "T8ngZ3hoUW9c",
        "colab": {
          "base_uri": "https://localhost:8080/",
          "height": 295
        },
        "outputId": "31cfe6af-dc44-4887-8ddc-ec03838d6d34"
      },
      "source": [
        "sns.kdeplot(\r\n",
        "   data=toeda, x=\"DB\", hue=\"selector\",\r\n",
        "   color='r'\r\n",
        ")"
      ],
      "execution_count": null,
      "outputs": [
        {
          "output_type": "execute_result",
          "data": {
            "text/plain": [
              "<matplotlib.axes._subplots.AxesSubplot at 0x7f8bcc5e91d0>"
            ]
          },
          "metadata": {
            "tags": []
          },
          "execution_count": 32
        },
        {
          "output_type": "display_data",
          "data": {
            "image/png": "[encoded data removed]",
            "text/plain": [
              "<Figure size 432x288 with 1 Axes>"
            ]
          },
          "metadata": {
            "tags": [],
            "needs_background": "light"
          }
        }
      ]
    },
    {
      "cell_type": "markdown",
      "metadata": {
        "id": "OlhVN99_Jqio"
      },
      "source": [
        "liver disease increases with age from the poplation under study"
      ]
    },
    {
      "cell_type": "code",
      "metadata": {
        "id": "8TUwV_-rJDc3",
        "colab": {
          "base_uri": "https://localhost:8080/",
          "height": 946
        },
        "outputId": "93777dda-bbc8-40c8-f335-76795319aa0a"
      },
      "source": [
        "#selector is an encoded column that has 1 for the liver disease sample patients and\n",
        "# 2 for the non liver disease patients\n",
        "plt.figure(figsize=(15,15))\n",
        "sns.countplot(toeda['selector'])"
      ],
      "execution_count": null,
      "outputs": [
        {
          "output_type": "stream",
          "text": [
            "/usr/local/lib/python3.6/dist-packages/seaborn/_decorators.py:43: FutureWarning: Pass the following variable as a keyword arg: x. From version 0.12, the only valid positional argument will be `data`, and passing other arguments without an explicit keyword will result in an error or misinterpretation.\n",
            "  FutureWarning\n"
          ],
          "name": "stderr"
        },
        {
          "output_type": "execute_result",
          "data": {
            "text/plain": [
              "<matplotlib.axes._subplots.AxesSubplot at 0x7f8bcc08b470>"
            ]
          },
          "metadata": {
            "tags": []
          },
          "execution_count": 22
        },
        {
          "output_type": "display_data",
          "data": {
            "image/png": "[encoded data removed]",
            "text/plain": [
              "<Figure size 1080x1080 with 1 Axes>"
            ]
          },
          "metadata": {
            "tags": [],
            "needs_background": "light"
          }
        }
      ]
    },
    {
      "cell_type": "markdown",
      "metadata": {
        "id": "xTrQBZPRlhCn"
      },
      "source": [
        "The samples demarcated by 1 are liver disease patients while the samples demarcated by 2 are non-liver patients as corroborated by the data source listed above."
      ]
    },
    {
      "cell_type": "code",
      "metadata": {
        "id": "4-KDyRu3JNk5",
        "colab": {
          "base_uri": "https://localhost:8080/"
        },
        "outputId": "ca08f8fd-0b5e-46f9-c699-25731c2ac764"
      },
      "source": [
        "toeda['selector'].value_counts()"
      ],
      "execution_count": null,
      "outputs": [
        {
          "output_type": "execute_result",
          "data": {
            "text/plain": [
              "1    404\n",
              "2    162\n",
              "Name: selector, dtype: int64"
            ]
          },
          "metadata": {
            "tags": []
          },
          "execution_count": 23
        }
      ]
    },
    {
      "cell_type": "markdown",
      "metadata": {
        "id": "luf1Owv29owO"
      },
      "source": [
        "## Bivariate Analysis"
      ]
    },
    {
      "cell_type": "markdown",
      "metadata": {
        "id": "uaeHWjQYGpVB"
      },
      "source": [
        "### Correlation"
      ]
    },
    {
      "cell_type": "code",
      "metadata": {
        "colab": {
          "base_uri": "https://localhost:8080/"
        },
        "id": "_ngEpou5GpVp",
        "outputId": "4bea4a79-449a-43a4-dcfe-1c85d3492cc2"
      },
      "source": [
        "#A heatmap is created to show the correlation between different attributes of the\n",
        "#data that has been collected\n",
        "plt.figure(figsize=(15,15))\n",
        "sns.heatmap(toeda.corr())\n",
        "plt.show"
      ],
      "execution_count": null,
      "outputs": [
        {
          "output_type": "execute_result",
          "data": {
            "text/plain": [
              "<function matplotlib.pyplot.show>"
            ]
          },
          "metadata": {
            "tags": []
          },
          "execution_count": 767
        },
        {
          "output_type": "display_data",
          "data": {
            "image/png": "[encoded data removed]",
            "text/plain": [
              "<Figure size 1080x1080 with 2 Axes>"
            ]
          },
          "metadata": {
            "tags": [],
            "needs_background": "light"
          }
        }
      ]
    },
    {
      "cell_type": "code",
      "metadata": {
        "colab": {
          "base_uri": "https://localhost:8080/"
        },
        "id": "Obe0tXTSGpVs",
        "outputId": "38c9ba98-da7f-4f74-b209-2974c3fb4c1e"
      },
      "source": [
        "#A correlation table is made to suppliment the information above\n",
        "\n",
        "toeda.corr()"
      ],
      "execution_count": null,
      "outputs": [
        {
          "output_type": "execute_result",
          "data": {
            "text/html": [
              "<div>\n",
              "<style scoped>\n",
              "    .dataframe tbody tr th:only-of-type {\n",
              "        vertical-align: middle;\n",
              "    }\n",
              "\n",
              "    .dataframe tbody tr th {\n",
              "        vertical-align: top;\n",
              "    }\n",
              "\n",
              "    .dataframe thead th {\n",
              "        text-align: right;\n",
              "    }\n",
              "</style>\n",
              "<table border=\"1\" class=\"dataframe\">\n",
              "  <thead>\n",
              "    <tr style=\"text-align: right;\">\n",
              "      <th></th>\n",
              "      <th>age</th>\n",
              "      <th>TB</th>\n",
              "      <th>DB</th>\n",
              "      <th>AAP</th>\n",
              "      <th>sgpt</th>\n",
              "      <th>sgot</th>\n",
              "      <th>TP</th>\n",
              "      <th>ALB</th>\n",
              "      <th>AG</th>\n",
              "      <th>selector</th>\n",
              "      <th>Female</th>\n",
              "    </tr>\n",
              "  </thead>\n",
              "  <tbody>\n",
              "    <tr>\n",
              "      <th>age</th>\n",
              "      <td>1.000000</td>\n",
              "      <td>0.010704</td>\n",
              "      <td>0.006268</td>\n",
              "      <td>0.080085</td>\n",
              "      <td>-0.084319</td>\n",
              "      <td>-0.017352</td>\n",
              "      <td>-0.195893</td>\n",
              "      <td>-0.269448</td>\n",
              "      <td>-0.215967</td>\n",
              "      <td>-0.133821</td>\n",
              "      <td>-0.057542</td>\n",
              "    </tr>\n",
              "    <tr>\n",
              "      <th>TB</th>\n",
              "      <td>0.010704</td>\n",
              "      <td>1.000000</td>\n",
              "      <td>0.873975</td>\n",
              "      <td>0.205286</td>\n",
              "      <td>0.216776</td>\n",
              "      <td>0.238167</td>\n",
              "      <td>-0.008423</td>\n",
              "      <td>-0.223979</td>\n",
              "      <td>-0.207740</td>\n",
              "      <td>-0.224467</td>\n",
              "      <td>-0.089068</td>\n",
              "    </tr>\n",
              "    <tr>\n",
              "      <th>DB</th>\n",
              "      <td>0.006268</td>\n",
              "      <td>0.873975</td>\n",
              "      <td>1.000000</td>\n",
              "      <td>0.233653</td>\n",
              "      <td>0.236731</td>\n",
              "      <td>0.257965</td>\n",
              "      <td>-0.000735</td>\n",
              "      <td>-0.230650</td>\n",
              "      <td>-0.201519</td>\n",
              "      <td>-0.250926</td>\n",
              "      <td>-0.100448</td>\n",
              "    </tr>\n",
              "    <tr>\n",
              "      <th>AAP</th>\n",
              "      <td>0.080085</td>\n",
              "      <td>0.205286</td>\n",
              "      <td>0.233653</td>\n",
              "      <td>1.000000</td>\n",
              "      <td>0.125917</td>\n",
              "      <td>0.166609</td>\n",
              "      <td>-0.028623</td>\n",
              "      <td>-0.166287</td>\n",
              "      <td>-0.236251</td>\n",
              "      <td>-0.186057</td>\n",
              "      <td>0.024879</td>\n",
              "    </tr>\n",
              "    <tr>\n",
              "      <th>sgpt</th>\n",
              "      <td>-0.084319</td>\n",
              "      <td>0.216776</td>\n",
              "      <td>0.236731</td>\n",
              "      <td>0.125917</td>\n",
              "      <td>1.000000</td>\n",
              "      <td>0.791754</td>\n",
              "      <td>-0.035104</td>\n",
              "      <td>-0.026890</td>\n",
              "      <td>-0.006525</td>\n",
              "      <td>-0.161617</td>\n",
              "      <td>-0.083336</td>\n",
              "    </tr>\n",
              "    <tr>\n",
              "      <th>sgot</th>\n",
              "      <td>-0.017352</td>\n",
              "      <td>0.238167</td>\n",
              "      <td>0.257965</td>\n",
              "      <td>0.166609</td>\n",
              "      <td>0.791754</td>\n",
              "      <td>1.000000</td>\n",
              "      <td>-0.022114</td>\n",
              "      <td>-0.084821</td>\n",
              "      <td>-0.072899</td>\n",
              "      <td>-0.151009</td>\n",
              "      <td>-0.080593</td>\n",
              "    </tr>\n",
              "    <tr>\n",
              "      <th>TP</th>\n",
              "      <td>-0.195893</td>\n",
              "      <td>-0.008423</td>\n",
              "      <td>-0.000735</td>\n",
              "      <td>-0.028623</td>\n",
              "      <td>-0.035104</td>\n",
              "      <td>-0.022114</td>\n",
              "      <td>1.000000</td>\n",
              "      <td>0.783800</td>\n",
              "      <td>0.234576</td>\n",
              "      <td>0.036443</td>\n",
              "      <td>0.092049</td>\n",
              "    </tr>\n",
              "    <tr>\n",
              "      <th>ALB</th>\n",
              "      <td>-0.269448</td>\n",
              "      <td>-0.223979</td>\n",
              "      <td>-0.230650</td>\n",
              "      <td>-0.166287</td>\n",
              "      <td>-0.026890</td>\n",
              "      <td>-0.084821</td>\n",
              "      <td>0.783800</td>\n",
              "      <td>1.000000</td>\n",
              "      <td>0.687438</td>\n",
              "      <td>0.165273</td>\n",
              "      <td>0.093208</td>\n",
              "    </tr>\n",
              "    <tr>\n",
              "      <th>AG</th>\n",
              "      <td>-0.215967</td>\n",
              "      <td>-0.207740</td>\n",
              "      <td>-0.201519</td>\n",
              "      <td>-0.236251</td>\n",
              "      <td>-0.006525</td>\n",
              "      <td>-0.072899</td>\n",
              "      <td>0.234576</td>\n",
              "      <td>0.687438</td>\n",
              "      <td>1.000000</td>\n",
              "      <td>0.171402</td>\n",
              "      <td>0.005611</td>\n",
              "    </tr>\n",
              "    <tr>\n",
              "      <th>selector</th>\n",
              "      <td>-0.133821</td>\n",
              "      <td>-0.224467</td>\n",
              "      <td>-0.250926</td>\n",
              "      <td>-0.186057</td>\n",
              "      <td>-0.161617</td>\n",
              "      <td>-0.151009</td>\n",
              "      <td>0.036443</td>\n",
              "      <td>0.165273</td>\n",
              "      <td>0.171402</td>\n",
              "      <td>1.000000</td>\n",
              "      <td>0.077396</td>\n",
              "    </tr>\n",
              "    <tr>\n",
              "      <th>Female</th>\n",
              "      <td>-0.057542</td>\n",
              "      <td>-0.089068</td>\n",
              "      <td>-0.100448</td>\n",
              "      <td>0.024879</td>\n",
              "      <td>-0.083336</td>\n",
              "      <td>-0.080593</td>\n",
              "      <td>0.092049</td>\n",
              "      <td>0.093208</td>\n",
              "      <td>0.005611</td>\n",
              "      <td>0.077396</td>\n",
              "      <td>1.000000</td>\n",
              "    </tr>\n",
              "  </tbody>\n",
              "</table>\n",
              "</div>"
            ],
            "text/plain": [
              "               age        TB        DB  ...        AG  selector    Female\n",
              "age       1.000000  0.010704  0.006268  ... -0.215967 -0.133821 -0.057542\n",
              "TB        0.010704  1.000000  0.873975  ... -0.207740 -0.224467 -0.089068\n",
              "DB        0.006268  0.873975  1.000000  ... -0.201519 -0.250926 -0.100448\n",
              "AAP       0.080085  0.205286  0.233653  ... -0.236251 -0.186057  0.024879\n",
              "sgpt     -0.084319  0.216776  0.236731  ... -0.006525 -0.161617 -0.083336\n",
              "sgot     -0.017352  0.238167  0.257965  ... -0.072899 -0.151009 -0.080593\n",
              "TP       -0.195893 -0.008423 -0.000735  ...  0.234576  0.036443  0.092049\n",
              "ALB      -0.269448 -0.223979 -0.230650  ...  0.687438  0.165273  0.093208\n",
              "AG       -0.215967 -0.207740 -0.201519  ...  1.000000  0.171402  0.005611\n",
              "selector -0.133821 -0.224467 -0.250926  ...  0.171402  1.000000  0.077396\n",
              "Female   -0.057542 -0.089068 -0.100448  ...  0.005611  0.077396  1.000000\n",
              "\n",
              "[11 rows x 11 columns]"
            ]
          },
          "metadata": {
            "tags": []
          },
          "execution_count": 768
        }
      ]
    },
    {
      "cell_type": "markdown",
      "metadata": {
        "id": "HeLIsnth9x_f"
      },
      "source": [
        "##Multicollinearity"
      ]
    },
    {
      "cell_type": "markdown",
      "metadata": {
        "id": "Ukd39QncQjmO"
      },
      "source": [
        "The variable inflation factor is sought within the data to further look into."
      ]
    },
    {
      "cell_type": "code",
      "metadata": {
        "id": "aq_v3u7ZG4us",
        "colab": {
          "base_uri": "https://localhost:8080/",
          "height": 363
        },
        "outputId": "e7ba3f8d-ec88-4f94-b4e9-ea2466e8f7b3"
      },
      "source": [
        "independent_only = toeda.drop(columns=['selector'])\r\n",
        "\r\n",
        "correlations = independent_only.corr()\r\n",
        "\r\n",
        "correlations"
      ],
      "execution_count": null,
      "outputs": [
        {
          "output_type": "execute_result",
          "data": {
            "text/html": [
              "<div>\n",
              "<style scoped>\n",
              "    .dataframe tbody tr th:only-of-type {\n",
              "        vertical-align: middle;\n",
              "    }\n",
              "\n",
              "    .dataframe tbody tr th {\n",
              "        vertical-align: top;\n",
              "    }\n",
              "\n",
              "    .dataframe thead th {\n",
              "        text-align: right;\n",
              "    }\n",
              "</style>\n",
              "<table border=\"1\" class=\"dataframe\">\n",
              "  <thead>\n",
              "    <tr style=\"text-align: right;\">\n",
              "      <th></th>\n",
              "      <th>age</th>\n",
              "      <th>TB</th>\n",
              "      <th>DB</th>\n",
              "      <th>AAP</th>\n",
              "      <th>sgpt</th>\n",
              "      <th>sgot</th>\n",
              "      <th>TP</th>\n",
              "      <th>ALB</th>\n",
              "      <th>AG</th>\n",
              "      <th>Female</th>\n",
              "    </tr>\n",
              "  </thead>\n",
              "  <tbody>\n",
              "    <tr>\n",
              "      <th>age</th>\n",
              "      <td>1.000000</td>\n",
              "      <td>0.010704</td>\n",
              "      <td>0.006268</td>\n",
              "      <td>0.080085</td>\n",
              "      <td>-0.084319</td>\n",
              "      <td>-0.017352</td>\n",
              "      <td>-0.195893</td>\n",
              "      <td>-0.269448</td>\n",
              "      <td>-0.215967</td>\n",
              "      <td>-0.057542</td>\n",
              "    </tr>\n",
              "    <tr>\n",
              "      <th>TB</th>\n",
              "      <td>0.010704</td>\n",
              "      <td>1.000000</td>\n",
              "      <td>0.873975</td>\n",
              "      <td>0.205286</td>\n",
              "      <td>0.216776</td>\n",
              "      <td>0.238167</td>\n",
              "      <td>-0.008423</td>\n",
              "      <td>-0.223979</td>\n",
              "      <td>-0.207740</td>\n",
              "      <td>-0.089068</td>\n",
              "    </tr>\n",
              "    <tr>\n",
              "      <th>DB</th>\n",
              "      <td>0.006268</td>\n",
              "      <td>0.873975</td>\n",
              "      <td>1.000000</td>\n",
              "      <td>0.233653</td>\n",
              "      <td>0.236731</td>\n",
              "      <td>0.257965</td>\n",
              "      <td>-0.000735</td>\n",
              "      <td>-0.230650</td>\n",
              "      <td>-0.201519</td>\n",
              "      <td>-0.100448</td>\n",
              "    </tr>\n",
              "    <tr>\n",
              "      <th>AAP</th>\n",
              "      <td>0.080085</td>\n",
              "      <td>0.205286</td>\n",
              "      <td>0.233653</td>\n",
              "      <td>1.000000</td>\n",
              "      <td>0.125917</td>\n",
              "      <td>0.166609</td>\n",
              "      <td>-0.028623</td>\n",
              "      <td>-0.166287</td>\n",
              "      <td>-0.236251</td>\n",
              "      <td>0.024879</td>\n",
              "    </tr>\n",
              "    <tr>\n",
              "      <th>sgpt</th>\n",
              "      <td>-0.084319</td>\n",
              "      <td>0.216776</td>\n",
              "      <td>0.236731</td>\n",
              "      <td>0.125917</td>\n",
              "      <td>1.000000</td>\n",
              "      <td>0.791754</td>\n",
              "      <td>-0.035104</td>\n",
              "      <td>-0.026890</td>\n",
              "      <td>-0.006525</td>\n",
              "      <td>-0.083336</td>\n",
              "    </tr>\n",
              "    <tr>\n",
              "      <th>sgot</th>\n",
              "      <td>-0.017352</td>\n",
              "      <td>0.238167</td>\n",
              "      <td>0.257965</td>\n",
              "      <td>0.166609</td>\n",
              "      <td>0.791754</td>\n",
              "      <td>1.000000</td>\n",
              "      <td>-0.022114</td>\n",
              "      <td>-0.084821</td>\n",
              "      <td>-0.072899</td>\n",
              "      <td>-0.080593</td>\n",
              "    </tr>\n",
              "    <tr>\n",
              "      <th>TP</th>\n",
              "      <td>-0.195893</td>\n",
              "      <td>-0.008423</td>\n",
              "      <td>-0.000735</td>\n",
              "      <td>-0.028623</td>\n",
              "      <td>-0.035104</td>\n",
              "      <td>-0.022114</td>\n",
              "      <td>1.000000</td>\n",
              "      <td>0.783800</td>\n",
              "      <td>0.234576</td>\n",
              "      <td>0.092049</td>\n",
              "    </tr>\n",
              "    <tr>\n",
              "      <th>ALB</th>\n",
              "      <td>-0.269448</td>\n",
              "      <td>-0.223979</td>\n",
              "      <td>-0.230650</td>\n",
              "      <td>-0.166287</td>\n",
              "      <td>-0.026890</td>\n",
              "      <td>-0.084821</td>\n",
              "      <td>0.783800</td>\n",
              "      <td>1.000000</td>\n",
              "      <td>0.687438</td>\n",
              "      <td>0.093208</td>\n",
              "    </tr>\n",
              "    <tr>\n",
              "      <th>AG</th>\n",
              "      <td>-0.215967</td>\n",
              "      <td>-0.207740</td>\n",
              "      <td>-0.201519</td>\n",
              "      <td>-0.236251</td>\n",
              "      <td>-0.006525</td>\n",
              "      <td>-0.072899</td>\n",
              "      <td>0.234576</td>\n",
              "      <td>0.687438</td>\n",
              "      <td>1.000000</td>\n",
              "      <td>0.005611</td>\n",
              "    </tr>\n",
              "    <tr>\n",
              "      <th>Female</th>\n",
              "      <td>-0.057542</td>\n",
              "      <td>-0.089068</td>\n",
              "      <td>-0.100448</td>\n",
              "      <td>0.024879</td>\n",
              "      <td>-0.083336</td>\n",
              "      <td>-0.080593</td>\n",
              "      <td>0.092049</td>\n",
              "      <td>0.093208</td>\n",
              "      <td>0.005611</td>\n",
              "      <td>1.000000</td>\n",
              "    </tr>\n",
              "  </tbody>\n",
              "</table>\n",
              "</div>"
            ],
            "text/plain": [
              "             age        TB        DB  ...       ALB        AG    Female\n",
              "age     1.000000  0.010704  0.006268  ... -0.269448 -0.215967 -0.057542\n",
              "TB      0.010704  1.000000  0.873975  ... -0.223979 -0.207740 -0.089068\n",
              "DB      0.006268  0.873975  1.000000  ... -0.230650 -0.201519 -0.100448\n",
              "AAP     0.080085  0.205286  0.233653  ... -0.166287 -0.236251  0.024879\n",
              "sgpt   -0.084319  0.216776  0.236731  ... -0.026890 -0.006525 -0.083336\n",
              "sgot   -0.017352  0.238167  0.257965  ... -0.084821 -0.072899 -0.080593\n",
              "TP     -0.195893 -0.008423 -0.000735  ...  0.783800  0.234576  0.092049\n",
              "ALB    -0.269448 -0.223979 -0.230650  ...  1.000000  0.687438  0.093208\n",
              "AG     -0.215967 -0.207740 -0.201519  ...  0.687438  1.000000  0.005611\n",
              "Female -0.057542 -0.089068 -0.100448  ...  0.093208  0.005611  1.000000\n",
              "\n",
              "[10 rows x 10 columns]"
            ]
          },
          "metadata": {
            "tags": []
          },
          "execution_count": 769
        }
      ]
    },
    {
      "cell_type": "code",
      "metadata": {
        "id": "fSXBHI1zG4ut"
      },
      "source": [
        "vif = pd.DataFrame(np.linalg.inv(correlations.values), index = correlations.index, columns=correlations.columns)"
      ],
      "execution_count": null,
      "outputs": []
    },
    {
      "cell_type": "code",
      "metadata": {
        "id": "2-1t06-5JuCx",
        "colab": {
          "base_uri": "https://localhost:8080/",
          "height": 863
        },
        "outputId": "d44693e2-e2e0-44e8-b65c-6551b272e8a1"
      },
      "source": [
        "plt.figure(figsize=(15,15))\r\n",
        "sns.heatmap(vif, annot=True)\r\n",
        "plt.show()"
      ],
      "execution_count": null,
      "outputs": [
        {
          "output_type": "display_data",
          "data": {
            "image/png": "[encoded data removed]",
            "text/plain": [
              "<Figure size 1080x1080 with 2 Axes>"
            ]
          },
          "metadata": {
            "tags": [],
            "needs_background": "light"
          }
        }
      ]
    },
    {
      "cell_type": "markdown",
      "metadata": {
        "id": "GUC57R64Q45t"
      },
      "source": [
        "A VIF above 5 is deemed too high. Thus, said VIF is dropped because any VIF score above 5 will alter the results that are derived from models. Afterwards, and the VIF is sought for again to see if there is an alteration of the relative vif scores."
      ]
    },
    {
      "cell_type": "code",
      "metadata": {
        "id": "B87K5O09JveT"
      },
      "source": [
        "independent_only = independent_only.drop(columns=['ALB'])\r\n",
        "\r\n",
        "correlations = independent_only.corr()\r\n",
        "vif = pd.DataFrame(np.linalg.inv(correlations.values), index = correlations.index, columns=correlations.columns)"
      ],
      "execution_count": null,
      "outputs": []
    },
    {
      "cell_type": "code",
      "metadata": {
        "id": "kruGTExIKIbn",
        "colab": {
          "base_uri": "https://localhost:8080/",
          "height": 863
        },
        "outputId": "ff41686c-6ead-412a-ca0a-e223c45123d5"
      },
      "source": [
        "plt.figure(figsize=(15,15))\r\n",
        "sns.heatmap(vif, annot=True)\r\n",
        "plt.show()"
      ],
      "execution_count": null,
      "outputs": [
        {
          "output_type": "display_data",
          "data": {
            "image/png": "[encoded data removed]",
            "text/plain": [
              "<Figure size 1080x1080 with 2 Axes>"
            ]
          },
          "metadata": {
            "tags": [],
            "needs_background": "light"
          }
        }
      ]
    },
    {
      "cell_type": "markdown",
      "metadata": {
        "id": "10HrP2jLG4ux"
      },
      "source": [
        "### NB\r\n",
        " - Drop ALB"
      ]
    },
    {
      "cell_type": "code",
      "metadata": {
        "id": "ychxbqY_M70D"
      },
      "source": [
        "test_features = independent_only.columns.to_list()"
      ],
      "execution_count": null,
      "outputs": []
    },
    {
      "cell_type": "code",
      "metadata": {
        "id": "ZVnCP6chNS0N"
      },
      "source": [
        "X = independent_only\r\n",
        "y = toeda['selector']"
      ],
      "execution_count": null,
      "outputs": []
    },
    {
      "cell_type": "code",
      "metadata": {
        "id": "IPuYjXnQUWVz"
      },
      "source": [
        "a = independent_only.columns"
      ],
      "execution_count": null,
      "outputs": []
    },
    {
      "cell_type": "code",
      "metadata": {
        "id": "rzOSxJuCNgSJ",
        "colab": {
          "base_uri": "https://localhost:8080/"
        },
        "outputId": "8fa5b2d4-38e9-4400-fa27-bbdb842a2d9f"
      },
      "source": [
        "from imblearn.under_sampling import NearMiss\r\n",
        "\r\n",
        "nm = NearMiss(random_state=42)\r\n",
        "X, y = nm.fit_sample(X, y)"
      ],
      "execution_count": null,
      "outputs": [
        {
          "output_type": "stream",
          "text": [
            "/usr/local/lib/python3.6/dist-packages/sklearn/utils/deprecation.py:87: FutureWarning: Function safe_indexing is deprecated; safe_indexing is deprecated in version 0.22 and will be removed in version 0.24.\n",
            "  warnings.warn(msg, category=FutureWarning)\n",
            "/usr/local/lib/python3.6/dist-packages/sklearn/utils/deprecation.py:87: FutureWarning: Function safe_indexing is deprecated; safe_indexing is deprecated in version 0.22 and will be removed in version 0.24.\n",
            "  warnings.warn(msg, category=FutureWarning)\n",
            "/usr/local/lib/python3.6/dist-packages/sklearn/utils/deprecation.py:87: FutureWarning: Function safe_indexing is deprecated; safe_indexing is deprecated in version 0.22 and will be removed in version 0.24.\n",
            "  warnings.warn(msg, category=FutureWarning)\n"
          ],
          "name": "stderr"
        }
      ]
    },
    {
      "cell_type": "code",
      "metadata": {
        "id": "3l2cFENXN8dI",
        "colab": {
          "base_uri": "https://localhost:8080/"
        },
        "outputId": "2e6c3a6c-6a10-4632-c7c3-fd55a4b04b9a"
      },
      "source": [
        "np.unique(y, return_counts=True)"
      ],
      "execution_count": null,
      "outputs": [
        {
          "output_type": "execute_result",
          "data": {
            "text/plain": [
              "(array([1, 2]), array([162, 162]))"
            ]
          },
          "metadata": {
            "tags": []
          },
          "execution_count": 778
        }
      ]
    },
    {
      "cell_type": "markdown",
      "metadata": {
        "id": "UtvJvXAwRqvy"
      },
      "source": [
        "#MODEL TRAINING"
      ]
    },
    {
      "cell_type": "markdown",
      "metadata": {
        "id": "hRqs_qY0jn0L"
      },
      "source": [
        "Models are made so as to predict the liver disease patients state. "
      ]
    },
    {
      "cell_type": "code",
      "metadata": {
        "id": "NLulcc8BWSzM"
      },
      "source": [
        "X = toeda.drop(['selector', 'ALB'], axis=1)\n",
        "y = toeda['selector']"
      ],
      "execution_count": null,
      "outputs": []
    },
    {
      "cell_type": "markdown",
      "metadata": {
        "id": "PHuz2nTb92Jf"
      },
      "source": [
        "## Random forest"
      ]
    },
    {
      "cell_type": "markdown",
      "metadata": {
        "id": "2nHriWcL-A81"
      },
      "source": [
        "### Part 1"
      ]
    },
    {
      "cell_type": "code",
      "metadata": {
        "colab": {
          "base_uri": "https://localhost:8080/"
        },
        "id": "VTt934qA-YRs",
        "outputId": "82ac9ead-a370-45aa-f321-cc5f5e297983"
      },
      "source": [
        "from sklearn.model_selection import train_test_split\r\n",
        "x_train, x_test, y_train, y_test = train_test_split(X, y, test_size=0.2, random_state=0)\r\n",
        "\r\n",
        "from sklearn.ensemble import RandomForestClassifier\r\n",
        "\r\n",
        "forest = RandomForestClassifier() \r\n",
        "\r\n",
        "model = forest.fit(x_train, y_train)\r\n",
        "model"
      ],
      "execution_count": null,
      "outputs": [
        {
          "output_type": "execute_result",
          "data": {
            "text/plain": [
              "RandomForestClassifier(bootstrap=True, ccp_alpha=0.0, class_weight=None,\n",
              "                       criterion='gini', max_depth=None, max_features='auto',\n",
              "                       max_leaf_nodes=None, max_samples=None,\n",
              "                       min_impurity_decrease=0.0, min_impurity_split=None,\n",
              "                       min_samples_leaf=1, min_samples_split=2,\n",
              "                       min_weight_fraction_leaf=0.0, n_estimators=100,\n",
              "                       n_jobs=None, oob_score=False, random_state=None,\n",
              "                       verbose=0, warm_start=False)"
            ]
          },
          "metadata": {
            "tags": []
          },
          "execution_count": 780
        }
      ]
    },
    {
      "cell_type": "code",
      "metadata": {
        "id": "y82EfGZiRrmW",
        "colab": {
          "base_uri": "https://localhost:8080/"
        },
        "outputId": "5c4fa3ce-7da2-48a4-9c9a-c7427e7cca11"
      },
      "source": [
        "y_pred = model.predict(x_test)\r\n",
        "print(f'{y_pred}')\r\n",
        "print('')\r\n",
        "print(f'Accuracy score: \\n {accuracy_score(y_test, y_pred)}')\r\n",
        "print('')\r\n",
        "print('The confusion matrix:')\r\n",
        "print(f'{confusion_matrix(y_test, y_pred)}')\r\n",
        "print('')\r\n",
        "print('The classification report:')\r\n",
        "print(f'{classification_report(y_test, y_pred)}')"
      ],
      "execution_count": null,
      "outputs": [
        {
          "output_type": "stream",
          "text": [
            "[1 1 1 1 2 2 1 1 1 1 1 1 1 2 2 1 1 1 2 1 1 1 1 2 1 2 1 1 1 1 1 1 1 1 1 2 1\n",
            " 1 2 1 2 1 1 2 1 2 1 1 1 1 1 1 2 1 1 1 1 1 1 1 1 2 1 1 1 1 1 1 1 2 1 1 2 1\n",
            " 2 1 1 1 1 1 1 1 2 1 1 1 1 2 1 1 2 1 1 2 1 2 1 1 1 1 1 1 1 1 1 1 1 1 1 1 1\n",
            " 1 1 1]\n",
            "\n",
            "Accuracy score: \n",
            " 0.7456140350877193\n",
            "\n",
            "The confusion matrix:\n",
            "[[72  9]\n",
            " [20 13]]\n",
            "\n",
            "The classification report:\n",
            "              precision    recall  f1-score   support\n",
            "\n",
            "           1       0.78      0.89      0.83        81\n",
            "           2       0.59      0.39      0.47        33\n",
            "\n",
            "    accuracy                           0.75       114\n",
            "   macro avg       0.69      0.64      0.65       114\n",
            "weighted avg       0.73      0.75      0.73       114\n",
            "\n"
          ],
          "name": "stdout"
        }
      ]
    },
    {
      "cell_type": "markdown",
      "metadata": {
        "id": "tb7BszPh-JmA"
      },
      "source": [
        "#### Feature importance"
      ]
    },
    {
      "cell_type": "code",
      "metadata": {
        "colab": {
          "base_uri": "https://localhost:8080/"
        },
        "id": "swviBjt3-Y4R",
        "outputId": "b75f781a-ab12-4626-a134-518ed7998da8"
      },
      "source": [
        "def plot_feature_importance(importance, model_type):\r\n",
        "\r\n",
        "  #Create arrays from feature importance and feature names\r\n",
        "  feature_importance = model.feature_importances_\r\n",
        "  feature_names = a.values\r\n",
        "\r\n",
        "  #Create a DataFrame using a Dictionary\r\n",
        "  data={'feature_names':feature_names,'feature_importance':feature_importance}\r\n",
        "  fi_df = pd.DataFrame(data)\r\n",
        "\r\n",
        "  #Sort the DataFrame in order decreasing feature importance\r\n",
        "  fi_df.sort_values(by=['feature_importance'], ascending=False,inplace=True)\r\n",
        "\r\n",
        "  #Define size of bar plot\r\n",
        "  plt.figure(figsize=(10,8))\r\n",
        "  #Plot Searborn bar chart\r\n",
        "  sns.barplot(x=fi_df['feature_importance'], y=fi_df['feature_names'])\r\n",
        "  #Add chart labels\r\n",
        "  plt.title(model_type + 'FEATURE IMPORTANCE')\r\n",
        "  plt.xlabel('FEATURE IMPORTANCE')\r\n",
        "  plt.ylabel('FEATURE NAMES')\r\n",
        "\r\n",
        "plot_feature_importance(forest.feature_importances_.reshape(-1,1), 'RANDOM FOREST ')"
      ],
      "execution_count": null,
      "outputs": [
        {
          "output_type": "display_data",
          "data": {
            "image/png": "[encoded data removed]",
            "text/plain": [
              "<Figure size 720x576 with 1 Axes>"
            ]
          },
          "metadata": {
            "tags": [],
            "needs_background": "light"
          }
        }
      ]
    },
    {
      "cell_type": "markdown",
      "metadata": {
        "id": "HxH71kF4-TxF"
      },
      "source": [
        "### Part 2"
      ]
    },
    {
      "cell_type": "code",
      "metadata": {
        "id": "KchsMdVm-VuT"
      },
      "source": [
        "from sklearn.model_selection import train_test_split\r\n",
        "x_train, x_test, y_train, y_test = train_test_split(X, y, test_size=0.2, random_state=0)\r\n",
        "\r\n",
        "from sklearn.preprocessing import StandardScaler\r\n",
        "\r\n",
        "sc = StandardScaler()\r\n",
        "x_train = sc.fit_transform(x_train)\r\n",
        "x_test = sc.fit_transform(x_test)\r\n",
        "\r\n",
        "from sklearn.ensemble import RandomForestClassifier\r\n",
        "# Create the parameter grid based on the results of random search \r\n",
        "param_grid = {\r\n",
        "    'bootstrap': [True],\r\n",
        "    'max_depth': [80, 90, 100, 110],\r\n",
        "    'max_features': ['auto', 'sqrt', 'log2', None],\r\n",
        "    'min_samples_leaf': [3, 4, 5],\r\n",
        "    'min_samples_split': [8, 10, 12],\r\n",
        "    'n_estimators': [100, 200, 300, 1000]\r\n",
        "}\r\n",
        "# Create a based model\r\n",
        "rf = RandomForestClassifier()\r\n",
        "# Instantiate the grid search model\r\n",
        "grid_search = GridSearchCV(estimator = rf, \r\n",
        "                           param_grid = param_grid, \r\n",
        "                           cv = 5, \r\n",
        "                           n_jobs = 4, \r\n",
        "                           verbose = 2)"
      ],
      "execution_count": null,
      "outputs": []
    },
    {
      "cell_type": "code",
      "metadata": {
        "id": "nitXoWPs8FNQ"
      },
      "source": [
        "# Fit the grid search to the data\r\n",
        "#grid_search.fit(x_train, y_train)"
      ],
      "execution_count": null,
      "outputs": []
    },
    {
      "cell_type": "code",
      "metadata": {
        "id": "JcvHWLne8Ee9"
      },
      "source": [
        "#grid_search.best_params_"
      ],
      "execution_count": null,
      "outputs": []
    },
    {
      "cell_type": "code",
      "metadata": {
        "id": "y3qF7GfpQgNA"
      },
      "source": [
        "par = {'bootstrap': True,\n",
        " 'max_depth': 90,\n",
        " 'max_features': 'auto',\n",
        " 'min_samples_leaf': 5,\n",
        " 'min_samples_split': 12,\n",
        " 'n_estimators': 100}"
      ],
      "execution_count": null,
      "outputs": []
    },
    {
      "cell_type": "code",
      "metadata": {
        "id": "vi2UTr278xvR"
      },
      "source": [
        "#par = grid_search.best_params_\r\n",
        "\r\n",
        "max_depth = par['max_depth']\r\n",
        "max_features = par['max_features']\r\n",
        "min_samples_leaf = par['min_samples_leaf']\r\n",
        "min_samples_split = par['min_samples_split']\r\n",
        "n_estimators = par['n_estimators']"
      ],
      "execution_count": null,
      "outputs": []
    },
    {
      "cell_type": "code",
      "metadata": {
        "id": "nB53tsRc8CnE",
        "colab": {
          "base_uri": "https://localhost:8080/"
        },
        "outputId": "0278edd7-5890-4d67-fc38-0318bfcee007"
      },
      "source": [
        "from sklearn.ensemble import RandomForestClassifier\r\n",
        "\r\n",
        "forest = RandomForestClassifier(n_estimators = n_estimators, \r\n",
        "                               random_state = 42, \r\n",
        "                               min_samples_split=min_samples_split,\r\n",
        "                               min_samples_leaf=min_samples_leaf,\r\n",
        "                               max_features=max_features,\r\n",
        "                               max_depth=max_depth)  \r\n",
        "\r\n",
        "model = forest.fit(x_train, y_train)\r\n",
        "model"
      ],
      "execution_count": null,
      "outputs": [
        {
          "output_type": "execute_result",
          "data": {
            "text/plain": [
              "RandomForestClassifier(bootstrap=True, ccp_alpha=0.0, class_weight=None,\n",
              "                       criterion='gini', max_depth=90, max_features='auto',\n",
              "                       max_leaf_nodes=None, max_samples=None,\n",
              "                       min_impurity_decrease=0.0, min_impurity_split=None,\n",
              "                       min_samples_leaf=5, min_samples_split=12,\n",
              "                       min_weight_fraction_leaf=0.0, n_estimators=100,\n",
              "                       n_jobs=None, oob_score=False, random_state=42, verbose=0,\n",
              "                       warm_start=False)"
            ]
          },
          "metadata": {
            "tags": []
          },
          "execution_count": 788
        }
      ]
    },
    {
      "cell_type": "code",
      "metadata": {
        "id": "5b6znHPfra1w",
        "colab": {
          "base_uri": "https://localhost:8080/"
        },
        "outputId": "3cbf3868-5a37-4396-d3e9-86b09e3b6d8b"
      },
      "source": [
        "y_pred = model.predict(x_test)\r\n",
        "print(f'{y_pred}')\r\n",
        "print('')\r\n",
        "print(f'Accuracy score: \\n {accuracy_score(y_test, y_pred)}')\r\n",
        "print('')\r\n",
        "print('The confusion matrix:')\r\n",
        "print(f'{confusion_matrix(y_test, y_pred)}')\r\n",
        "print('')\r\n",
        "print('The classification report:')\r\n",
        "print(f'{classification_report(y_test, y_pred)}')"
      ],
      "execution_count": null,
      "outputs": [
        {
          "output_type": "stream",
          "text": [
            "[1 1 1 1 2 1 1 1 1 1 1 1 1 2 1 1 1 1 2 1 1 1 1 1 1 2 1 2 1 1 1 1 1 1 1 2 1\n",
            " 1 2 1 2 2 2 2 1 2 1 1 2 1 2 1 2 2 1 1 1 2 2 1 2 1 2 1 1 1 1 2 1 2 1 1 2 2\n",
            " 2 1 1 1 1 1 2 1 2 1 1 1 1 1 1 1 2 2 1 1 2 2 1 1 1 1 1 1 1 1 1 1 1 1 1 1 1\n",
            " 1 1 1]\n",
            "\n",
            "Accuracy score: \n",
            " 0.7192982456140351\n",
            "\n",
            "The confusion matrix:\n",
            "[[66 15]\n",
            " [17 16]]\n",
            "\n",
            "The classification report:\n",
            "              precision    recall  f1-score   support\n",
            "\n",
            "           1       0.80      0.81      0.80        81\n",
            "           2       0.52      0.48      0.50        33\n",
            "\n",
            "    accuracy                           0.72       114\n",
            "   macro avg       0.66      0.65      0.65       114\n",
            "weighted avg       0.71      0.72      0.72       114\n",
            "\n"
          ],
          "name": "stdout"
        }
      ]
    },
    {
      "cell_type": "markdown",
      "metadata": {
        "id": "rysv38PF-Txd"
      },
      "source": [
        "#### Feature importance"
      ]
    },
    {
      "cell_type": "code",
      "metadata": {
        "id": "Ebr9oiI8-Wdz",
        "colab": {
          "base_uri": "https://localhost:8080/",
          "height": 513
        },
        "outputId": "9bc84137-1aed-48fa-8463-3ce737bbd703"
      },
      "source": [
        "def plot_feature_importance(importance, model_type):\r\n",
        "\r\n",
        "  #Create arrays from feature importance and feature names\r\n",
        "  feature_importance = model.feature_importances_\r\n",
        "  feature_names = a.values\r\n",
        "\r\n",
        "  #Create a DataFrame using a Dictionary\r\n",
        "  data={'feature_names':feature_names,'feature_importance':feature_importance}\r\n",
        "  fi_df = pd.DataFrame(data)\r\n",
        "\r\n",
        "  #Sort the DataFrame in order decreasing feature importance\r\n",
        "  fi_df.sort_values(by=['feature_importance'], ascending=False,inplace=True)\r\n",
        "\r\n",
        "  #Define size of bar plot\r\n",
        "  plt.figure(figsize=(10,8))\r\n",
        "  #Plot Searborn bar chart\r\n",
        "  sns.barplot(x=fi_df['feature_importance'], y=fi_df['feature_names'])\r\n",
        "  #Add chart labels\r\n",
        "  plt.title(model_type + 'FEATURE IMPORTANCE')\r\n",
        "  plt.xlabel('FEATURE IMPORTANCE')\r\n",
        "  plt.ylabel('FEATURE NAMES')\r\n",
        "\r\n",
        "plot_feature_importance(forest.feature_importances_.reshape(-1,1), 'RANDOM FOREST ')"
      ],
      "execution_count": null,
      "outputs": [
        {
          "output_type": "display_data",
          "data": {
            "image/png": "[encoded data removed]",
            "text/plain": [
              "<Figure size 720x576 with 1 Axes>"
            ]
          },
          "metadata": {
            "tags": [],
            "needs_background": "light"
          }
        }
      ]
    },
    {
      "cell_type": "markdown",
      "metadata": {
        "id": "nIFTgSVa-dwb"
      },
      "source": [
        "## Ada Boost"
      ]
    },
    {
      "cell_type": "markdown",
      "metadata": {
        "id": "PpIwO3O3-dwc"
      },
      "source": [
        "### Part 1"
      ]
    },
    {
      "cell_type": "code",
      "metadata": {
        "id": "_Rl-YVBn-dwd",
        "colab": {
          "base_uri": "https://localhost:8080/"
        },
        "outputId": "142763fe-389c-4a19-cc6c-1c746921acda"
      },
      "source": [
        "from sklearn.model_selection import train_test_split\r\n",
        "x_train, x_test, y_train, y_test = train_test_split(X, y, test_size=0.2, random_state=42)\r\n",
        "\r\n",
        "from sklearn.tree import DecisionTreeClassifier\r\n",
        "from sklearn.ensemble import AdaBoostClassifier\r\n",
        "\r\n",
        "ada_boost = AdaBoostClassifier(DecisionTreeClassifier(max_depth=1)) \r\n",
        "\r\n",
        "model = ada_boost.fit(x_train, y_train)\r\n",
        "model"
      ],
      "execution_count": null,
      "outputs": [
        {
          "output_type": "execute_result",
          "data": {
            "text/plain": [
              "AdaBoostClassifier(algorithm='SAMME.R',\n",
              "                   base_estimator=DecisionTreeClassifier(ccp_alpha=0.0,\n",
              "                                                         class_weight=None,\n",
              "                                                         criterion='gini',\n",
              "                                                         max_depth=1,\n",
              "                                                         max_features=None,\n",
              "                                                         max_leaf_nodes=None,\n",
              "                                                         min_impurity_decrease=0.0,\n",
              "                                                         min_impurity_split=None,\n",
              "                                                         min_samples_leaf=1,\n",
              "                                                         min_samples_split=2,\n",
              "                                                         min_weight_fraction_leaf=0.0,\n",
              "                                                         presort='deprecated',\n",
              "                                                         random_state=None,\n",
              "                                                         splitter='best'),\n",
              "                   learning_rate=1.0, n_estimators=50, random_state=None)"
            ]
          },
          "metadata": {
            "tags": []
          },
          "execution_count": 791
        }
      ]
    },
    {
      "cell_type": "code",
      "metadata": {
        "colab": {
          "base_uri": "https://localhost:8080/"
        },
        "id": "z3OoYj6NhsrU",
        "outputId": "4a88769d-2682-4165-bc1b-0611779df4b7"
      },
      "source": [
        "y_pred = model.predict(x_test)\r\n",
        "print(f'{y_pred}')\r\n",
        "print('')\r\n",
        "print(f'Accuracy score: \\n {accuracy_score(y_test, y_pred)}')\r\n",
        "print('')\r\n",
        "print('The confusion matrix:')\r\n",
        "print(f'{confusion_matrix(y_test, y_pred)}')\r\n",
        "print('')\r\n",
        "print('The classification report:')\r\n",
        "print(f'{classification_report(y_test, y_pred)}')"
      ],
      "execution_count": null,
      "outputs": [
        {
          "output_type": "stream",
          "text": [
            "[2 1 1 2 1 1 2 2 1 1 1 1 1 1 2 1 1 2 1 2 1 1 1 1 1 1 1 1 1 1 2 1 1 1 1 1 2\n",
            " 1 1 1 1 1 1 1 2 2 1 2 2 1 2 1 2 1 1 1 1 1 1 1 1 1 1 1 1 1 1 2 1 1 1 1 1 1\n",
            " 1 1 1 1 1 1 1 1 1 2 1 1 2 1 2 2 1 1 1 1 1 1 1 1 1 2 2 1 1 1 1 1 1 2 1 1 2\n",
            " 1 2 1]\n",
            "\n",
            "Accuracy score: \n",
            " 0.5877192982456141\n",
            "\n",
            "The confusion matrix:\n",
            "[[57 15]\n",
            " [32 10]]\n",
            "\n",
            "The classification report:\n",
            "              precision    recall  f1-score   support\n",
            "\n",
            "           1       0.64      0.79      0.71        72\n",
            "           2       0.40      0.24      0.30        42\n",
            "\n",
            "    accuracy                           0.59       114\n",
            "   macro avg       0.52      0.51      0.50       114\n",
            "weighted avg       0.55      0.59      0.56       114\n",
            "\n"
          ],
          "name": "stdout"
        }
      ]
    },
    {
      "cell_type": "markdown",
      "metadata": {
        "id": "DC6f-UbH-dwe"
      },
      "source": [
        "#### Feature importance"
      ]
    },
    {
      "cell_type": "code",
      "metadata": {
        "id": "scDAfcIy-dwf",
        "colab": {
          "base_uri": "https://localhost:8080/"
        },
        "outputId": "8a157466-a29e-4e13-a511-302f38c83d59"
      },
      "source": [
        "def plot_feature_importance(importance, model_type):\r\n",
        "\r\n",
        "  #Create arrays from feature importance and feature names\r\n",
        "  feature_importance = model.feature_importances_\r\n",
        "  feature_names = a.values\r\n",
        "\r\n",
        "  #Create a DataFrame using a Dictionary\r\n",
        "  data={'feature_names':feature_names,'feature_importance':feature_importance}\r\n",
        "  fi_df = pd.DataFrame(data)\r\n",
        "\r\n",
        "  #Sort the DataFrame in order decreasing feature importance\r\n",
        "  fi_df.sort_values(by=['feature_importance'], ascending=False,inplace=True)\r\n",
        "\r\n",
        "  #Define size of bar plot\r\n",
        "  plt.figure(figsize=(10,8))\r\n",
        "  #Plot Searborn bar chart\r\n",
        "  sns.barplot(x=fi_df['feature_importance'], y=fi_df['feature_names'])\r\n",
        "  #Add chart labels\r\n",
        "  plt.title(model_type + 'FEATURE IMPORTANCE')\r\n",
        "  plt.xlabel('FEATURE IMPORTANCE')\r\n",
        "  plt.ylabel('FEATURE NAMES')\r\n",
        "\r\n",
        "plot_feature_importance(forest.feature_importances_.reshape(-1,1), 'ADA BOOST ')"
      ],
      "execution_count": null,
      "outputs": [
        {
          "output_type": "display_data",
          "data": {
            "image/png": "[encoded data removed]",
            "text/plain": [
              "<Figure size 720x576 with 1 Axes>"
            ]
          },
          "metadata": {
            "tags": [],
            "needs_background": "light"
          }
        }
      ]
    },
    {
      "cell_type": "markdown",
      "metadata": {
        "id": "CIH13nYn-dwf"
      },
      "source": [
        "### Part 2"
      ]
    },
    {
      "cell_type": "code",
      "metadata": {
        "id": "qu3OaEsa-dwg"
      },
      "source": [
        "from sklearn.model_selection import train_test_split\r\n",
        "x_train, x_test, y_train, y_test = train_test_split(X, y, test_size=0.2, random_state=42)\r\n",
        "\r\n",
        "from sklearn.tree import DecisionTreeClassifier\r\n",
        "from sklearn.ensemble import AdaBoostClassifier\r\n",
        "\r\n",
        "#Creating a grid of hyperparameters\r\n",
        "param_dist = {\r\n",
        " 'n_estimators': [50, 100,200,300],\r\n",
        " 'learning_rate': [0.01,0.05,0.1,0.3,1],\r\n",
        " 'algorithm':['SAMME','SAMME.R']\r\n",
        " }\r\n",
        "\r\n",
        "ada=AdaBoostClassifier()\r\n",
        "\r\n",
        "grid_search = GridSearchCV(estimator=ada, \r\n",
        "                           param_grid=param_dist, \r\n",
        "                           cv = 5)"
      ],
      "execution_count": null,
      "outputs": []
    },
    {
      "cell_type": "code",
      "metadata": {
        "id": "5sJlrd_09mKj"
      },
      "source": [
        "#grid_search.fit(x_train, y_train)"
      ],
      "execution_count": null,
      "outputs": []
    },
    {
      "cell_type": "code",
      "metadata": {
        "id": "8ijCq7il9pja"
      },
      "source": [
        "#grid_search.best_params_"
      ],
      "execution_count": null,
      "outputs": []
    },
    {
      "cell_type": "code",
      "metadata": {
        "id": "gsb0i45pSrbX"
      },
      "source": [
        "par = {'algorithm': 'SAMME.R', 'learning_rate': 0.1, 'n_estimators': 50}"
      ],
      "execution_count": null,
      "outputs": []
    },
    {
      "cell_type": "code",
      "metadata": {
        "id": "w0FyPsSM9uEx"
      },
      "source": [
        "#par = grid_search.best_params_\r\n",
        "\r\n",
        "learning_rate = par['learning_rate']\r\n",
        "algorithm = par['algorithm']\r\n",
        "n_estimators = par['n_estimators']"
      ],
      "execution_count": null,
      "outputs": []
    },
    {
      "cell_type": "code",
      "metadata": {
        "id": "PTtdSt5G9RLQ",
        "colab": {
          "base_uri": "https://localhost:8080/"
        },
        "outputId": "ae5ac1d3-1600-444a-b4f5-e77e155a8469"
      },
      "source": [
        "ada_boost = AdaBoostClassifier(DecisionTreeClassifier(max_depth=1),\r\n",
        "                              algorithm=algorithm,\r\n",
        "                              n_estimators=n_estimators,\r\n",
        "                              learning_rate=learning_rate, \r\n",
        "                              random_state=42) \r\n",
        "\r\n",
        "model = ada_boost.fit(x_train, y_train)\r\n",
        "model"
      ],
      "execution_count": null,
      "outputs": [
        {
          "output_type": "execute_result",
          "data": {
            "text/plain": [
              "AdaBoostClassifier(algorithm='SAMME.R',\n",
              "                   base_estimator=DecisionTreeClassifier(ccp_alpha=0.0,\n",
              "                                                         class_weight=None,\n",
              "                                                         criterion='gini',\n",
              "                                                         max_depth=1,\n",
              "                                                         max_features=None,\n",
              "                                                         max_leaf_nodes=None,\n",
              "                                                         min_impurity_decrease=0.0,\n",
              "                                                         min_impurity_split=None,\n",
              "                                                         min_samples_leaf=1,\n",
              "                                                         min_samples_split=2,\n",
              "                                                         min_weight_fraction_leaf=0.0,\n",
              "                                                         presort='deprecated',\n",
              "                                                         random_state=None,\n",
              "                                                         splitter='best'),\n",
              "                   learning_rate=0.1, n_estimators=50, random_state=42)"
            ]
          },
          "metadata": {
            "tags": []
          },
          "execution_count": 799
        }
      ]
    },
    {
      "cell_type": "code",
      "metadata": {
        "id": "MxeCnP9FqzWZ",
        "colab": {
          "base_uri": "https://localhost:8080/"
        },
        "outputId": "46ebf9eb-10b5-4002-ace4-26120cf3b57b"
      },
      "source": [
        "y_pred = model.predict(x_test)\r\n",
        "print(f'{y_pred}')\r\n",
        "print('')\r\n",
        "print(f'Accuracy score: \\n {accuracy_score(y_test, y_pred)}')\r\n",
        "print('')\r\n",
        "print('The confusion matrix:')\r\n",
        "print(f'{confusion_matrix(y_test, y_pred)}')\r\n",
        "print('')\r\n",
        "print('The classification report:')\r\n",
        "print(f'{classification_report(y_test, y_pred)}')"
      ],
      "execution_count": null,
      "outputs": [
        {
          "output_type": "stream",
          "text": [
            "[1 1 1 1 1 2 1 1 1 1 1 1 1 1 1 1 1 1 1 1 1 1 1 1 1 1 1 1 1 1 1 1 1 1 1 1 1\n",
            " 1 1 1 1 1 1 1 1 1 1 1 1 1 1 1 2 1 1 1 1 1 1 1 1 1 1 1 1 1 1 1 1 1 1 1 1 1\n",
            " 1 1 1 1 1 1 1 1 1 2 1 1 1 1 1 1 1 1 1 1 1 1 1 1 1 1 1 1 1 1 1 1 1 1 1 1 1\n",
            " 1 2 1]\n",
            "\n",
            "Accuracy score: \n",
            " 0.6140350877192983\n",
            "\n",
            "The confusion matrix:\n",
            "[[69  3]\n",
            " [41  1]]\n",
            "\n",
            "The classification report:\n",
            "              precision    recall  f1-score   support\n",
            "\n",
            "           1       0.63      0.96      0.76        72\n",
            "           2       0.25      0.02      0.04        42\n",
            "\n",
            "    accuracy                           0.61       114\n",
            "   macro avg       0.44      0.49      0.40       114\n",
            "weighted avg       0.49      0.61      0.49       114\n",
            "\n"
          ],
          "name": "stdout"
        }
      ]
    },
    {
      "cell_type": "markdown",
      "metadata": {
        "id": "-7LaxOUm-dwh"
      },
      "source": [
        "#### Feature importance"
      ]
    },
    {
      "cell_type": "code",
      "metadata": {
        "id": "GwZxZHXX-dwh",
        "colab": {
          "base_uri": "https://localhost:8080/",
          "height": 513
        },
        "outputId": "22d665d4-c654-4ce5-dda1-eeda5af4de83"
      },
      "source": [
        "def plot_feature_importance(importance, model_type):\r\n",
        "\r\n",
        "  #Create arrays from feature importance and feature names\r\n",
        "  feature_importance = model.feature_importances_\r\n",
        "  feature_names = a.values\r\n",
        "\r\n",
        "  #Create a DataFrame using a Dictionary\r\n",
        "  data={'feature_names':feature_names,'feature_importance':feature_importance}\r\n",
        "  fi_df = pd.DataFrame(data)\r\n",
        "\r\n",
        "  #Sort the DataFrame in order decreasing feature importance\r\n",
        "  fi_df.sort_values(by=['feature_importance'], ascending=False,inplace=True)\r\n",
        "\r\n",
        "  #Define size of bar plot\r\n",
        "  plt.figure(figsize=(10,8))\r\n",
        "  #Plot Searborn bar chart\r\n",
        "  sns.barplot(x=fi_df['feature_importance'], y=fi_df['feature_names'])\r\n",
        "  #Add chart labels\r\n",
        "  plt.title(model_type + 'FEATURE IMPORTANCE')\r\n",
        "  plt.xlabel('FEATURE IMPORTANCE')\r\n",
        "  plt.ylabel('FEATURE NAMES')\r\n",
        "\r\n",
        "plot_feature_importance(forest.feature_importances_.reshape(-1,1), 'ADA BOOST ')"
      ],
      "execution_count": null,
      "outputs": [
        {
          "output_type": "display_data",
          "data": {
            "image/png": "[encoded data removed]",
            "text/plain": [
              "<Figure size 720x576 with 1 Axes>"
            ]
          },
          "metadata": {
            "tags": [],
            "needs_background": "light"
          }
        }
      ]
    },
    {
      "cell_type": "markdown",
      "metadata": {
        "id": "5Ke1M0PR-eE1"
      },
      "source": [
        "## Gradient Boost"
      ]
    },
    {
      "cell_type": "markdown",
      "metadata": {
        "id": "w72xnLo5-eE2"
      },
      "source": [
        "### Part 1"
      ]
    },
    {
      "cell_type": "code",
      "metadata": {
        "id": "-n4j42lb-eE2",
        "colab": {
          "base_uri": "https://localhost:8080/"
        },
        "outputId": "e6ffab2c-f76e-420e-c39f-425d63db6f2a"
      },
      "source": [
        "from sklearn.model_selection import train_test_split\r\n",
        "x_train, x_test, y_train, y_test = train_test_split(X, y, test_size=0.3, random_state=0)\r\n",
        "\r\n",
        "from sklearn.ensemble import GradientBoostingClassifier\r\n",
        "\r\n",
        "clf = GradientBoostingClassifier()\r\n",
        "\r\n",
        "model = clf.fit(x_train, y_train)\r\n",
        "model"
      ],
      "execution_count": null,
      "outputs": [
        {
          "output_type": "execute_result",
          "data": {
            "text/plain": [
              "GradientBoostingClassifier(ccp_alpha=0.0, criterion='friedman_mse', init=None,\n",
              "                           learning_rate=0.1, loss='deviance', max_depth=3,\n",
              "                           max_features=None, max_leaf_nodes=None,\n",
              "                           min_impurity_decrease=0.0, min_impurity_split=None,\n",
              "                           min_samples_leaf=1, min_samples_split=2,\n",
              "                           min_weight_fraction_leaf=0.0, n_estimators=100,\n",
              "                           n_iter_no_change=None, presort='deprecated',\n",
              "                           random_state=None, subsample=1.0, tol=0.0001,\n",
              "                           validation_fraction=0.1, verbose=0,\n",
              "                           warm_start=False)"
            ]
          },
          "metadata": {
            "tags": []
          },
          "execution_count": 802
        }
      ]
    },
    {
      "cell_type": "code",
      "metadata": {
        "id": "YzphJsU2qx8B",
        "colab": {
          "base_uri": "https://localhost:8080/"
        },
        "outputId": "0b312efa-6379-45dd-aafd-99fc084086d1"
      },
      "source": [
        "y_pred = model.predict(x_test)\r\n",
        "print(f'{y_pred}')\r\n",
        "print('')\r\n",
        "print(f'Accuracy score: \\n {accuracy_score(y_test, y_pred)}')\r\n",
        "print('')\r\n",
        "print('The confusion matrix:')\r\n",
        "print(f'{confusion_matrix(y_test, y_pred)}')\r\n",
        "print('')\r\n",
        "print('The classification report:')\r\n",
        "print(f'{classification_report(y_test, y_pred)}')"
      ],
      "execution_count": null,
      "outputs": [
        {
          "output_type": "stream",
          "text": [
            "[1 1 1 1 2 1 1 1 1 1 1 1 1 2 1 1 1 1 2 1 1 1 1 2 1 1 1 1 1 1 1 1 1 1 1 2 1\n",
            " 1 1 1 2 1 1 1 1 2 1 1 1 1 1 1 2 1 1 1 1 1 1 1 1 1 1 1 1 2 1 2 1 2 2 2 2 1\n",
            " 2 1 1 1 1 1 1 1 1 1 1 1 1 2 1 1 2 1 1 2 1 1 1 1 1 1 1 1 1 1 1 1 1 1 1 1 1\n",
            " 1 2 1 2 1 1 2 1 1 2 1 1 1 1 1 1 1 2 2 1 2 1 1 1 1 2 2 1 1 1 2 1 2 1 1 1 1\n",
            " 1 1 1 2 1 2 1 2 1 1 1 1 1 1 1 2 1 1 1 2 1 1]\n",
            "\n",
            "Accuracy score: \n",
            " 0.7\n",
            "\n",
            "The confusion matrix:\n",
            "[[105  20]\n",
            " [ 31  14]]\n",
            "\n",
            "The classification report:\n",
            "              precision    recall  f1-score   support\n",
            "\n",
            "           1       0.77      0.84      0.80       125\n",
            "           2       0.41      0.31      0.35        45\n",
            "\n",
            "    accuracy                           0.70       170\n",
            "   macro avg       0.59      0.58      0.58       170\n",
            "weighted avg       0.68      0.70      0.69       170\n",
            "\n"
          ],
          "name": "stdout"
        }
      ]
    },
    {
      "cell_type": "markdown",
      "metadata": {
        "id": "UdjJcuJZ-eE2"
      },
      "source": [
        "#### Feature importance"
      ]
    },
    {
      "cell_type": "code",
      "metadata": {
        "id": "Avmkx-0X-eE2",
        "colab": {
          "base_uri": "https://localhost:8080/"
        },
        "outputId": "3c5fbb68-d24c-4fde-ff81-8bf1c554012a"
      },
      "source": [
        "def plot_feature_importance(importance, model_type):\r\n",
        "\r\n",
        "  #Create arrays from feature importance and feature names\r\n",
        "  feature_importance = model.feature_importances_\r\n",
        "  feature_names = a.values\r\n",
        "\r\n",
        "  #Create a DataFrame using a Dictionary\r\n",
        "  data={'feature_names':feature_names,'feature_importance':feature_importance}\r\n",
        "  fi_df = pd.DataFrame(data)\r\n",
        "\r\n",
        "  #Sort the DataFrame in order decreasing feature importance\r\n",
        "  fi_df.sort_values(by=['feature_importance'], ascending=False,inplace=True)\r\n",
        "\r\n",
        "  #Define size of bar plot\r\n",
        "  plt.figure(figsize=(10,8))\r\n",
        "  #Plot Searborn bar chart\r\n",
        "  sns.barplot(x=fi_df['feature_importance'], y=fi_df['feature_names'])\r\n",
        "  #Add chart labels\r\n",
        "  plt.title(model_type + 'FEATURE IMPORTANCE')\r\n",
        "  plt.xlabel('FEATURE IMPORTANCE')\r\n",
        "  plt.ylabel('FEATURE NAMES')\r\n",
        "\r\n",
        "plot_feature_importance(forest.feature_importances_.reshape(-1,1), 'GRADIENT BOOST ')"
      ],
      "execution_count": null,
      "outputs": [
        {
          "output_type": "display_data",
          "data": {
            "image/png": "[encoded data removed]",
            "text/plain": [
              "<Figure size 720x576 with 1 Axes>"
            ]
          },
          "metadata": {
            "tags": [],
            "needs_background": "light"
          }
        }
      ]
    },
    {
      "cell_type": "markdown",
      "metadata": {
        "id": "dDCIBSJm-eE2"
      },
      "source": [
        "### Part 2"
      ]
    },
    {
      "cell_type": "code",
      "metadata": {
        "id": "qpWOQtUy-eE3"
      },
      "source": [
        "from sklearn.model_selection import train_test_split\r\n",
        "x_train, x_test, y_train, y_test = train_test_split(X, y, test_size=0.3, random_state=0)\r\n",
        "\r\n",
        "from sklearn.ensemble import GradientBoostingClassifier\r\n",
        "\r\n",
        "#Creating a grid of hyperparameters\r\n",
        "param_dist = {\r\n",
        " 'n_estimators': [1, 2 , 100, 200],\r\n",
        " 'learning_rate': [1, 0.01],\r\n",
        " 'max_depth': np.linspace(1, 10, 5, endpoint=True),\r\n",
        " 'min_samples_split': np.linspace(0.1, 1.0, 10, endpoint=True),\r\n",
        " 'min_samples_leaf': np.linspace(0.1, 0.5, 5, endpoint=True),\r\n",
        " 'max_features': ['auto', 'sqrt']\r\n",
        " \r\n",
        " }\r\n",
        "\r\n",
        "gf=GradientBoostingClassifier()\r\n",
        "\r\n",
        "grid_search = GridSearchCV(estimator=gf, \r\n",
        "                           param_grid=param_dist, \r\n",
        "                           cv = 5,\r\n",
        "                           n_jobs=4,\r\n",
        "                           verbose=2)\r\n",
        "\r\n",
        "#grid_search.fit(x_train, y_train)\r\n",
        "#grid_search.best_params_"
      ],
      "execution_count": null,
      "outputs": []
    },
    {
      "cell_type": "code",
      "metadata": {
        "id": "BAoGqZfgTF2F"
      },
      "source": [
        "par = {'learning_rate': 0.01,\n",
        " 'max_depth': 3.25,\n",
        " 'max_features': 'auto',\n",
        " 'min_samples_leaf': 0.1,\n",
        " 'min_samples_split': 0.7000000000000001,\n",
        " 'n_estimators': 200}"
      ],
      "execution_count": null,
      "outputs": []
    },
    {
      "cell_type": "code",
      "metadata": {
        "id": "HZbaWsGzCG0a"
      },
      "source": [
        "#par = grid_search.best_params_\r\n",
        "\r\n",
        "#par = grid_search.best_params_\r\n",
        "\r\n",
        "n_estimators = par['n_estimators']\r\n",
        "learning_rate = par['learning_rate']\r\n",
        "max_depth = par['max_depth']\r\n",
        "min_samples_split = par['min_samples_split']\r\n",
        "min_samples_leaf = par['min_samples_leaf']\r\n",
        "max_features = par['max_features']"
      ],
      "execution_count": null,
      "outputs": []
    },
    {
      "cell_type": "code",
      "metadata": {
        "id": "XeVrwNHy_nCo",
        "colab": {
          "base_uri": "https://localhost:8080/"
        },
        "outputId": "a3c82dc5-09d6-4b29-9855-5f9984a9e2d1"
      },
      "source": [
        "clf = GradientBoostingClassifier(learning_rate=learning_rate, \r\n",
        "                                 n_estimators=n_estimators,\r\n",
        "                                 min_samples_split=min_samples_split, \r\n",
        "                                 min_samples_leaf=min_samples_leaf, \r\n",
        "                                 max_depth=max_depth,   \r\n",
        "                                 max_features=max_features)\r\n",
        "\r\n",
        "model = clf.fit(x_train, y_train)\r\n",
        "model"
      ],
      "execution_count": null,
      "outputs": [
        {
          "output_type": "execute_result",
          "data": {
            "text/plain": [
              "GradientBoostingClassifier(ccp_alpha=0.0, criterion='friedman_mse', init=None,\n",
              "                           learning_rate=0.01, loss='deviance', max_depth=3.25,\n",
              "                           max_features='auto', max_leaf_nodes=None,\n",
              "                           min_impurity_decrease=0.0, min_impurity_split=None,\n",
              "                           min_samples_leaf=0.1,\n",
              "                           min_samples_split=0.7000000000000001,\n",
              "                           min_weight_fraction_leaf=0.0, n_estimators=200,\n",
              "                           n_iter_no_change=None, presort='deprecated',\n",
              "                           random_state=None, subsample=1.0, tol=0.0001,\n",
              "                           validation_fraction=0.1, verbose=0,\n",
              "                           warm_start=False)"
            ]
          },
          "metadata": {
            "tags": []
          },
          "execution_count": 808
        }
      ]
    },
    {
      "cell_type": "code",
      "metadata": {
        "id": "x0vvseVtqwsC",
        "colab": {
          "base_uri": "https://localhost:8080/"
        },
        "outputId": "49c97c8c-3e05-4c60-bb09-f7ae2b93abb6"
      },
      "source": [
        "y_pred = model.predict(x_test)\r\n",
        "print(f'{y_pred}')\r\n",
        "print('')\r\n",
        "print(f'Accuracy score: \\n {accuracy_score(y_test, y_pred)}')\r\n",
        "print('')\r\n",
        "print('The confusion matrix:')\r\n",
        "print(f'{confusion_matrix(y_test, y_pred)}')\r\n",
        "print('')\r\n",
        "print('The classification report:')\r\n",
        "print(f'{classification_report(y_test, y_pred)}')"
      ],
      "execution_count": null,
      "outputs": [
        {
          "output_type": "stream",
          "text": [
            "[1 1 1 1 1 1 1 1 1 1 1 1 1 1 1 1 1 1 1 1 1 1 1 1 1 1 1 1 1 1 1 1 1 1 1 1 1\n",
            " 1 1 1 1 1 1 1 1 1 1 1 1 1 1 1 1 1 1 1 1 1 1 1 1 1 1 1 1 1 1 1 1 2 1 1 1 1\n",
            " 2 1 1 1 1 1 1 1 1 1 1 1 1 1 1 1 2 1 1 1 1 1 1 1 1 1 1 1 1 1 1 1 1 1 1 1 1\n",
            " 1 1 1 1 1 1 1 1 1 1 1 1 1 1 1 1 1 1 1 1 1 1 1 1 1 2 1 1 1 1 2 1 1 1 1 1 1\n",
            " 1 1 1 2 1 1 1 1 1 1 1 1 1 1 1 1 1 1 1 1 1 1]\n",
            "\n",
            "Accuracy score: \n",
            " 0.7470588235294118\n",
            "\n",
            "The confusion matrix:\n",
            "[[123   2]\n",
            " [ 41   4]]\n",
            "\n",
            "The classification report:\n",
            "              precision    recall  f1-score   support\n",
            "\n",
            "           1       0.75      0.98      0.85       125\n",
            "           2       0.67      0.09      0.16        45\n",
            "\n",
            "    accuracy                           0.75       170\n",
            "   macro avg       0.71      0.54      0.50       170\n",
            "weighted avg       0.73      0.75      0.67       170\n",
            "\n"
          ],
          "name": "stdout"
        }
      ]
    },
    {
      "cell_type": "markdown",
      "metadata": {
        "id": "rBmnHgRL-eE3"
      },
      "source": [
        "#### Feature importance"
      ]
    },
    {
      "cell_type": "code",
      "metadata": {
        "id": "eMRG44QX-eE3",
        "colab": {
          "base_uri": "https://localhost:8080/",
          "height": 513
        },
        "outputId": "27c4b479-2011-49d1-b36f-56fb6d90e98e"
      },
      "source": [
        "def plot_feature_importance(importance, model_type):\r\n",
        "\r\n",
        "  #Create arrays from feature importance and feature names\r\n",
        "  feature_importance = model.feature_importances_\r\n",
        "  feature_names = a.values\r\n",
        "\r\n",
        "  #Create a DataFrame using a Dictionary\r\n",
        "  data={'feature_names':feature_names,'feature_importance':feature_importance}\r\n",
        "  fi_df = pd.DataFrame(data)\r\n",
        "\r\n",
        "  #Sort the DataFrame in order decreasing feature importance\r\n",
        "  fi_df.sort_values(by=['feature_importance'], ascending=False,inplace=True)\r\n",
        "\r\n",
        "  #Define size of bar plot\r\n",
        "  plt.figure(figsize=(10,8))\r\n",
        "  #Plot Searborn bar chart\r\n",
        "  sns.barplot(x=fi_df['feature_importance'], y=fi_df['feature_names'])\r\n",
        "  #Add chart labels\r\n",
        "  plt.title(model_type + 'FEATURE IMPORTANCE')\r\n",
        "  plt.xlabel('FEATURE IMPORTANCE')\r\n",
        "  plt.ylabel('FEATURE NAMES')\r\n",
        "\r\n",
        "plot_feature_importance(forest.feature_importances_.reshape(-1,1), 'GRADIENT BOOST ')"
      ],
      "execution_count": null,
      "outputs": [
        {
          "output_type": "display_data",
          "data": {
            "image/png": "[encoded data removed]",
            "text/plain": [
              "<Figure size 720x576 with 1 Axes>"
            ]
          },
          "metadata": {
            "tags": [],
            "needs_background": "light"
          }
        }
      ]
    },
    {
      "cell_type": "markdown",
      "metadata": {
        "id": "P0Nj6o8I-eSZ"
      },
      "source": [
        "## SVM(Polymomial function)"
      ]
    },
    {
      "cell_type": "markdown",
      "metadata": {
        "id": "5lHVN_Np-eSa"
      },
      "source": [
        "### Part 1"
      ]
    },
    {
      "cell_type": "code",
      "metadata": {
        "id": "pewFzdLu-eSa",
        "colab": {
          "base_uri": "https://localhost:8080/"
        },
        "outputId": "3a03113e-bbbe-4dca-b501-8cf81e9e743d"
      },
      "source": [
        "from sklearn.model_selection import train_test_split\r\n",
        "x_train, x_test, y_train, y_test = train_test_split(X, y, test_size=0.3, random_state=0)\r\n",
        "\r\n",
        "from sklearn.svm import SVC\r\n",
        "\r\n",
        "# Building the model \r\n",
        "polyclassifier = SVC(kernel='poly')\r\n",
        "\r\n",
        "# Training the model using the training set\r\n",
        "model = polyclassifier.fit(x_train, y_train)\r\n",
        "model"
      ],
      "execution_count": null,
      "outputs": [
        {
          "output_type": "execute_result",
          "data": {
            "text/plain": [
              "SVC(C=1.0, break_ties=False, cache_size=200, class_weight=None, coef0=0.0,\n",
              "    decision_function_shape='ovr', degree=3, gamma='scale', kernel='poly',\n",
              "    max_iter=-1, probability=False, random_state=None, shrinking=True,\n",
              "    tol=0.001, verbose=False)"
            ]
          },
          "metadata": {
            "tags": []
          },
          "execution_count": 811
        }
      ]
    },
    {
      "cell_type": "code",
      "metadata": {
        "id": "oYkvcDgUqtOP",
        "colab": {
          "base_uri": "https://localhost:8080/"
        },
        "outputId": "c9e637ea-45b2-4e71-9c2e-4bf39622e2e8"
      },
      "source": [
        "y_pred = model.predict(x_test)\r\n",
        "print(f'{y_pred}')\r\n",
        "print('')\r\n",
        "print(f'Accuracy score: \\n {accuracy_score(y_test, y_pred)}')\r\n",
        "print('')\r\n",
        "print('The confusion matrix:')\r\n",
        "print(f'{confusion_matrix(y_test, y_pred)}')\r\n",
        "print('')\r\n",
        "print('The classification report:')\r\n",
        "print(f'{classification_report(y_test, y_pred)}')"
      ],
      "execution_count": null,
      "outputs": [
        {
          "output_type": "stream",
          "text": [
            "[1 1 1 1 1 1 1 1 1 1 1 1 1 1 1 1 1 1 1 1 1 1 1 1 1 1 1 1 1 1 1 1 1 1 1 1 1\n",
            " 1 1 1 1 1 1 1 1 1 1 1 1 1 1 1 1 1 1 1 1 1 1 1 1 1 1 1 1 1 1 1 1 1 1 1 1 1\n",
            " 1 1 1 1 1 1 1 1 1 1 1 1 1 1 1 1 1 1 1 1 1 1 1 1 1 1 1 1 1 1 1 1 1 1 1 1 1\n",
            " 1 1 1 1 1 1 1 1 1 1 1 1 1 1 1 1 1 1 1 1 1 1 1 1 1 1 1 1 1 1 1 1 1 1 1 1 1\n",
            " 1 1 1 1 1 1 1 1 1 1 1 1 1 1 1 1 1 1 1 1 1 1]\n",
            "\n",
            "Accuracy score: \n",
            " 0.7352941176470589\n",
            "\n",
            "The confusion matrix:\n",
            "[[125   0]\n",
            " [ 45   0]]\n",
            "\n",
            "The classification report:\n",
            "              precision    recall  f1-score   support\n",
            "\n",
            "           1       0.74      1.00      0.85       125\n",
            "           2       0.00      0.00      0.00        45\n",
            "\n",
            "    accuracy                           0.74       170\n",
            "   macro avg       0.37      0.50      0.42       170\n",
            "weighted avg       0.54      0.74      0.62       170\n",
            "\n"
          ],
          "name": "stdout"
        },
        {
          "output_type": "stream",
          "text": [
            "/usr/local/lib/python3.6/dist-packages/sklearn/metrics/_classification.py:1272: UndefinedMetricWarning: Precision and F-score are ill-defined and being set to 0.0 in labels with no predicted samples. Use `zero_division` parameter to control this behavior.\n",
            "  _warn_prf(average, modifier, msg_start, len(result))\n"
          ],
          "name": "stderr"
        }
      ]
    },
    {
      "cell_type": "markdown",
      "metadata": {
        "id": "7sx_ljlo-eSb"
      },
      "source": [
        "### Part 2"
      ]
    },
    {
      "cell_type": "code",
      "metadata": {
        "id": "3pQPZrA4-eSb"
      },
      "source": [
        "from sklearn.model_selection import train_test_split\r\n",
        "x_train, x_test, y_train, y_test = train_test_split(X, y, test_size=0.3, random_state=0)\r\n",
        "\r\n",
        "from sklearn.discriminant_analysis import LinearDiscriminantAnalysis as LDA\r\n",
        "\r\n",
        "from sklearn.preprocessing import StandardScaler\r\n",
        "\r\n",
        "sc = StandardScaler()\r\n",
        "x_train = sc.fit_transform(x_train)\r\n",
        "x_test = sc.transform(x_test)\r\n",
        "\r\n",
        "lda = LDA(n_components=1)\r\n",
        "x_train = lda.fit_transform(x_train, y_train)\r\n",
        "x_test = lda.transform(x_test)\r\n",
        "\r\n",
        "from sklearn.svm import SVC\r\n",
        "svc = SVC()\r\n",
        "parameters = {'C': [0.1,1], \r\n",
        "              'gamma': ['scale', 'auto'],\r\n",
        "              'kernel': ['poly'],\r\n",
        "            #   'degree': [1],\r\n",
        "              'degree': [1,2,3,4,5,6,7,8,9,10],\r\n",
        "              'decision_function_shape':['ovo','ovr']}\r\n",
        "\r\n",
        "grid_search = GridSearchCV(estimator=svc, \r\n",
        "                           param_grid=parameters,\r\n",
        "                           refit = True,\r\n",
        "                           verbose = 3,\r\n",
        "                           n_jobs=6,\r\n",
        "                           cv=5)\r\n",
        "\r\n",
        "#grid_search.fit(x_train, y_train)"
      ],
      "execution_count": null,
      "outputs": []
    },
    {
      "cell_type": "code",
      "metadata": {
        "id": "rG8NPkoUVjvG"
      },
      "source": [
        "#par = {'C': [0.1, 1], 'decision_function_shape': ['ovo', 'ovr'], 'degree': [1, 2, 3, 4, 5, 6, 7, 8, 9, 10],'gamma': ['scale', 'auto'], 'kernel': ['poly']}"
      ],
      "execution_count": null,
      "outputs": []
    },
    {
      "cell_type": "code",
      "metadata": {
        "id": "BWvqq22qbGqQ"
      },
      "source": [
        "par={'C': 0.1,\n",
        " 'decision_function_shape': 'ovo',\n",
        " 'degree': 1,\n",
        " 'gamma': 'scale',\n",
        " 'kernel': 'poly'}"
      ],
      "execution_count": null,
      "outputs": []
    },
    {
      "cell_type": "code",
      "metadata": {
        "id": "fnQNEDiNG3Hw"
      },
      "source": [
        "#par = grid_search.best_params_\r\n",
        "\r\n",
        "c = par['C']\r\n",
        "decision_function_shape = par['decision_function_shape']\r\n",
        "degree = par['degree']\r\n",
        "gamma = par['gamma']\r\n",
        "kernel = par['kernel']"
      ],
      "execution_count": null,
      "outputs": []
    },
    {
      "cell_type": "code",
      "metadata": {
        "id": "SvGxZ5BCF_Gt",
        "colab": {
          "base_uri": "https://localhost:8080/"
        },
        "outputId": "115d72e4-228c-442c-8bf2-cadf375e4afe"
      },
      "source": [
        "# Building the model \r\n",
        "polyclassifier = SVC(C=c,\r\n",
        "                     kernel=kernel, \r\n",
        "                     degree=degree, \r\n",
        "                     gamma=gamma,  \r\n",
        "                     decision_function_shape=decision_function_shape)\r\n",
        "\r\n",
        "# Training the model using the training set\r\n",
        "model = polyclassifier.fit(x_train, y_train)\r\n",
        "model"
      ],
      "execution_count": null,
      "outputs": [
        {
          "output_type": "execute_result",
          "data": {
            "text/plain": [
              "SVC(C=0.1, break_ties=False, cache_size=200, class_weight=None, coef0=0.0,\n",
              "    decision_function_shape='ovo', degree=1, gamma='scale', kernel='poly',\n",
              "    max_iter=-1, probability=False, random_state=None, shrinking=True,\n",
              "    tol=0.001, verbose=False)"
            ]
          },
          "metadata": {
            "tags": []
          },
          "execution_count": 817
        }
      ]
    },
    {
      "cell_type": "code",
      "metadata": {
        "id": "2QudHL6Kqu09",
        "colab": {
          "base_uri": "https://localhost:8080/"
        },
        "outputId": "74655b2e-53ae-4dec-db85-ac35781146ba"
      },
      "source": [
        "y_pred = model.predict(x_test)\r\n",
        "print(f'{y_pred}')\r\n",
        "print('')\r\n",
        "print(f'Accuracy score: \\n {accuracy_score(y_test, y_pred)}')\r\n",
        "print('')\r\n",
        "print('The confusion matrix:')\r\n",
        "print(f'{confusion_matrix(y_test, y_pred)}')\r\n",
        "print('')\r\n",
        "print('The classification report:')\r\n",
        "print(f'{classification_report(y_test, y_pred)}')"
      ],
      "execution_count": null,
      "outputs": [
        {
          "output_type": "stream",
          "text": [
            "[1 1 1 1 1 1 1 1 1 1 1 1 1 1 1 1 1 1 1 1 1 1 1 1 1 1 1 1 1 1 1 1 1 1 1 1 1\n",
            " 1 1 1 1 1 1 1 1 1 1 1 1 1 1 1 1 1 1 1 1 1 1 1 1 1 1 1 1 1 1 1 1 1 1 1 1 1\n",
            " 1 1 1 1 1 1 1 1 1 1 1 1 1 1 1 1 1 1 1 1 1 1 1 1 1 1 1 1 1 1 1 1 1 1 1 1 1\n",
            " 1 1 1 1 1 1 1 1 1 1 1 1 1 1 1 1 1 1 1 1 1 1 1 1 1 1 1 1 1 1 1 1 1 1 1 1 1\n",
            " 1 1 1 1 1 1 1 1 1 1 1 1 1 1 1 1 1 1 1 1 1 1]\n",
            "\n",
            "Accuracy score: \n",
            " 0.7352941176470589\n",
            "\n",
            "The confusion matrix:\n",
            "[[125   0]\n",
            " [ 45   0]]\n",
            "\n",
            "The classification report:\n",
            "              precision    recall  f1-score   support\n",
            "\n",
            "           1       0.74      1.00      0.85       125\n",
            "           2       0.00      0.00      0.00        45\n",
            "\n",
            "    accuracy                           0.74       170\n",
            "   macro avg       0.37      0.50      0.42       170\n",
            "weighted avg       0.54      0.74      0.62       170\n",
            "\n"
          ],
          "name": "stdout"
        },
        {
          "output_type": "stream",
          "text": [
            "/usr/local/lib/python3.6/dist-packages/sklearn/metrics/_classification.py:1272: UndefinedMetricWarning: Precision and F-score are ill-defined and being set to 0.0 in labels with no predicted samples. Use `zero_division` parameter to control this behavior.\n",
            "  _warn_prf(average, modifier, msg_start, len(result))\n"
          ],
          "name": "stderr"
        }
      ]
    },
    {
      "cell_type": "markdown",
      "metadata": {
        "id": "DHKleKNtBUHM"
      },
      "source": [
        "## SVM( Radial basis function (rbf))"
      ]
    },
    {
      "cell_type": "markdown",
      "metadata": {
        "id": "-FwYld91BUHh"
      },
      "source": [
        "### Part 1"
      ]
    },
    {
      "cell_type": "code",
      "metadata": {
        "id": "5IP-mosGBUHm",
        "colab": {
          "base_uri": "https://localhost:8080/"
        },
        "outputId": "0df78921-cd2e-4b12-c629-28f38bca8b89"
      },
      "source": [
        "from sklearn.model_selection import train_test_split\r\n",
        "x_train, x_test, y_train, y_test = train_test_split(X, y, test_size=0.2, random_state=42)\r\n",
        "\r\n",
        "from sklearn.svm import SVC\r\n",
        "\r\n",
        "# Building the model \r\n",
        "rbfclassifier = SVC(kernel='rbf')\r\n",
        "# Training the model using the training set\r\n",
        "model = rbfclassifier.fit(x_train, y_train)\r\n",
        "model"
      ],
      "execution_count": null,
      "outputs": [
        {
          "output_type": "execute_result",
          "data": {
            "text/plain": [
              "SVC(C=1.0, break_ties=False, cache_size=200, class_weight=None, coef0=0.0,\n",
              "    decision_function_shape='ovr', degree=3, gamma='scale', kernel='rbf',\n",
              "    max_iter=-1, probability=False, random_state=None, shrinking=True,\n",
              "    tol=0.001, verbose=False)"
            ]
          },
          "metadata": {
            "tags": []
          },
          "execution_count": 819
        }
      ]
    },
    {
      "cell_type": "code",
      "metadata": {
        "id": "rkKVijhIqrc6",
        "colab": {
          "base_uri": "https://localhost:8080/"
        },
        "outputId": "fb56dde1-86e1-47c7-8a96-b56e902928e1"
      },
      "source": [
        "y_pred = model.predict(x_test)\r\n",
        "print(f'{y_pred}')\r\n",
        "print('')\r\n",
        "print(f'Accuracy score: \\n {accuracy_score(y_test, y_pred)}')\r\n",
        "print('')\r\n",
        "print('The confusion matrix:')\r\n",
        "print(f'{confusion_matrix(y_test, y_pred)}')\r\n",
        "print('')\r\n",
        "print('The classification report:')\r\n",
        "print(f'{classification_report(y_test, y_pred)}')"
      ],
      "execution_count": null,
      "outputs": [
        {
          "output_type": "stream",
          "text": [
            "[1 1 1 1 1 1 1 1 1 1 1 1 1 1 1 1 1 1 1 1 1 1 1 1 1 1 1 1 1 1 1 1 1 1 1 1 1\n",
            " 1 1 1 1 1 1 1 1 1 1 1 1 1 1 1 1 1 1 1 1 1 1 1 1 1 1 1 1 1 1 1 1 1 1 1 1 1\n",
            " 1 1 1 1 1 1 1 1 1 1 1 1 1 1 1 1 1 1 1 1 1 1 1 1 1 1 1 1 1 1 1 1 1 1 1 1 1\n",
            " 1 1 1]\n",
            "\n",
            "Accuracy score: \n",
            " 0.631578947368421\n",
            "\n",
            "The confusion matrix:\n",
            "[[72  0]\n",
            " [42  0]]\n",
            "\n",
            "The classification report:\n",
            "              precision    recall  f1-score   support\n",
            "\n",
            "           1       0.63      1.00      0.77        72\n",
            "           2       0.00      0.00      0.00        42\n",
            "\n",
            "    accuracy                           0.63       114\n",
            "   macro avg       0.32      0.50      0.39       114\n",
            "weighted avg       0.40      0.63      0.49       114\n",
            "\n"
          ],
          "name": "stdout"
        },
        {
          "output_type": "stream",
          "text": [
            "/usr/local/lib/python3.6/dist-packages/sklearn/metrics/_classification.py:1272: UndefinedMetricWarning: Precision and F-score are ill-defined and being set to 0.0 in labels with no predicted samples. Use `zero_division` parameter to control this behavior.\n",
            "  _warn_prf(average, modifier, msg_start, len(result))\n"
          ],
          "name": "stderr"
        }
      ]
    },
    {
      "cell_type": "markdown",
      "metadata": {
        "id": "s9Rs_HU4BUHq"
      },
      "source": [
        "### Part 2"
      ]
    },
    {
      "cell_type": "code",
      "metadata": {
        "id": "R04RNFAJBUHr",
        "colab": {
          "base_uri": "https://localhost:8080/"
        },
        "outputId": "a9be87b3-5d64-4a8a-cedb-f77d34c2268a"
      },
      "source": [
        "from sklearn.model_selection import train_test_split\r\n",
        "x_train, x_test, y_train, y_test = train_test_split(X, y, test_size=0.2, random_state=42)\r\n",
        "\r\n",
        "from sklearn.svm import SVC\r\n",
        "\r\n",
        "from sklearn.discriminant_analysis import LinearDiscriminantAnalysis as LDA\r\n",
        "\r\n",
        "from sklearn.preprocessing import StandardScaler\r\n",
        "\r\n",
        "sc = StandardScaler()\r\n",
        "x_train = sc.fit_transform(x_train)\r\n",
        "x_test = sc.transform(x_test)\r\n",
        "\r\n",
        "lda = LDA(n_components=1)\r\n",
        "x_train = lda.fit_transform(x_train, y_train)\r\n",
        "x_test = lda.transform(x_test)\r\n",
        "\r\n",
        "from sklearn.svm import SVC\r\n",
        "svc = SVC()\r\n",
        "parameters = {'C': [0.1,1, 10, 100], \r\n",
        "              'gamma': ['scale', 'auto'],\r\n",
        "              'kernel': ['rbf'],\r\n",
        "              'decision_function_shape':['ovo','ovr']}\r\n",
        "\r\n",
        "grid_search = GridSearchCV(estimator=svc, \r\n",
        "                           param_grid=parameters,\r\n",
        "                           refit = True,\r\n",
        "                           verbose = 3)\r\n",
        "\r\n",
        "grid_search.fit(x_train, y_train)   "
      ],
      "execution_count": null,
      "outputs": [
        {
          "output_type": "stream",
          "text": [
            "Fitting 5 folds for each of 16 candidates, totalling 80 fits\n",
            "[CV] C=0.1, decision_function_shape=ovo, gamma=scale, kernel=rbf .....\n",
            "[CV]  C=0.1, decision_function_shape=ovo, gamma=scale, kernel=rbf, score=0.736, total=   0.0s\n",
            "[CV] C=0.1, decision_function_shape=ovo, gamma=scale, kernel=rbf .....\n",
            "[CV]  C=0.1, decision_function_shape=ovo, gamma=scale, kernel=rbf, score=0.736, total=   0.0s\n",
            "[CV] C=0.1, decision_function_shape=ovo, gamma=scale, kernel=rbf .....\n",
            "[CV]  C=0.1, decision_function_shape=ovo, gamma=scale, kernel=rbf, score=0.733, total=   0.0s\n",
            "[CV] C=0.1, decision_function_shape=ovo, gamma=scale, kernel=rbf .....\n",
            "[CV]  C=0.1, decision_function_shape=ovo, gamma=scale, kernel=rbf, score=0.733, total=   0.0s\n",
            "[CV] C=0.1, decision_function_shape=ovo, gamma=scale, kernel=rbf .....\n",
            "[CV]  C=0.1, decision_function_shape=ovo, gamma=scale, kernel=rbf, score=0.733, total=   0.0s\n",
            "[CV] C=0.1, decision_function_shape=ovo, gamma=auto, kernel=rbf ......\n",
            "[CV]  C=0.1, decision_function_shape=ovo, gamma=auto, kernel=rbf, score=0.736, total=   0.0s\n",
            "[CV] C=0.1, decision_function_shape=ovo, gamma=auto, kernel=rbf ......\n",
            "[CV]  C=0.1, decision_function_shape=ovo, gamma=auto, kernel=rbf, score=0.736, total=   0.0s\n",
            "[CV] C=0.1, decision_function_shape=ovo, gamma=auto, kernel=rbf ......\n",
            "[CV]  C=0.1, decision_function_shape=ovo, gamma=auto, kernel=rbf, score=0.733, total=   0.0s\n",
            "[CV] C=0.1, decision_function_shape=ovo, gamma=auto, kernel=rbf ......\n",
            "[CV]  C=0.1, decision_function_shape=ovo, gamma=auto, kernel=rbf, score=0.733, total=   0.0s\n",
            "[CV] C=0.1, decision_function_shape=ovo, gamma=auto, kernel=rbf ......\n",
            "[CV]  C=0.1, decision_function_shape=ovo, gamma=auto, kernel=rbf, score=0.733, total=   0.0s\n",
            "[CV] C=0.1, decision_function_shape=ovr, gamma=scale, kernel=rbf .....\n",
            "[CV]  C=0.1, decision_function_shape=ovr, gamma=scale, kernel=rbf, score=0.736, total=   0.0s\n",
            "[CV] C=0.1, decision_function_shape=ovr, gamma=scale, kernel=rbf .....\n"
          ],
          "name": "stdout"
        },
        {
          "output_type": "stream",
          "text": [
            "[Parallel(n_jobs=1)]: Using backend SequentialBackend with 1 concurrent workers.\n",
            "[Parallel(n_jobs=1)]: Done   1 out of   1 | elapsed:    0.0s remaining:    0.0s\n",
            "[Parallel(n_jobs=1)]: Done   2 out of   2 | elapsed:    0.0s remaining:    0.0s\n"
          ],
          "name": "stderr"
        },
        {
          "output_type": "stream",
          "text": [
            "[CV]  C=0.1, decision_function_shape=ovr, gamma=scale, kernel=rbf, score=0.736, total=   0.0s\n",
            "[CV] C=0.1, decision_function_shape=ovr, gamma=scale, kernel=rbf .....\n",
            "[CV]  C=0.1, decision_function_shape=ovr, gamma=scale, kernel=rbf, score=0.733, total=   0.0s\n",
            "[CV] C=0.1, decision_function_shape=ovr, gamma=scale, kernel=rbf .....\n",
            "[CV]  C=0.1, decision_function_shape=ovr, gamma=scale, kernel=rbf, score=0.733, total=   0.0s\n",
            "[CV] C=0.1, decision_function_shape=ovr, gamma=scale, kernel=rbf .....\n",
            "[CV]  C=0.1, decision_function_shape=ovr, gamma=scale, kernel=rbf, score=0.733, total=   0.0s\n",
            "[CV] C=0.1, decision_function_shape=ovr, gamma=auto, kernel=rbf ......\n",
            "[CV]  C=0.1, decision_function_shape=ovr, gamma=auto, kernel=rbf, score=0.736, total=   0.0s\n",
            "[CV] C=0.1, decision_function_shape=ovr, gamma=auto, kernel=rbf ......\n",
            "[CV]  C=0.1, decision_function_shape=ovr, gamma=auto, kernel=rbf, score=0.736, total=   0.0s\n",
            "[CV] C=0.1, decision_function_shape=ovr, gamma=auto, kernel=rbf ......\n",
            "[CV]  C=0.1, decision_function_shape=ovr, gamma=auto, kernel=rbf, score=0.733, total=   0.0s\n",
            "[CV] C=0.1, decision_function_shape=ovr, gamma=auto, kernel=rbf ......\n",
            "[CV]  C=0.1, decision_function_shape=ovr, gamma=auto, kernel=rbf, score=0.733, total=   0.0s\n",
            "[CV] C=0.1, decision_function_shape=ovr, gamma=auto, kernel=rbf ......\n",
            "[CV]  C=0.1, decision_function_shape=ovr, gamma=auto, kernel=rbf, score=0.733, total=   0.0s\n",
            "[CV] C=1, decision_function_shape=ovo, gamma=scale, kernel=rbf .......\n",
            "[CV]  C=1, decision_function_shape=ovo, gamma=scale, kernel=rbf, score=0.736, total=   0.0s\n",
            "[CV] C=1, decision_function_shape=ovo, gamma=scale, kernel=rbf .......\n",
            "[CV]  C=1, decision_function_shape=ovo, gamma=scale, kernel=rbf, score=0.736, total=   0.0s\n",
            "[CV] C=1, decision_function_shape=ovo, gamma=scale, kernel=rbf .......\n",
            "[CV]  C=1, decision_function_shape=ovo, gamma=scale, kernel=rbf, score=0.733, total=   0.0s\n",
            "[CV] C=1, decision_function_shape=ovo, gamma=scale, kernel=rbf .......\n",
            "[CV]  C=1, decision_function_shape=ovo, gamma=scale, kernel=rbf, score=0.733, total=   0.0s\n",
            "[CV] C=1, decision_function_shape=ovo, gamma=scale, kernel=rbf .......\n",
            "[CV]  C=1, decision_function_shape=ovo, gamma=scale, kernel=rbf, score=0.733, total=   0.0s\n",
            "[CV] C=1, decision_function_shape=ovo, gamma=auto, kernel=rbf ........\n",
            "[CV]  C=1, decision_function_shape=ovo, gamma=auto, kernel=rbf, score=0.736, total=   0.0s\n",
            "[CV] C=1, decision_function_shape=ovo, gamma=auto, kernel=rbf ........\n",
            "[CV]  C=1, decision_function_shape=ovo, gamma=auto, kernel=rbf, score=0.736, total=   0.0s\n",
            "[CV] C=1, decision_function_shape=ovo, gamma=auto, kernel=rbf ........\n",
            "[CV]  C=1, decision_function_shape=ovo, gamma=auto, kernel=rbf, score=0.733, total=   0.0s\n",
            "[CV] C=1, decision_function_shape=ovo, gamma=auto, kernel=rbf ........\n",
            "[CV]  C=1, decision_function_shape=ovo, gamma=auto, kernel=rbf, score=0.733, total=   0.0s\n",
            "[CV] C=1, decision_function_shape=ovo, gamma=auto, kernel=rbf ........\n",
            "[CV]  C=1, decision_function_shape=ovo, gamma=auto, kernel=rbf, score=0.733, total=   0.0s\n",
            "[CV] C=1, decision_function_shape=ovr, gamma=scale, kernel=rbf .......\n",
            "[CV]  C=1, decision_function_shape=ovr, gamma=scale, kernel=rbf, score=0.736, total=   0.0s\n",
            "[CV] C=1, decision_function_shape=ovr, gamma=scale, kernel=rbf .......\n",
            "[CV]  C=1, decision_function_shape=ovr, gamma=scale, kernel=rbf, score=0.736, total=   0.0s\n",
            "[CV] C=1, decision_function_shape=ovr, gamma=scale, kernel=rbf .......\n",
            "[CV]  C=1, decision_function_shape=ovr, gamma=scale, kernel=rbf, score=0.733, total=   0.0s\n",
            "[CV] C=1, decision_function_shape=ovr, gamma=scale, kernel=rbf .......\n",
            "[CV]  C=1, decision_function_shape=ovr, gamma=scale, kernel=rbf, score=0.733, total=   0.0s\n",
            "[CV] C=1, decision_function_shape=ovr, gamma=scale, kernel=rbf .......\n",
            "[CV]  C=1, decision_function_shape=ovr, gamma=scale, kernel=rbf, score=0.733, total=   0.0s\n",
            "[CV] C=1, decision_function_shape=ovr, gamma=auto, kernel=rbf ........\n",
            "[CV]  C=1, decision_function_shape=ovr, gamma=auto, kernel=rbf, score=0.736, total=   0.0s\n",
            "[CV] C=1, decision_function_shape=ovr, gamma=auto, kernel=rbf ........\n",
            "[CV]  C=1, decision_function_shape=ovr, gamma=auto, kernel=rbf, score=0.736, total=   0.0s\n",
            "[CV] C=1, decision_function_shape=ovr, gamma=auto, kernel=rbf ........\n",
            "[CV]  C=1, decision_function_shape=ovr, gamma=auto, kernel=rbf, score=0.733, total=   0.0s\n",
            "[CV] C=1, decision_function_shape=ovr, gamma=auto, kernel=rbf ........\n",
            "[CV]  C=1, decision_function_shape=ovr, gamma=auto, kernel=rbf, score=0.733, total=   0.0s\n",
            "[CV] C=1, decision_function_shape=ovr, gamma=auto, kernel=rbf ........\n",
            "[CV]  C=1, decision_function_shape=ovr, gamma=auto, kernel=rbf, score=0.733, total=   0.0s\n",
            "[CV] C=10, decision_function_shape=ovo, gamma=scale, kernel=rbf ......\n",
            "[CV]  C=10, decision_function_shape=ovo, gamma=scale, kernel=rbf, score=0.725, total=   0.0s\n",
            "[CV] C=10, decision_function_shape=ovo, gamma=scale, kernel=rbf ......\n",
            "[CV]  C=10, decision_function_shape=ovo, gamma=scale, kernel=rbf, score=0.747, total=   0.0s\n",
            "[CV] C=10, decision_function_shape=ovo, gamma=scale, kernel=rbf ......\n",
            "[CV]  C=10, decision_function_shape=ovo, gamma=scale, kernel=rbf, score=0.733, total=   0.0s\n",
            "[CV] C=10, decision_function_shape=ovo, gamma=scale, kernel=rbf ......\n",
            "[CV]  C=10, decision_function_shape=ovo, gamma=scale, kernel=rbf, score=0.733, total=   0.0s\n",
            "[CV] C=10, decision_function_shape=ovo, gamma=scale, kernel=rbf ......\n",
            "[CV]  C=10, decision_function_shape=ovo, gamma=scale, kernel=rbf, score=0.722, total=   0.0s\n",
            "[CV] C=10, decision_function_shape=ovo, gamma=auto, kernel=rbf .......\n",
            "[CV]  C=10, decision_function_shape=ovo, gamma=auto, kernel=rbf, score=0.725, total=   0.0s\n",
            "[CV] C=10, decision_function_shape=ovo, gamma=auto, kernel=rbf .......\n",
            "[CV]  C=10, decision_function_shape=ovo, gamma=auto, kernel=rbf, score=0.747, total=   0.0s\n",
            "[CV] C=10, decision_function_shape=ovo, gamma=auto, kernel=rbf .......\n",
            "[CV]  C=10, decision_function_shape=ovo, gamma=auto, kernel=rbf, score=0.733, total=   0.0s\n",
            "[CV] C=10, decision_function_shape=ovo, gamma=auto, kernel=rbf .......\n",
            "[CV]  C=10, decision_function_shape=ovo, gamma=auto, kernel=rbf, score=0.733, total=   0.0s\n",
            "[CV] C=10, decision_function_shape=ovo, gamma=auto, kernel=rbf .......\n",
            "[CV]  C=10, decision_function_shape=ovo, gamma=auto, kernel=rbf, score=0.722, total=   0.0s\n",
            "[CV] C=10, decision_function_shape=ovr, gamma=scale, kernel=rbf ......\n",
            "[CV]  C=10, decision_function_shape=ovr, gamma=scale, kernel=rbf, score=0.725, total=   0.0s\n",
            "[CV] C=10, decision_function_shape=ovr, gamma=scale, kernel=rbf ......\n",
            "[CV]  C=10, decision_function_shape=ovr, gamma=scale, kernel=rbf, score=0.747, total=   0.0s\n",
            "[CV] C=10, decision_function_shape=ovr, gamma=scale, kernel=rbf ......\n",
            "[CV]  C=10, decision_function_shape=ovr, gamma=scale, kernel=rbf, score=0.733, total=   0.0s\n",
            "[CV] C=10, decision_function_shape=ovr, gamma=scale, kernel=rbf ......\n",
            "[CV]  C=10, decision_function_shape=ovr, gamma=scale, kernel=rbf, score=0.733, total=   0.0s\n",
            "[CV] C=10, decision_function_shape=ovr, gamma=scale, kernel=rbf ......\n",
            "[CV]  C=10, decision_function_shape=ovr, gamma=scale, kernel=rbf, score=0.722, total=   0.0s\n",
            "[CV] C=10, decision_function_shape=ovr, gamma=auto, kernel=rbf .......\n",
            "[CV]  C=10, decision_function_shape=ovr, gamma=auto, kernel=rbf, score=0.725, total=   0.0s\n",
            "[CV] C=10, decision_function_shape=ovr, gamma=auto, kernel=rbf .......\n",
            "[CV]  C=10, decision_function_shape=ovr, gamma=auto, kernel=rbf, score=0.747, total=   0.0s\n",
            "[CV] C=10, decision_function_shape=ovr, gamma=auto, kernel=rbf .......\n",
            "[CV]  C=10, decision_function_shape=ovr, gamma=auto, kernel=rbf, score=0.733, total=   0.0s\n",
            "[CV] C=10, decision_function_shape=ovr, gamma=auto, kernel=rbf .......\n",
            "[CV]  C=10, decision_function_shape=ovr, gamma=auto, kernel=rbf, score=0.733, total=   0.0s\n",
            "[CV] C=10, decision_function_shape=ovr, gamma=auto, kernel=rbf .......\n",
            "[CV]  C=10, decision_function_shape=ovr, gamma=auto, kernel=rbf, score=0.722, total=   0.0s\n",
            "[CV] C=100, decision_function_shape=ovo, gamma=scale, kernel=rbf .....\n",
            "[CV]  C=100, decision_function_shape=ovo, gamma=scale, kernel=rbf, score=0.725, total=   0.1s\n",
            "[CV] C=100, decision_function_shape=ovo, gamma=scale, kernel=rbf .....\n",
            "[CV]  C=100, decision_function_shape=ovo, gamma=scale, kernel=rbf, score=0.747, total=   0.1s\n",
            "[CV] C=100, decision_function_shape=ovo, gamma=scale, kernel=rbf .....\n",
            "[CV]  C=100, decision_function_shape=ovo, gamma=scale, kernel=rbf, score=0.733, total=   0.0s\n",
            "[CV] C=100, decision_function_shape=ovo, gamma=scale, kernel=rbf .....\n",
            "[CV]  C=100, decision_function_shape=ovo, gamma=scale, kernel=rbf, score=0.744, total=   0.1s\n",
            "[CV] C=100, decision_function_shape=ovo, gamma=scale, kernel=rbf .....\n",
            "[CV]  C=100, decision_function_shape=ovo, gamma=scale, kernel=rbf, score=0.722, total=   0.1s\n",
            "[CV] C=100, decision_function_shape=ovo, gamma=auto, kernel=rbf ......\n",
            "[CV]  C=100, decision_function_shape=ovo, gamma=auto, kernel=rbf, score=0.725, total=   0.1s\n",
            "[CV] C=100, decision_function_shape=ovo, gamma=auto, kernel=rbf ......\n",
            "[CV]  C=100, decision_function_shape=ovo, gamma=auto, kernel=rbf, score=0.747, total=   0.1s\n",
            "[CV] C=100, decision_function_shape=ovo, gamma=auto, kernel=rbf ......\n",
            "[CV]  C=100, decision_function_shape=ovo, gamma=auto, kernel=rbf, score=0.733, total=   0.0s\n",
            "[CV] C=100, decision_function_shape=ovo, gamma=auto, kernel=rbf ......\n",
            "[CV]  C=100, decision_function_shape=ovo, gamma=auto, kernel=rbf, score=0.744, total=   0.1s\n",
            "[CV] C=100, decision_function_shape=ovo, gamma=auto, kernel=rbf ......\n",
            "[CV]  C=100, decision_function_shape=ovo, gamma=auto, kernel=rbf, score=0.722, total=   0.1s\n",
            "[CV] C=100, decision_function_shape=ovr, gamma=scale, kernel=rbf .....\n",
            "[CV]  C=100, decision_function_shape=ovr, gamma=scale, kernel=rbf, score=0.725, total=   0.1s\n",
            "[CV] C=100, decision_function_shape=ovr, gamma=scale, kernel=rbf .....\n",
            "[CV]  C=100, decision_function_shape=ovr, gamma=scale, kernel=rbf, score=0.747, total=   0.1s\n",
            "[CV] C=100, decision_function_shape=ovr, gamma=scale, kernel=rbf .....\n",
            "[CV]  C=100, decision_function_shape=ovr, gamma=scale, kernel=rbf, score=0.733, total=   0.0s\n",
            "[CV] C=100, decision_function_shape=ovr, gamma=scale, kernel=rbf .....\n",
            "[CV]  C=100, decision_function_shape=ovr, gamma=scale, kernel=rbf, score=0.744, total=   0.1s\n",
            "[CV] C=100, decision_function_shape=ovr, gamma=scale, kernel=rbf .....\n",
            "[CV]  C=100, decision_function_shape=ovr, gamma=scale, kernel=rbf, score=0.722, total=   0.1s\n",
            "[CV] C=100, decision_function_shape=ovr, gamma=auto, kernel=rbf ......\n",
            "[CV]  C=100, decision_function_shape=ovr, gamma=auto, kernel=rbf, score=0.725, total=   0.1s\n",
            "[CV] C=100, decision_function_shape=ovr, gamma=auto, kernel=rbf ......\n",
            "[CV]  C=100, decision_function_shape=ovr, gamma=auto, kernel=rbf, score=0.747, total=   0.1s\n",
            "[CV] C=100, decision_function_shape=ovr, gamma=auto, kernel=rbf ......\n",
            "[CV]  C=100, decision_function_shape=ovr, gamma=auto, kernel=rbf, score=0.733, total=   0.0s\n",
            "[CV] C=100, decision_function_shape=ovr, gamma=auto, kernel=rbf ......\n",
            "[CV]  C=100, decision_function_shape=ovr, gamma=auto, kernel=rbf, score=0.744, total=   0.1s\n",
            "[CV] C=100, decision_function_shape=ovr, gamma=auto, kernel=rbf ......\n",
            "[CV]  C=100, decision_function_shape=ovr, gamma=auto, kernel=rbf, score=0.722, total=   0.1s\n"
          ],
          "name": "stdout"
        },
        {
          "output_type": "stream",
          "text": [
            "[Parallel(n_jobs=1)]: Done  80 out of  80 | elapsed:    2.1s finished\n"
          ],
          "name": "stderr"
        },
        {
          "output_type": "execute_result",
          "data": {
            "text/plain": [
              "GridSearchCV(cv=None, error_score=nan,\n",
              "             estimator=SVC(C=1.0, break_ties=False, cache_size=200,\n",
              "                           class_weight=None, coef0=0.0,\n",
              "                           decision_function_shape='ovr', degree=3,\n",
              "                           gamma='scale', kernel='rbf', max_iter=-1,\n",
              "                           probability=False, random_state=None, shrinking=True,\n",
              "                           tol=0.001, verbose=False),\n",
              "             iid='deprecated', n_jobs=None,\n",
              "             param_grid={'C': [0.1, 1, 10, 100],\n",
              "                         'decision_function_shape': ['ovo', 'ovr'],\n",
              "                         'gamma': ['scale', 'auto'], 'kernel': ['rbf']},\n",
              "             pre_dispatch='2*n_jobs', refit=True, return_train_score=False,\n",
              "             scoring=None, verbose=3)"
            ]
          },
          "metadata": {
            "tags": []
          },
          "execution_count": 821
        }
      ]
    },
    {
      "cell_type": "code",
      "metadata": {
        "id": "EeWfsezbHuWF"
      },
      "source": [
        "par = grid_search.best_params_\r\n",
        "\r\n",
        "c = par['C']\r\n",
        "decision_function_shape = par['decision_function_shape']\r\n",
        "gamma = par['gamma']\r\n",
        "kernel = par['kernel']"
      ],
      "execution_count": null,
      "outputs": []
    },
    {
      "cell_type": "code",
      "metadata": {
        "id": "W2uof7oLHZ4m",
        "colab": {
          "base_uri": "https://localhost:8080/"
        },
        "outputId": "4949afa2-013c-4b6e-926c-62ae9117d8b4"
      },
      "source": [
        "# Building the model \r\n",
        "rbfclassifier = SVC(C=c,\r\n",
        "                    kernel=kernel,  \r\n",
        "                    gamma=gamma,  \r\n",
        "                    decision_function_shape=decision_function_shape)\r\n",
        "# Training the model using the training set\r\n",
        "model = rbfclassifier.fit(x_train, y_train)\r\n",
        "model"
      ],
      "execution_count": null,
      "outputs": [
        {
          "output_type": "execute_result",
          "data": {
            "text/plain": [
              "SVC(C=0.1, break_ties=False, cache_size=200, class_weight=None, coef0=0.0,\n",
              "    decision_function_shape='ovo', degree=3, gamma='scale', kernel='rbf',\n",
              "    max_iter=-1, probability=False, random_state=None, shrinking=True,\n",
              "    tol=0.001, verbose=False)"
            ]
          },
          "metadata": {
            "tags": []
          },
          "execution_count": 823
        }
      ]
    },
    {
      "cell_type": "code",
      "metadata": {
        "id": "Pr_lnyNfqqZ3",
        "colab": {
          "base_uri": "https://localhost:8080/"
        },
        "outputId": "8ec25a3f-479f-4251-e82f-1f7695cb77ce"
      },
      "source": [
        "y_pred = model.predict(x_test)\r\n",
        "print(f'{y_pred}')\r\n",
        "print('')\r\n",
        "print(f'Accuracy score: \\n {accuracy_score(y_test, y_pred)}')\r\n",
        "print('')\r\n",
        "print('The confusion matrix:')\r\n",
        "print(f'{confusion_matrix(y_test, y_pred)}')\r\n",
        "print('')\r\n",
        "print('The classification report:')\r\n",
        "print(f'{classification_report(y_test, y_pred)}')"
      ],
      "execution_count": null,
      "outputs": [
        {
          "output_type": "stream",
          "text": [
            "[1 1 1 1 1 1 1 1 1 1 1 1 1 1 1 1 1 1 1 1 1 1 1 1 1 1 1 1 1 1 1 1 1 1 1 1 1\n",
            " 1 1 1 1 1 1 1 1 1 1 1 1 1 1 1 1 1 1 1 1 1 1 1 1 1 1 1 1 1 1 1 1 1 1 1 1 1\n",
            " 1 1 1 1 1 1 1 1 1 1 1 1 1 1 1 1 1 1 1 1 1 1 1 1 1 1 1 1 1 1 1 1 1 1 1 1 1\n",
            " 1 1 1]\n",
            "\n",
            "Accuracy score: \n",
            " 0.631578947368421\n",
            "\n",
            "The confusion matrix:\n",
            "[[72  0]\n",
            " [42  0]]\n",
            "\n",
            "The classification report:\n",
            "              precision    recall  f1-score   support\n",
            "\n",
            "           1       0.63      1.00      0.77        72\n",
            "           2       0.00      0.00      0.00        42\n",
            "\n",
            "    accuracy                           0.63       114\n",
            "   macro avg       0.32      0.50      0.39       114\n",
            "weighted avg       0.40      0.63      0.49       114\n",
            "\n"
          ],
          "name": "stdout"
        },
        {
          "output_type": "stream",
          "text": [
            "/usr/local/lib/python3.6/dist-packages/sklearn/metrics/_classification.py:1272: UndefinedMetricWarning: Precision and F-score are ill-defined and being set to 0.0 in labels with no predicted samples. Use `zero_division` parameter to control this behavior.\n",
            "  _warn_prf(average, modifier, msg_start, len(result))\n"
          ],
          "name": "stderr"
        }
      ]
    },
    {
      "cell_type": "markdown",
      "metadata": {
        "id": "sr5NgE5xBUlL"
      },
      "source": [
        "## SVM(Sigmoid function)"
      ]
    },
    {
      "cell_type": "markdown",
      "metadata": {
        "id": "jJKQ-ajdBUlM"
      },
      "source": [
        "### Part 1"
      ]
    },
    {
      "cell_type": "code",
      "metadata": {
        "id": "4k8txtrcBUlM",
        "colab": {
          "base_uri": "https://localhost:8080/"
        },
        "outputId": "8da0e381-8481-4b70-ab63-f2a5616911c3"
      },
      "source": [
        "from sklearn.model_selection import train_test_split\r\n",
        "x_train, x_test, y_train, y_test = train_test_split(X, y, test_size=0.2, random_state=42)\r\n",
        "\r\n",
        "from sklearn.svm import SVC\r\n",
        "\r\n",
        "# Building the model \r\n",
        "sigclassifier = SVC(kernel='sigmoid')\r\n",
        "# Training the model using the training set\r\n",
        "model = sigclassifier.fit(x_train, y_train)\r\n",
        "model"
      ],
      "execution_count": null,
      "outputs": [
        {
          "output_type": "execute_result",
          "data": {
            "text/plain": [
              "SVC(C=1.0, break_ties=False, cache_size=200, class_weight=None, coef0=0.0,\n",
              "    decision_function_shape='ovr', degree=3, gamma='scale', kernel='sigmoid',\n",
              "    max_iter=-1, probability=False, random_state=None, shrinking=True,\n",
              "    tol=0.001, verbose=False)"
            ]
          },
          "metadata": {
            "tags": []
          },
          "execution_count": 825
        }
      ]
    },
    {
      "cell_type": "code",
      "metadata": {
        "id": "UHDiognKqhMq",
        "colab": {
          "base_uri": "https://localhost:8080/"
        },
        "outputId": "7a1350eb-a30b-47db-bdf4-cb20b969f511"
      },
      "source": [
        "y_pred = model.predict(x_test)\r\n",
        "print(f'{y_pred}')\r\n",
        "print('')\r\n",
        "print(f'Accuracy score: \\n {accuracy_score(y_test, y_pred)}')\r\n",
        "print('')\r\n",
        "print('The confusion matrix:')\r\n",
        "print(f'{confusion_matrix(y_test, y_pred)}')\r\n",
        "print('')\r\n",
        "print('The classification report:')\r\n",
        "print(f'{classification_report(y_test, y_pred)}')"
      ],
      "execution_count": null,
      "outputs": [
        {
          "output_type": "stream",
          "text": [
            "[1 1 1 1 1 1 1 2 1 1 1 1 1 1 1 1 1 1 1 1 1 1 1 1 1 2 1 2 1 1 1 1 2 1 1 1 2\n",
            " 1 2 1 1 1 1 1 1 2 1 1 1 2 1 1 1 2 1 1 1 1 1 1 1 1 1 2 1 1 1 2 1 1 1 1 1 1\n",
            " 1 1 1 1 1 1 1 2 1 2 1 1 2 1 2 1 2 2 1 1 2 2 2 2 2 1 1 2 1 1 1 1 1 2 1 1 2\n",
            " 2 2 2]\n",
            "\n",
            "Accuracy score: \n",
            " 0.5614035087719298\n",
            "\n",
            "The confusion matrix:\n",
            "[[54 18]\n",
            " [32 10]]\n",
            "\n",
            "The classification report:\n",
            "              precision    recall  f1-score   support\n",
            "\n",
            "           1       0.63      0.75      0.68        72\n",
            "           2       0.36      0.24      0.29        42\n",
            "\n",
            "    accuracy                           0.56       114\n",
            "   macro avg       0.49      0.49      0.48       114\n",
            "weighted avg       0.53      0.56      0.54       114\n",
            "\n"
          ],
          "name": "stdout"
        }
      ]
    },
    {
      "cell_type": "markdown",
      "metadata": {
        "id": "MSYcqK_EBUlN"
      },
      "source": [
        "### Part 2"
      ]
    },
    {
      "cell_type": "code",
      "metadata": {
        "id": "tdhB2ZlKBUlO",
        "colab": {
          "base_uri": "https://localhost:8080/"
        },
        "outputId": "b92ec5b5-0cba-44e7-d3c1-0be92f80670e"
      },
      "source": [
        "from sklearn.model_selection import train_test_split\r\n",
        "x_train, x_test, y_train, y_test = train_test_split(X, y, test_size=0.2, random_state=42)\r\n",
        "\r\n",
        "from sklearn.svm import SVC\r\n",
        "\r\n",
        "from sklearn.discriminant_analysis import LinearDiscriminantAnalysis as LDA\r\n",
        "\r\n",
        "from sklearn.preprocessing import StandardScaler\r\n",
        "\r\n",
        "sc = StandardScaler()\r\n",
        "x_train = sc.fit_transform(x_train)\r\n",
        "x_test = sc.transform(x_test)\r\n",
        "\r\n",
        "lda = LDA(n_components=1)\r\n",
        "x_train = lda.fit_transform(x_train, y_train)\r\n",
        "x_test = lda.fit_transform(x_test,y_test)\r\n",
        "\r\n",
        "from sklearn.svm import SVC\r\n",
        "svc = SVC()\r\n",
        "parameters = {'C': [0.1,1, 10, 100], \r\n",
        "              'gamma': ['scale', 'auto'],\r\n",
        "              'kernel': ['sigmoid'],\r\n",
        "              'decision_function_shape':['ovo','ovr']}\r\n",
        "\r\n",
        "grid_search = GridSearchCV(estimator=svc, \r\n",
        "                           param_grid=parameters,\r\n",
        "                           refit = True,\r\n",
        "                           verbose = 3,\r\n",
        "                           cv=10)\r\n",
        "\r\n",
        "grid_search.fit(x_train, y_train)              "
      ],
      "execution_count": null,
      "outputs": [
        {
          "output_type": "stream",
          "text": [
            "Fitting 10 folds for each of 16 candidates, totalling 160 fits\n",
            "[CV] C=0.1, decision_function_shape=ovo, gamma=scale, kernel=sigmoid .\n",
            "[CV]  C=0.1, decision_function_shape=ovo, gamma=scale, kernel=sigmoid, score=0.739, total=   0.0s\n",
            "[CV] C=0.1, decision_function_shape=ovo, gamma=scale, kernel=sigmoid .\n",
            "[CV]  C=0.1, decision_function_shape=ovo, gamma=scale, kernel=sigmoid, score=0.739, total=   0.0s\n",
            "[CV] C=0.1, decision_function_shape=ovo, gamma=scale, kernel=sigmoid .\n",
            "[CV]  C=0.1, decision_function_shape=ovo, gamma=scale, kernel=sigmoid, score=0.756, total=   0.0s\n",
            "[CV] C=0.1, decision_function_shape=ovo, gamma=scale, kernel=sigmoid .\n",
            "[CV]  C=0.1, decision_function_shape=ovo, gamma=scale, kernel=sigmoid, score=0.733, total=   0.0s\n",
            "[CV] C=0.1, decision_function_shape=ovo, gamma=scale, kernel=sigmoid .\n",
            "[CV]  C=0.1, decision_function_shape=ovo, gamma=scale, kernel=sigmoid, score=0.733, total=   0.0s\n",
            "[CV] C=0.1, decision_function_shape=ovo, gamma=scale, kernel=sigmoid .\n",
            "[CV]  C=0.1, decision_function_shape=ovo, gamma=scale, kernel=sigmoid, score=0.733, total=   0.0s\n",
            "[CV] C=0.1, decision_function_shape=ovo, gamma=scale, kernel=sigmoid .\n",
            "[CV]  C=0.1, decision_function_shape=ovo, gamma=scale, kernel=sigmoid, score=0.733, total=   0.0s\n",
            "[CV] C=0.1, decision_function_shape=ovo, gamma=scale, kernel=sigmoid .\n",
            "[CV]  C=0.1, decision_function_shape=ovo, gamma=scale, kernel=sigmoid, score=0.756, total=   0.0s\n",
            "[CV] C=0.1, decision_function_shape=ovo, gamma=scale, kernel=sigmoid .\n",
            "[CV]  C=0.1, decision_function_shape=ovo, gamma=scale, kernel=sigmoid, score=0.733, total=   0.0s\n",
            "[CV] C=0.1, decision_function_shape=ovo, gamma=scale, kernel=sigmoid .\n",
            "[CV]  C=0.1, decision_function_shape=ovo, gamma=scale, kernel=sigmoid, score=0.733, total=   0.0s\n",
            "[CV] C=0.1, decision_function_shape=ovo, gamma=auto, kernel=sigmoid ..\n"
          ],
          "name": "stdout"
        },
        {
          "output_type": "stream",
          "text": [
            "[Parallel(n_jobs=1)]: Using backend SequentialBackend with 1 concurrent workers.\n",
            "[Parallel(n_jobs=1)]: Done   1 out of   1 | elapsed:    0.0s remaining:    0.0s\n",
            "[Parallel(n_jobs=1)]: Done   2 out of   2 | elapsed:    0.0s remaining:    0.0s\n"
          ],
          "name": "stderr"
        },
        {
          "output_type": "stream",
          "text": [
            "[CV]  C=0.1, decision_function_shape=ovo, gamma=auto, kernel=sigmoid, score=0.717, total=   0.0s\n",
            "[CV] C=0.1, decision_function_shape=ovo, gamma=auto, kernel=sigmoid ..\n",
            "[CV]  C=0.1, decision_function_shape=ovo, gamma=auto, kernel=sigmoid, score=0.739, total=   0.0s\n",
            "[CV] C=0.1, decision_function_shape=ovo, gamma=auto, kernel=sigmoid ..\n",
            "[CV]  C=0.1, decision_function_shape=ovo, gamma=auto, kernel=sigmoid, score=0.756, total=   0.0s\n",
            "[CV] C=0.1, decision_function_shape=ovo, gamma=auto, kernel=sigmoid ..\n",
            "[CV]  C=0.1, decision_function_shape=ovo, gamma=auto, kernel=sigmoid, score=0.733, total=   0.0s\n",
            "[CV] C=0.1, decision_function_shape=ovo, gamma=auto, kernel=sigmoid ..\n",
            "[CV]  C=0.1, decision_function_shape=ovo, gamma=auto, kernel=sigmoid, score=0.756, total=   0.0s\n",
            "[CV] C=0.1, decision_function_shape=ovo, gamma=auto, kernel=sigmoid ..\n",
            "[CV]  C=0.1, decision_function_shape=ovo, gamma=auto, kernel=sigmoid, score=0.756, total=   0.0s\n",
            "[CV] C=0.1, decision_function_shape=ovo, gamma=auto, kernel=sigmoid ..\n",
            "[CV]  C=0.1, decision_function_shape=ovo, gamma=auto, kernel=sigmoid, score=0.733, total=   0.0s\n",
            "[CV] C=0.1, decision_function_shape=ovo, gamma=auto, kernel=sigmoid ..\n",
            "[CV]  C=0.1, decision_function_shape=ovo, gamma=auto, kernel=sigmoid, score=0.756, total=   0.0s\n",
            "[CV] C=0.1, decision_function_shape=ovo, gamma=auto, kernel=sigmoid ..\n",
            "[CV]  C=0.1, decision_function_shape=ovo, gamma=auto, kernel=sigmoid, score=0.711, total=   0.0s\n",
            "[CV] C=0.1, decision_function_shape=ovo, gamma=auto, kernel=sigmoid ..\n",
            "[CV]  C=0.1, decision_function_shape=ovo, gamma=auto, kernel=sigmoid, score=0.733, total=   0.0s\n",
            "[CV] C=0.1, decision_function_shape=ovr, gamma=scale, kernel=sigmoid .\n",
            "[CV]  C=0.1, decision_function_shape=ovr, gamma=scale, kernel=sigmoid, score=0.739, total=   0.0s\n",
            "[CV] C=0.1, decision_function_shape=ovr, gamma=scale, kernel=sigmoid .\n",
            "[CV]  C=0.1, decision_function_shape=ovr, gamma=scale, kernel=sigmoid, score=0.739, total=   0.0s\n",
            "[CV] C=0.1, decision_function_shape=ovr, gamma=scale, kernel=sigmoid .\n",
            "[CV]  C=0.1, decision_function_shape=ovr, gamma=scale, kernel=sigmoid, score=0.756, total=   0.0s\n",
            "[CV] C=0.1, decision_function_shape=ovr, gamma=scale, kernel=sigmoid .\n",
            "[CV]  C=0.1, decision_function_shape=ovr, gamma=scale, kernel=sigmoid, score=0.733, total=   0.0s\n",
            "[CV] C=0.1, decision_function_shape=ovr, gamma=scale, kernel=sigmoid .\n",
            "[CV]  C=0.1, decision_function_shape=ovr, gamma=scale, kernel=sigmoid, score=0.733, total=   0.0s\n",
            "[CV] C=0.1, decision_function_shape=ovr, gamma=scale, kernel=sigmoid .\n",
            "[CV]  C=0.1, decision_function_shape=ovr, gamma=scale, kernel=sigmoid, score=0.733, total=   0.0s\n",
            "[CV] C=0.1, decision_function_shape=ovr, gamma=scale, kernel=sigmoid .\n",
            "[CV]  C=0.1, decision_function_shape=ovr, gamma=scale, kernel=sigmoid, score=0.733, total=   0.0s\n",
            "[CV] C=0.1, decision_function_shape=ovr, gamma=scale, kernel=sigmoid .\n",
            "[CV]  C=0.1, decision_function_shape=ovr, gamma=scale, kernel=sigmoid, score=0.756, total=   0.0s\n",
            "[CV] C=0.1, decision_function_shape=ovr, gamma=scale, kernel=sigmoid .\n",
            "[CV]  C=0.1, decision_function_shape=ovr, gamma=scale, kernel=sigmoid, score=0.733, total=   0.0s\n",
            "[CV] C=0.1, decision_function_shape=ovr, gamma=scale, kernel=sigmoid .\n",
            "[CV]  C=0.1, decision_function_shape=ovr, gamma=scale, kernel=sigmoid, score=0.733, total=   0.0s\n",
            "[CV] C=0.1, decision_function_shape=ovr, gamma=auto, kernel=sigmoid ..\n",
            "[CV]  C=0.1, decision_function_shape=ovr, gamma=auto, kernel=sigmoid, score=0.717, total=   0.0s\n",
            "[CV] C=0.1, decision_function_shape=ovr, gamma=auto, kernel=sigmoid ..\n",
            "[CV]  C=0.1, decision_function_shape=ovr, gamma=auto, kernel=sigmoid, score=0.739, total=   0.0s\n",
            "[CV] C=0.1, decision_function_shape=ovr, gamma=auto, kernel=sigmoid ..\n",
            "[CV]  C=0.1, decision_function_shape=ovr, gamma=auto, kernel=sigmoid, score=0.756, total=   0.0s\n",
            "[CV] C=0.1, decision_function_shape=ovr, gamma=auto, kernel=sigmoid ..\n",
            "[CV]  C=0.1, decision_function_shape=ovr, gamma=auto, kernel=sigmoid, score=0.733, total=   0.0s\n",
            "[CV] C=0.1, decision_function_shape=ovr, gamma=auto, kernel=sigmoid ..\n",
            "[CV]  C=0.1, decision_function_shape=ovr, gamma=auto, kernel=sigmoid, score=0.756, total=   0.0s\n",
            "[CV] C=0.1, decision_function_shape=ovr, gamma=auto, kernel=sigmoid ..\n",
            "[CV]  C=0.1, decision_function_shape=ovr, gamma=auto, kernel=sigmoid, score=0.756, total=   0.0s\n",
            "[CV] C=0.1, decision_function_shape=ovr, gamma=auto, kernel=sigmoid ..\n",
            "[CV]  C=0.1, decision_function_shape=ovr, gamma=auto, kernel=sigmoid, score=0.733, total=   0.0s\n",
            "[CV] C=0.1, decision_function_shape=ovr, gamma=auto, kernel=sigmoid ..\n",
            "[CV]  C=0.1, decision_function_shape=ovr, gamma=auto, kernel=sigmoid, score=0.756, total=   0.0s\n",
            "[CV] C=0.1, decision_function_shape=ovr, gamma=auto, kernel=sigmoid ..\n",
            "[CV]  C=0.1, decision_function_shape=ovr, gamma=auto, kernel=sigmoid, score=0.711, total=   0.0s\n",
            "[CV] C=0.1, decision_function_shape=ovr, gamma=auto, kernel=sigmoid ..\n",
            "[CV]  C=0.1, decision_function_shape=ovr, gamma=auto, kernel=sigmoid, score=0.733, total=   0.0s\n",
            "[CV] C=1, decision_function_shape=ovo, gamma=scale, kernel=sigmoid ...\n",
            "[CV]  C=1, decision_function_shape=ovo, gamma=scale, kernel=sigmoid, score=0.804, total=   0.0s\n",
            "[CV] C=1, decision_function_shape=ovo, gamma=scale, kernel=sigmoid ...\n",
            "[CV]  C=1, decision_function_shape=ovo, gamma=scale, kernel=sigmoid, score=0.674, total=   0.0s\n",
            "[CV] C=1, decision_function_shape=ovo, gamma=scale, kernel=sigmoid ...\n",
            "[CV]  C=1, decision_function_shape=ovo, gamma=scale, kernel=sigmoid, score=0.667, total=   0.0s\n",
            "[CV] C=1, decision_function_shape=ovo, gamma=scale, kernel=sigmoid ...\n",
            "[CV]  C=1, decision_function_shape=ovo, gamma=scale, kernel=sigmoid, score=0.822, total=   0.0s\n",
            "[CV] C=1, decision_function_shape=ovo, gamma=scale, kernel=sigmoid ...\n",
            "[CV]  C=1, decision_function_shape=ovo, gamma=scale, kernel=sigmoid, score=0.756, total=   0.0s\n",
            "[CV] C=1, decision_function_shape=ovo, gamma=scale, kernel=sigmoid ...\n",
            "[CV]  C=1, decision_function_shape=ovo, gamma=scale, kernel=sigmoid, score=0.689, total=   0.0s\n",
            "[CV] C=1, decision_function_shape=ovo, gamma=scale, kernel=sigmoid ...\n",
            "[CV]  C=1, decision_function_shape=ovo, gamma=scale, kernel=sigmoid, score=0.756, total=   0.0s\n",
            "[CV] C=1, decision_function_shape=ovo, gamma=scale, kernel=sigmoid ...\n",
            "[CV]  C=1, decision_function_shape=ovo, gamma=scale, kernel=sigmoid, score=0.689, total=   0.0s\n",
            "[CV] C=1, decision_function_shape=ovo, gamma=scale, kernel=sigmoid ...\n",
            "[CV]  C=1, decision_function_shape=ovo, gamma=scale, kernel=sigmoid, score=0.667, total=   0.0s\n",
            "[CV] C=1, decision_function_shape=ovo, gamma=scale, kernel=sigmoid ...\n",
            "[CV]  C=1, decision_function_shape=ovo, gamma=scale, kernel=sigmoid, score=0.711, total=   0.0s\n",
            "[CV] C=1, decision_function_shape=ovo, gamma=auto, kernel=sigmoid ....\n",
            "[CV]  C=1, decision_function_shape=ovo, gamma=auto, kernel=sigmoid, score=0.804, total=   0.0s\n",
            "[CV] C=1, decision_function_shape=ovo, gamma=auto, kernel=sigmoid ....\n",
            "[CV]  C=1, decision_function_shape=ovo, gamma=auto, kernel=sigmoid, score=0.674, total=   0.0s\n",
            "[CV] C=1, decision_function_shape=ovo, gamma=auto, kernel=sigmoid ....\n",
            "[CV]  C=1, decision_function_shape=ovo, gamma=auto, kernel=sigmoid, score=0.689, total=   0.0s\n",
            "[CV] C=1, decision_function_shape=ovo, gamma=auto, kernel=sigmoid ....\n",
            "[CV]  C=1, decision_function_shape=ovo, gamma=auto, kernel=sigmoid, score=0.822, total=   0.0s\n",
            "[CV] C=1, decision_function_shape=ovo, gamma=auto, kernel=sigmoid ....\n",
            "[CV]  C=1, decision_function_shape=ovo, gamma=auto, kernel=sigmoid, score=0.778, total=   0.0s\n",
            "[CV] C=1, decision_function_shape=ovo, gamma=auto, kernel=sigmoid ....\n",
            "[CV]  C=1, decision_function_shape=ovo, gamma=auto, kernel=sigmoid, score=0.689, total=   0.0s\n",
            "[CV] C=1, decision_function_shape=ovo, gamma=auto, kernel=sigmoid ....\n",
            "[CV]  C=1, decision_function_shape=ovo, gamma=auto, kernel=sigmoid, score=0.756, total=   0.0s\n",
            "[CV] C=1, decision_function_shape=ovo, gamma=auto, kernel=sigmoid ....\n",
            "[CV]  C=1, decision_function_shape=ovo, gamma=auto, kernel=sigmoid, score=0.689, total=   0.0s\n",
            "[CV] C=1, decision_function_shape=ovo, gamma=auto, kernel=sigmoid ....\n",
            "[CV]  C=1, decision_function_shape=ovo, gamma=auto, kernel=sigmoid, score=0.667, total=   0.0s\n",
            "[CV] C=1, decision_function_shape=ovo, gamma=auto, kernel=sigmoid ....\n",
            "[CV]  C=1, decision_function_shape=ovo, gamma=auto, kernel=sigmoid, score=0.711, total=   0.0s\n",
            "[CV] C=1, decision_function_shape=ovr, gamma=scale, kernel=sigmoid ...\n",
            "[CV]  C=1, decision_function_shape=ovr, gamma=scale, kernel=sigmoid, score=0.804, total=   0.0s\n",
            "[CV] C=1, decision_function_shape=ovr, gamma=scale, kernel=sigmoid ...\n",
            "[CV]  C=1, decision_function_shape=ovr, gamma=scale, kernel=sigmoid, score=0.674, total=   0.0s\n",
            "[CV] C=1, decision_function_shape=ovr, gamma=scale, kernel=sigmoid ...\n",
            "[CV]  C=1, decision_function_shape=ovr, gamma=scale, kernel=sigmoid, score=0.667, total=   0.0s\n",
            "[CV] C=1, decision_function_shape=ovr, gamma=scale, kernel=sigmoid ...\n",
            "[CV]  C=1, decision_function_shape=ovr, gamma=scale, kernel=sigmoid, score=0.822, total=   0.0s\n",
            "[CV] C=1, decision_function_shape=ovr, gamma=scale, kernel=sigmoid ...\n",
            "[CV]  C=1, decision_function_shape=ovr, gamma=scale, kernel=sigmoid, score=0.756, total=   0.0s\n",
            "[CV] C=1, decision_function_shape=ovr, gamma=scale, kernel=sigmoid ...\n",
            "[CV]  C=1, decision_function_shape=ovr, gamma=scale, kernel=sigmoid, score=0.689, total=   0.0s\n",
            "[CV] C=1, decision_function_shape=ovr, gamma=scale, kernel=sigmoid ...\n",
            "[CV]  C=1, decision_function_shape=ovr, gamma=scale, kernel=sigmoid, score=0.756, total=   0.0s\n",
            "[CV] C=1, decision_function_shape=ovr, gamma=scale, kernel=sigmoid ...\n",
            "[CV]  C=1, decision_function_shape=ovr, gamma=scale, kernel=sigmoid, score=0.689, total=   0.0s\n",
            "[CV] C=1, decision_function_shape=ovr, gamma=scale, kernel=sigmoid ...\n",
            "[CV]  C=1, decision_function_shape=ovr, gamma=scale, kernel=sigmoid, score=0.667, total=   0.0s\n",
            "[CV] C=1, decision_function_shape=ovr, gamma=scale, kernel=sigmoid ...\n",
            "[CV]  C=1, decision_function_shape=ovr, gamma=scale, kernel=sigmoid, score=0.711, total=   0.0s\n",
            "[CV] C=1, decision_function_shape=ovr, gamma=auto, kernel=sigmoid ....\n",
            "[CV]  C=1, decision_function_shape=ovr, gamma=auto, kernel=sigmoid, score=0.804, total=   0.0s\n",
            "[CV] C=1, decision_function_shape=ovr, gamma=auto, kernel=sigmoid ....\n",
            "[CV]  C=1, decision_function_shape=ovr, gamma=auto, kernel=sigmoid, score=0.674, total=   0.0s\n",
            "[CV] C=1, decision_function_shape=ovr, gamma=auto, kernel=sigmoid ....\n",
            "[CV]  C=1, decision_function_shape=ovr, gamma=auto, kernel=sigmoid, score=0.689, total=   0.0s\n",
            "[CV] C=1, decision_function_shape=ovr, gamma=auto, kernel=sigmoid ....\n",
            "[CV]  C=1, decision_function_shape=ovr, gamma=auto, kernel=sigmoid, score=0.822, total=   0.0s\n",
            "[CV] C=1, decision_function_shape=ovr, gamma=auto, kernel=sigmoid ....\n",
            "[CV]  C=1, decision_function_shape=ovr, gamma=auto, kernel=sigmoid, score=0.778, total=   0.0s\n",
            "[CV] C=1, decision_function_shape=ovr, gamma=auto, kernel=sigmoid ....\n",
            "[CV]  C=1, decision_function_shape=ovr, gamma=auto, kernel=sigmoid, score=0.689, total=   0.0s\n",
            "[CV] C=1, decision_function_shape=ovr, gamma=auto, kernel=sigmoid ....\n",
            "[CV]  C=1, decision_function_shape=ovr, gamma=auto, kernel=sigmoid, score=0.756, total=   0.0s\n",
            "[CV] C=1, decision_function_shape=ovr, gamma=auto, kernel=sigmoid ....\n",
            "[CV]  C=1, decision_function_shape=ovr, gamma=auto, kernel=sigmoid, score=0.689, total=   0.0s\n",
            "[CV] C=1, decision_function_shape=ovr, gamma=auto, kernel=sigmoid ....\n",
            "[CV]  C=1, decision_function_shape=ovr, gamma=auto, kernel=sigmoid, score=0.667, total=   0.0s\n",
            "[CV] C=1, decision_function_shape=ovr, gamma=auto, kernel=sigmoid ....\n",
            "[CV]  C=1, decision_function_shape=ovr, gamma=auto, kernel=sigmoid, score=0.711, total=   0.0s\n",
            "[CV] C=10, decision_function_shape=ovo, gamma=scale, kernel=sigmoid ..\n",
            "[CV]  C=10, decision_function_shape=ovo, gamma=scale, kernel=sigmoid, score=0.761, total=   0.0s\n",
            "[CV] C=10, decision_function_shape=ovo, gamma=scale, kernel=sigmoid ..\n",
            "[CV]  C=10, decision_function_shape=ovo, gamma=scale, kernel=sigmoid, score=0.565, total=   0.0s\n",
            "[CV] C=10, decision_function_shape=ovo, gamma=scale, kernel=sigmoid ..\n",
            "[CV]  C=10, decision_function_shape=ovo, gamma=scale, kernel=sigmoid, score=0.622, total=   0.0s\n",
            "[CV] C=10, decision_function_shape=ovo, gamma=scale, kernel=sigmoid ..\n",
            "[CV]  C=10, decision_function_shape=ovo, gamma=scale, kernel=sigmoid, score=0.800, total=   0.0s\n",
            "[CV] C=10, decision_function_shape=ovo, gamma=scale, kernel=sigmoid ..\n",
            "[CV]  C=10, decision_function_shape=ovo, gamma=scale, kernel=sigmoid, score=0.667, total=   0.0s\n",
            "[CV] C=10, decision_function_shape=ovo, gamma=scale, kernel=sigmoid ..\n",
            "[CV]  C=10, decision_function_shape=ovo, gamma=scale, kernel=sigmoid, score=0.600, total=   0.0s\n",
            "[CV] C=10, decision_function_shape=ovo, gamma=scale, kernel=sigmoid ..\n",
            "[CV]  C=10, decision_function_shape=ovo, gamma=scale, kernel=sigmoid, score=0.533, total=   0.0s\n",
            "[CV] C=10, decision_function_shape=ovo, gamma=scale, kernel=sigmoid ..\n",
            "[CV]  C=10, decision_function_shape=ovo, gamma=scale, kernel=sigmoid, score=0.667, total=   0.0s\n",
            "[CV] C=10, decision_function_shape=ovo, gamma=scale, kernel=sigmoid ..\n",
            "[CV]  C=10, decision_function_shape=ovo, gamma=scale, kernel=sigmoid, score=0.644, total=   0.0s\n",
            "[CV] C=10, decision_function_shape=ovo, gamma=scale, kernel=sigmoid ..\n",
            "[CV]  C=10, decision_function_shape=ovo, gamma=scale, kernel=sigmoid, score=0.667, total=   0.0s\n",
            "[CV] C=10, decision_function_shape=ovo, gamma=auto, kernel=sigmoid ...\n",
            "[CV]  C=10, decision_function_shape=ovo, gamma=auto, kernel=sigmoid, score=0.761, total=   0.0s\n",
            "[CV] C=10, decision_function_shape=ovo, gamma=auto, kernel=sigmoid ...\n",
            "[CV]  C=10, decision_function_shape=ovo, gamma=auto, kernel=sigmoid, score=0.565, total=   0.0s\n",
            "[CV] C=10, decision_function_shape=ovo, gamma=auto, kernel=sigmoid ...\n",
            "[CV]  C=10, decision_function_shape=ovo, gamma=auto, kernel=sigmoid, score=0.622, total=   0.0s\n",
            "[CV] C=10, decision_function_shape=ovo, gamma=auto, kernel=sigmoid ...\n",
            "[CV]  C=10, decision_function_shape=ovo, gamma=auto, kernel=sigmoid, score=0.800, total=   0.0s\n",
            "[CV] C=10, decision_function_shape=ovo, gamma=auto, kernel=sigmoid ...\n",
            "[CV]  C=10, decision_function_shape=ovo, gamma=auto, kernel=sigmoid, score=0.667, total=   0.0s\n",
            "[CV] C=10, decision_function_shape=ovo, gamma=auto, kernel=sigmoid ...\n",
            "[CV]  C=10, decision_function_shape=ovo, gamma=auto, kernel=sigmoid, score=0.600, total=   0.0s\n",
            "[CV] C=10, decision_function_shape=ovo, gamma=auto, kernel=sigmoid ...\n",
            "[CV]  C=10, decision_function_shape=ovo, gamma=auto, kernel=sigmoid, score=0.533, total=   0.0s\n",
            "[CV] C=10, decision_function_shape=ovo, gamma=auto, kernel=sigmoid ...\n",
            "[CV]  C=10, decision_function_shape=ovo, gamma=auto, kernel=sigmoid, score=0.667, total=   0.0s\n",
            "[CV] C=10, decision_function_shape=ovo, gamma=auto, kernel=sigmoid ...\n",
            "[CV]  C=10, decision_function_shape=ovo, gamma=auto, kernel=sigmoid, score=0.644, total=   0.0s\n",
            "[CV] C=10, decision_function_shape=ovo, gamma=auto, kernel=sigmoid ...\n",
            "[CV]  C=10, decision_function_shape=ovo, gamma=auto, kernel=sigmoid, score=0.667, total=   0.0s\n",
            "[CV] C=10, decision_function_shape=ovr, gamma=scale, kernel=sigmoid ..\n",
            "[CV]  C=10, decision_function_shape=ovr, gamma=scale, kernel=sigmoid, score=0.761, total=   0.0s\n",
            "[CV] C=10, decision_function_shape=ovr, gamma=scale, kernel=sigmoid ..\n",
            "[CV]  C=10, decision_function_shape=ovr, gamma=scale, kernel=sigmoid, score=0.565, total=   0.0s\n",
            "[CV] C=10, decision_function_shape=ovr, gamma=scale, kernel=sigmoid ..\n",
            "[CV]  C=10, decision_function_shape=ovr, gamma=scale, kernel=sigmoid, score=0.622, total=   0.0s\n",
            "[CV] C=10, decision_function_shape=ovr, gamma=scale, kernel=sigmoid ..\n",
            "[CV]  C=10, decision_function_shape=ovr, gamma=scale, kernel=sigmoid, score=0.800, total=   0.0s\n",
            "[CV] C=10, decision_function_shape=ovr, gamma=scale, kernel=sigmoid ..\n",
            "[CV]  C=10, decision_function_shape=ovr, gamma=scale, kernel=sigmoid, score=0.667, total=   0.0s\n",
            "[CV] C=10, decision_function_shape=ovr, gamma=scale, kernel=sigmoid ..\n",
            "[CV]  C=10, decision_function_shape=ovr, gamma=scale, kernel=sigmoid, score=0.600, total=   0.0s\n",
            "[CV] C=10, decision_function_shape=ovr, gamma=scale, kernel=sigmoid ..\n",
            "[CV]  C=10, decision_function_shape=ovr, gamma=scale, kernel=sigmoid, score=0.533, total=   0.0s\n",
            "[CV] C=10, decision_function_shape=ovr, gamma=scale, kernel=sigmoid ..\n",
            "[CV]  C=10, decision_function_shape=ovr, gamma=scale, kernel=sigmoid, score=0.667, total=   0.0s\n",
            "[CV] C=10, decision_function_shape=ovr, gamma=scale, kernel=sigmoid ..\n",
            "[CV]  C=10, decision_function_shape=ovr, gamma=scale, kernel=sigmoid, score=0.644, total=   0.0s\n",
            "[CV] C=10, decision_function_shape=ovr, gamma=scale, kernel=sigmoid ..\n",
            "[CV]  C=10, decision_function_shape=ovr, gamma=scale, kernel=sigmoid, score=0.667, total=   0.0s\n",
            "[CV] C=10, decision_function_shape=ovr, gamma=auto, kernel=sigmoid ...\n",
            "[CV]  C=10, decision_function_shape=ovr, gamma=auto, kernel=sigmoid, score=0.761, total=   0.0s\n",
            "[CV] C=10, decision_function_shape=ovr, gamma=auto, kernel=sigmoid ...\n",
            "[CV]  C=10, decision_function_shape=ovr, gamma=auto, kernel=sigmoid, score=0.565, total=   0.0s\n",
            "[CV] C=10, decision_function_shape=ovr, gamma=auto, kernel=sigmoid ...\n",
            "[CV]  C=10, decision_function_shape=ovr, gamma=auto, kernel=sigmoid, score=0.622, total=   0.0s\n",
            "[CV] C=10, decision_function_shape=ovr, gamma=auto, kernel=sigmoid ...\n",
            "[CV]  C=10, decision_function_shape=ovr, gamma=auto, kernel=sigmoid, score=0.800, total=   0.0s\n",
            "[CV] C=10, decision_function_shape=ovr, gamma=auto, kernel=sigmoid ...\n",
            "[CV]  C=10, decision_function_shape=ovr, gamma=auto, kernel=sigmoid, score=0.667, total=   0.0s\n",
            "[CV] C=10, decision_function_shape=ovr, gamma=auto, kernel=sigmoid ...\n",
            "[CV]  C=10, decision_function_shape=ovr, gamma=auto, kernel=sigmoid, score=0.600, total=   0.0s\n",
            "[CV] C=10, decision_function_shape=ovr, gamma=auto, kernel=sigmoid ...\n",
            "[CV]  C=10, decision_function_shape=ovr, gamma=auto, kernel=sigmoid, score=0.533, total=   0.0s\n",
            "[CV] C=10, decision_function_shape=ovr, gamma=auto, kernel=sigmoid ...\n",
            "[CV]  C=10, decision_function_shape=ovr, gamma=auto, kernel=sigmoid, score=0.667, total=   0.0s\n",
            "[CV] C=10, decision_function_shape=ovr, gamma=auto, kernel=sigmoid ...\n",
            "[CV]  C=10, decision_function_shape=ovr, gamma=auto, kernel=sigmoid, score=0.644, total=   0.0s\n",
            "[CV] C=10, decision_function_shape=ovr, gamma=auto, kernel=sigmoid ...\n",
            "[CV]  C=10, decision_function_shape=ovr, gamma=auto, kernel=sigmoid, score=0.667, total=   0.0s\n",
            "[CV] C=100, decision_function_shape=ovo, gamma=scale, kernel=sigmoid .\n",
            "[CV]  C=100, decision_function_shape=ovo, gamma=scale, kernel=sigmoid, score=0.761, total=   0.0s\n",
            "[CV] C=100, decision_function_shape=ovo, gamma=scale, kernel=sigmoid .\n",
            "[CV]  C=100, decision_function_shape=ovo, gamma=scale, kernel=sigmoid, score=0.565, total=   0.0s\n",
            "[CV] C=100, decision_function_shape=ovo, gamma=scale, kernel=sigmoid .\n",
            "[CV]  C=100, decision_function_shape=ovo, gamma=scale, kernel=sigmoid, score=0.600, total=   0.0s\n",
            "[CV] C=100, decision_function_shape=ovo, gamma=scale, kernel=sigmoid .\n",
            "[CV]  C=100, decision_function_shape=ovo, gamma=scale, kernel=sigmoid, score=0.800, total=   0.0s\n",
            "[CV] C=100, decision_function_shape=ovo, gamma=scale, kernel=sigmoid .\n",
            "[CV]  C=100, decision_function_shape=ovo, gamma=scale, kernel=sigmoid, score=0.644, total=   0.0s\n",
            "[CV] C=100, decision_function_shape=ovo, gamma=scale, kernel=sigmoid .\n",
            "[CV]  C=100, decision_function_shape=ovo, gamma=scale, kernel=sigmoid, score=0.600, total=   0.0s\n",
            "[CV] C=100, decision_function_shape=ovo, gamma=scale, kernel=sigmoid .\n",
            "[CV]  C=100, decision_function_shape=ovo, gamma=scale, kernel=sigmoid, score=0.556, total=   0.0s\n",
            "[CV] C=100, decision_function_shape=ovo, gamma=scale, kernel=sigmoid .\n",
            "[CV]  C=100, decision_function_shape=ovo, gamma=scale, kernel=sigmoid, score=0.667, total=   0.0s\n",
            "[CV] C=100, decision_function_shape=ovo, gamma=scale, kernel=sigmoid .\n",
            "[CV]  C=100, decision_function_shape=ovo, gamma=scale, kernel=sigmoid, score=0.667, total=   0.0s\n",
            "[CV] C=100, decision_function_shape=ovo, gamma=scale, kernel=sigmoid .\n",
            "[CV]  C=100, decision_function_shape=ovo, gamma=scale, kernel=sigmoid, score=0.689, total=   0.0s\n",
            "[CV] C=100, decision_function_shape=ovo, gamma=auto, kernel=sigmoid ..\n",
            "[CV]  C=100, decision_function_shape=ovo, gamma=auto, kernel=sigmoid, score=0.761, total=   0.0s\n",
            "[CV] C=100, decision_function_shape=ovo, gamma=auto, kernel=sigmoid ..\n",
            "[CV]  C=100, decision_function_shape=ovo, gamma=auto, kernel=sigmoid, score=0.565, total=   0.0s\n",
            "[CV] C=100, decision_function_shape=ovo, gamma=auto, kernel=sigmoid ..\n",
            "[CV]  C=100, decision_function_shape=ovo, gamma=auto, kernel=sigmoid, score=0.622, total=   0.0s\n",
            "[CV] C=100, decision_function_shape=ovo, gamma=auto, kernel=sigmoid ..\n",
            "[CV]  C=100, decision_function_shape=ovo, gamma=auto, kernel=sigmoid, score=0.800, total=   0.0s\n",
            "[CV] C=100, decision_function_shape=ovo, gamma=auto, kernel=sigmoid ..\n",
            "[CV]  C=100, decision_function_shape=ovo, gamma=auto, kernel=sigmoid, score=0.667, total=   0.0s\n",
            "[CV] C=100, decision_function_shape=ovo, gamma=auto, kernel=sigmoid ..\n",
            "[CV]  C=100, decision_function_shape=ovo, gamma=auto, kernel=sigmoid, score=0.600, total=   0.0s\n",
            "[CV] C=100, decision_function_shape=ovo, gamma=auto, kernel=sigmoid ..\n",
            "[CV]  C=100, decision_function_shape=ovo, gamma=auto, kernel=sigmoid, score=0.556, total=   0.0s\n",
            "[CV] C=100, decision_function_shape=ovo, gamma=auto, kernel=sigmoid ..\n",
            "[CV]  C=100, decision_function_shape=ovo, gamma=auto, kernel=sigmoid, score=0.667, total=   0.0s\n",
            "[CV] C=100, decision_function_shape=ovo, gamma=auto, kernel=sigmoid ..\n",
            "[CV]  C=100, decision_function_shape=ovo, gamma=auto, kernel=sigmoid, score=0.667, total=   0.0s\n",
            "[CV] C=100, decision_function_shape=ovo, gamma=auto, kernel=sigmoid ..\n",
            "[CV]  C=100, decision_function_shape=ovo, gamma=auto, kernel=sigmoid, score=0.667, total=   0.0s\n",
            "[CV] C=100, decision_function_shape=ovr, gamma=scale, kernel=sigmoid .\n",
            "[CV]  C=100, decision_function_shape=ovr, gamma=scale, kernel=sigmoid, score=0.761, total=   0.0s\n",
            "[CV] C=100, decision_function_shape=ovr, gamma=scale, kernel=sigmoid .\n",
            "[CV]  C=100, decision_function_shape=ovr, gamma=scale, kernel=sigmoid, score=0.565, total=   0.0s\n",
            "[CV] C=100, decision_function_shape=ovr, gamma=scale, kernel=sigmoid .\n",
            "[CV]  C=100, decision_function_shape=ovr, gamma=scale, kernel=sigmoid, score=0.600, total=   0.0s\n",
            "[CV] C=100, decision_function_shape=ovr, gamma=scale, kernel=sigmoid .\n",
            "[CV]  C=100, decision_function_shape=ovr, gamma=scale, kernel=sigmoid, score=0.800, total=   0.0s\n",
            "[CV] C=100, decision_function_shape=ovr, gamma=scale, kernel=sigmoid .\n",
            "[CV]  C=100, decision_function_shape=ovr, gamma=scale, kernel=sigmoid, score=0.644, total=   0.0s\n",
            "[CV] C=100, decision_function_shape=ovr, gamma=scale, kernel=sigmoid .\n",
            "[CV]  C=100, decision_function_shape=ovr, gamma=scale, kernel=sigmoid, score=0.600, total=   0.0s\n",
            "[CV] C=100, decision_function_shape=ovr, gamma=scale, kernel=sigmoid .\n",
            "[CV]  C=100, decision_function_shape=ovr, gamma=scale, kernel=sigmoid, score=0.556, total=   0.0s\n",
            "[CV] C=100, decision_function_shape=ovr, gamma=scale, kernel=sigmoid .\n",
            "[CV]  C=100, decision_function_shape=ovr, gamma=scale, kernel=sigmoid, score=0.667, total=   0.0s\n",
            "[CV] C=100, decision_function_shape=ovr, gamma=scale, kernel=sigmoid .\n",
            "[CV]  C=100, decision_function_shape=ovr, gamma=scale, kernel=sigmoid, score=0.667, total=   0.0s\n",
            "[CV] C=100, decision_function_shape=ovr, gamma=scale, kernel=sigmoid .\n",
            "[CV]  C=100, decision_function_shape=ovr, gamma=scale, kernel=sigmoid, score=0.689, total=   0.0s\n",
            "[CV] C=100, decision_function_shape=ovr, gamma=auto, kernel=sigmoid ..\n",
            "[CV]  C=100, decision_function_shape=ovr, gamma=auto, kernel=sigmoid, score=0.761, total=   0.0s\n",
            "[CV] C=100, decision_function_shape=ovr, gamma=auto, kernel=sigmoid ..\n",
            "[CV]  C=100, decision_function_shape=ovr, gamma=auto, kernel=sigmoid, score=0.565, total=   0.0s\n",
            "[CV] C=100, decision_function_shape=ovr, gamma=auto, kernel=sigmoid ..\n",
            "[CV]  C=100, decision_function_shape=ovr, gamma=auto, kernel=sigmoid, score=0.622, total=   0.0s\n",
            "[CV] C=100, decision_function_shape=ovr, gamma=auto, kernel=sigmoid ..\n",
            "[CV]  C=100, decision_function_shape=ovr, gamma=auto, kernel=sigmoid, score=0.800, total=   0.0s\n",
            "[CV] C=100, decision_function_shape=ovr, gamma=auto, kernel=sigmoid ..\n",
            "[CV]  C=100, decision_function_shape=ovr, gamma=auto, kernel=sigmoid, score=0.667, total=   0.0s\n",
            "[CV] C=100, decision_function_shape=ovr, gamma=auto, kernel=sigmoid ..\n",
            "[CV]  C=100, decision_function_shape=ovr, gamma=auto, kernel=sigmoid, score=0.600, total=   0.0s\n",
            "[CV] C=100, decision_function_shape=ovr, gamma=auto, kernel=sigmoid ..\n",
            "[CV]  C=100, decision_function_shape=ovr, gamma=auto, kernel=sigmoid, score=0.556, total=   0.0s\n",
            "[CV] C=100, decision_function_shape=ovr, gamma=auto, kernel=sigmoid ..\n",
            "[CV]  C=100, decision_function_shape=ovr, gamma=auto, kernel=sigmoid, score=0.667, total=   0.0s\n",
            "[CV] C=100, decision_function_shape=ovr, gamma=auto, kernel=sigmoid ..\n",
            "[CV]  C=100, decision_function_shape=ovr, gamma=auto, kernel=sigmoid, score=0.667, total=   0.0s\n",
            "[CV] C=100, decision_function_shape=ovr, gamma=auto, kernel=sigmoid ..\n",
            "[CV]  C=100, decision_function_shape=ovr, gamma=auto, kernel=sigmoid, score=0.667, total=   0.0s\n"
          ],
          "name": "stdout"
        },
        {
          "output_type": "stream",
          "text": [
            "[Parallel(n_jobs=1)]: Done 160 out of 160 | elapsed:    0.8s finished\n"
          ],
          "name": "stderr"
        },
        {
          "output_type": "execute_result",
          "data": {
            "text/plain": [
              "GridSearchCV(cv=10, error_score=nan,\n",
              "             estimator=SVC(C=1.0, break_ties=False, cache_size=200,\n",
              "                           class_weight=None, coef0=0.0,\n",
              "                           decision_function_shape='ovr', degree=3,\n",
              "                           gamma='scale', kernel='rbf', max_iter=-1,\n",
              "                           probability=False, random_state=None, shrinking=True,\n",
              "                           tol=0.001, verbose=False),\n",
              "             iid='deprecated', n_jobs=None,\n",
              "             param_grid={'C': [0.1, 1, 10, 100],\n",
              "                         'decision_function_shape': ['ovo', 'ovr'],\n",
              "                         'gamma': ['scale', 'auto'], 'kernel': ['sigmoid']},\n",
              "             pre_dispatch='2*n_jobs', refit=True, return_train_score=False,\n",
              "             scoring=None, verbose=3)"
            ]
          },
          "metadata": {
            "tags": []
          },
          "execution_count": 827
        }
      ]
    },
    {
      "cell_type": "code",
      "metadata": {
        "id": "JdhTxjldIR9B"
      },
      "source": [
        "par = grid_search.best_params_\r\n",
        "\r\n",
        "c = par['C']\r\n",
        "decision_function_shape = par['decision_function_shape']\r\n",
        "gamma = par['gamma']\r\n",
        "kernel = par['kernel']"
      ],
      "execution_count": null,
      "outputs": []
    },
    {
      "cell_type": "code",
      "metadata": {
        "id": "pnVaOLbeH8jY",
        "colab": {
          "base_uri": "https://localhost:8080/"
        },
        "outputId": "cd3575b4-c5a2-46c3-bca1-5b69ec8e31bc"
      },
      "source": [
        "# Building the model \r\n",
        "sigclassifier = SVC(C=c,\r\n",
        "                    kernel=kernel,  \r\n",
        "                    gamma=gamma,  \r\n",
        "                    decision_function_shape=decision_function_shape)\r\n",
        "# Training the model using the training set\r\n",
        "model = sigclassifier.fit(x_train, y_train)\r\n",
        "model"
      ],
      "execution_count": null,
      "outputs": [
        {
          "output_type": "execute_result",
          "data": {
            "text/plain": [
              "SVC(C=0.1, break_ties=False, cache_size=200, class_weight=None, coef0=0.0,\n",
              "    decision_function_shape='ovo', degree=3, gamma='auto', kernel='sigmoid',\n",
              "    max_iter=-1, probability=False, random_state=None, shrinking=True,\n",
              "    tol=0.001, verbose=False)"
            ]
          },
          "metadata": {
            "tags": []
          },
          "execution_count": 829
        }
      ]
    },
    {
      "cell_type": "code",
      "metadata": {
        "id": "iO8-E8ITqf1Y",
        "colab": {
          "base_uri": "https://localhost:8080/"
        },
        "outputId": "84f01f46-a7ec-410a-ce01-e5e2a02ea524"
      },
      "source": [
        "y_pred = model.predict(x_test)\r\n",
        "print(f'{y_pred}')\r\n",
        "print('')\r\n",
        "print(f'Accuracy score: \\n {accuracy_score(y_test, y_pred)}')\r\n",
        "print('')\r\n",
        "print('The confusion matrix:')\r\n",
        "print(f'{confusion_matrix(y_test, y_pred)}')\r\n",
        "print('')\r\n",
        "print('The classification report:')\r\n",
        "print(f'{classification_report(y_test, y_pred)}')"
      ],
      "execution_count": null,
      "outputs": [
        {
          "output_type": "stream",
          "text": [
            "[1 1 1 1 1 1 1 1 1 1 1 1 1 1 1 1 1 1 1 2 1 1 1 1 1 1 1 1 1 1 1 1 1 1 1 1 2\n",
            " 1 1 1 1 1 1 1 1 1 1 1 1 1 1 1 1 1 1 2 1 1 1 1 1 1 1 1 1 1 1 1 1 1 1 1 1 1\n",
            " 1 1 1 1 1 1 1 1 1 1 1 1 1 1 1 1 1 1 1 1 1 1 1 1 1 1 1 1 1 1 1 1 1 1 1 1 1\n",
            " 1 1 1]\n",
            "\n",
            "Accuracy score: \n",
            " 0.6228070175438597\n",
            "\n",
            "The confusion matrix:\n",
            "[[70  2]\n",
            " [41  1]]\n",
            "\n",
            "The classification report:\n",
            "              precision    recall  f1-score   support\n",
            "\n",
            "           1       0.63      0.97      0.77        72\n",
            "           2       0.33      0.02      0.04        42\n",
            "\n",
            "    accuracy                           0.62       114\n",
            "   macro avg       0.48      0.50      0.40       114\n",
            "weighted avg       0.52      0.62      0.50       114\n",
            "\n"
          ],
          "name": "stdout"
        }
      ]
    },
    {
      "cell_type": "markdown",
      "metadata": {
        "id": "zZxLekd7-exn"
      },
      "source": [
        "## KNN"
      ]
    },
    {
      "cell_type": "markdown",
      "metadata": {
        "id": "whED7VFK-exo"
      },
      "source": [
        "### Part 1"
      ]
    },
    {
      "cell_type": "code",
      "metadata": {
        "id": "AIyQpoql-exo",
        "colab": {
          "base_uri": "https://localhost:8080/"
        },
        "outputId": "7b05e6fb-9ec7-4e2e-c0b7-3b67acde1d0f"
      },
      "source": [
        "from sklearn.model_selection import train_test_split\r\n",
        "x_train, x_test, y_train, y_test = train_test_split(X, y, test_size=0.3, random_state=42)\r\n",
        "\r\n",
        "from sklearn.neighbors import KNeighborsClassifier\r\n",
        "\r\n",
        "classifier = KNeighborsClassifier()\r\n",
        "\r\n",
        "model = classifier.fit(x_train, y_train)\r\n",
        "model"
      ],
      "execution_count": null,
      "outputs": [
        {
          "output_type": "execute_result",
          "data": {
            "text/plain": [
              "KNeighborsClassifier(algorithm='auto', leaf_size=30, metric='minkowski',\n",
              "                     metric_params=None, n_jobs=None, n_neighbors=5, p=2,\n",
              "                     weights='uniform')"
            ]
          },
          "metadata": {
            "tags": []
          },
          "execution_count": 831
        }
      ]
    },
    {
      "cell_type": "code",
      "metadata": {
        "id": "hxwKHvgyqeZI",
        "colab": {
          "base_uri": "https://localhost:8080/"
        },
        "outputId": "4ee6bc5d-4296-4ecc-9fd7-84af280c1480"
      },
      "source": [
        "y_pred = model.predict(x_test)\r\n",
        "print(f'{y_pred}')\r\n",
        "print('')\r\n",
        "print(f'Accuracy score: \\n {accuracy_score(y_test, y_pred)}')\r\n",
        "print('')\r\n",
        "print('The confusion matrix:')\r\n",
        "print(f'{confusion_matrix(y_test, y_pred)}')\r\n",
        "print('')\r\n",
        "print('The classification report:')\r\n",
        "print(f'{classification_report(y_test, y_pred)}')"
      ],
      "execution_count": null,
      "outputs": [
        {
          "output_type": "stream",
          "text": [
            "[1 1 1 2 1 2 1 1 1 1 1 1 1 1 1 2 1 1 1 1 1 1 1 1 1 1 1 1 1 1 2 1 1 1 1 1 1\n",
            " 1 1 1 1 1 1 1 1 1 1 2 1 1 1 1 1 1 1 1 1 1 1 1 1 1 1 1 1 1 1 2 2 1 1 1 2 1\n",
            " 1 1 1 1 1 1 1 1 1 2 2 1 1 1 1 1 1 1 1 1 1 1 2 1 1 1 2 1 2 1 2 2 1 2 2 1 1\n",
            " 1 2 1 1 1 1 1 1 1 1 1 1 1 2 1 1 1 1 1 1 1 1 1 1 2 2 1 1 1 1 2 1 1 1 2 1 1\n",
            " 1 1 1 2 2 1 2 1 1 1 1 1 1 1 2 2 1 1 1 2 1 1]\n",
            "\n",
            "Accuracy score: \n",
            " 0.6294117647058823\n",
            "\n",
            "The confusion matrix:\n",
            "[[96 18]\n",
            " [45 11]]\n",
            "\n",
            "The classification report:\n",
            "              precision    recall  f1-score   support\n",
            "\n",
            "           1       0.68      0.84      0.75       114\n",
            "           2       0.38      0.20      0.26        56\n",
            "\n",
            "    accuracy                           0.63       170\n",
            "   macro avg       0.53      0.52      0.51       170\n",
            "weighted avg       0.58      0.63      0.59       170\n",
            "\n"
          ],
          "name": "stdout"
        }
      ]
    },
    {
      "cell_type": "markdown",
      "metadata": {
        "id": "66EGYerD-exp"
      },
      "source": [
        "### Part 2"
      ]
    },
    {
      "cell_type": "code",
      "metadata": {
        "id": "6uZ1R7mcIp3y",
        "colab": {
          "base_uri": "https://localhost:8080/"
        },
        "outputId": "46e20566-c7ad-4916-ae4c-eeee06f4a359"
      },
      "source": [
        "from sklearn.preprocessing import Normalizer\r\n",
        "# Create normalizer\r\n",
        "normalizer = Normalizer()\r\n",
        "\r\n",
        "# Transform feature matrix\r\n",
        "normalizer.transform(X)"
      ],
      "execution_count": null,
      "outputs": [
        {
          "output_type": "execute_result",
          "data": {
            "text/plain": [
              "array([[0.3257233 , 0.00350779, 0.00050111, ..., 0.03407567, 0.00451001,\n",
              "        0.00501113],\n",
              "       [0.08709559, 0.01531197, 0.00772622, ..., 0.01053576, 0.00103953,\n",
              "        0.        ],\n",
              "       [0.12343647, 0.01453365, 0.00816273, ..., 0.01393638, 0.00177191,\n",
              "        0.        ],\n",
              "       ...,\n",
              "       [0.20018274, 0.00307973, 0.00076993, ..., 0.02463788, 0.00384967,\n",
              "        0.        ],\n",
              "       [0.16174999, 0.00678306, 0.00260887, ..., 0.03548064, 0.00521774,\n",
              "        0.        ],\n",
              "       [0.17136316, 0.00450956, 0.00135287, ..., 0.03291976, 0.00676434,\n",
              "        0.        ]])"
            ]
          },
          "metadata": {
            "tags": []
          },
          "execution_count": 833
        }
      ]
    },
    {
      "cell_type": "code",
      "metadata": {
        "id": "sngr3Tsp-exp"
      },
      "source": [
        "from sklearn.model_selection import train_test_split\r\n",
        "x_train, x_test, y_train, y_test = train_test_split(X, y, test_size=0.3, random_state=42)\r\n",
        "\r\n",
        "from sklearn.neighbors import KNeighborsClassifier\r\n",
        "\r\n",
        "from sklearn.discriminant_analysis import LinearDiscriminantAnalysis as LDA\r\n",
        "\r\n",
        "lda = LDA(n_components=1)\r\n",
        "x_train = lda.fit_transform(x_train, y_train)\r\n",
        "x_test = lda.transform(x_test)\r\n",
        "\r\n",
        "parameters = {'n_neighbors': list(range(1,30)),\r\n",
        "              'leaf_size': list(range(1,50)),\r\n",
        "              'metric':['euclidean', 'manhattan', 'chebyshev', 'minkowski', 'wminkowski', 'seuclidean', 'mahalanobis'],\r\n",
        "              }\r\n",
        "\r\n",
        "knn = KNeighborsClassifier()\r\n",
        "\r\n",
        "grid_search = GridSearchCV(estimator=knn,\r\n",
        "                            n_jobs=4, \r\n",
        "                           param_grid=parameters) \r\n",
        "\r\n",
        "\r\n",
        "#print('The parameters:')\r\n",
        "#print(grid_search.best_params_)             "
      ],
      "execution_count": null,
      "outputs": []
    },
    {
      "cell_type": "code",
      "metadata": {
        "id": "hvneYd9UmYfU"
      },
      "source": [
        "par = {'leaf_size': 1, 'metric': 'euclidean', 'n_neighbors': 6}"
      ],
      "execution_count": null,
      "outputs": []
    },
    {
      "cell_type": "code",
      "metadata": {
        "id": "F54zISS1I7bo"
      },
      "source": [
        "#par = grid_search.best_params_\r\n",
        "\r\n",
        "leaf_size = par['leaf_size']\r\n",
        "n_neighbors = par['n_neighbors']\r\n",
        "metric = par['metric']"
      ],
      "execution_count": null,
      "outputs": []
    },
    {
      "cell_type": "code",
      "metadata": {
        "id": "Dj_wlRpBIeMz",
        "colab": {
          "base_uri": "https://localhost:8080/"
        },
        "outputId": "60483d9c-b5da-4e62-b817-e2e08e0f0093"
      },
      "source": [
        "classifier = KNeighborsClassifier(n_neighbors=n_neighbors, leaf_size=leaf_size, metric=metric)\r\n",
        "\r\n",
        "model = classifier.fit(x_train, y_train)\r\n",
        "model"
      ],
      "execution_count": null,
      "outputs": [
        {
          "output_type": "execute_result",
          "data": {
            "text/plain": [
              "KNeighborsClassifier(algorithm='auto', leaf_size=1, metric='euclidean',\n",
              "                     metric_params=None, n_jobs=None, n_neighbors=6, p=2,\n",
              "                     weights='uniform')"
            ]
          },
          "metadata": {
            "tags": []
          },
          "execution_count": 837
        }
      ]
    },
    {
      "cell_type": "code",
      "metadata": {
        "id": "OI-wQezeqdYL",
        "colab": {
          "base_uri": "https://localhost:8080/"
        },
        "outputId": "231c5f12-fa97-45d1-c8a9-ba0858576e51"
      },
      "source": [
        "y_pred = model.predict(x_test)\r\n",
        "print(f'{y_pred}')\r\n",
        "print('')\r\n",
        "print(f'Accuracy score: \\n {accuracy_score(y_test, y_pred)}')\r\n",
        "print('')\r\n",
        "print('The confusion matrix:')\r\n",
        "print(f'{confusion_matrix(y_test, y_pred)}')\r\n",
        "print('')\r\n",
        "print('The classification report:')\r\n",
        "print(f'{classification_report(y_test, y_pred)}')"
      ],
      "execution_count": null,
      "outputs": [
        {
          "output_type": "stream",
          "text": [
            "[1 1 1 1 1 2 1 1 1 1 1 1 1 1 1 1 1 1 1 1 1 1 2 2 1 1 1 1 1 1 1 1 1 1 1 1 2\n",
            " 1 1 2 1 1 1 1 1 1 2 1 1 1 1 1 1 1 1 1 1 1 1 1 1 1 1 1 1 1 1 2 2 1 1 1 2 1\n",
            " 2 1 2 1 1 1 1 1 1 2 1 1 1 1 1 1 1 1 1 2 1 1 1 1 1 1 1 1 1 1 1 1 2 1 1 1 1\n",
            " 1 2 1 2 1 1 1 1 1 1 1 1 1 1 1 1 1 1 2 1 1 1 1 1 2 1 1 1 1 1 1 1 2 1 1 1 1\n",
            " 1 2 1 1 1 2 1 1 1 1 1 1 2 1 2 1 1 1 1 1 1 1]\n",
            "\n",
            "Accuracy score: \n",
            " 0.6764705882352942\n",
            "\n",
            "The confusion matrix:\n",
            "[[103  11]\n",
            " [ 44  12]]\n",
            "\n",
            "The classification report:\n",
            "              precision    recall  f1-score   support\n",
            "\n",
            "           1       0.70      0.90      0.79       114\n",
            "           2       0.52      0.21      0.30        56\n",
            "\n",
            "    accuracy                           0.68       170\n",
            "   macro avg       0.61      0.56      0.55       170\n",
            "weighted avg       0.64      0.68      0.63       170\n",
            "\n"
          ],
          "name": "stdout"
        }
      ]
    },
    {
      "cell_type": "markdown",
      "metadata": {
        "id": "cUIRFBI8-fMk"
      },
      "source": [
        "## Naive Bayes( Multinomial)"
      ]
    },
    {
      "cell_type": "markdown",
      "metadata": {
        "id": "Ae84rHN1-fMl"
      },
      "source": [
        "### Part 1"
      ]
    },
    {
      "cell_type": "code",
      "metadata": {
        "id": "FajZ4x1d-fMl",
        "colab": {
          "base_uri": "https://localhost:8080/"
        },
        "outputId": "0aaa86ab-750b-4dbd-ae50-4ebe36255749"
      },
      "source": [
        "from sklearn.model_selection import train_test_split\r\n",
        "x_train, x_test, y_train, y_test = train_test_split(X, y, test_size=0.2, random_state=42)\r\n",
        "\r\n",
        "from sklearn.naive_bayes import MultinomialNB\r\n",
        "\r\n",
        "Multinomial = MultinomialNB() \r\n",
        "\r\n",
        "model = Multinomial.fit(x_train, y_train)\r\n",
        "model"
      ],
      "execution_count": null,
      "outputs": [
        {
          "output_type": "execute_result",
          "data": {
            "text/plain": [
              "MultinomialNB(alpha=1.0, class_prior=None, fit_prior=True)"
            ]
          },
          "metadata": {
            "tags": []
          },
          "execution_count": 839
        }
      ]
    },
    {
      "cell_type": "code",
      "metadata": {
        "id": "Gp9Vceg_qcGW",
        "colab": {
          "base_uri": "https://localhost:8080/"
        },
        "outputId": "94112995-266e-4ee8-c50c-46355c94c8d8"
      },
      "source": [
        "y_pred = model.predict(x_test)\r\n",
        "print(f'{y_pred}')\r\n",
        "print('')\r\n",
        "print(f'Accuracy score: \\n {accuracy_score(y_test, y_pred)}')\r\n",
        "print('')\r\n",
        "print('The confusion matrix:')\r\n",
        "print(f'{confusion_matrix(y_test, y_pred)}')\r\n",
        "print('')\r\n",
        "print('The classification report:')\r\n",
        "print(f'{classification_report(y_test, y_pred)}')"
      ],
      "execution_count": null,
      "outputs": [
        {
          "output_type": "stream",
          "text": [
            "[2 2 2 2 1 2 2 2 2 2 2 2 1 1 1 1 2 2 2 2 1 2 2 2 1 2 2 2 2 2 2 1 2 2 1 2 2\n",
            " 2 2 1 2 2 1 2 2 2 2 2 2 2 2 2 1 2 2 2 1 1 2 2 2 2 1 2 2 2 2 2 2 1 2 1 2 1\n",
            " 2 2 1 2 1 2 1 2 1 2 2 2 2 1 2 2 2 2 2 1 2 2 2 2 2 2 2 2 2 2 2 1 1 2 2 1 2\n",
            " 2 2 2]\n",
            "\n",
            "Accuracy score: \n",
            " 0.4824561403508772\n",
            "\n",
            "The confusion matrix:\n",
            "[[20 52]\n",
            " [ 7 35]]\n",
            "\n",
            "The classification report:\n",
            "              precision    recall  f1-score   support\n",
            "\n",
            "           1       0.74      0.28      0.40        72\n",
            "           2       0.40      0.83      0.54        42\n",
            "\n",
            "    accuracy                           0.48       114\n",
            "   macro avg       0.57      0.56      0.47       114\n",
            "weighted avg       0.62      0.48      0.46       114\n",
            "\n"
          ],
          "name": "stdout"
        }
      ]
    },
    {
      "cell_type": "markdown",
      "metadata": {
        "id": "nOFsiMmh-fMm"
      },
      "source": [
        "### Part 2"
      ]
    },
    {
      "cell_type": "code",
      "metadata": {
        "id": "kYkKsM6tJXog",
        "colab": {
          "base_uri": "https://localhost:8080/"
        },
        "outputId": "6d842275-b9ef-4540-d2d5-dce4910e8e55"
      },
      "source": [
        "# Create normalizer\r\n",
        "normalizer = Normalizer()\r\n",
        "\r\n",
        "# Transform feature matrix\r\n",
        "normalizer.transform(X)"
      ],
      "execution_count": null,
      "outputs": [
        {
          "output_type": "execute_result",
          "data": {
            "text/plain": [
              "array([[0.3257233 , 0.00350779, 0.00050111, ..., 0.03407567, 0.00451001,\n",
              "        0.00501113],\n",
              "       [0.08709559, 0.01531197, 0.00772622, ..., 0.01053576, 0.00103953,\n",
              "        0.        ],\n",
              "       [0.12343647, 0.01453365, 0.00816273, ..., 0.01393638, 0.00177191,\n",
              "        0.        ],\n",
              "       ...,\n",
              "       [0.20018274, 0.00307973, 0.00076993, ..., 0.02463788, 0.00384967,\n",
              "        0.        ],\n",
              "       [0.16174999, 0.00678306, 0.00260887, ..., 0.03548064, 0.00521774,\n",
              "        0.        ],\n",
              "       [0.17136316, 0.00450956, 0.00135287, ..., 0.03291976, 0.00676434,\n",
              "        0.        ]])"
            ]
          },
          "metadata": {
            "tags": []
          },
          "execution_count": 841
        }
      ]
    },
    {
      "cell_type": "code",
      "metadata": {
        "id": "t9YedebK-fMp",
        "colab": {
          "base_uri": "https://localhost:8080/"
        },
        "outputId": "42949243-e5cb-4914-ab76-9564b1a3efa2"
      },
      "source": [
        "from sklearn.model_selection import train_test_split\r\n",
        "x_train, x_test, y_train, y_test = train_test_split(X, y, test_size=0.2, random_state=42)\r\n",
        "\r\n",
        "from sklearn.naive_bayes import MultinomialNB\r\n",
        "\r\n",
        "parameters = {\r\n",
        "  'alpha': np.linspace(0.5, 1.5, 6),\r\n",
        "  'fit_prior': [True, False],  \r\n",
        "}\r\n",
        "\r\n",
        "grid_search = GridSearchCV(estimator=MultinomialNB(), \r\n",
        "                           param_grid=parameters,\r\n",
        "                           cv=5)\r\n",
        "\r\n",
        "grid_search.fit(x_train, y_train)"
      ],
      "execution_count": null,
      "outputs": [
        {
          "output_type": "execute_result",
          "data": {
            "text/plain": [
              "GridSearchCV(cv=5, error_score=nan,\n",
              "             estimator=MultinomialNB(alpha=1.0, class_prior=None,\n",
              "                                     fit_prior=True),\n",
              "             iid='deprecated', n_jobs=None,\n",
              "             param_grid={'alpha': array([0.5, 0.7, 0.9, 1.1, 1.3, 1.5]),\n",
              "                         'fit_prior': [True, False]},\n",
              "             pre_dispatch='2*n_jobs', refit=True, return_train_score=False,\n",
              "             scoring=None, verbose=0)"
            ]
          },
          "metadata": {
            "tags": []
          },
          "execution_count": 842
        }
      ]
    },
    {
      "cell_type": "code",
      "metadata": {
        "id": "GxsNvx9VJef6"
      },
      "source": [
        "par = grid_search.best_params_\r\n",
        "\r\n",
        "alpha = par['alpha'] \r\n",
        "fit_prior = par['fit_prior']"
      ],
      "execution_count": null,
      "outputs": []
    },
    {
      "cell_type": "code",
      "metadata": {
        "id": "s8v0tDvVJUOE",
        "colab": {
          "base_uri": "https://localhost:8080/"
        },
        "outputId": "75b429bf-f3d2-496c-935b-7283a5cde095"
      },
      "source": [
        "Multinomial = MultinomialNB(alpha=alpha, fit_prior=fit_prior) \r\n",
        "\r\n",
        "model = Multinomial.fit(x_train, y_train)\r\n",
        "model"
      ],
      "execution_count": null,
      "outputs": [
        {
          "output_type": "execute_result",
          "data": {
            "text/plain": [
              "MultinomialNB(alpha=0.5, class_prior=None, fit_prior=True)"
            ]
          },
          "metadata": {
            "tags": []
          },
          "execution_count": 844
        }
      ]
    },
    {
      "cell_type": "code",
      "metadata": {
        "id": "C-jYA28eqa3-",
        "colab": {
          "base_uri": "https://localhost:8080/"
        },
        "outputId": "ab8664c3-5923-4f5e-c6ea-f7f62e91c1c6"
      },
      "source": [
        "y_pred = model.predict(x_test)\r\n",
        "print(f'{y_pred}')\r\n",
        "print('')\r\n",
        "print(f'Accuracy score: \\n {accuracy_score(y_test, y_pred)}')\r\n",
        "print('')\r\n",
        "print('The confusion matrix:')\r\n",
        "print(f'{confusion_matrix(y_test, y_pred)}')\r\n",
        "print('')\r\n",
        "print('The classification report:')\r\n",
        "print(f'{classification_report(y_test, y_pred)}')"
      ],
      "execution_count": null,
      "outputs": [
        {
          "output_type": "stream",
          "text": [
            "[2 2 2 2 1 2 2 2 2 2 2 2 1 1 1 1 2 2 2 2 1 2 2 2 1 2 2 2 2 2 2 1 2 2 1 2 2\n",
            " 2 2 1 2 2 1 2 2 2 2 2 2 2 2 2 1 2 2 2 1 1 2 2 2 2 1 2 2 2 2 2 2 1 2 1 2 1\n",
            " 2 2 1 2 1 2 1 2 1 2 2 2 2 1 2 2 2 2 2 1 2 2 2 2 2 2 2 2 2 2 2 1 1 2 2 1 2\n",
            " 2 2 2]\n",
            "\n",
            "Accuracy score: \n",
            " 0.4824561403508772\n",
            "\n",
            "The confusion matrix:\n",
            "[[20 52]\n",
            " [ 7 35]]\n",
            "\n",
            "The classification report:\n",
            "              precision    recall  f1-score   support\n",
            "\n",
            "           1       0.74      0.28      0.40        72\n",
            "           2       0.40      0.83      0.54        42\n",
            "\n",
            "    accuracy                           0.48       114\n",
            "   macro avg       0.57      0.56      0.47       114\n",
            "weighted avg       0.62      0.48      0.46       114\n",
            "\n"
          ],
          "name": "stdout"
        }
      ]
    },
    {
      "cell_type": "markdown",
      "metadata": {
        "id": "lH98vKwS-fy2"
      },
      "source": [
        "## Naive Bayes( Gaussian)"
      ]
    },
    {
      "cell_type": "markdown",
      "metadata": {
        "id": "YMrjWaAH-fy2"
      },
      "source": [
        "### Part 1"
      ]
    },
    {
      "cell_type": "code",
      "metadata": {
        "id": "mzUWBg34-fy3",
        "colab": {
          "base_uri": "https://localhost:8080/"
        },
        "outputId": "e6e1a26d-05c5-4a8f-ecd3-eef5c145d8c3"
      },
      "source": [
        "from sklearn.model_selection import train_test_split\r\n",
        "x_train, x_test, y_train, y_test = train_test_split(X, y, test_size=0.2, random_state=42)\r\n",
        "\r\n",
        "from sklearn.naive_bayes import GaussianNB\r\n",
        "\r\n",
        "clf = GaussianNB() \r\n",
        "\r\n",
        "model = clf.fit(x_train, y_train) \r\n",
        "model"
      ],
      "execution_count": null,
      "outputs": [
        {
          "output_type": "execute_result",
          "data": {
            "text/plain": [
              "GaussianNB(priors=None, var_smoothing=1e-09)"
            ]
          },
          "metadata": {
            "tags": []
          },
          "execution_count": 846
        }
      ]
    },
    {
      "cell_type": "code",
      "metadata": {
        "id": "4gMLN08tqP6a",
        "colab": {
          "base_uri": "https://localhost:8080/"
        },
        "outputId": "a36f6c8b-e561-4df5-fa72-0b692425d518"
      },
      "source": [
        "y_pred = model.predict(x_test)\r\n",
        "print(f'{y_pred}')\r\n",
        "print('')\r\n",
        "print(f'Accuracy score: \\n {accuracy_score(y_test, y_pred)}')\r\n",
        "print('')\r\n",
        "print('The confusion matrix:')\r\n",
        "print(f'{confusion_matrix(y_test, y_pred)}')\r\n",
        "print('')\r\n",
        "print('The classification report:')\r\n",
        "print(f'{classification_report(y_test, y_pred)}')"
      ],
      "execution_count": null,
      "outputs": [
        {
          "output_type": "stream",
          "text": [
            "[2 2 2 2 1 2 2 2 2 2 2 2 1 2 2 2 2 2 2 2 1 2 2 2 1 1 2 1 2 2 2 2 2 2 1 2 2\n",
            " 2 1 2 2 2 1 1 2 2 2 2 2 2 2 1 2 1 1 2 1 2 1 2 2 2 2 2 2 2 1 2 2 1 2 1 2 2\n",
            " 2 2 1 2 1 2 1 2 1 2 2 2 1 1 2 2 2 1 2 1 2 2 2 1 2 2 2 2 2 2 2 2 2 2 2 1 2\n",
            " 2 2 2]\n",
            "\n",
            "Accuracy score: \n",
            " 0.5789473684210527\n",
            "\n",
            "The confusion matrix:\n",
            "[[26 46]\n",
            " [ 2 40]]\n",
            "\n",
            "The classification report:\n",
            "              precision    recall  f1-score   support\n",
            "\n",
            "           1       0.93      0.36      0.52        72\n",
            "           2       0.47      0.95      0.62        42\n",
            "\n",
            "    accuracy                           0.58       114\n",
            "   macro avg       0.70      0.66      0.57       114\n",
            "weighted avg       0.76      0.58      0.56       114\n",
            "\n"
          ],
          "name": "stdout"
        }
      ]
    },
    {
      "cell_type": "markdown",
      "metadata": {
        "id": "ci__G2LU-fy4"
      },
      "source": [
        "### Part 2"
      ]
    },
    {
      "cell_type": "code",
      "metadata": {
        "id": "xciz89cdJ3z_",
        "colab": {
          "base_uri": "https://localhost:8080/"
        },
        "outputId": "4b152ba1-49a3-4640-b37a-b79c59900d75"
      },
      "source": [
        "# Create normalizer\r\n",
        "normalizer = Normalizer()\r\n",
        "\r\n",
        "# Transform feature matrix\r\n",
        "normalizer.transform(X)"
      ],
      "execution_count": null,
      "outputs": [
        {
          "output_type": "execute_result",
          "data": {
            "text/plain": [
              "array([[0.3257233 , 0.00350779, 0.00050111, ..., 0.03407567, 0.00451001,\n",
              "        0.00501113],\n",
              "       [0.08709559, 0.01531197, 0.00772622, ..., 0.01053576, 0.00103953,\n",
              "        0.        ],\n",
              "       [0.12343647, 0.01453365, 0.00816273, ..., 0.01393638, 0.00177191,\n",
              "        0.        ],\n",
              "       ...,\n",
              "       [0.20018274, 0.00307973, 0.00076993, ..., 0.02463788, 0.00384967,\n",
              "        0.        ],\n",
              "       [0.16174999, 0.00678306, 0.00260887, ..., 0.03548064, 0.00521774,\n",
              "        0.        ],\n",
              "       [0.17136316, 0.00450956, 0.00135287, ..., 0.03291976, 0.00676434,\n",
              "        0.        ]])"
            ]
          },
          "metadata": {
            "tags": []
          },
          "execution_count": 848
        }
      ]
    },
    {
      "cell_type": "code",
      "metadata": {
        "id": "BbB1ujlH-fy4",
        "colab": {
          "base_uri": "https://localhost:8080/"
        },
        "outputId": "0de5467c-ed68-46d0-c97e-a45ad44864d6"
      },
      "source": [
        "from sklearn.model_selection import train_test_split\r\n",
        "x_train, x_test, y_train, y_test = train_test_split(X, y, test_size=0.2, random_state=42)\r\n",
        "\r\n",
        "from sklearn.naive_bayes import GaussianNB\r\n",
        "\r\n",
        "parameters = {'var_smoothing': np.logspace(0,-9, num=10)}\r\n",
        "\r\n",
        "grid_search = GridSearchCV(estimator=GaussianNB(), \r\n",
        "                     param_grid=parameters, \r\n",
        "                     cv=5,\r\n",
        "                     verbose=1, \r\n",
        "                     scoring='accuracy')\r\n",
        "\r\n",
        "grid_search.fit(x_train, y_train)"
      ],
      "execution_count": null,
      "outputs": [
        {
          "output_type": "stream",
          "text": [
            "Fitting 5 folds for each of 10 candidates, totalling 50 fits\n"
          ],
          "name": "stdout"
        },
        {
          "output_type": "stream",
          "text": [
            "[Parallel(n_jobs=1)]: Using backend SequentialBackend with 1 concurrent workers.\n",
            "[Parallel(n_jobs=1)]: Done  50 out of  50 | elapsed:    0.1s finished\n"
          ],
          "name": "stderr"
        },
        {
          "output_type": "execute_result",
          "data": {
            "text/plain": [
              "GridSearchCV(cv=5, error_score=nan,\n",
              "             estimator=GaussianNB(priors=None, var_smoothing=1e-09),\n",
              "             iid='deprecated', n_jobs=None,\n",
              "             param_grid={'var_smoothing': array([1.e+00, 1.e-01, 1.e-02, 1.e-03, 1.e-04, 1.e-05, 1.e-06, 1.e-07,\n",
              "       1.e-08, 1.e-09])},\n",
              "             pre_dispatch='2*n_jobs', refit=True, return_train_score=False,\n",
              "             scoring='accuracy', verbose=1)"
            ]
          },
          "metadata": {
            "tags": []
          },
          "execution_count": 849
        }
      ]
    },
    {
      "cell_type": "code",
      "metadata": {
        "id": "O-BeKgYEKB8T"
      },
      "source": [
        "par = grid_search.best_params_\r\n",
        "\r\n",
        "var_smoothing = par['var_smoothing'] "
      ],
      "execution_count": null,
      "outputs": []
    },
    {
      "cell_type": "code",
      "metadata": {
        "id": "2_pI0UB3JyD8",
        "colab": {
          "base_uri": "https://localhost:8080/"
        },
        "outputId": "845bdf91-08f3-4df2-c1eb-faf11b8592d5"
      },
      "source": [
        "clf = GaussianNB(var_smoothing=var_smoothing) \r\n",
        "\r\n",
        "model = clf.fit(x_train, y_train) \r\n",
        "model"
      ],
      "execution_count": null,
      "outputs": [
        {
          "output_type": "execute_result",
          "data": {
            "text/plain": [
              "GaussianNB(priors=None, var_smoothing=1.0)"
            ]
          },
          "metadata": {
            "tags": []
          },
          "execution_count": 851
        }
      ]
    },
    {
      "cell_type": "code",
      "metadata": {
        "id": "yp4QwbYyqRuA",
        "colab": {
          "base_uri": "https://localhost:8080/"
        },
        "outputId": "64b14ed6-da68-4e74-ab6e-34b60c3e618f"
      },
      "source": [
        "y_pred = model.predict(x_test)\r\n",
        "print(f'{y_pred}')\r\n",
        "print('')\r\n",
        "print(f'Accuracy score: \\n {accuracy_score(y_test, y_pred)}')\r\n",
        "print('')\r\n",
        "print('The confusion matrix:')\r\n",
        "print(f'{confusion_matrix(y_test, y_pred)}')\r\n",
        "print('')\r\n",
        "print('The classification report:')\r\n",
        "print(f'{classification_report(y_test, y_pred)}')"
      ],
      "execution_count": null,
      "outputs": [
        {
          "output_type": "stream",
          "text": [
            "[1 1 1 1 1 1 1 1 1 1 1 1 1 1 1 1 1 1 1 1 1 1 1 1 1 1 1 1 1 1 1 1 1 1 1 1 1\n",
            " 1 1 1 1 1 1 1 1 1 1 1 1 1 1 1 1 1 1 1 1 1 1 1 1 1 1 1 1 1 1 1 1 1 1 1 1 1\n",
            " 1 1 1 1 1 1 1 1 1 1 1 1 1 1 1 1 1 1 1 1 1 1 1 1 1 1 1 1 1 1 1 1 1 1 1 1 1\n",
            " 1 1 1]\n",
            "\n",
            "Accuracy score: \n",
            " 0.631578947368421\n",
            "\n",
            "The confusion matrix:\n",
            "[[72  0]\n",
            " [42  0]]\n",
            "\n",
            "The classification report:\n",
            "              precision    recall  f1-score   support\n",
            "\n",
            "           1       0.63      1.00      0.77        72\n",
            "           2       0.00      0.00      0.00        42\n",
            "\n",
            "    accuracy                           0.63       114\n",
            "   macro avg       0.32      0.50      0.39       114\n",
            "weighted avg       0.40      0.63      0.49       114\n",
            "\n"
          ],
          "name": "stdout"
        },
        {
          "output_type": "stream",
          "text": [
            "/usr/local/lib/python3.6/dist-packages/sklearn/metrics/_classification.py:1272: UndefinedMetricWarning: Precision and F-score are ill-defined and being set to 0.0 in labels with no predicted samples. Use `zero_division` parameter to control this behavior.\n",
            "  _warn_prf(average, modifier, msg_start, len(result))\n"
          ],
          "name": "stderr"
        }
      ]
    },
    {
      "cell_type": "markdown",
      "metadata": {
        "id": "wTJtsyMJFMq0"
      },
      "source": [
        "#Neural Network"
      ]
    },
    {
      "cell_type": "code",
      "metadata": {
        "id": "ctxpmsRqGNkE"
      },
      "source": [
        "from sklearn.neural_network import MLPClassifier "
      ],
      "execution_count": null,
      "outputs": []
    },
    {
      "cell_type": "code",
      "metadata": {
        "id": "d0Zsg-86FkqK"
      },
      "source": [
        "X = toeda.drop(['selector', 'ALB'], axis=1)\n",
        "y = toeda['selector']"
      ],
      "execution_count": null,
      "outputs": []
    },
    {
      "cell_type": "code",
      "metadata": {
        "id": "X0-gnjq7F3Ul"
      },
      "source": [
        "# Splitting the data into train and test sets\n",
        "X_train, X_test, y_train, y_test = train_test_split(X, y, test_size = 0.2, random_state = 10)"
      ],
      "execution_count": null,
      "outputs": []
    },
    {
      "cell_type": "code",
      "metadata": {
        "id": "QvxVHJNcF80_"
      },
      "source": [
        "# Initialize the scaler\n",
        "scaler = StandardScaler()\n",
        "\n",
        "# Fitting the scaler\n",
        "scaler.fit(X_train)\n",
        "\n",
        "# Applying the transformation to the data\n",
        "X_train = scaler.transform(X_train)\n",
        "\n",
        "X_test = scaler.transform(X_test)"
      ],
      "execution_count": null,
      "outputs": []
    },
    {
      "cell_type": "code",
      "metadata": {
        "colab": {
          "base_uri": "https://localhost:8080/"
        },
        "id": "OiOHeddZGCTa",
        "outputId": "d0d14b7e-5ce5-4cfd-97ca-2bb15bcbe52b"
      },
      "source": [
        "mlp = MLPClassifier(hidden_layer_sizes = (12, 12,12,12), max_iter = 350)\n",
        "\n",
        "# fitting the data\n",
        "mlp.fit(X_train,y_train)"
      ],
      "execution_count": null,
      "outputs": [
        {
          "output_type": "stream",
          "text": [
            "/usr/local/lib/python3.6/dist-packages/sklearn/neural_network/_multilayer_perceptron.py:571: ConvergenceWarning: Stochastic Optimizer: Maximum iterations (350) reached and the optimization hasn't converged yet.\n",
            "  % self.max_iter, ConvergenceWarning)\n"
          ],
          "name": "stderr"
        },
        {
          "output_type": "execute_result",
          "data": {
            "text/plain": [
              "MLPClassifier(activation='relu', alpha=0.0001, batch_size='auto', beta_1=0.9,\n",
              "              beta_2=0.999, early_stopping=False, epsilon=1e-08,\n",
              "              hidden_layer_sizes=(12, 12, 12, 12), learning_rate='constant',\n",
              "              learning_rate_init=0.001, max_fun=15000, max_iter=350,\n",
              "              momentum=0.9, n_iter_no_change=10, nesterovs_momentum=True,\n",
              "              power_t=0.5, random_state=None, shuffle=True, solver='adam',\n",
              "              tol=0.0001, validation_fraction=0.1, verbose=False,\n",
              "              warm_start=False)"
            ]
          },
          "metadata": {
            "tags": []
          },
          "execution_count": 857
        }
      ]
    },
    {
      "cell_type": "code",
      "metadata": {
        "colab": {
          "base_uri": "https://localhost:8080/"
        },
        "id": "H9mlG8IyGEyp",
        "outputId": "e2cbc721-7009-4d12-a9cd-a4896fa762bf"
      },
      "source": [
        "# Now that we have our model in place, let's do the prediction\n",
        "\n",
        "pred = mlp.predict(X_test)\n",
        "\n",
        "\n",
        "# Evaluating the performance of ur model\n",
        "print (confusion_matrix(y_test,pred))\n",
        "\n",
        "print('-----------------------------------------------')\n",
        "\n",
        "print(classification_report(y_test,pred))\n",
        "\n",
        "print(accuracy_score(y_test,y_pred))"
      ],
      "execution_count": null,
      "outputs": [
        {
          "output_type": "stream",
          "text": [
            "[[64 18]\n",
            " [19 13]]\n",
            "-----------------------------------------------\n",
            "              precision    recall  f1-score   support\n",
            "\n",
            "           1       0.77      0.78      0.78        82\n",
            "           2       0.42      0.41      0.41        32\n",
            "\n",
            "    accuracy                           0.68       114\n",
            "   macro avg       0.60      0.59      0.59       114\n",
            "weighted avg       0.67      0.68      0.67       114\n",
            "\n",
            "0.7192982456140351\n"
          ],
          "name": "stdout"
        }
      ]
    },
    {
      "cell_type": "markdown",
      "metadata": {
        "id": "Jj37BB4VXzWi"
      },
      "source": [
        "#RECOMMENDATION"
      ]
    },
    {
      "cell_type": "markdown",
      "metadata": {
        "id": "EHptLmghYNOL"
      },
      "source": [
        "The following are the results of the models\n",
        "  \n",
        "      Random forest\n",
        "* Without tuning: 0.5538461538461539\n",
        "* With tuning: 0.7192982456140351\n",
        "\n",
        "\n",
        "\n",
        "      Ada boost\n",
        "* Without tuning: 0.5877192982456141\n",
        "* With tuning: 0.6140350877192983\n",
        "\n",
        "      Gradient boost\n",
        "\n",
        "* Without tuning: 0.6941176470588235\n",
        "* With tuning: 0.7470588235294118\n",
        "\n",
        "\n",
        "      Support Vector Machine(Polynomial function)\n",
        "* Without tuning: 0.7352941176470589\n",
        "* With tuning: 0.7294117647058823\n",
        "\n",
        "      Support Vector Machine ( Radial basis function (rbf))\n",
        "* Without tuning: 0.631578947368421\n",
        "* With tuning: 0.631578947368421\n",
        "\n",
        "      Support Vector Machine ( Sigmoid function)\n",
        "* Without tuning: 0.5614035087719298\n",
        "* With tuning: 0.6140350877192983\n",
        "\n",
        "      KNN\n",
        "* Without tuning: 0.6294117647058823\n",
        "* With tuning: 0.6470588235294118\n",
        "      \n",
        "      Naive Bayes(Multinomial)\n",
        "* Without tuning: 0.4824561403508772\n",
        "* With tuning: 0.4824561403508772\n",
        "      \n",
        "      Naive Bayes(Gaussian)\n",
        "* Without tuning: 0.5789473684210527\n",
        "* With tuning: 0.631578947368421\n",
        "\n",
        "The neural network score was 62.54\n",
        "\n"
      ]
    },
    {
      "cell_type": "code",
      "metadata": {
        "colab": {
          "base_uri": "https://localhost:8080/"
        },
        "id": "VrgfhIBXRBS9",
        "outputId": "7b4302fa-cfc3-4053-f716-e8eb8ca8de30"
      },
      "source": [
        "my_dict = {\"model\":[],\"accuracy_score\":[]};\r\n",
        "\r\n",
        "my_dict[\"model\"].append(\"Random forest\")\r\n",
        "my_dict[\"accuracy_score\"].append(0.7192982456140351)\t\r\n",
        "my_dict[\"model\"].append(\"Ada boost\")\r\n",
        "my_dict[\"accuracy_score\"].append(0.6140350877192983)\r\n",
        "my_dict[\"model\"].append(\"Gradient boost\")\r\n",
        "my_dict[\"accuracy_score\"].append(0.7470588235294118)\r\n",
        "my_dict[\"model\"].append(\"Support Vector Machine(Polynomial function)\")\r\n",
        "my_dict[\"accuracy_score\"].append(0.7294117647058823)\r\n",
        "my_dict[\"model\"].append(\"Support Vector Machine (Radial basis function (rbf))\")\r\n",
        "my_dict[\"accuracy_score\"].append(0.631578947368421)\r\n",
        "my_dict[\"model\"].append(\"Naive Bayes(Multinomial)\")\r\n",
        "my_dict[\"accuracy_score\"].append(0.4824561403508772)\r\n",
        "my_dict[\"model\"].append(\"Naive Bayes(Gaussian)\")\r\n",
        "my_dict[\"accuracy_score\"].append( 0.631578947368421)\r\n",
        "print(my_dict)"
      ],
      "execution_count": 10,
      "outputs": [
        {
          "output_type": "stream",
          "text": [
            "{'model': ['Random forest', 'Ada boost', 'Gradient boost', 'Support Vector Machine(Polynomial function)', 'Support Vector Machine (Radial basis function (rbf))', 'Naive Bayes(Multinomial)', 'Naive Bayes(Gaussian)'], 'accuracy_score': [0.7192982456140351, 0.6140350877192983, 0.7470588235294118, 0.7294117647058823, 0.631578947368421, 0.4824561403508772, 0.631578947368421]}\n"
          ],
          "name": "stdout"
        }
      ]
    },
    {
      "cell_type": "code",
      "metadata": {
        "colab": {
          "base_uri": "https://localhost:8080/",
          "height": 257
        },
        "id": "IHWPvbwbThwQ",
        "outputId": "1175c09a-3f0a-4ce2-8023-927dff4888ca"
      },
      "source": [
        "df = pd.DataFrame(my_dict)\r\n",
        "df.sort_values('accuracy_score', ascending=False)"
      ],
      "execution_count": 11,
      "outputs": [
        {
          "output_type": "execute_result",
          "data": {
            "text/html": [
              "<div>\n",
              "<style scoped>\n",
              "    .dataframe tbody tr th:only-of-type {\n",
              "        vertical-align: middle;\n",
              "    }\n",
              "\n",
              "    .dataframe tbody tr th {\n",
              "        vertical-align: top;\n",
              "    }\n",
              "\n",
              "    .dataframe thead th {\n",
              "        text-align: right;\n",
              "    }\n",
              "</style>\n",
              "<table border=\"1\" class=\"dataframe\">\n",
              "  <thead>\n",
              "    <tr style=\"text-align: right;\">\n",
              "      <th></th>\n",
              "      <th>model</th>\n",
              "      <th>accuracy_score</th>\n",
              "    </tr>\n",
              "  </thead>\n",
              "  <tbody>\n",
              "    <tr>\n",
              "      <th>2</th>\n",
              "      <td>Gradient boost</td>\n",
              "      <td>0.747059</td>\n",
              "    </tr>\n",
              "    <tr>\n",
              "      <th>3</th>\n",
              "      <td>Support Vector Machine(Polynomial function)</td>\n",
              "      <td>0.729412</td>\n",
              "    </tr>\n",
              "    <tr>\n",
              "      <th>0</th>\n",
              "      <td>Random forest</td>\n",
              "      <td>0.719298</td>\n",
              "    </tr>\n",
              "    <tr>\n",
              "      <th>4</th>\n",
              "      <td>Support Vector Machine (Radial basis function ...</td>\n",
              "      <td>0.631579</td>\n",
              "    </tr>\n",
              "    <tr>\n",
              "      <th>6</th>\n",
              "      <td>Naive Bayes(Gaussian)</td>\n",
              "      <td>0.631579</td>\n",
              "    </tr>\n",
              "    <tr>\n",
              "      <th>1</th>\n",
              "      <td>Ada boost</td>\n",
              "      <td>0.614035</td>\n",
              "    </tr>\n",
              "    <tr>\n",
              "      <th>5</th>\n",
              "      <td>Naive Bayes(Multinomial)</td>\n",
              "      <td>0.482456</td>\n",
              "    </tr>\n",
              "  </tbody>\n",
              "</table>\n",
              "</div>"
            ],
            "text/plain": [
              "                                               model  accuracy_score\n",
              "2                                     Gradient boost        0.747059\n",
              "3        Support Vector Machine(Polynomial function)        0.729412\n",
              "0                                      Random forest        0.719298\n",
              "4  Support Vector Machine (Radial basis function ...        0.631579\n",
              "6                              Naive Bayes(Gaussian)        0.631579\n",
              "1                                          Ada boost        0.614035\n",
              "5                           Naive Bayes(Multinomial)        0.482456"
            ]
          },
          "metadata": {
            "tags": []
          },
          "execution_count": 11
        }
      ]
    },
    {
      "cell_type": "markdown",
      "metadata": {
        "id": "5dchX1gOXy-X"
      },
      "source": [
        "#CONCLUSION"
      ]
    },
    {
      "cell_type": "markdown",
      "metadata": {
        "id": "lTkWHkjRYDIq"
      },
      "source": [
        "The best model was gradient boost."
      ]
    }
  ]
}